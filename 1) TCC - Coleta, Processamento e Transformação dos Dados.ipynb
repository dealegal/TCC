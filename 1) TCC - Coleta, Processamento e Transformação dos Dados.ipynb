{
 "cells": [
  {
   "cell_type": "code",
   "execution_count": 1,
   "id": "0cfc1514",
   "metadata": {
    "ExecuteTime": {
     "end_time": "2021-07-03T20:39:33.272725Z",
     "start_time": "2021-07-03T20:39:33.264731Z"
    }
   },
   "outputs": [],
   "source": [
    "import pandas as pd"
   ]
  },
  {
   "cell_type": "code",
   "execution_count": 2,
   "id": "9d5a93b6",
   "metadata": {
    "ExecuteTime": {
     "end_time": "2021-07-03T18:53:33.903063Z",
     "start_time": "2021-07-03T18:53:33.898064Z"
    }
   },
   "outputs": [],
   "source": [
    "pd.options.display.max_columns = 100\n",
    "pd.options.display.max_rows = 100"
   ]
  },
  {
   "cell_type": "markdown",
   "id": "1361533a",
   "metadata": {
    "heading_collapsed": true
   },
   "source": [
    "# Coleta de Dados"
   ]
  },
  {
   "cell_type": "code",
   "execution_count": 3,
   "id": "cb85df3a",
   "metadata": {
    "ExecuteTime": {
     "end_time": "2021-07-03T18:53:35.753002Z",
     "start_time": "2021-07-03T18:53:33.907060Z"
    },
    "hidden": true
   },
   "outputs": [],
   "source": [
    "# Dataframe com os dados das declarações (a seleção e tratamento dos dados foi feito no Receita Data)\n",
    "df = pd.read_csv(\"Dados/declaracoes_2019.csv\", sep=';', encoding = \"latin1\")"
   ]
  },
  {
   "cell_type": "code",
   "execution_count": 4,
   "id": "a261e9f7",
   "metadata": {
    "hidden": true
   },
   "outputs": [
    {
     "data": {
      "text/plain": [
       "(200000, 53)"
      ]
     },
     "execution_count": 4,
     "metadata": {},
     "output_type": "execute_result"
    }
   ],
   "source": [
    "df.shape"
   ]
  },
  {
   "cell_type": "code",
   "execution_count": 5,
   "id": "f987066d",
   "metadata": {
    "ExecuteTime": {
     "end_time": "2021-07-03T18:53:35.871936Z",
     "start_time": "2021-07-03T18:53:35.845948Z"
    },
    "hidden": true
   },
   "outputs": [],
   "source": [
    "# Dados com gini por estado (IBGE)\n",
    "df_gini = pd.read_csv(\"Dados/gini_2019.csv\", sep=';', encoding = \"UTF-8\")"
   ]
  },
  {
   "cell_type": "code",
   "execution_count": 6,
   "id": "43e66a06",
   "metadata": {
    "hidden": true
   },
   "outputs": [
    {
     "data": {
      "text/plain": [
       "(27, 3)"
      ]
     },
     "execution_count": 6,
     "metadata": {},
     "output_type": "execute_result"
    }
   ],
   "source": [
    "df_gini.shape"
   ]
  },
  {
   "cell_type": "code",
   "execution_count": 7,
   "id": "117eb293",
   "metadata": {
    "ExecuteTime": {
     "end_time": "2021-07-03T18:53:35.888924Z",
     "start_time": "2021-07-03T18:53:35.873932Z"
    },
    "hidden": true
   },
   "outputs": [
    {
     "data": {
      "text/html": [
       "<div>\n",
       "<style scoped>\n",
       "    .dataframe tbody tr th:only-of-type {\n",
       "        vertical-align: middle;\n",
       "    }\n",
       "\n",
       "    .dataframe tbody tr th {\n",
       "        vertical-align: top;\n",
       "    }\n",
       "\n",
       "    .dataframe thead th {\n",
       "        text-align: right;\n",
       "    }\n",
       "</style>\n",
       "<table border=\"1\" class=\"dataframe\">\n",
       "  <thead>\n",
       "    <tr style=\"text-align: right;\">\n",
       "      <th></th>\n",
       "      <th>estado</th>\n",
       "      <th>nome</th>\n",
       "      <th>gini</th>\n",
       "    </tr>\n",
       "  </thead>\n",
       "  <tbody>\n",
       "    <tr>\n",
       "      <th>0</th>\n",
       "      <td>RO</td>\n",
       "      <td>Rondônia</td>\n",
       "      <td>0.471957</td>\n",
       "    </tr>\n",
       "    <tr>\n",
       "      <th>1</th>\n",
       "      <td>AC</td>\n",
       "      <td>Acre</td>\n",
       "      <td>0.556493</td>\n",
       "    </tr>\n",
       "    <tr>\n",
       "      <th>2</th>\n",
       "      <td>AM</td>\n",
       "      <td>Amazonas</td>\n",
       "      <td>0.568123</td>\n",
       "    </tr>\n",
       "    <tr>\n",
       "      <th>3</th>\n",
       "      <td>RR</td>\n",
       "      <td>Roraima</td>\n",
       "      <td>0.576438</td>\n",
       "    </tr>\n",
       "    <tr>\n",
       "      <th>4</th>\n",
       "      <td>PA</td>\n",
       "      <td>Pará</td>\n",
       "      <td>0.528684</td>\n",
       "    </tr>\n",
       "  </tbody>\n",
       "</table>\n",
       "</div>"
      ],
      "text/plain": [
       "  estado      nome      gini\n",
       "0     RO  Rondônia  0.471957\n",
       "1     AC      Acre  0.556493\n",
       "2     AM  Amazonas  0.568123\n",
       "3     RR   Roraima  0.576438\n",
       "4     PA      Pará  0.528684"
      ]
     },
     "execution_count": 7,
     "metadata": {},
     "output_type": "execute_result"
    }
   ],
   "source": [
    "df_gini.head()"
   ]
  },
  {
   "cell_type": "code",
   "execution_count": 8,
   "id": "bdd7ee4c",
   "metadata": {
    "ExecuteTime": {
     "end_time": "2021-07-03T18:53:35.939896Z",
     "start_time": "2021-07-03T18:53:35.891922Z"
    },
    "hidden": true
   },
   "outputs": [],
   "source": [
    "# Dados de população por município\n",
    "df_pop = pd.read_csv(\"Dados/populacao_2019.csv\", sep=';', encoding = \"UTF-8\")"
   ]
  },
  {
   "cell_type": "code",
   "execution_count": 9,
   "id": "0905f17d",
   "metadata": {
    "hidden": true
   },
   "outputs": [
    {
     "data": {
      "text/plain": [
       "(5570, 5)"
      ]
     },
     "execution_count": 9,
     "metadata": {},
     "output_type": "execute_result"
    }
   ],
   "source": [
    "df_pop.shape"
   ]
  },
  {
   "cell_type": "code",
   "execution_count": 10,
   "id": "c19dceb3",
   "metadata": {
    "ExecuteTime": {
     "end_time": "2021-07-03T18:53:35.959884Z",
     "start_time": "2021-07-03T18:53:35.946891Z"
    },
    "hidden": true
   },
   "outputs": [
    {
     "data": {
      "text/html": [
       "<div>\n",
       "<style scoped>\n",
       "    .dataframe tbody tr th:only-of-type {\n",
       "        vertical-align: middle;\n",
       "    }\n",
       "\n",
       "    .dataframe tbody tr th {\n",
       "        vertical-align: top;\n",
       "    }\n",
       "\n",
       "    .dataframe thead th {\n",
       "        text-align: right;\n",
       "    }\n",
       "</style>\n",
       "<table border=\"1\" class=\"dataframe\">\n",
       "  <thead>\n",
       "    <tr style=\"text-align: right;\">\n",
       "      <th></th>\n",
       "      <th>UF</th>\n",
       "      <th>COD_UF</th>\n",
       "      <th>COD_MUNIC</th>\n",
       "      <th>NOME_MUNICIPIO</th>\n",
       "      <th>POPULACAO</th>\n",
       "    </tr>\n",
       "  </thead>\n",
       "  <tbody>\n",
       "    <tr>\n",
       "      <th>0</th>\n",
       "      <td>RO</td>\n",
       "      <td>11</td>\n",
       "      <td>15</td>\n",
       "      <td>Alta Floresta D'Oeste</td>\n",
       "      <td>22945</td>\n",
       "    </tr>\n",
       "    <tr>\n",
       "      <th>1</th>\n",
       "      <td>RO</td>\n",
       "      <td>11</td>\n",
       "      <td>23</td>\n",
       "      <td>Ariquemes</td>\n",
       "      <td>107863</td>\n",
       "    </tr>\n",
       "    <tr>\n",
       "      <th>2</th>\n",
       "      <td>RO</td>\n",
       "      <td>11</td>\n",
       "      <td>31</td>\n",
       "      <td>Cabixi</td>\n",
       "      <td>5312</td>\n",
       "    </tr>\n",
       "    <tr>\n",
       "      <th>3</th>\n",
       "      <td>RO</td>\n",
       "      <td>11</td>\n",
       "      <td>49</td>\n",
       "      <td>Cacoal</td>\n",
       "      <td>85359</td>\n",
       "    </tr>\n",
       "    <tr>\n",
       "      <th>4</th>\n",
       "      <td>RO</td>\n",
       "      <td>11</td>\n",
       "      <td>56</td>\n",
       "      <td>Cerejeiras</td>\n",
       "      <td>16323</td>\n",
       "    </tr>\n",
       "    <tr>\n",
       "      <th>5</th>\n",
       "      <td>RO</td>\n",
       "      <td>11</td>\n",
       "      <td>64</td>\n",
       "      <td>Colorado do Oeste</td>\n",
       "      <td>15882</td>\n",
       "    </tr>\n",
       "    <tr>\n",
       "      <th>6</th>\n",
       "      <td>RO</td>\n",
       "      <td>11</td>\n",
       "      <td>72</td>\n",
       "      <td>Corumbiara</td>\n",
       "      <td>7391</td>\n",
       "    </tr>\n",
       "    <tr>\n",
       "      <th>7</th>\n",
       "      <td>RO</td>\n",
       "      <td>11</td>\n",
       "      <td>80</td>\n",
       "      <td>Costa Marques</td>\n",
       "      <td>18331</td>\n",
       "    </tr>\n",
       "    <tr>\n",
       "      <th>8</th>\n",
       "      <td>RO</td>\n",
       "      <td>11</td>\n",
       "      <td>98</td>\n",
       "      <td>Espigão D'Oeste</td>\n",
       "      <td>32374</td>\n",
       "    </tr>\n",
       "    <tr>\n",
       "      <th>9</th>\n",
       "      <td>RO</td>\n",
       "      <td>11</td>\n",
       "      <td>106</td>\n",
       "      <td>Guajará-Mirim</td>\n",
       "      <td>46174</td>\n",
       "    </tr>\n",
       "    <tr>\n",
       "      <th>10</th>\n",
       "      <td>RO</td>\n",
       "      <td>11</td>\n",
       "      <td>114</td>\n",
       "      <td>Jaru</td>\n",
       "      <td>51775</td>\n",
       "    </tr>\n",
       "    <tr>\n",
       "      <th>11</th>\n",
       "      <td>RO</td>\n",
       "      <td>11</td>\n",
       "      <td>122</td>\n",
       "      <td>Ji-Paraná</td>\n",
       "      <td>128969</td>\n",
       "    </tr>\n",
       "    <tr>\n",
       "      <th>12</th>\n",
       "      <td>RO</td>\n",
       "      <td>11</td>\n",
       "      <td>130</td>\n",
       "      <td>Machadinho D'Oeste</td>\n",
       "      <td>39991</td>\n",
       "    </tr>\n",
       "    <tr>\n",
       "      <th>13</th>\n",
       "      <td>RO</td>\n",
       "      <td>11</td>\n",
       "      <td>148</td>\n",
       "      <td>Nova Brasilândia D'Oeste</td>\n",
       "      <td>20474</td>\n",
       "    </tr>\n",
       "    <tr>\n",
       "      <th>14</th>\n",
       "      <td>RO</td>\n",
       "      <td>11</td>\n",
       "      <td>155</td>\n",
       "      <td>Ouro Preto do Oeste</td>\n",
       "      <td>36035</td>\n",
       "    </tr>\n",
       "    <tr>\n",
       "      <th>15</th>\n",
       "      <td>RO</td>\n",
       "      <td>11</td>\n",
       "      <td>189</td>\n",
       "      <td>Pimenta Bueno</td>\n",
       "      <td>36660</td>\n",
       "    </tr>\n",
       "    <tr>\n",
       "      <th>16</th>\n",
       "      <td>RO</td>\n",
       "      <td>11</td>\n",
       "      <td>205</td>\n",
       "      <td>Porto Velho</td>\n",
       "      <td>529544</td>\n",
       "    </tr>\n",
       "  </tbody>\n",
       "</table>\n",
       "</div>"
      ],
      "text/plain": [
       "    UF  COD_UF  COD_MUNIC            NOME_MUNICIPIO  POPULACAO\n",
       "0   RO      11         15     Alta Floresta D'Oeste      22945\n",
       "1   RO      11         23                 Ariquemes     107863\n",
       "2   RO      11         31                    Cabixi       5312\n",
       "3   RO      11         49                    Cacoal      85359\n",
       "4   RO      11         56                Cerejeiras      16323\n",
       "5   RO      11         64         Colorado do Oeste      15882\n",
       "6   RO      11         72                Corumbiara       7391\n",
       "7   RO      11         80             Costa Marques      18331\n",
       "8   RO      11         98           Espigão D'Oeste      32374\n",
       "9   RO      11        106             Guajará-Mirim      46174\n",
       "10  RO      11        114                      Jaru      51775\n",
       "11  RO      11        122                 Ji-Paraná     128969\n",
       "12  RO      11        130        Machadinho D'Oeste      39991\n",
       "13  RO      11        148  Nova Brasilândia D'Oeste      20474\n",
       "14  RO      11        155       Ouro Preto do Oeste      36035\n",
       "15  RO      11        189             Pimenta Bueno      36660\n",
       "16  RO      11        205               Porto Velho     529544"
      ]
     },
     "execution_count": 10,
     "metadata": {},
     "output_type": "execute_result"
    }
   ],
   "source": [
    "df_pop.head(17)"
   ]
  },
  {
   "cell_type": "code",
   "execution_count": 11,
   "id": "b225baf9",
   "metadata": {
    "ExecuteTime": {
     "end_time": "2021-07-03T18:53:36.039838Z",
     "start_time": "2021-07-03T18:53:35.966880Z"
    },
    "hidden": true
   },
   "outputs": [],
   "source": [
    "# Tabela para relacionar o código de município utilizado na declaração e o código do IBGE \n",
    "df_mun = pd.read_csv(\"Dados/municipios_TOM.csv\", sep=';', encoding = \"latin1\")"
   ]
  },
  {
   "cell_type": "code",
   "execution_count": 12,
   "id": "33eab719",
   "metadata": {
    "hidden": true
   },
   "outputs": [
    {
     "data": {
      "text/plain": [
       "(5578, 6)"
      ]
     },
     "execution_count": 12,
     "metadata": {},
     "output_type": "execute_result"
    }
   ],
   "source": [
    "df_mun.shape"
   ]
  },
  {
   "cell_type": "code",
   "execution_count": 13,
   "id": "c1adab6e",
   "metadata": {
    "ExecuteTime": {
     "end_time": "2021-07-03T18:53:36.057827Z",
     "start_time": "2021-07-03T18:53:36.041836Z"
    },
    "hidden": true
   },
   "outputs": [
    {
     "data": {
      "text/html": [
       "<div>\n",
       "<style scoped>\n",
       "    .dataframe tbody tr th:only-of-type {\n",
       "        vertical-align: middle;\n",
       "    }\n",
       "\n",
       "    .dataframe tbody tr th {\n",
       "        vertical-align: top;\n",
       "    }\n",
       "\n",
       "    .dataframe thead th {\n",
       "        text-align: right;\n",
       "    }\n",
       "</style>\n",
       "<table border=\"1\" class=\"dataframe\">\n",
       "  <thead>\n",
       "    <tr style=\"text-align: right;\">\n",
       "      <th></th>\n",
       "      <th>nr_municipio</th>\n",
       "      <th>nb_municipio</th>\n",
       "      <th>latitude_municipio</th>\n",
       "      <th>longitude_municipio</th>\n",
       "      <th>cd_municipio_ibge</th>\n",
       "      <th>ae_municipio</th>\n",
       "    </tr>\n",
       "  </thead>\n",
       "  <tbody>\n",
       "    <tr>\n",
       "      <th>0</th>\n",
       "      <td>-7.0</td>\n",
       "      <td>Inválido</td>\n",
       "      <td>-7.000</td>\n",
       "      <td>-7.000</td>\n",
       "      <td>IN</td>\n",
       "      <td>-7.000</td>\n",
       "    </tr>\n",
       "    <tr>\n",
       "      <th>1</th>\n",
       "      <td>-9.0</td>\n",
       "      <td>Não se aplica</td>\n",
       "      <td>-9.000</td>\n",
       "      <td>-9.000</td>\n",
       "      <td>NaN</td>\n",
       "      <td>-9.000</td>\n",
       "    </tr>\n",
       "    <tr>\n",
       "      <th>2</th>\n",
       "      <td>2125.0</td>\n",
       "      <td>Barrocas - BA</td>\n",
       "      <td>-11.529</td>\n",
       "      <td>-39.078</td>\n",
       "      <td>2903276</td>\n",
       "      <td>200.965</td>\n",
       "    </tr>\n",
       "    <tr>\n",
       "      <th>3</th>\n",
       "      <td>5564.0</td>\n",
       "      <td>Itanhangá - MT</td>\n",
       "      <td>-12.219</td>\n",
       "      <td>-56.638</td>\n",
       "      <td>5104542</td>\n",
       "      <td>2898.075</td>\n",
       "    </tr>\n",
       "    <tr>\n",
       "      <th>4</th>\n",
       "      <td>5565.0</td>\n",
       "      <td>Aroeiras do Itaim - PI</td>\n",
       "      <td>-7.077</td>\n",
       "      <td>-41.467</td>\n",
       "      <td>2200954</td>\n",
       "      <td>257.137</td>\n",
       "    </tr>\n",
       "  </tbody>\n",
       "</table>\n",
       "</div>"
      ],
      "text/plain": [
       "   nr_municipio            nb_municipio  latitude_municipio  \\\n",
       "0          -7.0                Inválido              -7.000   \n",
       "1          -9.0           Não se aplica              -9.000   \n",
       "2        2125.0           Barrocas - BA             -11.529   \n",
       "3        5564.0          Itanhangá - MT             -12.219   \n",
       "4        5565.0  Aroeiras do Itaim - PI              -7.077   \n",
       "\n",
       "   longitude_municipio cd_municipio_ibge  ae_municipio  \n",
       "0               -7.000                IN        -7.000  \n",
       "1               -9.000               NaN        -9.000  \n",
       "2              -39.078           2903276       200.965  \n",
       "3              -56.638           5104542      2898.075  \n",
       "4              -41.467           2200954       257.137  "
      ]
     },
     "execution_count": 13,
     "metadata": {},
     "output_type": "execute_result"
    }
   ],
   "source": [
    "df_mun.head()"
   ]
  },
  {
   "cell_type": "markdown",
   "id": "de4661f4",
   "metadata": {
    "heading_collapsed": true
   },
   "source": [
    "# Processamento / Tratamento dos Dados"
   ]
  },
  {
   "cell_type": "markdown",
   "id": "cc39932f",
   "metadata": {
    "hidden": true
   },
   "source": [
    "## Declaração"
   ]
  },
  {
   "cell_type": "markdown",
   "id": "09e6db74",
   "metadata": {
    "heading_collapsed": true,
    "hidden": true
   },
   "source": [
    "### Excluir Coluna ID"
   ]
  },
  {
   "cell_type": "code",
   "execution_count": 14,
   "id": "6b164f5a",
   "metadata": {
    "ExecuteTime": {
     "end_time": "2021-07-03T18:53:36.775417Z",
     "start_time": "2021-07-03T18:53:36.701459Z"
    },
    "hidden": true
   },
   "outputs": [],
   "source": [
    "# Excluir coluna id\n",
    "df.drop(['id'],axis=1, inplace = True)"
   ]
  },
  {
   "cell_type": "markdown",
   "id": "ec3855df",
   "metadata": {
    "heading_collapsed": true,
    "hidden": true
   },
   "source": [
    "### Ocupação Principal"
   ]
  },
  {
   "cell_type": "code",
   "execution_count": 15,
   "id": "eef65122",
   "metadata": {
    "hidden": true,
    "scrolled": true
   },
   "outputs": [
    {
     "data": {
      "text/plain": [
       "(36454, 52)"
      ]
     },
     "execution_count": 15,
     "metadata": {},
     "output_type": "execute_result"
    }
   ],
   "source": [
    "df.query(\"ocupacao=='NI' or ocupacao=='IN'\").shape"
   ]
  },
  {
   "cell_type": "code",
   "execution_count": 16,
   "id": "439f101d",
   "metadata": {
    "ExecuteTime": {
     "end_time": "2021-07-03T18:53:36.343664Z",
     "start_time": "2021-07-03T18:53:36.133784Z"
    },
    "hidden": true
   },
   "outputs": [],
   "source": [
    "# Transformar ocupação de string para numérico\n",
    "df[\"ocupacao\"] = pd.to_numeric(df[\"ocupacao\"],errors='coerce' )"
   ]
  },
  {
   "cell_type": "code",
   "execution_count": 17,
   "id": "edc39009",
   "metadata": {
    "hidden": true
   },
   "outputs": [
    {
     "data": {
      "text/plain": [
       "36454"
      ]
     },
     "execution_count": 17,
     "metadata": {},
     "output_type": "execute_result"
    }
   ],
   "source": [
    "df.ocupacao.isna().sum()"
   ]
  },
  {
   "cell_type": "code",
   "execution_count": 18,
   "id": "fa967f9c",
   "metadata": {
    "hidden": true
   },
   "outputs": [
    {
     "data": {
      "text/plain": [
       "(36454, 52)"
      ]
     },
     "execution_count": 18,
     "metadata": {},
     "output_type": "execute_result"
    }
   ],
   "source": [
    "# Alterar valores nulos para 999 (Não Informado)\n",
    "df[\"ocupacao\"] = df[\"ocupacao\"].fillna(999)\n",
    "df.query(\"ocupacao==999\").shape"
   ]
  },
  {
   "cell_type": "code",
   "execution_count": 19,
   "id": "45af8ac8",
   "metadata": {
    "hidden": true
   },
   "outputs": [
    {
     "data": {
      "text/plain": [
       "0"
      ]
     },
     "execution_count": 19,
     "metadata": {},
     "output_type": "execute_result"
    }
   ],
   "source": [
    "df.ocupacao.isna().sum()"
   ]
  },
  {
   "cell_type": "markdown",
   "id": "e8ee37d3",
   "metadata": {
    "heading_collapsed": true,
    "hidden": true
   },
   "source": [
    "### Óbito"
   ]
  },
  {
   "cell_type": "code",
   "execution_count": 20,
   "id": "1f7b27d2",
   "metadata": {
    "ExecuteTime": {
     "end_time": "2021-07-03T18:53:36.579529Z",
     "start_time": "2021-07-03T18:53:36.346662Z"
    },
    "hidden": true
   },
   "outputs": [],
   "source": [
    "# Variável óbito possui o ano de óbito ou -9 caso contribuinte vivo\n",
    "# Transformar a variável óbito em 0 ou 1. \n",
    "# 0 - Vivo     - se menor ou igual a 0\n",
    "# 1 - Falecido - se maior que 0\n",
    "df['obito'] = df.obito.apply(lambda x: 0 if x<=0 else 1)"
   ]
  },
  {
   "cell_type": "code",
   "execution_count": 21,
   "id": "e242be75",
   "metadata": {
    "hidden": true
   },
   "outputs": [
    {
     "data": {
      "text/plain": [
       "0    197803\n",
       "1      2197\n",
       "Name: obito, dtype: int64"
      ]
     },
     "execution_count": 21,
     "metadata": {},
     "output_type": "execute_result"
    }
   ],
   "source": [
    "df.obito.value_counts()"
   ]
  },
  {
   "cell_type": "code",
   "execution_count": 22,
   "id": "44f7470a",
   "metadata": {
    "hidden": true
   },
   "outputs": [
    {
     "data": {
      "text/plain": [
       "(200000, 52)"
      ]
     },
     "execution_count": 22,
     "metadata": {},
     "output_type": "execute_result"
    }
   ],
   "source": [
    "df.shape"
   ]
  },
  {
   "cell_type": "code",
   "execution_count": 23,
   "id": "db3cb6b9",
   "metadata": {
    "hidden": true
   },
   "outputs": [],
   "source": [
    "# Excluir Declarações com marca de óbito, pois podem não ter informações de todo o ano.\n",
    "df.drop(df.loc[df['obito']==1].index, inplace=True)"
   ]
  },
  {
   "cell_type": "code",
   "execution_count": 24,
   "id": "d6bc9046",
   "metadata": {
    "hidden": true
   },
   "outputs": [
    {
     "data": {
      "text/plain": [
       "(197803, 52)"
      ]
     },
     "execution_count": 24,
     "metadata": {},
     "output_type": "execute_result"
    }
   ],
   "source": [
    "df.shape"
   ]
  },
  {
   "cell_type": "code",
   "execution_count": 25,
   "id": "faf95e7a",
   "metadata": {
    "hidden": true
   },
   "outputs": [],
   "source": [
    "# Exclusão da variável óbito\n",
    "df.drop(['obito'],axis=1, inplace = True)"
   ]
  },
  {
   "cell_type": "markdown",
   "id": "0faf2495",
   "metadata": {
    "heading_collapsed": true,
    "hidden": true
   },
   "source": [
    "### Criar Variável Alvo"
   ]
  },
  {
   "cell_type": "code",
   "execution_count": 26,
   "id": "7b081e09",
   "metadata": {
    "ExecuteTime": {
     "end_time": "2021-07-03T18:53:36.904342Z",
     "start_time": "2021-07-03T18:53:36.897346Z"
    },
    "hidden": true
   },
   "outputs": [],
   "source": [
    "def define_alvo(i):\n",
    "    alvo = 1 # Considerado uma declaração normal\n",
    "    # Alterar as que são anomalias\n",
    "    # Malha fiscal finalizada com alteração de imposto devido\n",
    "    if df.loc[i, 'auto'] == 1:\n",
    "        alvo = -1\n",
    "    # Declaração em malha fiscal\n",
    "    elif df.loc[i, 'malha'] == 2:\n",
    "        alvo = -1\n",
    "    # Informou rendimentos abaixo da DIRF\n",
    "    elif df.loc[i, 'dif_dirf'] > 0:\n",
    "        alvo = -1\n",
    "    # Declaração em malha preenchimento\n",
    "    elif df.loc[i, 'malha'] == 1:\n",
    "        alvo = -1\n",
    "    # Informou dados de rendimentos com erro de preenchimento \n",
    "    elif df.loc[i, 'errop'] == 1:\n",
    "        alvo = -1\n",
    "    # Informou dados médicos com erro de preenchimento \n",
    "    elif df.loc[i,'errom'] == 1:\n",
    "        alvo = -1\n",
    "    return alvo"
   ]
  },
  {
   "cell_type": "code",
   "execution_count": 27,
   "id": "ff209797",
   "metadata": {
    "ExecuteTime": {
     "end_time": "2021-07-03T18:54:04.701419Z",
     "start_time": "2021-07-03T18:53:36.938322Z"
    },
    "hidden": true
   },
   "outputs": [],
   "source": [
    "# Criação da variável alvo para identificação das anomalias\n",
    "df['alvo'] = df.index.map(define_alvo)"
   ]
  },
  {
   "cell_type": "code",
   "execution_count": 28,
   "id": "7875b06b",
   "metadata": {
    "ExecuteTime": {
     "end_time": "2021-07-03T18:54:04.873321Z",
     "start_time": "2021-07-03T18:54:04.712411Z"
    },
    "hidden": true,
    "scrolled": true
   },
   "outputs": [
    {
     "data": {
      "text/plain": [
       " 1    193093\n",
       "-1      4710\n",
       "Name: alvo, dtype: int64"
      ]
     },
     "execution_count": 28,
     "metadata": {},
     "output_type": "execute_result"
    }
   ],
   "source": [
    "df.alvo.value_counts()"
   ]
  },
  {
   "cell_type": "code",
   "execution_count": 29,
   "id": "bf18d226",
   "metadata": {
    "ExecuteTime": {
     "end_time": "2021-07-03T18:54:04.957270Z",
     "start_time": "2021-07-03T18:54:04.883312Z"
    },
    "hidden": true
   },
   "outputs": [],
   "source": [
    "# Excluir variáveis utilizadas para gerar a detecção das anomalias\n",
    "df.drop(['malha', 'auto', 'errop', 'errom', 'dif_dirf'],axis=1, inplace = True)"
   ]
  },
  {
   "cell_type": "markdown",
   "id": "36b1449b",
   "metadata": {
    "heading_collapsed": true,
    "hidden": true
   },
   "source": [
    "### Corrigir alíquota\n",
    "Corrigir valores de alíquota que estão com erro"
   ]
  },
  {
   "cell_type": "code",
   "execution_count": 30,
   "id": "a56b10e0",
   "metadata": {
    "ExecuteTime": {
     "end_time": "2021-07-03T18:54:05.296077Z",
     "start_time": "2021-07-03T18:54:05.280085Z"
    },
    "hidden": true
   },
   "outputs": [
    {
     "data": {
      "text/plain": [
       "0.0     62829\n",
       "7.5     41718\n",
       "27.5    39050\n",
       "15.0    22695\n",
       "0.5     17603\n",
       "22.5    13908\n",
       "Name: aliquota, dtype: int64"
      ]
     },
     "execution_count": 30,
     "metadata": {},
     "output_type": "execute_result"
    }
   ],
   "source": [
    "df.aliquota.value_counts()"
   ]
  },
  {
   "cell_type": "code",
   "execution_count": 31,
   "id": "d4476551",
   "metadata": {
    "ExecuteTime": {
     "end_time": "2021-07-03T18:54:05.115181Z",
     "start_time": "2021-07-03T18:54:05.106185Z"
    },
    "hidden": true
   },
   "outputs": [],
   "source": [
    "def define_aliquota(num):\n",
    "    if num < 22847.77:\n",
    "        return 0\n",
    "    elif num >= 22847.77 and num <33919.81:\n",
    "        return 7.5\n",
    "    elif num >= 33919.81 and num <45012.61:\n",
    "        return 15\n",
    "    elif num >= 45012.61 and num <55976.17:\n",
    "        return 22.5\n",
    "    elif num >= 55976.17:\n",
    "        return 27.5       "
   ]
  },
  {
   "cell_type": "code",
   "execution_count": 32,
   "id": "3062ac2c",
   "metadata": {
    "ExecuteTime": {
     "end_time": "2021-07-03T18:54:05.277090Z",
     "start_time": "2021-07-03T18:54:05.118178Z"
    },
    "hidden": true
   },
   "outputs": [],
   "source": [
    "df['aliquota'] = df.base_calculo.map(define_aliquota)"
   ]
  },
  {
   "cell_type": "code",
   "execution_count": 33,
   "id": "df748335",
   "metadata": {
    "ExecuteTime": {
     "end_time": "2021-07-03T18:54:05.315065Z",
     "start_time": "2021-07-03T18:54:05.299076Z"
    },
    "hidden": true
   },
   "outputs": [
    {
     "data": {
      "text/plain": [
       "0.0     68376\n",
       "7.5     46137\n",
       "27.5    43880\n",
       "15.0    24404\n",
       "22.5    15006\n",
       "Name: aliquota, dtype: int64"
      ]
     },
     "execution_count": 33,
     "metadata": {},
     "output_type": "execute_result"
    }
   ],
   "source": [
    "df.aliquota.value_counts()"
   ]
  },
  {
   "cell_type": "markdown",
   "id": "e6723ce0",
   "metadata": {
    "heading_collapsed": true,
    "hidden": true
   },
   "source": [
    "### Excluir Exterior \n",
    "Os dados do IBGE são referentes ao Brasil, logo foi decidido retirar as declarações de residentes no exterior"
   ]
  },
  {
   "cell_type": "code",
   "execution_count": 34,
   "id": "90b65ca9",
   "metadata": {
    "ExecuteTime": {
     "end_time": "2021-07-03T18:54:05.617892Z",
     "start_time": "2021-07-03T18:54:05.579915Z"
    },
    "hidden": true
   },
   "outputs": [
    {
     "data": {
      "text/plain": [
       "183"
      ]
     },
     "execution_count": 34,
     "metadata": {},
     "output_type": "execute_result"
    }
   ],
   "source": [
    "df.query('estado==\"EX\"').estado.count()"
   ]
  },
  {
   "cell_type": "code",
   "execution_count": 35,
   "id": "26cd62fe",
   "metadata": {
    "ExecuteTime": {
     "end_time": "2021-07-03T18:54:05.754813Z",
     "start_time": "2021-07-03T18:54:05.619890Z"
    },
    "hidden": true
   },
   "outputs": [
    {
     "data": {
      "text/plain": [
       "197620"
      ]
     },
     "execution_count": 35,
     "metadata": {},
     "output_type": "execute_result"
    }
   ],
   "source": [
    "df.query('estado!=\"EX\"').estado.count()"
   ]
  },
  {
   "cell_type": "code",
   "execution_count": 36,
   "id": "5039f5ae",
   "metadata": {
    "ExecuteTime": {
     "end_time": "2021-07-03T18:54:05.784797Z",
     "start_time": "2021-07-03T18:54:05.756812Z"
    },
    "hidden": true
   },
   "outputs": [
    {
     "data": {
      "text/plain": [
       "197803"
      ]
     },
     "execution_count": 36,
     "metadata": {},
     "output_type": "execute_result"
    }
   ],
   "source": [
    "df.estado.count()"
   ]
  },
  {
   "cell_type": "code",
   "execution_count": 37,
   "id": "cdbe132a",
   "metadata": {
    "ExecuteTime": {
     "end_time": "2021-07-03T18:54:05.928713Z",
     "start_time": "2021-07-03T18:54:05.787795Z"
    },
    "hidden": true
   },
   "outputs": [],
   "source": [
    "df.drop(df.loc[df['estado']=='EX'].index, inplace=True)"
   ]
  },
  {
   "cell_type": "code",
   "execution_count": 38,
   "id": "27d072fd",
   "metadata": {
    "ExecuteTime": {
     "end_time": "2021-07-03T18:54:05.972690Z",
     "start_time": "2021-07-03T18:54:05.931713Z"
    },
    "hidden": true,
    "scrolled": true
   },
   "outputs": [
    {
     "data": {
      "text/plain": [
       "197620"
      ]
     },
     "execution_count": 38,
     "metadata": {},
     "output_type": "execute_result"
    }
   ],
   "source": [
    "df.estado.count()"
   ]
  },
  {
   "cell_type": "markdown",
   "id": "18c216a0",
   "metadata": {
    "heading_collapsed": true,
    "hidden": true
   },
   "source": [
    "### Idade\n",
    "Para melhorar os gráficos e análises, agrupar idades em que existem poucas declarações"
   ]
  },
  {
   "cell_type": "code",
   "execution_count": 39,
   "id": "d0186a64",
   "metadata": {
    "hidden": true
   },
   "outputs": [
    {
     "data": {
      "text/plain": [
       "91.0     150\n",
       "92.0     123\n",
       "93.0      89\n",
       "94.0      64\n",
       "95.0      50\n",
       "96.0      40\n",
       "97.0      19\n",
       "98.0      21\n",
       "99.0       9\n",
       "100.0     11\n",
       "101.0      5\n",
       "102.0      7\n",
       "103.0      1\n",
       "104.0      2\n",
       "105.0      1\n",
       "107.0      6\n",
       "108.0      1\n",
       "111.0      1\n",
       "112.0      2\n",
       "113.0      1\n",
       "114.0      1\n",
       "116.0      1\n",
       "117.0      1\n",
       "Name: idade, dtype: int64"
      ]
     },
     "execution_count": 39,
     "metadata": {},
     "output_type": "execute_result"
    }
   ],
   "source": [
    "# Agrupar acima de 100 anos\n",
    "df.query('idade>90').idade.value_counts().sort_index()"
   ]
  },
  {
   "cell_type": "code",
   "execution_count": 40,
   "id": "a76d53e0",
   "metadata": {
    "hidden": true
   },
   "outputs": [],
   "source": [
    "# Altera variável idade para 100 nos casos em que for maior que esse valor\n",
    "df['idade'] = df.idade.apply(lambda x: 100 if x>100 else x)"
   ]
  },
  {
   "cell_type": "code",
   "execution_count": 41,
   "id": "28f4d82e",
   "metadata": {
    "hidden": true
   },
   "outputs": [
    {
     "data": {
      "text/plain": [
       "17.0    96\n",
       "16.0    60\n",
       "15.0    49\n",
       "14.0    40\n",
       "13.0    36\n",
       "12.0    29\n",
       "11.0    21\n",
       "10.0    18\n",
       "9.0     19\n",
       "8.0     26\n",
       "7.0     14\n",
       "6.0     13\n",
       "5.0     13\n",
       "4.0      9\n",
       "3.0     10\n",
       "2.0      4\n",
       "1.0      4\n",
       "Name: idade, dtype: int64"
      ]
     },
     "execution_count": 41,
     "metadata": {},
     "output_type": "execute_result"
    }
   ],
   "source": [
    "# Agrupar abaixo de 15 anos\n",
    "df.query('idade<18').idade.value_counts().sort_index(ascending=False)"
   ]
  },
  {
   "cell_type": "code",
   "execution_count": 42,
   "id": "d50951da",
   "metadata": {
    "hidden": true
   },
   "outputs": [],
   "source": [
    "# Altera variável idade para 15 nos casos em que for menor que esse valor\n",
    "df['idade'] = df.idade.apply(lambda x: 15 if x < 15 else x)"
   ]
  },
  {
   "cell_type": "code",
   "execution_count": 43,
   "id": "4b128ed5",
   "metadata": {
    "hidden": true
   },
   "outputs": [
    {
     "data": {
      "text/plain": [
       "0"
      ]
     },
     "execution_count": 43,
     "metadata": {},
     "output_type": "execute_result"
    }
   ],
   "source": [
    "df.query('idade>100').idade.count()"
   ]
  },
  {
   "cell_type": "code",
   "execution_count": 44,
   "id": "363f3797",
   "metadata": {
    "hidden": true
   },
   "outputs": [
    {
     "data": {
      "text/plain": [
       "0"
      ]
     },
     "execution_count": 44,
     "metadata": {},
     "output_type": "execute_result"
    }
   ],
   "source": [
    "df.query('idade<15').idade.count()"
   ]
  },
  {
   "cell_type": "markdown",
   "id": "1904eebc",
   "metadata": {
    "heading_collapsed": true
   },
   "source": [
    "# Dados do IBGE"
   ]
  },
  {
   "cell_type": "markdown",
   "id": "03207b17",
   "metadata": {
    "heading_collapsed": true,
    "hidden": true
   },
   "source": [
    "### GINI"
   ]
  },
  {
   "cell_type": "code",
   "execution_count": 45,
   "id": "4bd7a715",
   "metadata": {
    "ExecuteTime": {
     "end_time": "2021-07-03T18:54:05.993676Z",
     "start_time": "2021-07-03T18:54:05.975686Z"
    },
    "hidden": true
   },
   "outputs": [
    {
     "data": {
      "text/html": [
       "<div>\n",
       "<style scoped>\n",
       "    .dataframe tbody tr th:only-of-type {\n",
       "        vertical-align: middle;\n",
       "    }\n",
       "\n",
       "    .dataframe tbody tr th {\n",
       "        vertical-align: top;\n",
       "    }\n",
       "\n",
       "    .dataframe thead th {\n",
       "        text-align: right;\n",
       "    }\n",
       "</style>\n",
       "<table border=\"1\" class=\"dataframe\">\n",
       "  <thead>\n",
       "    <tr style=\"text-align: right;\">\n",
       "      <th></th>\n",
       "      <th>estado</th>\n",
       "      <th>nome</th>\n",
       "      <th>gini</th>\n",
       "    </tr>\n",
       "  </thead>\n",
       "  <tbody>\n",
       "    <tr>\n",
       "      <th>0</th>\n",
       "      <td>RO</td>\n",
       "      <td>Rondônia</td>\n",
       "      <td>0.471957</td>\n",
       "    </tr>\n",
       "    <tr>\n",
       "      <th>1</th>\n",
       "      <td>AC</td>\n",
       "      <td>Acre</td>\n",
       "      <td>0.556493</td>\n",
       "    </tr>\n",
       "    <tr>\n",
       "      <th>2</th>\n",
       "      <td>AM</td>\n",
       "      <td>Amazonas</td>\n",
       "      <td>0.568123</td>\n",
       "    </tr>\n",
       "    <tr>\n",
       "      <th>3</th>\n",
       "      <td>RR</td>\n",
       "      <td>Roraima</td>\n",
       "      <td>0.576438</td>\n",
       "    </tr>\n",
       "    <tr>\n",
       "      <th>4</th>\n",
       "      <td>PA</td>\n",
       "      <td>Pará</td>\n",
       "      <td>0.528684</td>\n",
       "    </tr>\n",
       "  </tbody>\n",
       "</table>\n",
       "</div>"
      ],
      "text/plain": [
       "  estado      nome      gini\n",
       "0     RO  Rondônia  0.471957\n",
       "1     AC      Acre  0.556493\n",
       "2     AM  Amazonas  0.568123\n",
       "3     RR   Roraima  0.576438\n",
       "4     PA      Pará  0.528684"
      ]
     },
     "execution_count": 45,
     "metadata": {},
     "output_type": "execute_result"
    }
   ],
   "source": [
    "df_gini.head()"
   ]
  },
  {
   "cell_type": "code",
   "execution_count": 46,
   "id": "107f1230",
   "metadata": {
    "ExecuteTime": {
     "end_time": "2021-07-03T18:54:06.435423Z",
     "start_time": "2021-07-03T18:54:05.996676Z"
    },
    "hidden": true
   },
   "outputs": [],
   "source": [
    "# Merge com dados de Gini por estado (left outer join)\n",
    "df = pd.merge(df, df_gini[['estado', 'gini']], on='estado', how='left')"
   ]
  },
  {
   "cell_type": "code",
   "execution_count": 47,
   "id": "aed4618a",
   "metadata": {
    "hidden": true
   },
   "outputs": [
    {
     "data": {
      "text/plain": [
       "(0, 48)"
      ]
     },
     "execution_count": 47,
     "metadata": {},
     "output_type": "execute_result"
    }
   ],
   "source": [
    "df[df.gini.isnull()].shape"
   ]
  },
  {
   "cell_type": "code",
   "execution_count": 48,
   "id": "cee9c08b",
   "metadata": {
    "ExecuteTime": {
     "end_time": "2021-07-03T18:54:06.534367Z",
     "start_time": "2021-07-03T18:54:06.438422Z"
    },
    "hidden": true
   },
   "outputs": [
    {
     "data": {
      "text/html": [
       "<div>\n",
       "<style scoped>\n",
       "    .dataframe tbody tr th:only-of-type {\n",
       "        vertical-align: middle;\n",
       "    }\n",
       "\n",
       "    .dataframe tbody tr th {\n",
       "        vertical-align: top;\n",
       "    }\n",
       "\n",
       "    .dataframe thead th {\n",
       "        text-align: right;\n",
       "    }\n",
       "</style>\n",
       "<table border=\"1\" class=\"dataframe\">\n",
       "  <thead>\n",
       "    <tr style=\"text-align: right;\">\n",
       "      <th></th>\n",
       "      <th>valor_dirf</th>\n",
       "      <th>rend_total</th>\n",
       "      <th>rend_tributavel</th>\n",
       "      <th>base_calculo</th>\n",
       "      <th>trabalho</th>\n",
       "      <th>aluguel</th>\n",
       "      <th>rend_capital</th>\n",
       "      <th>autonomo</th>\n",
       "      <th>livro_caixa</th>\n",
       "      <th>rural</th>\n",
       "      <th>ganho_capital</th>\n",
       "      <th>exterior</th>\n",
       "      <th>outros_rend</th>\n",
       "      <th>rend_isento</th>\n",
       "      <th>rend_exclusivo</th>\n",
       "      <th>contrib_prev</th>\n",
       "      <th>dependentes_ded</th>\n",
       "      <th>pensao_alimenticia</th>\n",
       "      <th>pensao_alimenticia_ded</th>\n",
       "      <th>geducativos</th>\n",
       "      <th>geducativos_ded</th>\n",
       "      <th>gmedicos</th>\n",
       "      <th>gmedicos_ded</th>\n",
       "      <th>aliquota</th>\n",
       "      <th>aliquota_efetiva</th>\n",
       "      <th>imposto_devido</th>\n",
       "      <th>imposto_devido2</th>\n",
       "      <th>resultado_decl</th>\n",
       "      <th>iap</th>\n",
       "      <th>iar</th>\n",
       "      <th>tipo_decl</th>\n",
       "      <th>completa</th>\n",
       "      <th>deducao</th>\n",
       "      <th>idade</th>\n",
       "      <th>sexo</th>\n",
       "      <th>casado</th>\n",
       "      <th>dependentes</th>\n",
       "      <th>alimentandos</th>\n",
       "      <th>estado</th>\n",
       "      <th>municipio</th>\n",
       "      <th>ocupacao</th>\n",
       "      <th>natureza</th>\n",
       "      <th>bens_ant</th>\n",
       "      <th>bens</th>\n",
       "      <th>dividas_ant</th>\n",
       "      <th>dividas</th>\n",
       "      <th>alvo</th>\n",
       "      <th>gini</th>\n",
       "    </tr>\n",
       "  </thead>\n",
       "  <tbody>\n",
       "    <tr>\n",
       "      <th>0</th>\n",
       "      <td>0.00</td>\n",
       "      <td>25361.23</td>\n",
       "      <td>22762.00</td>\n",
       "      <td>18209.60</td>\n",
       "      <td>0.00</td>\n",
       "      <td>0.0</td>\n",
       "      <td>2599.23</td>\n",
       "      <td>22762.0</td>\n",
       "      <td>0.0</td>\n",
       "      <td>0.0</td>\n",
       "      <td>0.0</td>\n",
       "      <td>0.0</td>\n",
       "      <td>0.00</td>\n",
       "      <td>91.18</td>\n",
       "      <td>2508.05</td>\n",
       "      <td>1312.52</td>\n",
       "      <td>0.0</td>\n",
       "      <td>0.0</td>\n",
       "      <td>0.0</td>\n",
       "      <td>0.0</td>\n",
       "      <td>0.0</td>\n",
       "      <td>0.00</td>\n",
       "      <td>0.00</td>\n",
       "      <td>0.0</td>\n",
       "      <td>0.000000</td>\n",
       "      <td>0.00</td>\n",
       "      <td>0.00</td>\n",
       "      <td>0.00</td>\n",
       "      <td>0.00</td>\n",
       "      <td>0.0</td>\n",
       "      <td>3</td>\n",
       "      <td>0</td>\n",
       "      <td>4552.40</td>\n",
       "      <td>56.0</td>\n",
       "      <td>0</td>\n",
       "      <td>1</td>\n",
       "      <td>0.0</td>\n",
       "      <td>0.0</td>\n",
       "      <td>PR</td>\n",
       "      <td>4311.0</td>\n",
       "      <td>226.0</td>\n",
       "      <td>11</td>\n",
       "      <td>515877.95</td>\n",
       "      <td>529969.54</td>\n",
       "      <td>165365.12</td>\n",
       "      <td>148943.64</td>\n",
       "      <td>1</td>\n",
       "      <td>0.475764</td>\n",
       "    </tr>\n",
       "    <tr>\n",
       "      <th>1</th>\n",
       "      <td>46177.09</td>\n",
       "      <td>76082.23</td>\n",
       "      <td>46177.09</td>\n",
       "      <td>32271.11</td>\n",
       "      <td>74774.44</td>\n",
       "      <td>0.0</td>\n",
       "      <td>1307.79</td>\n",
       "      <td>0.0</td>\n",
       "      <td>0.0</td>\n",
       "      <td>0.0</td>\n",
       "      <td>0.0</td>\n",
       "      <td>0.0</td>\n",
       "      <td>0.00</td>\n",
       "      <td>26040.82</td>\n",
       "      <td>3864.32</td>\n",
       "      <td>0.00</td>\n",
       "      <td>0.0</td>\n",
       "      <td>0.0</td>\n",
       "      <td>0.0</td>\n",
       "      <td>0.0</td>\n",
       "      <td>0.0</td>\n",
       "      <td>13905.98</td>\n",
       "      <td>13905.98</td>\n",
       "      <td>7.5</td>\n",
       "      <td>0.009289</td>\n",
       "      <td>706.75</td>\n",
       "      <td>685.55</td>\n",
       "      <td>474.59</td>\n",
       "      <td>474.59</td>\n",
       "      <td>0.0</td>\n",
       "      <td>1</td>\n",
       "      <td>1</td>\n",
       "      <td>13905.98</td>\n",
       "      <td>82.0</td>\n",
       "      <td>1</td>\n",
       "      <td>0</td>\n",
       "      <td>0.0</td>\n",
       "      <td>0.0</td>\n",
       "      <td>TO</td>\n",
       "      <td>5432.0</td>\n",
       "      <td>999.0</td>\n",
       "      <td>61</td>\n",
       "      <td>251292.30</td>\n",
       "      <td>234255.05</td>\n",
       "      <td>0.00</td>\n",
       "      <td>0.00</td>\n",
       "      <td>1</td>\n",
       "      <td>0.529623</td>\n",
       "    </tr>\n",
       "    <tr>\n",
       "      <th>2</th>\n",
       "      <td>15.44</td>\n",
       "      <td>30927.00</td>\n",
       "      <td>28548.00</td>\n",
       "      <td>22838.40</td>\n",
       "      <td>30927.00</td>\n",
       "      <td>0.0</td>\n",
       "      <td>0.00</td>\n",
       "      <td>0.0</td>\n",
       "      <td>0.0</td>\n",
       "      <td>0.0</td>\n",
       "      <td>0.0</td>\n",
       "      <td>0.0</td>\n",
       "      <td>0.00</td>\n",
       "      <td>0.00</td>\n",
       "      <td>2379.00</td>\n",
       "      <td>2854.00</td>\n",
       "      <td>0.0</td>\n",
       "      <td>0.0</td>\n",
       "      <td>0.0</td>\n",
       "      <td>0.0</td>\n",
       "      <td>0.0</td>\n",
       "      <td>0.00</td>\n",
       "      <td>0.00</td>\n",
       "      <td>0.0</td>\n",
       "      <td>0.000000</td>\n",
       "      <td>0.00</td>\n",
       "      <td>0.00</td>\n",
       "      <td>0.00</td>\n",
       "      <td>0.00</td>\n",
       "      <td>0.0</td>\n",
       "      <td>1</td>\n",
       "      <td>0</td>\n",
       "      <td>5709.60</td>\n",
       "      <td>49.0</td>\n",
       "      <td>0</td>\n",
       "      <td>0</td>\n",
       "      <td>0.0</td>\n",
       "      <td>0.0</td>\n",
       "      <td>DF</td>\n",
       "      <td>5418.0</td>\n",
       "      <td>0.0</td>\n",
       "      <td>1</td>\n",
       "      <td>0.00</td>\n",
       "      <td>0.00</td>\n",
       "      <td>0.00</td>\n",
       "      <td>0.00</td>\n",
       "      <td>1</td>\n",
       "      <td>0.553359</td>\n",
       "    </tr>\n",
       "    <tr>\n",
       "      <th>3</th>\n",
       "      <td>0.00</td>\n",
       "      <td>21600.00</td>\n",
       "      <td>21600.00</td>\n",
       "      <td>17280.00</td>\n",
       "      <td>0.00</td>\n",
       "      <td>0.0</td>\n",
       "      <td>0.00</td>\n",
       "      <td>21600.0</td>\n",
       "      <td>0.0</td>\n",
       "      <td>0.0</td>\n",
       "      <td>0.0</td>\n",
       "      <td>0.0</td>\n",
       "      <td>0.00</td>\n",
       "      <td>0.00</td>\n",
       "      <td>0.00</td>\n",
       "      <td>0.00</td>\n",
       "      <td>0.0</td>\n",
       "      <td>0.0</td>\n",
       "      <td>0.0</td>\n",
       "      <td>0.0</td>\n",
       "      <td>0.0</td>\n",
       "      <td>0.00</td>\n",
       "      <td>0.00</td>\n",
       "      <td>0.0</td>\n",
       "      <td>0.000000</td>\n",
       "      <td>0.00</td>\n",
       "      <td>0.00</td>\n",
       "      <td>0.00</td>\n",
       "      <td>0.00</td>\n",
       "      <td>0.0</td>\n",
       "      <td>3</td>\n",
       "      <td>0</td>\n",
       "      <td>4320.00</td>\n",
       "      <td>34.0</td>\n",
       "      <td>1</td>\n",
       "      <td>1</td>\n",
       "      <td>0.0</td>\n",
       "      <td>0.0</td>\n",
       "      <td>ES</td>\n",
       "      <td>3401.0</td>\n",
       "      <td>214.0</td>\n",
       "      <td>11</td>\n",
       "      <td>69000.00</td>\n",
       "      <td>69000.00</td>\n",
       "      <td>0.00</td>\n",
       "      <td>0.00</td>\n",
       "      <td>1</td>\n",
       "      <td>0.518920</td>\n",
       "    </tr>\n",
       "    <tr>\n",
       "      <th>4</th>\n",
       "      <td>67121.50</td>\n",
       "      <td>92738.13</td>\n",
       "      <td>67121.50</td>\n",
       "      <td>53697.20</td>\n",
       "      <td>70974.12</td>\n",
       "      <td>0.0</td>\n",
       "      <td>0.00</td>\n",
       "      <td>0.0</td>\n",
       "      <td>0.0</td>\n",
       "      <td>0.0</td>\n",
       "      <td>0.0</td>\n",
       "      <td>0.0</td>\n",
       "      <td>21764.01</td>\n",
       "      <td>21764.01</td>\n",
       "      <td>3852.62</td>\n",
       "      <td>5675.95</td>\n",
       "      <td>0.0</td>\n",
       "      <td>0.0</td>\n",
       "      <td>0.0</td>\n",
       "      <td>0.0</td>\n",
       "      <td>0.0</td>\n",
       "      <td>4209.32</td>\n",
       "      <td>0.00</td>\n",
       "      <td>22.5</td>\n",
       "      <td>0.047967</td>\n",
       "      <td>4448.36</td>\n",
       "      <td>4448.36</td>\n",
       "      <td>-2016.80</td>\n",
       "      <td>0.00</td>\n",
       "      <td>2016.8</td>\n",
       "      <td>3</td>\n",
       "      <td>0</td>\n",
       "      <td>13424.30</td>\n",
       "      <td>56.0</td>\n",
       "      <td>0</td>\n",
       "      <td>1</td>\n",
       "      <td>0.0</td>\n",
       "      <td>0.0</td>\n",
       "      <td>RJ</td>\n",
       "      <td>2047.0</td>\n",
       "      <td>515.0</td>\n",
       "      <td>41</td>\n",
       "      <td>50000.00</td>\n",
       "      <td>50000.00</td>\n",
       "      <td>0.00</td>\n",
       "      <td>0.00</td>\n",
       "      <td>1</td>\n",
       "      <td>0.550819</td>\n",
       "    </tr>\n",
       "  </tbody>\n",
       "</table>\n",
       "</div>"
      ],
      "text/plain": [
       "   valor_dirf  rend_total  rend_tributavel  base_calculo  trabalho  aluguel  \\\n",
       "0        0.00    25361.23         22762.00      18209.60      0.00      0.0   \n",
       "1    46177.09    76082.23         46177.09      32271.11  74774.44      0.0   \n",
       "2       15.44    30927.00         28548.00      22838.40  30927.00      0.0   \n",
       "3        0.00    21600.00         21600.00      17280.00      0.00      0.0   \n",
       "4    67121.50    92738.13         67121.50      53697.20  70974.12      0.0   \n",
       "\n",
       "   rend_capital  autonomo  livro_caixa  rural  ganho_capital  exterior  \\\n",
       "0       2599.23   22762.0          0.0    0.0            0.0       0.0   \n",
       "1       1307.79       0.0          0.0    0.0            0.0       0.0   \n",
       "2          0.00       0.0          0.0    0.0            0.0       0.0   \n",
       "3          0.00   21600.0          0.0    0.0            0.0       0.0   \n",
       "4          0.00       0.0          0.0    0.0            0.0       0.0   \n",
       "\n",
       "   outros_rend  rend_isento  rend_exclusivo  contrib_prev  dependentes_ded  \\\n",
       "0         0.00        91.18         2508.05       1312.52              0.0   \n",
       "1         0.00     26040.82         3864.32          0.00              0.0   \n",
       "2         0.00         0.00         2379.00       2854.00              0.0   \n",
       "3         0.00         0.00            0.00          0.00              0.0   \n",
       "4     21764.01     21764.01         3852.62       5675.95              0.0   \n",
       "\n",
       "   pensao_alimenticia  pensao_alimenticia_ded  geducativos  geducativos_ded  \\\n",
       "0                 0.0                     0.0          0.0              0.0   \n",
       "1                 0.0                     0.0          0.0              0.0   \n",
       "2                 0.0                     0.0          0.0              0.0   \n",
       "3                 0.0                     0.0          0.0              0.0   \n",
       "4                 0.0                     0.0          0.0              0.0   \n",
       "\n",
       "   gmedicos  gmedicos_ded  aliquota  aliquota_efetiva  imposto_devido  \\\n",
       "0      0.00          0.00       0.0          0.000000            0.00   \n",
       "1  13905.98      13905.98       7.5          0.009289          706.75   \n",
       "2      0.00          0.00       0.0          0.000000            0.00   \n",
       "3      0.00          0.00       0.0          0.000000            0.00   \n",
       "4   4209.32          0.00      22.5          0.047967         4448.36   \n",
       "\n",
       "   imposto_devido2  resultado_decl     iap     iar  tipo_decl  completa  \\\n",
       "0             0.00            0.00    0.00     0.0          3         0   \n",
       "1           685.55          474.59  474.59     0.0          1         1   \n",
       "2             0.00            0.00    0.00     0.0          1         0   \n",
       "3             0.00            0.00    0.00     0.0          3         0   \n",
       "4          4448.36        -2016.80    0.00  2016.8          3         0   \n",
       "\n",
       "    deducao  idade  sexo  casado  dependentes  alimentandos estado  municipio  \\\n",
       "0   4552.40   56.0     0       1          0.0           0.0     PR     4311.0   \n",
       "1  13905.98   82.0     1       0          0.0           0.0     TO     5432.0   \n",
       "2   5709.60   49.0     0       0          0.0           0.0     DF     5418.0   \n",
       "3   4320.00   34.0     1       1          0.0           0.0     ES     3401.0   \n",
       "4  13424.30   56.0     0       1          0.0           0.0     RJ     2047.0   \n",
       "\n",
       "   ocupacao  natureza   bens_ant       bens  dividas_ant    dividas  alvo  \\\n",
       "0     226.0        11  515877.95  529969.54    165365.12  148943.64     1   \n",
       "1     999.0        61  251292.30  234255.05         0.00       0.00     1   \n",
       "2       0.0         1       0.00       0.00         0.00       0.00     1   \n",
       "3     214.0        11   69000.00   69000.00         0.00       0.00     1   \n",
       "4     515.0        41   50000.00   50000.00         0.00       0.00     1   \n",
       "\n",
       "       gini  \n",
       "0  0.475764  \n",
       "1  0.529623  \n",
       "2  0.553359  \n",
       "3  0.518920  \n",
       "4  0.550819  "
      ]
     },
     "execution_count": 48,
     "metadata": {},
     "output_type": "execute_result"
    }
   ],
   "source": [
    "df.head()"
   ]
  },
  {
   "cell_type": "markdown",
   "id": "ceb5201d",
   "metadata": {
    "heading_collapsed": true,
    "hidden": true
   },
   "source": [
    "### População"
   ]
  },
  {
   "cell_type": "code",
   "execution_count": 49,
   "id": "97a6a61f",
   "metadata": {
    "ExecuteTime": {
     "end_time": "2021-07-03T18:54:06.778228Z",
     "start_time": "2021-07-03T18:54:06.764235Z"
    },
    "hidden": true
   },
   "outputs": [
    {
     "data": {
      "text/html": [
       "<div>\n",
       "<style scoped>\n",
       "    .dataframe tbody tr th:only-of-type {\n",
       "        vertical-align: middle;\n",
       "    }\n",
       "\n",
       "    .dataframe tbody tr th {\n",
       "        vertical-align: top;\n",
       "    }\n",
       "\n",
       "    .dataframe thead th {\n",
       "        text-align: right;\n",
       "    }\n",
       "</style>\n",
       "<table border=\"1\" class=\"dataframe\">\n",
       "  <thead>\n",
       "    <tr style=\"text-align: right;\">\n",
       "      <th></th>\n",
       "      <th>UF</th>\n",
       "      <th>COD_UF</th>\n",
       "      <th>COD_MUNIC</th>\n",
       "      <th>NOME_MUNICIPIO</th>\n",
       "      <th>POPULACAO</th>\n",
       "    </tr>\n",
       "  </thead>\n",
       "  <tbody>\n",
       "    <tr>\n",
       "      <th>0</th>\n",
       "      <td>RO</td>\n",
       "      <td>11</td>\n",
       "      <td>15</td>\n",
       "      <td>Alta Floresta D'Oeste</td>\n",
       "      <td>22945</td>\n",
       "    </tr>\n",
       "    <tr>\n",
       "      <th>1</th>\n",
       "      <td>RO</td>\n",
       "      <td>11</td>\n",
       "      <td>23</td>\n",
       "      <td>Ariquemes</td>\n",
       "      <td>107863</td>\n",
       "    </tr>\n",
       "    <tr>\n",
       "      <th>2</th>\n",
       "      <td>RO</td>\n",
       "      <td>11</td>\n",
       "      <td>31</td>\n",
       "      <td>Cabixi</td>\n",
       "      <td>5312</td>\n",
       "    </tr>\n",
       "    <tr>\n",
       "      <th>3</th>\n",
       "      <td>RO</td>\n",
       "      <td>11</td>\n",
       "      <td>49</td>\n",
       "      <td>Cacoal</td>\n",
       "      <td>85359</td>\n",
       "    </tr>\n",
       "    <tr>\n",
       "      <th>4</th>\n",
       "      <td>RO</td>\n",
       "      <td>11</td>\n",
       "      <td>56</td>\n",
       "      <td>Cerejeiras</td>\n",
       "      <td>16323</td>\n",
       "    </tr>\n",
       "  </tbody>\n",
       "</table>\n",
       "</div>"
      ],
      "text/plain": [
       "   UF  COD_UF  COD_MUNIC         NOME_MUNICIPIO  POPULACAO\n",
       "0  RO      11         15  Alta Floresta D'Oeste      22945\n",
       "1  RO      11         23              Ariquemes     107863\n",
       "2  RO      11         31                 Cabixi       5312\n",
       "3  RO      11         49                 Cacoal      85359\n",
       "4  RO      11         56             Cerejeiras      16323"
      ]
     },
     "execution_count": 49,
     "metadata": {},
     "output_type": "execute_result"
    }
   ],
   "source": [
    "df_pop.head()"
   ]
  },
  {
   "cell_type": "code",
   "execution_count": 50,
   "id": "30588d61",
   "metadata": {
    "ExecuteTime": {
     "end_time": "2021-07-03T18:54:06.805212Z",
     "start_time": "2021-07-03T18:54:06.781226Z"
    },
    "hidden": true
   },
   "outputs": [],
   "source": [
    "# Juntar os campos COF_UF e COD_MUNIC para formar o cd_municipio_ibge\n",
    "df_pop['cd_municipio_ibge'] = df_pop['COD_UF'].map(str) + (\"00000\" + df_pop['COD_MUNIC'].map(str)).str[-5:]"
   ]
  },
  {
   "cell_type": "code",
   "execution_count": 51,
   "id": "7e981375",
   "metadata": {
    "hidden": true,
    "scrolled": true
   },
   "outputs": [
    {
     "data": {
      "text/html": [
       "<div>\n",
       "<style scoped>\n",
       "    .dataframe tbody tr th:only-of-type {\n",
       "        vertical-align: middle;\n",
       "    }\n",
       "\n",
       "    .dataframe tbody tr th {\n",
       "        vertical-align: top;\n",
       "    }\n",
       "\n",
       "    .dataframe thead th {\n",
       "        text-align: right;\n",
       "    }\n",
       "</style>\n",
       "<table border=\"1\" class=\"dataframe\">\n",
       "  <thead>\n",
       "    <tr style=\"text-align: right;\">\n",
       "      <th></th>\n",
       "      <th>UF</th>\n",
       "      <th>COD_UF</th>\n",
       "      <th>COD_MUNIC</th>\n",
       "      <th>NOME_MUNICIPIO</th>\n",
       "      <th>POPULACAO</th>\n",
       "      <th>cd_municipio_ibge</th>\n",
       "    </tr>\n",
       "  </thead>\n",
       "  <tbody>\n",
       "    <tr>\n",
       "      <th>0</th>\n",
       "      <td>RO</td>\n",
       "      <td>11</td>\n",
       "      <td>15</td>\n",
       "      <td>Alta Floresta D'Oeste</td>\n",
       "      <td>22945</td>\n",
       "      <td>1100015</td>\n",
       "    </tr>\n",
       "    <tr>\n",
       "      <th>1</th>\n",
       "      <td>RO</td>\n",
       "      <td>11</td>\n",
       "      <td>23</td>\n",
       "      <td>Ariquemes</td>\n",
       "      <td>107863</td>\n",
       "      <td>1100023</td>\n",
       "    </tr>\n",
       "    <tr>\n",
       "      <th>2</th>\n",
       "      <td>RO</td>\n",
       "      <td>11</td>\n",
       "      <td>31</td>\n",
       "      <td>Cabixi</td>\n",
       "      <td>5312</td>\n",
       "      <td>1100031</td>\n",
       "    </tr>\n",
       "    <tr>\n",
       "      <th>3</th>\n",
       "      <td>RO</td>\n",
       "      <td>11</td>\n",
       "      <td>49</td>\n",
       "      <td>Cacoal</td>\n",
       "      <td>85359</td>\n",
       "      <td>1100049</td>\n",
       "    </tr>\n",
       "    <tr>\n",
       "      <th>4</th>\n",
       "      <td>RO</td>\n",
       "      <td>11</td>\n",
       "      <td>56</td>\n",
       "      <td>Cerejeiras</td>\n",
       "      <td>16323</td>\n",
       "      <td>1100056</td>\n",
       "    </tr>\n",
       "  </tbody>\n",
       "</table>\n",
       "</div>"
      ],
      "text/plain": [
       "   UF  COD_UF  COD_MUNIC         NOME_MUNICIPIO  POPULACAO cd_municipio_ibge\n",
       "0  RO      11         15  Alta Floresta D'Oeste      22945           1100015\n",
       "1  RO      11         23              Ariquemes     107863           1100023\n",
       "2  RO      11         31                 Cabixi       5312           1100031\n",
       "3  RO      11         49                 Cacoal      85359           1100049\n",
       "4  RO      11         56             Cerejeiras      16323           1100056"
      ]
     },
     "execution_count": 51,
     "metadata": {},
     "output_type": "execute_result"
    }
   ],
   "source": [
    "df_pop.head()"
   ]
  },
  {
   "cell_type": "code",
   "execution_count": 52,
   "id": "55d068bc",
   "metadata": {
    "hidden": true
   },
   "outputs": [
    {
     "data": {
      "text/html": [
       "<div>\n",
       "<style scoped>\n",
       "    .dataframe tbody tr th:only-of-type {\n",
       "        vertical-align: middle;\n",
       "    }\n",
       "\n",
       "    .dataframe tbody tr th {\n",
       "        vertical-align: top;\n",
       "    }\n",
       "\n",
       "    .dataframe thead th {\n",
       "        text-align: right;\n",
       "    }\n",
       "</style>\n",
       "<table border=\"1\" class=\"dataframe\">\n",
       "  <thead>\n",
       "    <tr style=\"text-align: right;\">\n",
       "      <th></th>\n",
       "      <th>nr_municipio</th>\n",
       "      <th>nb_municipio</th>\n",
       "      <th>latitude_municipio</th>\n",
       "      <th>longitude_municipio</th>\n",
       "      <th>cd_municipio_ibge</th>\n",
       "      <th>ae_municipio</th>\n",
       "    </tr>\n",
       "  </thead>\n",
       "  <tbody>\n",
       "    <tr>\n",
       "      <th>0</th>\n",
       "      <td>-7.0</td>\n",
       "      <td>Inválido</td>\n",
       "      <td>-7.000</td>\n",
       "      <td>-7.000</td>\n",
       "      <td>IN</td>\n",
       "      <td>-7.000</td>\n",
       "    </tr>\n",
       "    <tr>\n",
       "      <th>1</th>\n",
       "      <td>-9.0</td>\n",
       "      <td>Não se aplica</td>\n",
       "      <td>-9.000</td>\n",
       "      <td>-9.000</td>\n",
       "      <td>NaN</td>\n",
       "      <td>-9.000</td>\n",
       "    </tr>\n",
       "    <tr>\n",
       "      <th>2</th>\n",
       "      <td>2125.0</td>\n",
       "      <td>Barrocas - BA</td>\n",
       "      <td>-11.529</td>\n",
       "      <td>-39.078</td>\n",
       "      <td>2903276</td>\n",
       "      <td>200.965</td>\n",
       "    </tr>\n",
       "    <tr>\n",
       "      <th>3</th>\n",
       "      <td>5564.0</td>\n",
       "      <td>Itanhangá - MT</td>\n",
       "      <td>-12.219</td>\n",
       "      <td>-56.638</td>\n",
       "      <td>5104542</td>\n",
       "      <td>2898.075</td>\n",
       "    </tr>\n",
       "    <tr>\n",
       "      <th>4</th>\n",
       "      <td>5565.0</td>\n",
       "      <td>Aroeiras do Itaim - PI</td>\n",
       "      <td>-7.077</td>\n",
       "      <td>-41.467</td>\n",
       "      <td>2200954</td>\n",
       "      <td>257.137</td>\n",
       "    </tr>\n",
       "  </tbody>\n",
       "</table>\n",
       "</div>"
      ],
      "text/plain": [
       "   nr_municipio            nb_municipio  latitude_municipio  \\\n",
       "0          -7.0                Inválido              -7.000   \n",
       "1          -9.0           Não se aplica              -9.000   \n",
       "2        2125.0           Barrocas - BA             -11.529   \n",
       "3        5564.0          Itanhangá - MT             -12.219   \n",
       "4        5565.0  Aroeiras do Itaim - PI              -7.077   \n",
       "\n",
       "   longitude_municipio cd_municipio_ibge  ae_municipio  \n",
       "0               -7.000                IN        -7.000  \n",
       "1               -9.000               NaN        -9.000  \n",
       "2              -39.078           2903276       200.965  \n",
       "3              -56.638           5104542      2898.075  \n",
       "4              -41.467           2200954       257.137  "
      ]
     },
     "execution_count": 52,
     "metadata": {},
     "output_type": "execute_result"
    }
   ],
   "source": [
    "df_mun.head()"
   ]
  },
  {
   "cell_type": "code",
   "execution_count": 53,
   "id": "98317f02",
   "metadata": {
    "ExecuteTime": {
     "end_time": "2021-07-03T18:54:06.830199Z",
     "start_time": "2021-07-03T18:54:06.807211Z"
    },
    "hidden": true
   },
   "outputs": [],
   "source": [
    "# Join entre a tabela de municípios da RFB e a tabela do IBGE (left outer join)\n",
    "df_pop = pd.merge(df_pop, df_mun[['cd_municipio_ibge', 'nr_municipio']], \n",
    "                  on='cd_municipio_ibge', how='left')"
   ]
  },
  {
   "cell_type": "code",
   "execution_count": 54,
   "id": "2242d1e5",
   "metadata": {
    "hidden": true
   },
   "outputs": [
    {
     "data": {
      "text/html": [
       "<div>\n",
       "<style scoped>\n",
       "    .dataframe tbody tr th:only-of-type {\n",
       "        vertical-align: middle;\n",
       "    }\n",
       "\n",
       "    .dataframe tbody tr th {\n",
       "        vertical-align: top;\n",
       "    }\n",
       "\n",
       "    .dataframe thead th {\n",
       "        text-align: right;\n",
       "    }\n",
       "</style>\n",
       "<table border=\"1\" class=\"dataframe\">\n",
       "  <thead>\n",
       "    <tr style=\"text-align: right;\">\n",
       "      <th></th>\n",
       "      <th>UF</th>\n",
       "      <th>COD_UF</th>\n",
       "      <th>COD_MUNIC</th>\n",
       "      <th>NOME_MUNICIPIO</th>\n",
       "      <th>POPULACAO</th>\n",
       "      <th>cd_municipio_ibge</th>\n",
       "      <th>nr_municipio</th>\n",
       "    </tr>\n",
       "  </thead>\n",
       "  <tbody>\n",
       "    <tr>\n",
       "      <th>0</th>\n",
       "      <td>RO</td>\n",
       "      <td>11</td>\n",
       "      <td>15</td>\n",
       "      <td>Alta Floresta D'Oeste</td>\n",
       "      <td>22945</td>\n",
       "      <td>1100015</td>\n",
       "      <td>33.0</td>\n",
       "    </tr>\n",
       "    <tr>\n",
       "      <th>1</th>\n",
       "      <td>RO</td>\n",
       "      <td>11</td>\n",
       "      <td>23</td>\n",
       "      <td>Ariquemes</td>\n",
       "      <td>107863</td>\n",
       "      <td>1100023</td>\n",
       "      <td>7.0</td>\n",
       "    </tr>\n",
       "    <tr>\n",
       "      <th>2</th>\n",
       "      <td>RO</td>\n",
       "      <td>11</td>\n",
       "      <td>31</td>\n",
       "      <td>Cabixi</td>\n",
       "      <td>5312</td>\n",
       "      <td>1100031</td>\n",
       "      <td>37.0</td>\n",
       "    </tr>\n",
       "    <tr>\n",
       "      <th>3</th>\n",
       "      <td>RO</td>\n",
       "      <td>11</td>\n",
       "      <td>49</td>\n",
       "      <td>Cacoal</td>\n",
       "      <td>85359</td>\n",
       "      <td>1100049</td>\n",
       "      <td>9.0</td>\n",
       "    </tr>\n",
       "    <tr>\n",
       "      <th>4</th>\n",
       "      <td>RO</td>\n",
       "      <td>11</td>\n",
       "      <td>56</td>\n",
       "      <td>Cerejeiras</td>\n",
       "      <td>16323</td>\n",
       "      <td>1100056</td>\n",
       "      <td>27.0</td>\n",
       "    </tr>\n",
       "  </tbody>\n",
       "</table>\n",
       "</div>"
      ],
      "text/plain": [
       "   UF  COD_UF  COD_MUNIC         NOME_MUNICIPIO  POPULACAO cd_municipio_ibge  \\\n",
       "0  RO      11         15  Alta Floresta D'Oeste      22945           1100015   \n",
       "1  RO      11         23              Ariquemes     107863           1100023   \n",
       "2  RO      11         31                 Cabixi       5312           1100031   \n",
       "3  RO      11         49                 Cacoal      85359           1100049   \n",
       "4  RO      11         56             Cerejeiras      16323           1100056   \n",
       "\n",
       "   nr_municipio  \n",
       "0          33.0  \n",
       "1           7.0  \n",
       "2          37.0  \n",
       "3           9.0  \n",
       "4          27.0  "
      ]
     },
     "execution_count": 54,
     "metadata": {},
     "output_type": "execute_result"
    }
   ],
   "source": [
    "df_pop.head()"
   ]
  },
  {
   "cell_type": "code",
   "execution_count": 55,
   "id": "7fa74858",
   "metadata": {
    "hidden": true
   },
   "outputs": [
    {
     "data": {
      "text/plain": [
       "(0, 7)"
      ]
     },
     "execution_count": 55,
     "metadata": {},
     "output_type": "execute_result"
    }
   ],
   "source": [
    "df_pop[df_pop.nr_municipio.isnull()].shape"
   ]
  },
  {
   "cell_type": "code",
   "execution_count": 56,
   "id": "3eb29f22",
   "metadata": {
    "ExecuteTime": {
     "end_time": "2021-07-03T18:54:07.388878Z",
     "start_time": "2021-07-03T18:54:06.834197Z"
    },
    "hidden": true
   },
   "outputs": [],
   "source": [
    "# Inserir em df a população do município (left outer join)\n",
    "df = pd.merge(df, df_pop[['nr_municipio', 'POPULACAO']], left_on='municipio', \n",
    "              right_on='nr_municipio', how='left')"
   ]
  },
  {
   "cell_type": "code",
   "execution_count": 57,
   "id": "6c74334c",
   "metadata": {
    "ExecuteTime": {
     "end_time": "2021-07-03T18:54:07.545788Z",
     "start_time": "2021-07-03T18:54:07.391876Z"
    },
    "hidden": true
   },
   "outputs": [
    {
     "data": {
      "text/plain": [
       "(0, 50)"
      ]
     },
     "execution_count": 57,
     "metadata": {},
     "output_type": "execute_result"
    }
   ],
   "source": [
    "df[df.POPULACAO.isnull()].shape"
   ]
  },
  {
   "cell_type": "code",
   "execution_count": 58,
   "id": "65f9438a",
   "metadata": {
    "ExecuteTime": {
     "end_time": "2021-07-03T18:54:07.616747Z",
     "start_time": "2021-07-03T18:54:07.548786Z"
    },
    "hidden": true
   },
   "outputs": [],
   "source": [
    "df.drop(['municipio', 'nr_municipio', 'estado'], axis=1, inplace=True)"
   ]
  },
  {
   "cell_type": "code",
   "execution_count": 59,
   "id": "01ce2c62",
   "metadata": {
    "ExecuteTime": {
     "end_time": "2021-07-03T18:54:07.717690Z",
     "start_time": "2021-07-03T18:54:07.619745Z"
    },
    "hidden": true,
    "scrolled": true
   },
   "outputs": [
    {
     "data": {
      "text/html": [
       "<div>\n",
       "<style scoped>\n",
       "    .dataframe tbody tr th:only-of-type {\n",
       "        vertical-align: middle;\n",
       "    }\n",
       "\n",
       "    .dataframe tbody tr th {\n",
       "        vertical-align: top;\n",
       "    }\n",
       "\n",
       "    .dataframe thead th {\n",
       "        text-align: right;\n",
       "    }\n",
       "</style>\n",
       "<table border=\"1\" class=\"dataframe\">\n",
       "  <thead>\n",
       "    <tr style=\"text-align: right;\">\n",
       "      <th></th>\n",
       "      <th>valor_dirf</th>\n",
       "      <th>rend_total</th>\n",
       "      <th>rend_tributavel</th>\n",
       "      <th>base_calculo</th>\n",
       "      <th>trabalho</th>\n",
       "      <th>aluguel</th>\n",
       "      <th>rend_capital</th>\n",
       "      <th>autonomo</th>\n",
       "      <th>livro_caixa</th>\n",
       "      <th>rural</th>\n",
       "      <th>ganho_capital</th>\n",
       "      <th>exterior</th>\n",
       "      <th>outros_rend</th>\n",
       "      <th>rend_isento</th>\n",
       "      <th>rend_exclusivo</th>\n",
       "      <th>contrib_prev</th>\n",
       "      <th>dependentes_ded</th>\n",
       "      <th>pensao_alimenticia</th>\n",
       "      <th>pensao_alimenticia_ded</th>\n",
       "      <th>geducativos</th>\n",
       "      <th>geducativos_ded</th>\n",
       "      <th>gmedicos</th>\n",
       "      <th>gmedicos_ded</th>\n",
       "      <th>aliquota</th>\n",
       "      <th>aliquota_efetiva</th>\n",
       "      <th>imposto_devido</th>\n",
       "      <th>imposto_devido2</th>\n",
       "      <th>resultado_decl</th>\n",
       "      <th>iap</th>\n",
       "      <th>iar</th>\n",
       "      <th>tipo_decl</th>\n",
       "      <th>completa</th>\n",
       "      <th>deducao</th>\n",
       "      <th>idade</th>\n",
       "      <th>sexo</th>\n",
       "      <th>casado</th>\n",
       "      <th>dependentes</th>\n",
       "      <th>alimentandos</th>\n",
       "      <th>ocupacao</th>\n",
       "      <th>natureza</th>\n",
       "      <th>bens_ant</th>\n",
       "      <th>bens</th>\n",
       "      <th>dividas_ant</th>\n",
       "      <th>dividas</th>\n",
       "      <th>alvo</th>\n",
       "      <th>gini</th>\n",
       "      <th>POPULACAO</th>\n",
       "    </tr>\n",
       "  </thead>\n",
       "  <tbody>\n",
       "    <tr>\n",
       "      <th>0</th>\n",
       "      <td>0.00</td>\n",
       "      <td>25361.23</td>\n",
       "      <td>22762.00</td>\n",
       "      <td>18209.60</td>\n",
       "      <td>0.00</td>\n",
       "      <td>0.0</td>\n",
       "      <td>2599.23</td>\n",
       "      <td>22762.0</td>\n",
       "      <td>0.0</td>\n",
       "      <td>0.0</td>\n",
       "      <td>0.0</td>\n",
       "      <td>0.0</td>\n",
       "      <td>0.00</td>\n",
       "      <td>91.18</td>\n",
       "      <td>2508.05</td>\n",
       "      <td>1312.52</td>\n",
       "      <td>0.0</td>\n",
       "      <td>0.0</td>\n",
       "      <td>0.0</td>\n",
       "      <td>0.0</td>\n",
       "      <td>0.0</td>\n",
       "      <td>0.00</td>\n",
       "      <td>0.00</td>\n",
       "      <td>0.0</td>\n",
       "      <td>0.000000</td>\n",
       "      <td>0.00</td>\n",
       "      <td>0.00</td>\n",
       "      <td>0.00</td>\n",
       "      <td>0.00</td>\n",
       "      <td>0.0</td>\n",
       "      <td>3</td>\n",
       "      <td>0</td>\n",
       "      <td>4552.40</td>\n",
       "      <td>56.0</td>\n",
       "      <td>0</td>\n",
       "      <td>1</td>\n",
       "      <td>0.0</td>\n",
       "      <td>0.0</td>\n",
       "      <td>226.0</td>\n",
       "      <td>11</td>\n",
       "      <td>515877.95</td>\n",
       "      <td>529969.54</td>\n",
       "      <td>165365.12</td>\n",
       "      <td>148943.64</td>\n",
       "      <td>1</td>\n",
       "      <td>0.475764</td>\n",
       "      <td>19124</td>\n",
       "    </tr>\n",
       "    <tr>\n",
       "      <th>1</th>\n",
       "      <td>46177.09</td>\n",
       "      <td>76082.23</td>\n",
       "      <td>46177.09</td>\n",
       "      <td>32271.11</td>\n",
       "      <td>74774.44</td>\n",
       "      <td>0.0</td>\n",
       "      <td>1307.79</td>\n",
       "      <td>0.0</td>\n",
       "      <td>0.0</td>\n",
       "      <td>0.0</td>\n",
       "      <td>0.0</td>\n",
       "      <td>0.0</td>\n",
       "      <td>0.00</td>\n",
       "      <td>26040.82</td>\n",
       "      <td>3864.32</td>\n",
       "      <td>0.00</td>\n",
       "      <td>0.0</td>\n",
       "      <td>0.0</td>\n",
       "      <td>0.0</td>\n",
       "      <td>0.0</td>\n",
       "      <td>0.0</td>\n",
       "      <td>13905.98</td>\n",
       "      <td>13905.98</td>\n",
       "      <td>7.5</td>\n",
       "      <td>0.009289</td>\n",
       "      <td>706.75</td>\n",
       "      <td>685.55</td>\n",
       "      <td>474.59</td>\n",
       "      <td>474.59</td>\n",
       "      <td>0.0</td>\n",
       "      <td>1</td>\n",
       "      <td>1</td>\n",
       "      <td>13905.98</td>\n",
       "      <td>82.0</td>\n",
       "      <td>1</td>\n",
       "      <td>0</td>\n",
       "      <td>0.0</td>\n",
       "      <td>0.0</td>\n",
       "      <td>999.0</td>\n",
       "      <td>61</td>\n",
       "      <td>251292.30</td>\n",
       "      <td>234255.05</td>\n",
       "      <td>0.00</td>\n",
       "      <td>0.00</td>\n",
       "      <td>1</td>\n",
       "      <td>0.529623</td>\n",
       "      <td>299127</td>\n",
       "    </tr>\n",
       "    <tr>\n",
       "      <th>2</th>\n",
       "      <td>15.44</td>\n",
       "      <td>30927.00</td>\n",
       "      <td>28548.00</td>\n",
       "      <td>22838.40</td>\n",
       "      <td>30927.00</td>\n",
       "      <td>0.0</td>\n",
       "      <td>0.00</td>\n",
       "      <td>0.0</td>\n",
       "      <td>0.0</td>\n",
       "      <td>0.0</td>\n",
       "      <td>0.0</td>\n",
       "      <td>0.0</td>\n",
       "      <td>0.00</td>\n",
       "      <td>0.00</td>\n",
       "      <td>2379.00</td>\n",
       "      <td>2854.00</td>\n",
       "      <td>0.0</td>\n",
       "      <td>0.0</td>\n",
       "      <td>0.0</td>\n",
       "      <td>0.0</td>\n",
       "      <td>0.0</td>\n",
       "      <td>0.00</td>\n",
       "      <td>0.00</td>\n",
       "      <td>0.0</td>\n",
       "      <td>0.000000</td>\n",
       "      <td>0.00</td>\n",
       "      <td>0.00</td>\n",
       "      <td>0.00</td>\n",
       "      <td>0.00</td>\n",
       "      <td>0.0</td>\n",
       "      <td>1</td>\n",
       "      <td>0</td>\n",
       "      <td>5709.60</td>\n",
       "      <td>49.0</td>\n",
       "      <td>0</td>\n",
       "      <td>0</td>\n",
       "      <td>0.0</td>\n",
       "      <td>0.0</td>\n",
       "      <td>0.0</td>\n",
       "      <td>1</td>\n",
       "      <td>0.00</td>\n",
       "      <td>0.00</td>\n",
       "      <td>0.00</td>\n",
       "      <td>0.00</td>\n",
       "      <td>1</td>\n",
       "      <td>0.553359</td>\n",
       "      <td>3015268</td>\n",
       "    </tr>\n",
       "    <tr>\n",
       "      <th>3</th>\n",
       "      <td>0.00</td>\n",
       "      <td>21600.00</td>\n",
       "      <td>21600.00</td>\n",
       "      <td>17280.00</td>\n",
       "      <td>0.00</td>\n",
       "      <td>0.0</td>\n",
       "      <td>0.00</td>\n",
       "      <td>21600.0</td>\n",
       "      <td>0.0</td>\n",
       "      <td>0.0</td>\n",
       "      <td>0.0</td>\n",
       "      <td>0.0</td>\n",
       "      <td>0.00</td>\n",
       "      <td>0.00</td>\n",
       "      <td>0.00</td>\n",
       "      <td>0.00</td>\n",
       "      <td>0.0</td>\n",
       "      <td>0.0</td>\n",
       "      <td>0.0</td>\n",
       "      <td>0.0</td>\n",
       "      <td>0.0</td>\n",
       "      <td>0.00</td>\n",
       "      <td>0.00</td>\n",
       "      <td>0.0</td>\n",
       "      <td>0.000000</td>\n",
       "      <td>0.00</td>\n",
       "      <td>0.00</td>\n",
       "      <td>0.00</td>\n",
       "      <td>0.00</td>\n",
       "      <td>0.0</td>\n",
       "      <td>3</td>\n",
       "      <td>0</td>\n",
       "      <td>4320.00</td>\n",
       "      <td>34.0</td>\n",
       "      <td>1</td>\n",
       "      <td>1</td>\n",
       "      <td>0.0</td>\n",
       "      <td>0.0</td>\n",
       "      <td>214.0</td>\n",
       "      <td>11</td>\n",
       "      <td>69000.00</td>\n",
       "      <td>69000.00</td>\n",
       "      <td>0.00</td>\n",
       "      <td>0.00</td>\n",
       "      <td>1</td>\n",
       "      <td>0.518920</td>\n",
       "      <td>122499</td>\n",
       "    </tr>\n",
       "    <tr>\n",
       "      <th>4</th>\n",
       "      <td>67121.50</td>\n",
       "      <td>92738.13</td>\n",
       "      <td>67121.50</td>\n",
       "      <td>53697.20</td>\n",
       "      <td>70974.12</td>\n",
       "      <td>0.0</td>\n",
       "      <td>0.00</td>\n",
       "      <td>0.0</td>\n",
       "      <td>0.0</td>\n",
       "      <td>0.0</td>\n",
       "      <td>0.0</td>\n",
       "      <td>0.0</td>\n",
       "      <td>21764.01</td>\n",
       "      <td>21764.01</td>\n",
       "      <td>3852.62</td>\n",
       "      <td>5675.95</td>\n",
       "      <td>0.0</td>\n",
       "      <td>0.0</td>\n",
       "      <td>0.0</td>\n",
       "      <td>0.0</td>\n",
       "      <td>0.0</td>\n",
       "      <td>4209.32</td>\n",
       "      <td>0.00</td>\n",
       "      <td>22.5</td>\n",
       "      <td>0.047967</td>\n",
       "      <td>4448.36</td>\n",
       "      <td>4448.36</td>\n",
       "      <td>-2016.80</td>\n",
       "      <td>0.00</td>\n",
       "      <td>2016.8</td>\n",
       "      <td>3</td>\n",
       "      <td>0</td>\n",
       "      <td>13424.30</td>\n",
       "      <td>56.0</td>\n",
       "      <td>0</td>\n",
       "      <td>1</td>\n",
       "      <td>0.0</td>\n",
       "      <td>0.0</td>\n",
       "      <td>515.0</td>\n",
       "      <td>41</td>\n",
       "      <td>50000.00</td>\n",
       "      <td>50000.00</td>\n",
       "      <td>0.00</td>\n",
       "      <td>0.00</td>\n",
       "      <td>1</td>\n",
       "      <td>0.550819</td>\n",
       "      <td>150674</td>\n",
       "    </tr>\n",
       "  </tbody>\n",
       "</table>\n",
       "</div>"
      ],
      "text/plain": [
       "   valor_dirf  rend_total  rend_tributavel  base_calculo  trabalho  aluguel  \\\n",
       "0        0.00    25361.23         22762.00      18209.60      0.00      0.0   \n",
       "1    46177.09    76082.23         46177.09      32271.11  74774.44      0.0   \n",
       "2       15.44    30927.00         28548.00      22838.40  30927.00      0.0   \n",
       "3        0.00    21600.00         21600.00      17280.00      0.00      0.0   \n",
       "4    67121.50    92738.13         67121.50      53697.20  70974.12      0.0   \n",
       "\n",
       "   rend_capital  autonomo  livro_caixa  rural  ganho_capital  exterior  \\\n",
       "0       2599.23   22762.0          0.0    0.0            0.0       0.0   \n",
       "1       1307.79       0.0          0.0    0.0            0.0       0.0   \n",
       "2          0.00       0.0          0.0    0.0            0.0       0.0   \n",
       "3          0.00   21600.0          0.0    0.0            0.0       0.0   \n",
       "4          0.00       0.0          0.0    0.0            0.0       0.0   \n",
       "\n",
       "   outros_rend  rend_isento  rend_exclusivo  contrib_prev  dependentes_ded  \\\n",
       "0         0.00        91.18         2508.05       1312.52              0.0   \n",
       "1         0.00     26040.82         3864.32          0.00              0.0   \n",
       "2         0.00         0.00         2379.00       2854.00              0.0   \n",
       "3         0.00         0.00            0.00          0.00              0.0   \n",
       "4     21764.01     21764.01         3852.62       5675.95              0.0   \n",
       "\n",
       "   pensao_alimenticia  pensao_alimenticia_ded  geducativos  geducativos_ded  \\\n",
       "0                 0.0                     0.0          0.0              0.0   \n",
       "1                 0.0                     0.0          0.0              0.0   \n",
       "2                 0.0                     0.0          0.0              0.0   \n",
       "3                 0.0                     0.0          0.0              0.0   \n",
       "4                 0.0                     0.0          0.0              0.0   \n",
       "\n",
       "   gmedicos  gmedicos_ded  aliquota  aliquota_efetiva  imposto_devido  \\\n",
       "0      0.00          0.00       0.0          0.000000            0.00   \n",
       "1  13905.98      13905.98       7.5          0.009289          706.75   \n",
       "2      0.00          0.00       0.0          0.000000            0.00   \n",
       "3      0.00          0.00       0.0          0.000000            0.00   \n",
       "4   4209.32          0.00      22.5          0.047967         4448.36   \n",
       "\n",
       "   imposto_devido2  resultado_decl     iap     iar  tipo_decl  completa  \\\n",
       "0             0.00            0.00    0.00     0.0          3         0   \n",
       "1           685.55          474.59  474.59     0.0          1         1   \n",
       "2             0.00            0.00    0.00     0.0          1         0   \n",
       "3             0.00            0.00    0.00     0.0          3         0   \n",
       "4          4448.36        -2016.80    0.00  2016.8          3         0   \n",
       "\n",
       "    deducao  idade  sexo  casado  dependentes  alimentandos  ocupacao  \\\n",
       "0   4552.40   56.0     0       1          0.0           0.0     226.0   \n",
       "1  13905.98   82.0     1       0          0.0           0.0     999.0   \n",
       "2   5709.60   49.0     0       0          0.0           0.0       0.0   \n",
       "3   4320.00   34.0     1       1          0.0           0.0     214.0   \n",
       "4  13424.30   56.0     0       1          0.0           0.0     515.0   \n",
       "\n",
       "   natureza   bens_ant       bens  dividas_ant    dividas  alvo      gini  \\\n",
       "0        11  515877.95  529969.54    165365.12  148943.64     1  0.475764   \n",
       "1        61  251292.30  234255.05         0.00       0.00     1  0.529623   \n",
       "2         1       0.00       0.00         0.00       0.00     1  0.553359   \n",
       "3        11   69000.00   69000.00         0.00       0.00     1  0.518920   \n",
       "4        41   50000.00   50000.00         0.00       0.00     1  0.550819   \n",
       "\n",
       "   POPULACAO  \n",
       "0      19124  \n",
       "1     299127  \n",
       "2    3015268  \n",
       "3     122499  \n",
       "4     150674  "
      ]
     },
     "execution_count": 59,
     "metadata": {},
     "output_type": "execute_result"
    }
   ],
   "source": [
    "df.head()"
   ]
  },
  {
   "cell_type": "markdown",
   "id": "55e5799d",
   "metadata": {
    "heading_collapsed": true
   },
   "source": [
    "# Dataset Final"
   ]
  },
  {
   "cell_type": "code",
   "execution_count": 60,
   "id": "cc8f6a3d",
   "metadata": {
    "hidden": true
   },
   "outputs": [
    {
     "data": {
      "text/plain": [
       "valor_dirf                0\n",
       "rend_total                0\n",
       "rend_tributavel           0\n",
       "base_calculo              0\n",
       "trabalho                  0\n",
       "aluguel                   0\n",
       "rend_capital              0\n",
       "autonomo                  0\n",
       "livro_caixa               0\n",
       "rural                     0\n",
       "ganho_capital             0\n",
       "exterior                  0\n",
       "outros_rend               0\n",
       "rend_isento               0\n",
       "rend_exclusivo            0\n",
       "contrib_prev              0\n",
       "dependentes_ded           0\n",
       "pensao_alimenticia        0\n",
       "pensao_alimenticia_ded    0\n",
       "geducativos               0\n",
       "geducativos_ded           0\n",
       "gmedicos                  0\n",
       "gmedicos_ded              0\n",
       "aliquota                  0\n",
       "aliquota_efetiva          0\n",
       "imposto_devido            0\n",
       "imposto_devido2           0\n",
       "resultado_decl            0\n",
       "iap                       0\n",
       "iar                       0\n",
       "tipo_decl                 0\n",
       "completa                  0\n",
       "deducao                   0\n",
       "idade                     0\n",
       "sexo                      0\n",
       "casado                    0\n",
       "dependentes               0\n",
       "alimentandos              0\n",
       "ocupacao                  0\n",
       "natureza                  0\n",
       "bens_ant                  0\n",
       "bens                      0\n",
       "dividas_ant               0\n",
       "dividas                   0\n",
       "alvo                      0\n",
       "gini                      0\n",
       "POPULACAO                 0\n",
       "dtype: int64"
      ]
     },
     "execution_count": 60,
     "metadata": {},
     "output_type": "execute_result"
    }
   ],
   "source": [
    "df.isna().sum()"
   ]
  },
  {
   "cell_type": "code",
   "execution_count": 61,
   "id": "b4ef43f4",
   "metadata": {
    "ExecuteTime": {
     "end_time": "2021-07-03T18:54:07.814634Z",
     "start_time": "2021-07-03T18:54:07.720687Z"
    },
    "hidden": true
   },
   "outputs": [
    {
     "name": "stdout",
     "output_type": "stream",
     "text": [
      "<class 'pandas.core.frame.DataFrame'>\n",
      "Int64Index: 197620 entries, 0 to 197619\n",
      "Data columns (total 47 columns):\n",
      " #   Column                  Non-Null Count   Dtype  \n",
      "---  ------                  --------------   -----  \n",
      " 0   valor_dirf              197620 non-null  float64\n",
      " 1   rend_total              197620 non-null  float64\n",
      " 2   rend_tributavel         197620 non-null  float64\n",
      " 3   base_calculo            197620 non-null  float64\n",
      " 4   trabalho                197620 non-null  float64\n",
      " 5   aluguel                 197620 non-null  float64\n",
      " 6   rend_capital            197620 non-null  float64\n",
      " 7   autonomo                197620 non-null  float64\n",
      " 8   livro_caixa             197620 non-null  float64\n",
      " 9   rural                   197620 non-null  float64\n",
      " 10  ganho_capital           197620 non-null  float64\n",
      " 11  exterior                197620 non-null  float64\n",
      " 12  outros_rend             197620 non-null  float64\n",
      " 13  rend_isento             197620 non-null  float64\n",
      " 14  rend_exclusivo          197620 non-null  float64\n",
      " 15  contrib_prev            197620 non-null  float64\n",
      " 16  dependentes_ded         197620 non-null  float64\n",
      " 17  pensao_alimenticia      197620 non-null  float64\n",
      " 18  pensao_alimenticia_ded  197620 non-null  float64\n",
      " 19  geducativos             197620 non-null  float64\n",
      " 20  geducativos_ded         197620 non-null  float64\n",
      " 21  gmedicos                197620 non-null  float64\n",
      " 22  gmedicos_ded            197620 non-null  float64\n",
      " 23  aliquota                197620 non-null  float64\n",
      " 24  aliquota_efetiva        197620 non-null  float64\n",
      " 25  imposto_devido          197620 non-null  float64\n",
      " 26  imposto_devido2         197620 non-null  float64\n",
      " 27  resultado_decl          197620 non-null  float64\n",
      " 28  iap                     197620 non-null  float64\n",
      " 29  iar                     197620 non-null  float64\n",
      " 30  tipo_decl               197620 non-null  int64  \n",
      " 31  completa                197620 non-null  int64  \n",
      " 32  deducao                 197620 non-null  float64\n",
      " 33  idade                   197620 non-null  float64\n",
      " 34  sexo                    197620 non-null  int64  \n",
      " 35  casado                  197620 non-null  int64  \n",
      " 36  dependentes             197620 non-null  float64\n",
      " 37  alimentandos            197620 non-null  float64\n",
      " 38  ocupacao                197620 non-null  float64\n",
      " 39  natureza                197620 non-null  int64  \n",
      " 40  bens_ant                197620 non-null  float64\n",
      " 41  bens                    197620 non-null  float64\n",
      " 42  dividas_ant             197620 non-null  float64\n",
      " 43  dividas                 197620 non-null  float64\n",
      " 44  alvo                    197620 non-null  int64  \n",
      " 45  gini                    197620 non-null  float64\n",
      " 46  POPULACAO               197620 non-null  int64  \n",
      "dtypes: float64(40), int64(7)\n",
      "memory usage: 72.4 MB\n"
     ]
    }
   ],
   "source": [
    "df.info()"
   ]
  }
 ],
 "metadata": {
  "kernelspec": {
   "display_name": "Python 3",
   "language": "python",
   "name": "python3"
  },
  "language_info": {
   "codemirror_mode": {
    "name": "ipython",
    "version": 3
   },
   "file_extension": ".py",
   "mimetype": "text/x-python",
   "name": "python",
   "nbconvert_exporter": "python",
   "pygments_lexer": "ipython3",
   "version": "3.6.13"
  },
  "toc": {
   "base_numbering": 1,
   "nav_menu": {},
   "number_sections": true,
   "sideBar": true,
   "skip_h1_title": false,
   "title_cell": "Table of Contents",
   "title_sidebar": "Contents",
   "toc_cell": false,
   "toc_position": {},
   "toc_section_display": true,
   "toc_window_display": false
  }
 },
 "nbformat": 4,
 "nbformat_minor": 5
}
