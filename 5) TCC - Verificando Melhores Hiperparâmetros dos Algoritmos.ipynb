{
 "cells": [
  {
   "cell_type": "code",
   "execution_count": 1,
   "id": "33e183a2",
   "metadata": {},
   "outputs": [],
   "source": [
    "import pandas as pd\n",
    "import numpy as np\n",
    "import matplotlib.pyplot as plt\n",
    "import time\n",
    "import os\n",
    "import json\n",
    "\n",
    "import warnings\n",
    "warnings.filterwarnings(\"ignore\")\n",
    "\n",
    "# Configura para que os plots sejam exibidos diretamente no notebook\n",
    "%matplotlib inline"
   ]
  },
  {
   "cell_type": "markdown",
   "id": "5cd3fdd2",
   "metadata": {},
   "source": [
    "# Seleção dos Melhores Modelos\n",
    "##### Datasets:\n",
    "- **Original** - Original com 50 mil registros sendo que 20% são anomalias\n",
    "- **SS**       - Padronizado com _StandardScaler_\n",
    "- **RS**       - Padronizado com _RobustScaler_\n",
    "- **PT**       - Padronizado e Normalizado com _PowerTransformer_\n",
    "- **Reduzida** - Original com atributos reduzidos\n",
    "\n",
    "##### Algoritmos:\n",
    "- **xgb** - XGBoost Classifier\n",
    "- **rdf** - Random Forest Classifier\n",
    "- **isf** - Isolation Forest\n",
    "- **lof** - Local Outlier Factor\n",
    "- **knn** - K-Nearest Neighbors \n",
    "\n",
    "##### Métricas:\n",
    "- **Acurácia**\n",
    "- **Precisão**\n",
    "- **Recall**\n",
    "- **F2**\n",
    "- **ROC**\n",
    "- **Kappa**"
   ]
  },
  {
   "cell_type": "markdown",
   "id": "0d1b1f80",
   "metadata": {
    "heading_collapsed": true
   },
   "source": [
    "## Obtenção dos Dados"
   ]
  },
  {
   "cell_type": "code",
   "execution_count": 2,
   "id": "1adb04f0",
   "metadata": {
    "hidden": true
   },
   "outputs": [],
   "source": [
    "df = pd.read_csv('Resultados/resultado_busca.txt', sep = ';', encoding='latin', )"
   ]
  },
  {
   "cell_type": "code",
   "execution_count": 3,
   "id": "4d5c6371",
   "metadata": {
    "hidden": true
   },
   "outputs": [],
   "source": [
    "pd.options.display.max_rows = 1000"
   ]
  },
  {
   "cell_type": "markdown",
   "id": "258a5341",
   "metadata": {
    "heading_collapsed": true
   },
   "source": [
    "## Funções Auxiliares"
   ]
  },
  {
   "cell_type": "code",
   "execution_count": 4,
   "id": "585608b5",
   "metadata": {
    "hidden": true
   },
   "outputs": [],
   "source": [
    "def algoritmos():\n",
    "    nomes = {'xgb': 'XGB Classifier',\n",
    "             'rdf': 'Random Forest Classifier',\n",
    "             'isf': 'Isolation Forest',\n",
    "             'knn': 'K Nearest KNeighbors',\n",
    "             'lof': 'Local Outlier Factor'}\n",
    "    return nomes\n",
    "nomes = algoritmos()"
   ]
  },
  {
   "cell_type": "code",
   "execution_count": 5,
   "id": "5c3c9803",
   "metadata": {
    "hidden": true
   },
   "outputs": [],
   "source": [
    "# Colocar label com valores nos gráficos de barra\n",
    "def autolabel(rects, f, ax=None):\n",
    "    for rect in rects:\n",
    "        height = rect.get_height()\n",
    "        ax.annotate(f.format(height),\n",
    "                    xy=(rect.get_x() + rect.get_width() / 2, height-0.1),\n",
    "                    ha='center', va='bottom', fontsize=10)\n"
   ]
  },
  {
   "cell_type": "code",
   "execution_count": 6,
   "id": "1f9be6f4",
   "metadata": {
    "hidden": true
   },
   "outputs": [],
   "source": [
    "### Se desejar usar o valor da diferença entre treinamento e validação como seleção\n",
    "def truncate(num,n):\n",
    "    temp = str(num)\n",
    "    for x in range(len(temp)):\n",
    "        if temp[x] == '.':\n",
    "            try:\n",
    "                return float(temp[:x+n+1])\n",
    "            except:\n",
    "                return float(temp)      \n",
    "    return float(temp)"
   ]
  },
  {
   "cell_type": "code",
   "execution_count": 7,
   "id": "32d26128",
   "metadata": {
    "hidden": true
   },
   "outputs": [],
   "source": [
    "def consulta_modelos(dataset='', tipo='', metrica=''):\n",
    "    if dataset == '':\n",
    "        datasets = df.dataset.unique()\n",
    "    else:\n",
    "        datasets = [dataset]\n",
    "    if tipo == '':\n",
    "        tipos = df.tipo.unique()\n",
    "    else:\n",
    "        tipos = [tipo]        \n",
    "    if metrica == '':\n",
    "        metricas = df.metrica.unique()\n",
    "    else:\n",
    "        metricas = [metrica]        \n",
    "\n",
    "    df_aux = pd.DataFrame(data=None, columns=df.columns)\n",
    "    df_aux['melhor'] = ''\n",
    "\n",
    "    # Calcula a diferença entre o valor de treinamento e teste\n",
    "    df_dif = df.copy()\n",
    "    df_dif['dif'] = df_dif['mean_train']-df_dif['mean_test']\n",
    "    \n",
    "    for dataset in datasets:\n",
    "        for tipo in tipos:\n",
    "            for score in metricas:\n",
    "\n",
    "                # Seleciona o maior valor da métrica no treinamento (com três casas decimais)\n",
    "                valor_max = truncate(df_dif.query('dataset==\"'+dataset+'\" and metrica== \"'+score+'\" and tipo==\"'+tipo+'\"').mean_test.max(),3)\n",
    "                # Seleciona o modelo com a menor diferença entre treinamento e teste que tenha métricado treinamento maior ou igual a escolhida acima\n",
    "                valor_min = df_dif.query('dataset==\"'+dataset+'\" and mean_test >= ' + str(valor_max) + ' and metrica== \"'+score+'\" and tipo==\"'+tipo+'\"').dif.min()\n",
    "                aux = df_dif.query('dataset==\"' + dataset + '\" and dif == ' + str(valor_min) + ' and mean_test >= ' + str(valor_max) + ' and metrica== \"'+score+'\" and tipo==\"'+tipo+'\"').groupby(['param','hora_inicio']).mean_test.max().reset_index().sort_values(by='mean_test', ascending=False).head(1)\n",
    "                #aux = df.query('dataset==\"'+dataset+'\" and metrica== \"'+score+'\" and tipo==\"'+tipo+'\"').groupby(['param','hora_inicio']).mean_test.max().reset_index().sort_values(by='mean_test', ascending=False).head(1)                \n",
    "                if aux.shape[0] > 0:\n",
    "                    param = aux.iloc[0]['param']\n",
    "                    hi = aux.iloc[0]['hora_inicio']\n",
    "                    aux = df.query('dataset==\"'+dataset+'\" and tipo==\"'+tipo+'\" and param==\"'+param+'\" and hora_inicio==\"'+hi+'\"').copy()\n",
    "                    aux['melhor'] = score\n",
    "                    df_aux = df_aux.append(aux)               \n",
    "                    \n",
    "    return df_aux"
   ]
  },
  {
   "cell_type": "code",
   "execution_count": 8,
   "id": "a8ead2de",
   "metadata": {
    "hidden": true
   },
   "outputs": [],
   "source": [
    "# Se informar a metrica retorna o melhor modelo daquela métrica mesmo que único esteja como False\n",
    "def melhores_modelos(dataset='', tipo='', metrica='', modelo=False):\n",
    "    df_aux = consulta_modelos(dataset, tipo, metrica)\n",
    "    if metrica!='' or modelo:\n",
    "        # Retorna os melhores modelos de forma única (métricas desse melhor modelo)\n",
    "        return (df_aux.pivot_table('mean_test',['dataset','tipo', 'melhor'], 'metrica', aggfunc='max').style.highlight_max(axis=0))\n",
    "    else:\n",
    "        # Retorna os modelos das melhores métricas de forma independente\n",
    "        return (df_aux.query('melhor==metrica').pivot_table('mean_test',['dataset','tipo'], 'metrica', aggfunc='max').style.highlight_max(axis=0))\n",
    "        "
   ]
  },
  {
   "cell_type": "code",
   "execution_count": 9,
   "id": "84456c9d",
   "metadata": {
    "hidden": true
   },
   "outputs": [],
   "source": [
    "def parametros_modelos(dataset='', tipo='', metrica=''):\n",
    "    df_aux = consulta_modelos(dataset, tipo, metrica)\n",
    "\n",
    "    print(\"MELHORES MODELOS POR MÉTRICA (INDEPENDENTE)\")\n",
    "    for i, row in df_aux.iterrows():\n",
    "        if row['metrica'] == row['melhor']:\n",
    "            print('Dataset:', row['dataset'], ' - Algoritmo:', row['tipo'], ' - Métrica:', row['metrica'], ' : ', row['mean_test'])\n",
    "            print(row['param'])\n"
   ]
  },
  {
   "cell_type": "code",
   "execution_count": 10,
   "id": "328bb8c5",
   "metadata": {
    "hidden": true
   },
   "outputs": [],
   "source": [
    "def grafico_modelos(dataset='', tipo=''):\n",
    "    j = 0\n",
    "    metrica=''\n",
    "    if dataset!='':\n",
    "        nome = ['dataset', 'tipo', 'metrica']\n",
    "        titulo = \"Dataset: \" + dataset\n",
    "    else:\n",
    "        nome = ['tipo', 'dataset', 'metrica']\n",
    "        titulo = nomes[tipo]\n",
    "        \n",
    "    df_modelos = consulta_modelos(dataset, tipo, metrica).query('metrica == melhor')\n",
    "    i = 0\n",
    "    bar_width = 0.15\n",
    "    df_nome = df_modelos[nome[1]].unique() \n",
    "    fig, ax = plt.subplots(figsize=(15, 4))\n",
    "    for modelo in df_nome:\n",
    "        res = df_modelos.query(nome[1]+'==\"'+modelo+'\"').sort_values(by=nome[2])\n",
    "        x =  np.arange(len(res)) + i*bar_width\n",
    "        rec = ax.bar(x, res['mean_test'], width=bar_width, label = modelo)\n",
    "        autolabel(rec, '{0:.2f}', ax)\n",
    "        i += 1\n",
    "\n",
    "    qtde = len(res)-1\n",
    "    plt.xticks([(x + bar_width*((qtde-1)/2)) for x in range(len(res[nome[2]]))], res[nome[2]])\n",
    "    plt.legend()\n",
    "\n",
    "    plt.title(\"Análise das Métricas - \" + titulo)\n",
    "    plt.show()    "
   ]
  },
  {
   "cell_type": "code",
   "execution_count": 11,
   "id": "6e839276",
   "metadata": {
    "hidden": true
   },
   "outputs": [],
   "source": [
    "# Gera gráfico comparativo entre treinamento x validação\n",
    "def grafico_metricas(dataset, tipo, zoom=False):\n",
    "    metricas=['Acurácia', 'Precisão', 'Recall', 'F1', 'MCC', 'ROC']\n",
    "    plt.figure(figsize=(15, 10))\n",
    "    i = 1\n",
    "    for metrica in metricas:\n",
    "        plt.subplot(2, 3, i)    \n",
    "        metricas = df.query('metrica==\"'+metrica+'\" and dataset==\"'+dataset+'\" and tipo==\"'+tipo+'\"').groupby('mean_train').mean_test.max().reset_index()\n",
    "        x =  np.arange(metricas.shape[0])\n",
    "        if not zoom:\n",
    "            plt.axis([0, metricas.shape[0], 0, 1]) # [xmin, xmax, ymin, ymax]\n",
    "        plt.plot(x, metricas['mean_train'], color='green', label='Treinamento')\n",
    "        plt.plot(x, metricas['mean_test'], color='blue', label='Validação')\n",
    "        plt.title(dataset +\" - \"+  tipo + \" - \" + metrica)\n",
    "        plt.xticks([],[])\n",
    "        plt.legend(loc='best')\n",
    "        i += 1\n",
    "    plt.show()\n"
   ]
  },
  {
   "cell_type": "markdown",
   "id": "510b4e37",
   "metadata": {},
   "source": [
    "## Analisando Algoritmos - Seleção melhores modelos"
   ]
  },
  {
   "cell_type": "markdown",
   "id": "6ff15c22",
   "metadata": {},
   "source": [
    "- Função: melhor_modelo(dataset, tipo, metrica)\n",
    "    - Ao informar a métrica será retornado o mehor modelo para a métrica informada"
   ]
  },
  {
   "cell_type": "markdown",
   "id": "1fcd9a97",
   "metadata": {
    "heading_collapsed": true
   },
   "source": [
    "### Análise por dataset"
   ]
  },
  {
   "cell_type": "code",
   "execution_count": 12,
   "id": "769b52f1",
   "metadata": {
    "hidden": true
   },
   "outputs": [
    {
     "data": {
      "text/html": [
       "<style  type=\"text/css\" >\n",
       "#T_f3bd81e2_fc92_11eb_9cae_8086f28e2ab5row1_col5,#T_f3bd81e2_fc92_11eb_9cae_8086f28e2ab5row3_col3,#T_f3bd81e2_fc92_11eb_9cae_8086f28e2ab5row3_col4,#T_f3bd81e2_fc92_11eb_9cae_8086f28e2ab5row4_col0,#T_f3bd81e2_fc92_11eb_9cae_8086f28e2ab5row4_col1,#T_f3bd81e2_fc92_11eb_9cae_8086f28e2ab5row4_col2{\n",
       "            background-color:  yellow;\n",
       "        }</style><table id=\"T_f3bd81e2_fc92_11eb_9cae_8086f28e2ab5\" ><thead>    <tr>        <th class=\"blank\" ></th>        <th class=\"index_name level0\" >metrica</th>        <th class=\"col_heading level0 col0\" >Acurácia</th>        <th class=\"col_heading level0 col1\" >F1</th>        <th class=\"col_heading level0 col2\" >MCC</th>        <th class=\"col_heading level0 col3\" >Precisão</th>        <th class=\"col_heading level0 col4\" >ROC</th>        <th class=\"col_heading level0 col5\" >Recall</th>    </tr>    <tr>        <th class=\"index_name level0\" >dataset</th>        <th class=\"index_name level1\" >tipo</th>        <th class=\"blank\" ></th>        <th class=\"blank\" ></th>        <th class=\"blank\" ></th>        <th class=\"blank\" ></th>        <th class=\"blank\" ></th>        <th class=\"blank\" ></th>    </tr></thead><tbody>\n",
       "                <tr>\n",
       "                        <th id=\"T_f3bd81e2_fc92_11eb_9cae_8086f28e2ab5level0_row0\" class=\"row_heading level0 row0\" rowspan=5>Original</th>\n",
       "                        <th id=\"T_f3bd81e2_fc92_11eb_9cae_8086f28e2ab5level1_row0\" class=\"row_heading level1 row0\" >isf</th>\n",
       "                        <td id=\"T_f3bd81e2_fc92_11eb_9cae_8086f28e2ab5row0_col0\" class=\"data row0 col0\" >0.800926</td>\n",
       "                        <td id=\"T_f3bd81e2_fc92_11eb_9cae_8086f28e2ab5row0_col1\" class=\"data row0 col1\" >0.889354</td>\n",
       "                        <td id=\"T_f3bd81e2_fc92_11eb_9cae_8086f28e2ab5row0_col2\" class=\"data row0 col2\" >0.121179</td>\n",
       "                        <td id=\"T_f3bd81e2_fc92_11eb_9cae_8086f28e2ab5row0_col3\" class=\"data row0 col3\" >0.825056</td>\n",
       "                        <td id=\"T_f3bd81e2_fc92_11eb_9cae_8086f28e2ab5row0_col4\" class=\"data row0 col4\" >0.560730</td>\n",
       "                        <td id=\"T_f3bd81e2_fc92_11eb_9cae_8086f28e2ab5row0_col5\" class=\"data row0 col5\" >0.999129</td>\n",
       "            </tr>\n",
       "            <tr>\n",
       "                                <th id=\"T_f3bd81e2_fc92_11eb_9cae_8086f28e2ab5level1_row1\" class=\"row_heading level1 row1\" >knn</th>\n",
       "                        <td id=\"T_f3bd81e2_fc92_11eb_9cae_8086f28e2ab5row1_col0\" class=\"data row1 col0\" >0.813748</td>\n",
       "                        <td id=\"T_f3bd81e2_fc92_11eb_9cae_8086f28e2ab5row1_col1\" class=\"data row1 col1\" >0.895324</td>\n",
       "                        <td id=\"T_f3bd81e2_fc92_11eb_9cae_8086f28e2ab5row1_col2\" class=\"data row1 col2\" >0.223024</td>\n",
       "                        <td id=\"T_f3bd81e2_fc92_11eb_9cae_8086f28e2ab5row1_col3\" class=\"data row1 col3\" >0.814059</td>\n",
       "                        <td id=\"T_f3bd81e2_fc92_11eb_9cae_8086f28e2ab5row1_col4\" class=\"data row1 col4\" >0.540542</td>\n",
       "                        <td id=\"T_f3bd81e2_fc92_11eb_9cae_8086f28e2ab5row1_col5\" class=\"data row1 col5\" >0.999133</td>\n",
       "            </tr>\n",
       "            <tr>\n",
       "                                <th id=\"T_f3bd81e2_fc92_11eb_9cae_8086f28e2ab5level1_row2\" class=\"row_heading level1 row2\" >lof</th>\n",
       "                        <td id=\"T_f3bd81e2_fc92_11eb_9cae_8086f28e2ab5row2_col0\" class=\"data row2 col0\" >0.741158</td>\n",
       "                        <td id=\"T_f3bd81e2_fc92_11eb_9cae_8086f28e2ab5row2_col1\" class=\"data row2 col1\" >0.841613</td>\n",
       "                        <td id=\"T_f3bd81e2_fc92_11eb_9cae_8086f28e2ab5row2_col2\" class=\"data row2 col2\" >0.137656</td>\n",
       "                        <td id=\"T_f3bd81e2_fc92_11eb_9cae_8086f28e2ab5row2_col3\" class=\"data row2 col3\" >0.825583</td>\n",
       "                        <td id=\"T_f3bd81e2_fc92_11eb_9cae_8086f28e2ab5row2_col4\" class=\"data row2 col4\" >0.564502</td>\n",
       "                        <td id=\"T_f3bd81e2_fc92_11eb_9cae_8086f28e2ab5row2_col5\" class=\"data row2 col5\" >0.858723</td>\n",
       "            </tr>\n",
       "            <tr>\n",
       "                                <th id=\"T_f3bd81e2_fc92_11eb_9cae_8086f28e2ab5level1_row3\" class=\"row_heading level1 row3\" >rdf</th>\n",
       "                        <td id=\"T_f3bd81e2_fc92_11eb_9cae_8086f28e2ab5row3_col0\" class=\"data row3 col0\" >0.897106</td>\n",
       "                        <td id=\"T_f3bd81e2_fc92_11eb_9cae_8086f28e2ab5row3_col1\" class=\"data row3 col1\" >0.938118</td>\n",
       "                        <td id=\"T_f3bd81e2_fc92_11eb_9cae_8086f28e2ab5row3_col2\" class=\"data row3 col2\" >0.656039</td>\n",
       "                        <td id=\"T_f3bd81e2_fc92_11eb_9cae_8086f28e2ab5row3_col3\" class=\"data row3 col3\" >0.943768</td>\n",
       "                        <td id=\"T_f3bd81e2_fc92_11eb_9cae_8086f28e2ab5row3_col4\" class=\"data row3 col4\" >0.829952</td>\n",
       "                        <td id=\"T_f3bd81e2_fc92_11eb_9cae_8086f28e2ab5row3_col5\" class=\"data row3 col5\" >0.979219</td>\n",
       "            </tr>\n",
       "            <tr>\n",
       "                                <th id=\"T_f3bd81e2_fc92_11eb_9cae_8086f28e2ab5level1_row4\" class=\"row_heading level1 row4\" >xgb</th>\n",
       "                        <td id=\"T_f3bd81e2_fc92_11eb_9cae_8086f28e2ab5row4_col0\" class=\"data row4 col0\" >0.902402</td>\n",
       "                        <td id=\"T_f3bd81e2_fc92_11eb_9cae_8086f28e2ab5row4_col1\" class=\"data row4 col1\" >0.940100</td>\n",
       "                        <td id=\"T_f3bd81e2_fc92_11eb_9cae_8086f28e2ab5row4_col2\" class=\"data row4 col2\" >0.673158</td>\n",
       "                        <td id=\"T_f3bd81e2_fc92_11eb_9cae_8086f28e2ab5row4_col3\" class=\"data row4 col3\" >0.915228</td>\n",
       "                        <td id=\"T_f3bd81e2_fc92_11eb_9cae_8086f28e2ab5row4_col4\" class=\"data row4 col4\" >0.803062</td>\n",
       "                        <td id=\"T_f3bd81e2_fc92_11eb_9cae_8086f28e2ab5row4_col5\" class=\"data row4 col5\" >0.979038</td>\n",
       "            </tr>\n",
       "    </tbody></table>"
      ],
      "text/plain": [
       "<pandas.io.formats.style.Styler at 0x209376251d0>"
      ]
     },
     "execution_count": 12,
     "metadata": {},
     "output_type": "execute_result"
    }
   ],
   "source": [
    "# Melhores métricas de forma independente\n",
    "melhores_modelos('Original')"
   ]
  },
  {
   "cell_type": "code",
   "execution_count": 13,
   "id": "e38c0137",
   "metadata": {
    "hidden": true
   },
   "outputs": [
    {
     "data": {
      "text/html": [
       "<style  type=\"text/css\" >\n",
       "#T_f45f4fba_fc92_11eb_924a_8086f28e2ab5row0_col5,#T_f45f4fba_fc92_11eb_924a_8086f28e2ab5row3_col3,#T_f45f4fba_fc92_11eb_924a_8086f28e2ab5row4_col0,#T_f45f4fba_fc92_11eb_924a_8086f28e2ab5row4_col1,#T_f45f4fba_fc92_11eb_924a_8086f28e2ab5row4_col2,#T_f45f4fba_fc92_11eb_924a_8086f28e2ab5row4_col4{\n",
       "            background-color:  yellow;\n",
       "        }</style><table id=\"T_f45f4fba_fc92_11eb_924a_8086f28e2ab5\" ><thead>    <tr>        <th class=\"blank\" ></th>        <th class=\"index_name level0\" >metrica</th>        <th class=\"col_heading level0 col0\" >Acurácia</th>        <th class=\"col_heading level0 col1\" >F1</th>        <th class=\"col_heading level0 col2\" >MCC</th>        <th class=\"col_heading level0 col3\" >Precisão</th>        <th class=\"col_heading level0 col4\" >ROC</th>        <th class=\"col_heading level0 col5\" >Recall</th>    </tr>    <tr>        <th class=\"index_name level0\" >dataset</th>        <th class=\"index_name level1\" >tipo</th>        <th class=\"blank\" ></th>        <th class=\"blank\" ></th>        <th class=\"blank\" ></th>        <th class=\"blank\" ></th>        <th class=\"blank\" ></th>        <th class=\"blank\" ></th>    </tr></thead><tbody>\n",
       "                <tr>\n",
       "                        <th id=\"T_f45f4fba_fc92_11eb_924a_8086f28e2ab5level0_row0\" class=\"row_heading level0 row0\" rowspan=5>SS</th>\n",
       "                        <th id=\"T_f45f4fba_fc92_11eb_924a_8086f28e2ab5level1_row0\" class=\"row_heading level1 row0\" >isf</th>\n",
       "                        <td id=\"T_f45f4fba_fc92_11eb_924a_8086f28e2ab5row0_col0\" class=\"data row0 col0\" >0.800926</td>\n",
       "                        <td id=\"T_f45f4fba_fc92_11eb_924a_8086f28e2ab5row0_col1\" class=\"data row0 col1\" >0.889354</td>\n",
       "                        <td id=\"T_f45f4fba_fc92_11eb_924a_8086f28e2ab5row0_col2\" class=\"data row0 col2\" >0.120169</td>\n",
       "                        <td id=\"T_f45f4fba_fc92_11eb_924a_8086f28e2ab5row0_col3\" class=\"data row0 col3\" >0.824839</td>\n",
       "                        <td id=\"T_f45f4fba_fc92_11eb_924a_8086f28e2ab5row0_col4\" class=\"data row0 col4\" >0.560206</td>\n",
       "                        <td id=\"T_f45f4fba_fc92_11eb_924a_8086f28e2ab5row0_col5\" class=\"data row0 col5\" >0.999129</td>\n",
       "            </tr>\n",
       "            <tr>\n",
       "                                <th id=\"T_f45f4fba_fc92_11eb_924a_8086f28e2ab5level1_row1\" class=\"row_heading level1 row1\" >knn</th>\n",
       "                        <td id=\"T_f45f4fba_fc92_11eb_924a_8086f28e2ab5row1_col0\" class=\"data row1 col0\" >0.817135</td>\n",
       "                        <td id=\"T_f45f4fba_fc92_11eb_924a_8086f28e2ab5row1_col1\" class=\"data row1 col1\" >0.896341</td>\n",
       "                        <td id=\"T_f45f4fba_fc92_11eb_924a_8086f28e2ab5row1_col2\" class=\"data row1 col2\" >0.255698</td>\n",
       "                        <td id=\"T_f45f4fba_fc92_11eb_924a_8086f28e2ab5row1_col3\" class=\"data row1 col3\" >0.820769</td>\n",
       "                        <td id=\"T_f45f4fba_fc92_11eb_924a_8086f28e2ab5row1_col4\" class=\"data row1 col4\" >0.560182</td>\n",
       "                        <td id=\"T_f45f4fba_fc92_11eb_924a_8086f28e2ab5row1_col5\" class=\"data row1 col5\" >0.991868</td>\n",
       "            </tr>\n",
       "            <tr>\n",
       "                                <th id=\"T_f45f4fba_fc92_11eb_924a_8086f28e2ab5level1_row2\" class=\"row_heading level1 row2\" >lof</th>\n",
       "                        <td id=\"T_f45f4fba_fc92_11eb_924a_8086f28e2ab5row2_col0\" class=\"data row2 col0\" >0.762084</td>\n",
       "                        <td id=\"T_f45f4fba_fc92_11eb_924a_8086f28e2ab5row2_col1\" class=\"data row2 col1\" >0.860247</td>\n",
       "                        <td id=\"T_f45f4fba_fc92_11eb_924a_8086f28e2ab5row2_col2\" class=\"data row2 col2\" >0.086036</td>\n",
       "                        <td id=\"T_f45f4fba_fc92_11eb_924a_8086f28e2ab5row2_col3\" class=\"data row2 col3\" >0.812433</td>\n",
       "                        <td id=\"T_f45f4fba_fc92_11eb_924a_8086f28e2ab5row2_col4\" class=\"data row2 col4\" >0.532321</td>\n",
       "                        <td id=\"T_f45f4fba_fc92_11eb_924a_8086f28e2ab5row2_col5\" class=\"data row2 col5\" >0.914345</td>\n",
       "            </tr>\n",
       "            <tr>\n",
       "                                <th id=\"T_f45f4fba_fc92_11eb_924a_8086f28e2ab5level1_row3\" class=\"row_heading level1 row3\" >rdf</th>\n",
       "                        <td id=\"T_f45f4fba_fc92_11eb_924a_8086f28e2ab5row3_col0\" class=\"data row3 col0\" >0.897308</td>\n",
       "                        <td id=\"T_f45f4fba_fc92_11eb_924a_8086f28e2ab5row3_col1\" class=\"data row3 col1\" >0.938008</td>\n",
       "                        <td id=\"T_f45f4fba_fc92_11eb_924a_8086f28e2ab5row3_col2\" class=\"data row3 col2\" >0.656909</td>\n",
       "                        <td id=\"T_f45f4fba_fc92_11eb_924a_8086f28e2ab5row3_col3\" class=\"data row3 col3\" >0.915520</td>\n",
       "                        <td id=\"T_f45f4fba_fc92_11eb_924a_8086f28e2ab5row3_col4\" class=\"data row3 col4\" >0.801645</td>\n",
       "                        <td id=\"T_f45f4fba_fc92_11eb_924a_8086f28e2ab5row3_col5\" class=\"data row3 col5\" >0.970075</td>\n",
       "            </tr>\n",
       "            <tr>\n",
       "                                <th id=\"T_f45f4fba_fc92_11eb_924a_8086f28e2ab5level1_row4\" class=\"row_heading level1 row4\" >xgb</th>\n",
       "                        <td id=\"T_f45f4fba_fc92_11eb_924a_8086f28e2ab5row4_col0\" class=\"data row4 col0\" >0.902547</td>\n",
       "                        <td id=\"T_f45f4fba_fc92_11eb_924a_8086f28e2ab5row4_col1\" class=\"data row4 col1\" >0.940266</td>\n",
       "                        <td id=\"T_f45f4fba_fc92_11eb_924a_8086f28e2ab5row4_col2\" class=\"data row4 col2\" >0.673432</td>\n",
       "                        <td id=\"T_f45f4fba_fc92_11eb_924a_8086f28e2ab5row4_col3\" class=\"data row4 col3\" >0.915290</td>\n",
       "                        <td id=\"T_f45f4fba_fc92_11eb_924a_8086f28e2ab5row4_col4\" class=\"data row4 col4\" >0.803605</td>\n",
       "                        <td id=\"T_f45f4fba_fc92_11eb_924a_8086f28e2ab5row4_col5\" class=\"data row4 col5\" >0.979074</td>\n",
       "            </tr>\n",
       "    </tbody></table>"
      ],
      "text/plain": [
       "<pandas.io.formats.style.Styler at 0x20937603cf8>"
      ]
     },
     "execution_count": 13,
     "metadata": {},
     "output_type": "execute_result"
    }
   ],
   "source": [
    "# Melhores métricas de forma independente\n",
    "melhores_modelos('SS')"
   ]
  },
  {
   "cell_type": "code",
   "execution_count": 14,
   "id": "381e8fa7",
   "metadata": {
    "hidden": true
   },
   "outputs": [
    {
     "data": {
      "text/html": [
       "<style  type=\"text/css\" >\n",
       "#T_f4fb7834_fc92_11eb_9269_8086f28e2ab5row0_col5,#T_f4fb7834_fc92_11eb_9269_8086f28e2ab5row3_col3,#T_f4fb7834_fc92_11eb_9269_8086f28e2ab5row4_col0,#T_f4fb7834_fc92_11eb_9269_8086f28e2ab5row4_col1,#T_f4fb7834_fc92_11eb_9269_8086f28e2ab5row4_col2,#T_f4fb7834_fc92_11eb_9269_8086f28e2ab5row4_col4{\n",
       "            background-color:  yellow;\n",
       "        }</style><table id=\"T_f4fb7834_fc92_11eb_9269_8086f28e2ab5\" ><thead>    <tr>        <th class=\"blank\" ></th>        <th class=\"index_name level0\" >metrica</th>        <th class=\"col_heading level0 col0\" >Acurácia</th>        <th class=\"col_heading level0 col1\" >F1</th>        <th class=\"col_heading level0 col2\" >MCC</th>        <th class=\"col_heading level0 col3\" >Precisão</th>        <th class=\"col_heading level0 col4\" >ROC</th>        <th class=\"col_heading level0 col5\" >Recall</th>    </tr>    <tr>        <th class=\"index_name level0\" >dataset</th>        <th class=\"index_name level1\" >tipo</th>        <th class=\"blank\" ></th>        <th class=\"blank\" ></th>        <th class=\"blank\" ></th>        <th class=\"blank\" ></th>        <th class=\"blank\" ></th>        <th class=\"blank\" ></th>    </tr></thead><tbody>\n",
       "                <tr>\n",
       "                        <th id=\"T_f4fb7834_fc92_11eb_9269_8086f28e2ab5level0_row0\" class=\"row_heading level0 row0\" rowspan=5>RS</th>\n",
       "                        <th id=\"T_f4fb7834_fc92_11eb_9269_8086f28e2ab5level1_row0\" class=\"row_heading level1 row0\" >isf</th>\n",
       "                        <td id=\"T_f4fb7834_fc92_11eb_9269_8086f28e2ab5row0_col0\" class=\"data row0 col0\" >0.800926</td>\n",
       "                        <td id=\"T_f4fb7834_fc92_11eb_9269_8086f28e2ab5row0_col1\" class=\"data row0 col1\" >0.889354</td>\n",
       "                        <td id=\"T_f4fb7834_fc92_11eb_9269_8086f28e2ab5row0_col2\" class=\"data row0 col2\" >0.121905</td>\n",
       "                        <td id=\"T_f4fb7834_fc92_11eb_9269_8086f28e2ab5row0_col3\" class=\"data row0 col3\" >0.825200</td>\n",
       "                        <td id=\"T_f4fb7834_fc92_11eb_9269_8086f28e2ab5row0_col4\" class=\"data row0 col4\" >0.561095</td>\n",
       "                        <td id=\"T_f4fb7834_fc92_11eb_9269_8086f28e2ab5row0_col5\" class=\"data row0 col5\" >0.999129</td>\n",
       "            </tr>\n",
       "            <tr>\n",
       "                                <th id=\"T_f4fb7834_fc92_11eb_9269_8086f28e2ab5level1_row1\" class=\"row_heading level1 row1\" >knn</th>\n",
       "                        <td id=\"T_f4fb7834_fc92_11eb_9269_8086f28e2ab5row1_col0\" class=\"data row1 col0\" >0.810796</td>\n",
       "                        <td id=\"T_f4fb7834_fc92_11eb_9269_8086f28e2ab5row1_col1\" class=\"data row1 col1\" >0.893240</td>\n",
       "                        <td id=\"T_f4fb7834_fc92_11eb_9269_8086f28e2ab5row1_col2\" class=\"data row1 col2\" >0.204004</td>\n",
       "                        <td id=\"T_f4fb7834_fc92_11eb_9269_8086f28e2ab5row1_col3\" class=\"data row1 col3\" >0.814821</td>\n",
       "                        <td id=\"T_f4fb7834_fc92_11eb_9269_8086f28e2ab5row1_col4\" class=\"data row1 col4\" >0.542575</td>\n",
       "                        <td id=\"T_f4fb7834_fc92_11eb_9269_8086f28e2ab5row1_col5\" class=\"data row1 col5\" >0.993350</td>\n",
       "            </tr>\n",
       "            <tr>\n",
       "                                <th id=\"T_f4fb7834_fc92_11eb_9269_8086f28e2ab5level1_row2\" class=\"row_heading level1 row2\" >lof</th>\n",
       "                        <td id=\"T_f4fb7834_fc92_11eb_9269_8086f28e2ab5row2_col0\" class=\"data row2 col0\" >0.737800</td>\n",
       "                        <td id=\"T_f4fb7834_fc92_11eb_9269_8086f28e2ab5row2_col1\" class=\"data row2 col1\" >0.841872</td>\n",
       "                        <td id=\"T_f4fb7834_fc92_11eb_9269_8086f28e2ab5row2_col2\" class=\"data row2 col2\" >0.081669</td>\n",
       "                        <td id=\"T_f4fb7834_fc92_11eb_9269_8086f28e2ab5row2_col3\" class=\"data row2 col3\" >0.814146</td>\n",
       "                        <td id=\"T_f4fb7834_fc92_11eb_9269_8086f28e2ab5row2_col4\" class=\"data row2 col4\" >0.535762</td>\n",
       "                        <td id=\"T_f4fb7834_fc92_11eb_9269_8086f28e2ab5row2_col5\" class=\"data row2 col5\" >0.871553</td>\n",
       "            </tr>\n",
       "            <tr>\n",
       "                                <th id=\"T_f4fb7834_fc92_11eb_9269_8086f28e2ab5level1_row3\" class=\"row_heading level1 row3\" >rdf</th>\n",
       "                        <td id=\"T_f4fb7834_fc92_11eb_9269_8086f28e2ab5row3_col0\" class=\"data row3 col0\" >0.897019</td>\n",
       "                        <td id=\"T_f4fb7834_fc92_11eb_9269_8086f28e2ab5row3_col1\" class=\"data row3 col1\" >0.938097</td>\n",
       "                        <td id=\"T_f4fb7834_fc92_11eb_9269_8086f28e2ab5row3_col2\" class=\"data row3 col2\" >0.656141</td>\n",
       "                        <td id=\"T_f4fb7834_fc92_11eb_9269_8086f28e2ab5row3_col3\" class=\"data row3 col3\" >0.915667</td>\n",
       "                        <td id=\"T_f4fb7834_fc92_11eb_9269_8086f28e2ab5row3_col4\" class=\"data row3 col4\" >0.801936</td>\n",
       "                        <td id=\"T_f4fb7834_fc92_11eb_9269_8086f28e2ab5row3_col5\" class=\"data row3 col5\" >0.970509</td>\n",
       "            </tr>\n",
       "            <tr>\n",
       "                                <th id=\"T_f4fb7834_fc92_11eb_9269_8086f28e2ab5level1_row4\" class=\"row_heading level1 row4\" >xgb</th>\n",
       "                        <td id=\"T_f4fb7834_fc92_11eb_9269_8086f28e2ab5row4_col0\" class=\"data row4 col0\" >0.902402</td>\n",
       "                        <td id=\"T_f4fb7834_fc92_11eb_9269_8086f28e2ab5row4_col1\" class=\"data row4 col1\" >0.940100</td>\n",
       "                        <td id=\"T_f4fb7834_fc92_11eb_9269_8086f28e2ab5row4_col2\" class=\"data row4 col2\" >0.673158</td>\n",
       "                        <td id=\"T_f4fb7834_fc92_11eb_9269_8086f28e2ab5row4_col3\" class=\"data row4 col3\" >0.915234</td>\n",
       "                        <td id=\"T_f4fb7834_fc92_11eb_9269_8086f28e2ab5row4_col4\" class=\"data row4 col4\" >0.803098</td>\n",
       "                        <td id=\"T_f4fb7834_fc92_11eb_9269_8086f28e2ab5row4_col5\" class=\"data row4 col5\" >0.979038</td>\n",
       "            </tr>\n",
       "    </tbody></table>"
      ],
      "text/plain": [
       "<pandas.io.formats.style.Styler at 0x20937687e48>"
      ]
     },
     "execution_count": 14,
     "metadata": {},
     "output_type": "execute_result"
    }
   ],
   "source": [
    "# Melhores métricas de forma independente\n",
    "melhores_modelos('RS')"
   ]
  },
  {
   "cell_type": "code",
   "execution_count": 15,
   "id": "dec3ab9e",
   "metadata": {
    "hidden": true
   },
   "outputs": [
    {
     "data": {
      "text/html": [
       "<style  type=\"text/css\" >\n",
       "#T_f59d941c_fc92_11eb_8b80_8086f28e2ab5row1_col5,#T_f59d941c_fc92_11eb_8b80_8086f28e2ab5row3_col3,#T_f59d941c_fc92_11eb_8b80_8086f28e2ab5row4_col0,#T_f59d941c_fc92_11eb_8b80_8086f28e2ab5row4_col1,#T_f59d941c_fc92_11eb_8b80_8086f28e2ab5row4_col2,#T_f59d941c_fc92_11eb_8b80_8086f28e2ab5row4_col4{\n",
       "            background-color:  yellow;\n",
       "        }</style><table id=\"T_f59d941c_fc92_11eb_8b80_8086f28e2ab5\" ><thead>    <tr>        <th class=\"blank\" ></th>        <th class=\"index_name level0\" >metrica</th>        <th class=\"col_heading level0 col0\" >Acurácia</th>        <th class=\"col_heading level0 col1\" >F1</th>        <th class=\"col_heading level0 col2\" >MCC</th>        <th class=\"col_heading level0 col3\" >Precisão</th>        <th class=\"col_heading level0 col4\" >ROC</th>        <th class=\"col_heading level0 col5\" >Recall</th>    </tr>    <tr>        <th class=\"index_name level0\" >dataset</th>        <th class=\"index_name level1\" >tipo</th>        <th class=\"blank\" ></th>        <th class=\"blank\" ></th>        <th class=\"blank\" ></th>        <th class=\"blank\" ></th>        <th class=\"blank\" ></th>        <th class=\"blank\" ></th>    </tr></thead><tbody>\n",
       "                <tr>\n",
       "                        <th id=\"T_f59d941c_fc92_11eb_8b80_8086f28e2ab5level0_row0\" class=\"row_heading level0 row0\" rowspan=5>PT</th>\n",
       "                        <th id=\"T_f59d941c_fc92_11eb_8b80_8086f28e2ab5level1_row0\" class=\"row_heading level1 row0\" >isf</th>\n",
       "                        <td id=\"T_f59d941c_fc92_11eb_8b80_8086f28e2ab5row0_col0\" class=\"data row0 col0\" >0.786599</td>\n",
       "                        <td id=\"T_f59d941c_fc92_11eb_8b80_8086f28e2ab5row0_col1\" class=\"data row0 col1\" >0.878239</td>\n",
       "                        <td id=\"T_f59d941c_fc92_11eb_8b80_8086f28e2ab5row0_col2\" class=\"data row0 col2\" >0.122393</td>\n",
       "                        <td id=\"T_f59d941c_fc92_11eb_8b80_8086f28e2ab5row0_col3\" class=\"data row0 col3\" >0.825589</td>\n",
       "                        <td id=\"T_f59d941c_fc92_11eb_8b80_8086f28e2ab5row0_col4\" class=\"data row0 col4\" >0.561633</td>\n",
       "                        <td id=\"T_f59d941c_fc92_11eb_8b80_8086f28e2ab5row0_col5\" class=\"data row0 col5\" >0.961107</td>\n",
       "            </tr>\n",
       "            <tr>\n",
       "                                <th id=\"T_f59d941c_fc92_11eb_8b80_8086f28e2ab5level1_row1\" class=\"row_heading level1 row1\" >knn</th>\n",
       "                        <td id=\"T_f59d941c_fc92_11eb_8b80_8086f28e2ab5row1_col0\" class=\"data row1 col0\" >0.809899</td>\n",
       "                        <td id=\"T_f59d941c_fc92_11eb_8b80_8086f28e2ab5row1_col1\" class=\"data row1 col1\" >0.892606</td>\n",
       "                        <td id=\"T_f59d941c_fc92_11eb_8b80_8086f28e2ab5row1_col2\" class=\"data row1 col2\" >0.199935</td>\n",
       "                        <td id=\"T_f59d941c_fc92_11eb_8b80_8086f28e2ab5row1_col3\" class=\"data row1 col3\" >0.815044</td>\n",
       "                        <td id=\"T_f59d941c_fc92_11eb_8b80_8086f28e2ab5row1_col4\" class=\"data row1 col4\" >0.543162</td>\n",
       "                        <td id=\"T_f59d941c_fc92_11eb_8b80_8086f28e2ab5row1_col5\" class=\"data row1 col5\" >0.995410</td>\n",
       "            </tr>\n",
       "            <tr>\n",
       "                                <th id=\"T_f59d941c_fc92_11eb_8b80_8086f28e2ab5level1_row2\" class=\"row_heading level1 row2\" >lof</th>\n",
       "                        <td id=\"T_f59d941c_fc92_11eb_8b80_8086f28e2ab5row2_col0\" class=\"data row2 col0\" >0.798061</td>\n",
       "                        <td id=\"T_f59d941c_fc92_11eb_8b80_8086f28e2ab5row2_col1\" class=\"data row2 col1\" >0.886709</td>\n",
       "                        <td id=\"T_f59d941c_fc92_11eb_8b80_8086f28e2ab5row2_col2\" class=\"data row2 col2\" >0.077073</td>\n",
       "                        <td id=\"T_f59d941c_fc92_11eb_8b80_8086f28e2ab5row2_col3\" class=\"data row2 col3\" >0.805284</td>\n",
       "                        <td id=\"T_f59d941c_fc92_11eb_8b80_8086f28e2ab5row2_col4\" class=\"data row2 col4\" >0.513631</td>\n",
       "                        <td id=\"T_f59d941c_fc92_11eb_8b80_8086f28e2ab5row2_col5\" class=\"data row2 col5\" >0.986808</td>\n",
       "            </tr>\n",
       "            <tr>\n",
       "                                <th id=\"T_f59d941c_fc92_11eb_8b80_8086f28e2ab5level1_row3\" class=\"row_heading level1 row3\" >rdf</th>\n",
       "                        <td id=\"T_f59d941c_fc92_11eb_8b80_8086f28e2ab5row3_col0\" class=\"data row3 col0\" >0.897713</td>\n",
       "                        <td id=\"T_f59d941c_fc92_11eb_8b80_8086f28e2ab5row3_col1\" class=\"data row3 col1\" >0.938089</td>\n",
       "                        <td id=\"T_f59d941c_fc92_11eb_8b80_8086f28e2ab5row3_col2\" class=\"data row3 col2\" >0.655761</td>\n",
       "                        <td id=\"T_f59d941c_fc92_11eb_8b80_8086f28e2ab5row3_col3\" class=\"data row3 col3\" >0.914465</td>\n",
       "                        <td id=\"T_f59d941c_fc92_11eb_8b80_8086f28e2ab5row3_col4\" class=\"data row3 col4\" >0.799517</td>\n",
       "                        <td id=\"T_f59d941c_fc92_11eb_8b80_8086f28e2ab5row3_col5\" class=\"data row3 col5\" >0.970942</td>\n",
       "            </tr>\n",
       "            <tr>\n",
       "                                <th id=\"T_f59d941c_fc92_11eb_8b80_8086f28e2ab5level1_row4\" class=\"row_heading level1 row4\" >xgb</th>\n",
       "                        <td id=\"T_f59d941c_fc92_11eb_8b80_8086f28e2ab5row4_col0\" class=\"data row4 col0\" >0.902402</td>\n",
       "                        <td id=\"T_f59d941c_fc92_11eb_8b80_8086f28e2ab5row4_col1\" class=\"data row4 col1\" >0.940545</td>\n",
       "                        <td id=\"T_f59d941c_fc92_11eb_8b80_8086f28e2ab5row4_col2\" class=\"data row4 col2\" >0.672088</td>\n",
       "                        <td id=\"T_f59d941c_fc92_11eb_8b80_8086f28e2ab5row4_col3\" class=\"data row4 col3\" >0.914130</td>\n",
       "                        <td id=\"T_f59d941c_fc92_11eb_8b80_8086f28e2ab5row4_col4\" class=\"data row4 col4\" >0.801430</td>\n",
       "                        <td id=\"T_f59d941c_fc92_11eb_8b80_8086f28e2ab5row4_col5\" class=\"data row4 col5\" >0.980158</td>\n",
       "            </tr>\n",
       "    </tbody></table>"
      ],
      "text/plain": [
       "<pandas.io.formats.style.Styler at 0x2093763b7b8>"
      ]
     },
     "execution_count": 15,
     "metadata": {},
     "output_type": "execute_result"
    }
   ],
   "source": [
    "# Melhores métricas de forma independente\n",
    "melhores_modelos('PT')"
   ]
  },
  {
   "cell_type": "code",
   "execution_count": 16,
   "id": "de0c0613",
   "metadata": {
    "hidden": true
   },
   "outputs": [
    {
     "data": {
      "text/html": [
       "<style  type=\"text/css\" >\n",
       "#T_f64ea1f4_fc92_11eb_9b1e_8086f28e2ab5row0_col5,#T_f64ea1f4_fc92_11eb_9b1e_8086f28e2ab5row3_col3,#T_f64ea1f4_fc92_11eb_9b1e_8086f28e2ab5row3_col4,#T_f64ea1f4_fc92_11eb_9b1e_8086f28e2ab5row4_col0,#T_f64ea1f4_fc92_11eb_9b1e_8086f28e2ab5row4_col1,#T_f64ea1f4_fc92_11eb_9b1e_8086f28e2ab5row4_col2{\n",
       "            background-color:  yellow;\n",
       "        }</style><table id=\"T_f64ea1f4_fc92_11eb_9b1e_8086f28e2ab5\" ><thead>    <tr>        <th class=\"blank\" ></th>        <th class=\"index_name level0\" >metrica</th>        <th class=\"col_heading level0 col0\" >Acurácia</th>        <th class=\"col_heading level0 col1\" >F1</th>        <th class=\"col_heading level0 col2\" >MCC</th>        <th class=\"col_heading level0 col3\" >Precisão</th>        <th class=\"col_heading level0 col4\" >ROC</th>        <th class=\"col_heading level0 col5\" >Recall</th>    </tr>    <tr>        <th class=\"index_name level0\" >dataset</th>        <th class=\"index_name level1\" >tipo</th>        <th class=\"blank\" ></th>        <th class=\"blank\" ></th>        <th class=\"blank\" ></th>        <th class=\"blank\" ></th>        <th class=\"blank\" ></th>        <th class=\"blank\" ></th>    </tr></thead><tbody>\n",
       "                <tr>\n",
       "                        <th id=\"T_f64ea1f4_fc92_11eb_9b1e_8086f28e2ab5level0_row0\" class=\"row_heading level0 row0\" rowspan=5>Reduzida</th>\n",
       "                        <th id=\"T_f64ea1f4_fc92_11eb_9b1e_8086f28e2ab5level1_row0\" class=\"row_heading level1 row0\" >isf</th>\n",
       "                        <td id=\"T_f64ea1f4_fc92_11eb_9b1e_8086f28e2ab5row0_col0\" class=\"data row0 col0\" >0.801910</td>\n",
       "                        <td id=\"T_f64ea1f4_fc92_11eb_9b1e_8086f28e2ab5row0_col1\" class=\"data row0 col1\" >0.889693</td>\n",
       "                        <td id=\"T_f64ea1f4_fc92_11eb_9b1e_8086f28e2ab5row0_col2\" class=\"data row0 col2\" >0.235761</td>\n",
       "                        <td id=\"T_f64ea1f4_fc92_11eb_9b1e_8086f28e2ab5row0_col3\" class=\"data row0 col3\" >0.848030</td>\n",
       "                        <td id=\"T_f64ea1f4_fc92_11eb_9b1e_8086f28e2ab5row0_col4\" class=\"data row0 col4\" >0.618250</td>\n",
       "                        <td id=\"T_f64ea1f4_fc92_11eb_9b1e_8086f28e2ab5row0_col5\" class=\"data row0 col5\" >0.998266</td>\n",
       "            </tr>\n",
       "            <tr>\n",
       "                                <th id=\"T_f64ea1f4_fc92_11eb_9b1e_8086f28e2ab5level1_row1\" class=\"row_heading level1 row1\" >knn</th>\n",
       "                        <td id=\"T_f64ea1f4_fc92_11eb_9b1e_8086f28e2ab5row1_col0\" class=\"data row1 col0\" >0.870159</td>\n",
       "                        <td id=\"T_f64ea1f4_fc92_11eb_9b1e_8086f28e2ab5row1_col1\" class=\"data row1 col1\" >0.923933</td>\n",
       "                        <td id=\"T_f64ea1f4_fc92_11eb_9b1e_8086f28e2ab5row1_col2\" class=\"data row1 col2\" >0.540064</td>\n",
       "                        <td id=\"T_f64ea1f4_fc92_11eb_9b1e_8086f28e2ab5row1_col3\" class=\"data row1 col3\" >0.870280</td>\n",
       "                        <td id=\"T_f64ea1f4_fc92_11eb_9b1e_8086f28e2ab5row1_col4\" class=\"data row1 col4\" >0.697232</td>\n",
       "                        <td id=\"T_f64ea1f4_fc92_11eb_9b1e_8086f28e2ab5row1_col5\" class=\"data row1 col5\" >0.989916</td>\n",
       "            </tr>\n",
       "            <tr>\n",
       "                                <th id=\"T_f64ea1f4_fc92_11eb_9b1e_8086f28e2ab5level1_row2\" class=\"row_heading level1 row2\" >lof</th>\n",
       "                        <td id=\"T_f64ea1f4_fc92_11eb_9b1e_8086f28e2ab5row2_col0\" class=\"data row2 col0\" >0.738842</td>\n",
       "                        <td id=\"T_f64ea1f4_fc92_11eb_9b1e_8086f28e2ab5row2_col1\" class=\"data row2 col1\" >0.842714</td>\n",
       "                        <td id=\"T_f64ea1f4_fc92_11eb_9b1e_8086f28e2ab5row2_col2\" class=\"data row2 col2\" >0.081075</td>\n",
       "                        <td id=\"T_f64ea1f4_fc92_11eb_9b1e_8086f28e2ab5row2_col3\" class=\"data row2 col3\" >0.813927</td>\n",
       "                        <td id=\"T_f64ea1f4_fc92_11eb_9b1e_8086f28e2ab5row2_col4\" class=\"data row2 col4\" >0.535266</td>\n",
       "                        <td id=\"T_f64ea1f4_fc92_11eb_9b1e_8086f28e2ab5row2_col5\" class=\"data row2 col5\" >0.873613</td>\n",
       "            </tr>\n",
       "            <tr>\n",
       "                                <th id=\"T_f64ea1f4_fc92_11eb_9b1e_8086f28e2ab5level1_row3\" class=\"row_heading level1 row3\" >rdf</th>\n",
       "                        <td id=\"T_f64ea1f4_fc92_11eb_9b1e_8086f28e2ab5row3_col0\" class=\"data row3 col0\" >0.891172</td>\n",
       "                        <td id=\"T_f64ea1f4_fc92_11eb_9b1e_8086f28e2ab5row3_col1\" class=\"data row3 col1\" >0.933403</td>\n",
       "                        <td id=\"T_f64ea1f4_fc92_11eb_9b1e_8086f28e2ab5row3_col2\" class=\"data row3 col2\" >0.637126</td>\n",
       "                        <td id=\"T_f64ea1f4_fc92_11eb_9b1e_8086f28e2ab5row3_col3\" class=\"data row3 col3\" >0.917239</td>\n",
       "                        <td id=\"T_f64ea1f4_fc92_11eb_9b1e_8086f28e2ab5row3_col4\" class=\"data row3 col4\" >0.801155</td>\n",
       "                        <td id=\"T_f64ea1f4_fc92_11eb_9b1e_8086f28e2ab5row3_col5\" class=\"data row3 col5\" >0.961437</td>\n",
       "            </tr>\n",
       "            <tr>\n",
       "                                <th id=\"T_f64ea1f4_fc92_11eb_9b1e_8086f28e2ab5level1_row4\" class=\"row_heading level1 row4\" >xgb</th>\n",
       "                        <td id=\"T_f64ea1f4_fc92_11eb_9b1e_8086f28e2ab5row4_col0\" class=\"data row4 col0\" >0.897106</td>\n",
       "                        <td id=\"T_f64ea1f4_fc92_11eb_9b1e_8086f28e2ab5row4_col1\" class=\"data row4 col1\" >0.938170</td>\n",
       "                        <td id=\"T_f64ea1f4_fc92_11eb_9b1e_8086f28e2ab5row4_col2\" class=\"data row4 col2\" >0.654959</td>\n",
       "                        <td id=\"T_f64ea1f4_fc92_11eb_9b1e_8086f28e2ab5row4_col3\" class=\"data row4 col3\" >0.911509</td>\n",
       "                        <td id=\"T_f64ea1f4_fc92_11eb_9b1e_8086f28e2ab5row4_col4\" class=\"data row4 col4\" >0.793339</td>\n",
       "                        <td id=\"T_f64ea1f4_fc92_11eb_9b1e_8086f28e2ab5row4_col5\" class=\"data row4 col5\" >0.978640</td>\n",
       "            </tr>\n",
       "    </tbody></table>"
      ],
      "text/plain": [
       "<pandas.io.formats.style.Styler at 0x2093764eef0>"
      ]
     },
     "execution_count": 16,
     "metadata": {},
     "output_type": "execute_result"
    }
   ],
   "source": [
    "# Melhores métricas de forma independente\n",
    "melhores_modelos('Reduzida')"
   ]
  },
  {
   "cell_type": "markdown",
   "id": "46915622",
   "metadata": {
    "heading_collapsed": true
   },
   "source": [
    "### Melhores modelos por algoritmo"
   ]
  },
  {
   "cell_type": "code",
   "execution_count": 17,
   "id": "0e488ace",
   "metadata": {
    "hidden": true,
    "scrolled": true
   },
   "outputs": [
    {
     "data": {
      "text/html": [
       "<style  type=\"text/css\" >\n",
       "#T_f72ecf3a_fc92_11eb_a3b2_8086f28e2ab5row1_col1,#T_f72ecf3a_fc92_11eb_a3b2_8086f28e2ab5row1_col5,#T_f72ecf3a_fc92_11eb_a3b2_8086f28e2ab5row4_col0,#T_f72ecf3a_fc92_11eb_a3b2_8086f28e2ab5row4_col2,#T_f72ecf3a_fc92_11eb_a3b2_8086f28e2ab5row4_col3,#T_f72ecf3a_fc92_11eb_a3b2_8086f28e2ab5row4_col4{\n",
       "            background-color:  yellow;\n",
       "        }</style><table id=\"T_f72ecf3a_fc92_11eb_a3b2_8086f28e2ab5\" ><thead>    <tr>        <th class=\"blank\" ></th>        <th class=\"index_name level0\" >metrica</th>        <th class=\"col_heading level0 col0\" >Acurácia</th>        <th class=\"col_heading level0 col1\" >F1</th>        <th class=\"col_heading level0 col2\" >MCC</th>        <th class=\"col_heading level0 col3\" >Precisão</th>        <th class=\"col_heading level0 col4\" >ROC</th>        <th class=\"col_heading level0 col5\" >Recall</th>    </tr>    <tr>        <th class=\"index_name level0\" >dataset</th>        <th class=\"index_name level1\" >tipo</th>        <th class=\"blank\" ></th>        <th class=\"blank\" ></th>        <th class=\"blank\" ></th>        <th class=\"blank\" ></th>        <th class=\"blank\" ></th>        <th class=\"blank\" ></th>    </tr></thead><tbody>\n",
       "                <tr>\n",
       "                        <th id=\"T_f72ecf3a_fc92_11eb_a3b2_8086f28e2ab5level0_row0\" class=\"row_heading level0 row0\" >Original</th>\n",
       "                        <th id=\"T_f72ecf3a_fc92_11eb_a3b2_8086f28e2ab5level1_row0\" class=\"row_heading level1 row0\" >xgb</th>\n",
       "                        <td id=\"T_f72ecf3a_fc92_11eb_a3b2_8086f28e2ab5row0_col0\" class=\"data row0 col0\" >0.902402</td>\n",
       "                        <td id=\"T_f72ecf3a_fc92_11eb_a3b2_8086f28e2ab5row0_col1\" class=\"data row0 col1\" >0.940100</td>\n",
       "                        <td id=\"T_f72ecf3a_fc92_11eb_a3b2_8086f28e2ab5row0_col2\" class=\"data row0 col2\" >0.673158</td>\n",
       "                        <td id=\"T_f72ecf3a_fc92_11eb_a3b2_8086f28e2ab5row0_col3\" class=\"data row0 col3\" >0.915228</td>\n",
       "                        <td id=\"T_f72ecf3a_fc92_11eb_a3b2_8086f28e2ab5row0_col4\" class=\"data row0 col4\" >0.803062</td>\n",
       "                        <td id=\"T_f72ecf3a_fc92_11eb_a3b2_8086f28e2ab5row0_col5\" class=\"data row0 col5\" >0.979038</td>\n",
       "            </tr>\n",
       "            <tr>\n",
       "                        <th id=\"T_f72ecf3a_fc92_11eb_a3b2_8086f28e2ab5level0_row1\" class=\"row_heading level0 row1\" >PT</th>\n",
       "                        <th id=\"T_f72ecf3a_fc92_11eb_a3b2_8086f28e2ab5level1_row1\" class=\"row_heading level1 row1\" >xgb</th>\n",
       "                        <td id=\"T_f72ecf3a_fc92_11eb_a3b2_8086f28e2ab5row1_col0\" class=\"data row1 col0\" >0.902402</td>\n",
       "                        <td id=\"T_f72ecf3a_fc92_11eb_a3b2_8086f28e2ab5row1_col1\" class=\"data row1 col1\" >0.940545</td>\n",
       "                        <td id=\"T_f72ecf3a_fc92_11eb_a3b2_8086f28e2ab5row1_col2\" class=\"data row1 col2\" >0.672088</td>\n",
       "                        <td id=\"T_f72ecf3a_fc92_11eb_a3b2_8086f28e2ab5row1_col3\" class=\"data row1 col3\" >0.914130</td>\n",
       "                        <td id=\"T_f72ecf3a_fc92_11eb_a3b2_8086f28e2ab5row1_col4\" class=\"data row1 col4\" >0.801430</td>\n",
       "                        <td id=\"T_f72ecf3a_fc92_11eb_a3b2_8086f28e2ab5row1_col5\" class=\"data row1 col5\" >0.980158</td>\n",
       "            </tr>\n",
       "            <tr>\n",
       "                        <th id=\"T_f72ecf3a_fc92_11eb_a3b2_8086f28e2ab5level0_row2\" class=\"row_heading level0 row2\" >RS</th>\n",
       "                        <th id=\"T_f72ecf3a_fc92_11eb_a3b2_8086f28e2ab5level1_row2\" class=\"row_heading level1 row2\" >xgb</th>\n",
       "                        <td id=\"T_f72ecf3a_fc92_11eb_a3b2_8086f28e2ab5row2_col0\" class=\"data row2 col0\" >0.902402</td>\n",
       "                        <td id=\"T_f72ecf3a_fc92_11eb_a3b2_8086f28e2ab5row2_col1\" class=\"data row2 col1\" >0.940100</td>\n",
       "                        <td id=\"T_f72ecf3a_fc92_11eb_a3b2_8086f28e2ab5row2_col2\" class=\"data row2 col2\" >0.673158</td>\n",
       "                        <td id=\"T_f72ecf3a_fc92_11eb_a3b2_8086f28e2ab5row2_col3\" class=\"data row2 col3\" >0.915234</td>\n",
       "                        <td id=\"T_f72ecf3a_fc92_11eb_a3b2_8086f28e2ab5row2_col4\" class=\"data row2 col4\" >0.803098</td>\n",
       "                        <td id=\"T_f72ecf3a_fc92_11eb_a3b2_8086f28e2ab5row2_col5\" class=\"data row2 col5\" >0.979038</td>\n",
       "            </tr>\n",
       "            <tr>\n",
       "                        <th id=\"T_f72ecf3a_fc92_11eb_a3b2_8086f28e2ab5level0_row3\" class=\"row_heading level0 row3\" >Reduzida</th>\n",
       "                        <th id=\"T_f72ecf3a_fc92_11eb_a3b2_8086f28e2ab5level1_row3\" class=\"row_heading level1 row3\" >xgb</th>\n",
       "                        <td id=\"T_f72ecf3a_fc92_11eb_a3b2_8086f28e2ab5row3_col0\" class=\"data row3 col0\" >0.897106</td>\n",
       "                        <td id=\"T_f72ecf3a_fc92_11eb_a3b2_8086f28e2ab5row3_col1\" class=\"data row3 col1\" >0.938170</td>\n",
       "                        <td id=\"T_f72ecf3a_fc92_11eb_a3b2_8086f28e2ab5row3_col2\" class=\"data row3 col2\" >0.654959</td>\n",
       "                        <td id=\"T_f72ecf3a_fc92_11eb_a3b2_8086f28e2ab5row3_col3\" class=\"data row3 col3\" >0.911509</td>\n",
       "                        <td id=\"T_f72ecf3a_fc92_11eb_a3b2_8086f28e2ab5row3_col4\" class=\"data row3 col4\" >0.793339</td>\n",
       "                        <td id=\"T_f72ecf3a_fc92_11eb_a3b2_8086f28e2ab5row3_col5\" class=\"data row3 col5\" >0.978640</td>\n",
       "            </tr>\n",
       "            <tr>\n",
       "                        <th id=\"T_f72ecf3a_fc92_11eb_a3b2_8086f28e2ab5level0_row4\" class=\"row_heading level0 row4\" >SS</th>\n",
       "                        <th id=\"T_f72ecf3a_fc92_11eb_a3b2_8086f28e2ab5level1_row4\" class=\"row_heading level1 row4\" >xgb</th>\n",
       "                        <td id=\"T_f72ecf3a_fc92_11eb_a3b2_8086f28e2ab5row4_col0\" class=\"data row4 col0\" >0.902547</td>\n",
       "                        <td id=\"T_f72ecf3a_fc92_11eb_a3b2_8086f28e2ab5row4_col1\" class=\"data row4 col1\" >0.940266</td>\n",
       "                        <td id=\"T_f72ecf3a_fc92_11eb_a3b2_8086f28e2ab5row4_col2\" class=\"data row4 col2\" >0.673432</td>\n",
       "                        <td id=\"T_f72ecf3a_fc92_11eb_a3b2_8086f28e2ab5row4_col3\" class=\"data row4 col3\" >0.915290</td>\n",
       "                        <td id=\"T_f72ecf3a_fc92_11eb_a3b2_8086f28e2ab5row4_col4\" class=\"data row4 col4\" >0.803605</td>\n",
       "                        <td id=\"T_f72ecf3a_fc92_11eb_a3b2_8086f28e2ab5row4_col5\" class=\"data row4 col5\" >0.979074</td>\n",
       "            </tr>\n",
       "    </tbody></table>"
      ],
      "text/plain": [
       "<pandas.io.formats.style.Styler at 0x20937694cc0>"
      ]
     },
     "execution_count": 17,
     "metadata": {},
     "output_type": "execute_result"
    }
   ],
   "source": [
    "# Melhores métricas de forma independente\n",
    "melhores_modelos(tipo = 'xgb')"
   ]
  },
  {
   "cell_type": "code",
   "execution_count": 18,
   "id": "1e61e2c1",
   "metadata": {
    "hidden": true
   },
   "outputs": [
    {
     "data": {
      "text/html": [
       "<style  type=\"text/css\" >\n",
       "#T_f7d1fd40_fc92_11eb_8a2d_8086f28e2ab5row0_col1,#T_f7d1fd40_fc92_11eb_8a2d_8086f28e2ab5row0_col3,#T_f7d1fd40_fc92_11eb_8a2d_8086f28e2ab5row0_col4,#T_f7d1fd40_fc92_11eb_8a2d_8086f28e2ab5row0_col5,#T_f7d1fd40_fc92_11eb_8a2d_8086f28e2ab5row1_col0,#T_f7d1fd40_fc92_11eb_8a2d_8086f28e2ab5row4_col2{\n",
       "            background-color:  yellow;\n",
       "        }</style><table id=\"T_f7d1fd40_fc92_11eb_8a2d_8086f28e2ab5\" ><thead>    <tr>        <th class=\"blank\" ></th>        <th class=\"index_name level0\" >metrica</th>        <th class=\"col_heading level0 col0\" >Acurácia</th>        <th class=\"col_heading level0 col1\" >F1</th>        <th class=\"col_heading level0 col2\" >MCC</th>        <th class=\"col_heading level0 col3\" >Precisão</th>        <th class=\"col_heading level0 col4\" >ROC</th>        <th class=\"col_heading level0 col5\" >Recall</th>    </tr>    <tr>        <th class=\"index_name level0\" >dataset</th>        <th class=\"index_name level1\" >tipo</th>        <th class=\"blank\" ></th>        <th class=\"blank\" ></th>        <th class=\"blank\" ></th>        <th class=\"blank\" ></th>        <th class=\"blank\" ></th>        <th class=\"blank\" ></th>    </tr></thead><tbody>\n",
       "                <tr>\n",
       "                        <th id=\"T_f7d1fd40_fc92_11eb_8a2d_8086f28e2ab5level0_row0\" class=\"row_heading level0 row0\" >Original</th>\n",
       "                        <th id=\"T_f7d1fd40_fc92_11eb_8a2d_8086f28e2ab5level1_row0\" class=\"row_heading level1 row0\" >rdf</th>\n",
       "                        <td id=\"T_f7d1fd40_fc92_11eb_8a2d_8086f28e2ab5row0_col0\" class=\"data row0 col0\" >0.897106</td>\n",
       "                        <td id=\"T_f7d1fd40_fc92_11eb_8a2d_8086f28e2ab5row0_col1\" class=\"data row0 col1\" >0.938118</td>\n",
       "                        <td id=\"T_f7d1fd40_fc92_11eb_8a2d_8086f28e2ab5row0_col2\" class=\"data row0 col2\" >0.656039</td>\n",
       "                        <td id=\"T_f7d1fd40_fc92_11eb_8a2d_8086f28e2ab5row0_col3\" class=\"data row0 col3\" >0.943768</td>\n",
       "                        <td id=\"T_f7d1fd40_fc92_11eb_8a2d_8086f28e2ab5row0_col4\" class=\"data row0 col4\" >0.829952</td>\n",
       "                        <td id=\"T_f7d1fd40_fc92_11eb_8a2d_8086f28e2ab5row0_col5\" class=\"data row0 col5\" >0.979219</td>\n",
       "            </tr>\n",
       "            <tr>\n",
       "                        <th id=\"T_f7d1fd40_fc92_11eb_8a2d_8086f28e2ab5level0_row1\" class=\"row_heading level0 row1\" >PT</th>\n",
       "                        <th id=\"T_f7d1fd40_fc92_11eb_8a2d_8086f28e2ab5level1_row1\" class=\"row_heading level1 row1\" >rdf</th>\n",
       "                        <td id=\"T_f7d1fd40_fc92_11eb_8a2d_8086f28e2ab5row1_col0\" class=\"data row1 col0\" >0.897713</td>\n",
       "                        <td id=\"T_f7d1fd40_fc92_11eb_8a2d_8086f28e2ab5row1_col1\" class=\"data row1 col1\" >0.938089</td>\n",
       "                        <td id=\"T_f7d1fd40_fc92_11eb_8a2d_8086f28e2ab5row1_col2\" class=\"data row1 col2\" >0.655761</td>\n",
       "                        <td id=\"T_f7d1fd40_fc92_11eb_8a2d_8086f28e2ab5row1_col3\" class=\"data row1 col3\" >0.914465</td>\n",
       "                        <td id=\"T_f7d1fd40_fc92_11eb_8a2d_8086f28e2ab5row1_col4\" class=\"data row1 col4\" >0.799517</td>\n",
       "                        <td id=\"T_f7d1fd40_fc92_11eb_8a2d_8086f28e2ab5row1_col5\" class=\"data row1 col5\" >0.970942</td>\n",
       "            </tr>\n",
       "            <tr>\n",
       "                        <th id=\"T_f7d1fd40_fc92_11eb_8a2d_8086f28e2ab5level0_row2\" class=\"row_heading level0 row2\" >RS</th>\n",
       "                        <th id=\"T_f7d1fd40_fc92_11eb_8a2d_8086f28e2ab5level1_row2\" class=\"row_heading level1 row2\" >rdf</th>\n",
       "                        <td id=\"T_f7d1fd40_fc92_11eb_8a2d_8086f28e2ab5row2_col0\" class=\"data row2 col0\" >0.897019</td>\n",
       "                        <td id=\"T_f7d1fd40_fc92_11eb_8a2d_8086f28e2ab5row2_col1\" class=\"data row2 col1\" >0.938097</td>\n",
       "                        <td id=\"T_f7d1fd40_fc92_11eb_8a2d_8086f28e2ab5row2_col2\" class=\"data row2 col2\" >0.656141</td>\n",
       "                        <td id=\"T_f7d1fd40_fc92_11eb_8a2d_8086f28e2ab5row2_col3\" class=\"data row2 col3\" >0.915667</td>\n",
       "                        <td id=\"T_f7d1fd40_fc92_11eb_8a2d_8086f28e2ab5row2_col4\" class=\"data row2 col4\" >0.801936</td>\n",
       "                        <td id=\"T_f7d1fd40_fc92_11eb_8a2d_8086f28e2ab5row2_col5\" class=\"data row2 col5\" >0.970509</td>\n",
       "            </tr>\n",
       "            <tr>\n",
       "                        <th id=\"T_f7d1fd40_fc92_11eb_8a2d_8086f28e2ab5level0_row3\" class=\"row_heading level0 row3\" >Reduzida</th>\n",
       "                        <th id=\"T_f7d1fd40_fc92_11eb_8a2d_8086f28e2ab5level1_row3\" class=\"row_heading level1 row3\" >rdf</th>\n",
       "                        <td id=\"T_f7d1fd40_fc92_11eb_8a2d_8086f28e2ab5row3_col0\" class=\"data row3 col0\" >0.891172</td>\n",
       "                        <td id=\"T_f7d1fd40_fc92_11eb_8a2d_8086f28e2ab5row3_col1\" class=\"data row3 col1\" >0.933403</td>\n",
       "                        <td id=\"T_f7d1fd40_fc92_11eb_8a2d_8086f28e2ab5row3_col2\" class=\"data row3 col2\" >0.637126</td>\n",
       "                        <td id=\"T_f7d1fd40_fc92_11eb_8a2d_8086f28e2ab5row3_col3\" class=\"data row3 col3\" >0.917239</td>\n",
       "                        <td id=\"T_f7d1fd40_fc92_11eb_8a2d_8086f28e2ab5row3_col4\" class=\"data row3 col4\" >0.801155</td>\n",
       "                        <td id=\"T_f7d1fd40_fc92_11eb_8a2d_8086f28e2ab5row3_col5\" class=\"data row3 col5\" >0.961437</td>\n",
       "            </tr>\n",
       "            <tr>\n",
       "                        <th id=\"T_f7d1fd40_fc92_11eb_8a2d_8086f28e2ab5level0_row4\" class=\"row_heading level0 row4\" >SS</th>\n",
       "                        <th id=\"T_f7d1fd40_fc92_11eb_8a2d_8086f28e2ab5level1_row4\" class=\"row_heading level1 row4\" >rdf</th>\n",
       "                        <td id=\"T_f7d1fd40_fc92_11eb_8a2d_8086f28e2ab5row4_col0\" class=\"data row4 col0\" >0.897308</td>\n",
       "                        <td id=\"T_f7d1fd40_fc92_11eb_8a2d_8086f28e2ab5row4_col1\" class=\"data row4 col1\" >0.938008</td>\n",
       "                        <td id=\"T_f7d1fd40_fc92_11eb_8a2d_8086f28e2ab5row4_col2\" class=\"data row4 col2\" >0.656909</td>\n",
       "                        <td id=\"T_f7d1fd40_fc92_11eb_8a2d_8086f28e2ab5row4_col3\" class=\"data row4 col3\" >0.915520</td>\n",
       "                        <td id=\"T_f7d1fd40_fc92_11eb_8a2d_8086f28e2ab5row4_col4\" class=\"data row4 col4\" >0.801645</td>\n",
       "                        <td id=\"T_f7d1fd40_fc92_11eb_8a2d_8086f28e2ab5row4_col5\" class=\"data row4 col5\" >0.970075</td>\n",
       "            </tr>\n",
       "    </tbody></table>"
      ],
      "text/plain": [
       "<pandas.io.formats.style.Styler at 0x20937694c50>"
      ]
     },
     "execution_count": 18,
     "metadata": {},
     "output_type": "execute_result"
    }
   ],
   "source": [
    "# Melhores métricas de forma independente\n",
    "melhores_modelos(tipo = 'rdf')"
   ]
  },
  {
   "cell_type": "code",
   "execution_count": 19,
   "id": "59168b93",
   "metadata": {
    "hidden": true
   },
   "outputs": [
    {
     "data": {
      "text/html": [
       "<style  type=\"text/css\" >\n",
       "#T_f874b482_fc92_11eb_9b8f_8086f28e2ab5row0_col5,#T_f874b482_fc92_11eb_9b8f_8086f28e2ab5row3_col0,#T_f874b482_fc92_11eb_9b8f_8086f28e2ab5row3_col1,#T_f874b482_fc92_11eb_9b8f_8086f28e2ab5row3_col2,#T_f874b482_fc92_11eb_9b8f_8086f28e2ab5row3_col3,#T_f874b482_fc92_11eb_9b8f_8086f28e2ab5row3_col4{\n",
       "            background-color:  yellow;\n",
       "        }</style><table id=\"T_f874b482_fc92_11eb_9b8f_8086f28e2ab5\" ><thead>    <tr>        <th class=\"blank\" ></th>        <th class=\"index_name level0\" >metrica</th>        <th class=\"col_heading level0 col0\" >Acurácia</th>        <th class=\"col_heading level0 col1\" >F1</th>        <th class=\"col_heading level0 col2\" >MCC</th>        <th class=\"col_heading level0 col3\" >Precisão</th>        <th class=\"col_heading level0 col4\" >ROC</th>        <th class=\"col_heading level0 col5\" >Recall</th>    </tr>    <tr>        <th class=\"index_name level0\" >dataset</th>        <th class=\"index_name level1\" >tipo</th>        <th class=\"blank\" ></th>        <th class=\"blank\" ></th>        <th class=\"blank\" ></th>        <th class=\"blank\" ></th>        <th class=\"blank\" ></th>        <th class=\"blank\" ></th>    </tr></thead><tbody>\n",
       "                <tr>\n",
       "                        <th id=\"T_f874b482_fc92_11eb_9b8f_8086f28e2ab5level0_row0\" class=\"row_heading level0 row0\" >Original</th>\n",
       "                        <th id=\"T_f874b482_fc92_11eb_9b8f_8086f28e2ab5level1_row0\" class=\"row_heading level1 row0\" >knn</th>\n",
       "                        <td id=\"T_f874b482_fc92_11eb_9b8f_8086f28e2ab5row0_col0\" class=\"data row0 col0\" >0.813748</td>\n",
       "                        <td id=\"T_f874b482_fc92_11eb_9b8f_8086f28e2ab5row0_col1\" class=\"data row0 col1\" >0.895324</td>\n",
       "                        <td id=\"T_f874b482_fc92_11eb_9b8f_8086f28e2ab5row0_col2\" class=\"data row0 col2\" >0.223024</td>\n",
       "                        <td id=\"T_f874b482_fc92_11eb_9b8f_8086f28e2ab5row0_col3\" class=\"data row0 col3\" >0.814059</td>\n",
       "                        <td id=\"T_f874b482_fc92_11eb_9b8f_8086f28e2ab5row0_col4\" class=\"data row0 col4\" >0.540542</td>\n",
       "                        <td id=\"T_f874b482_fc92_11eb_9b8f_8086f28e2ab5row0_col5\" class=\"data row0 col5\" >0.999133</td>\n",
       "            </tr>\n",
       "            <tr>\n",
       "                        <th id=\"T_f874b482_fc92_11eb_9b8f_8086f28e2ab5level0_row1\" class=\"row_heading level0 row1\" >PT</th>\n",
       "                        <th id=\"T_f874b482_fc92_11eb_9b8f_8086f28e2ab5level1_row1\" class=\"row_heading level1 row1\" >knn</th>\n",
       "                        <td id=\"T_f874b482_fc92_11eb_9b8f_8086f28e2ab5row1_col0\" class=\"data row1 col0\" >0.809899</td>\n",
       "                        <td id=\"T_f874b482_fc92_11eb_9b8f_8086f28e2ab5row1_col1\" class=\"data row1 col1\" >0.892606</td>\n",
       "                        <td id=\"T_f874b482_fc92_11eb_9b8f_8086f28e2ab5row1_col2\" class=\"data row1 col2\" >0.199935</td>\n",
       "                        <td id=\"T_f874b482_fc92_11eb_9b8f_8086f28e2ab5row1_col3\" class=\"data row1 col3\" >0.815044</td>\n",
       "                        <td id=\"T_f874b482_fc92_11eb_9b8f_8086f28e2ab5row1_col4\" class=\"data row1 col4\" >0.543162</td>\n",
       "                        <td id=\"T_f874b482_fc92_11eb_9b8f_8086f28e2ab5row1_col5\" class=\"data row1 col5\" >0.995410</td>\n",
       "            </tr>\n",
       "            <tr>\n",
       "                        <th id=\"T_f874b482_fc92_11eb_9b8f_8086f28e2ab5level0_row2\" class=\"row_heading level0 row2\" >RS</th>\n",
       "                        <th id=\"T_f874b482_fc92_11eb_9b8f_8086f28e2ab5level1_row2\" class=\"row_heading level1 row2\" >knn</th>\n",
       "                        <td id=\"T_f874b482_fc92_11eb_9b8f_8086f28e2ab5row2_col0\" class=\"data row2 col0\" >0.810796</td>\n",
       "                        <td id=\"T_f874b482_fc92_11eb_9b8f_8086f28e2ab5row2_col1\" class=\"data row2 col1\" >0.893240</td>\n",
       "                        <td id=\"T_f874b482_fc92_11eb_9b8f_8086f28e2ab5row2_col2\" class=\"data row2 col2\" >0.204004</td>\n",
       "                        <td id=\"T_f874b482_fc92_11eb_9b8f_8086f28e2ab5row2_col3\" class=\"data row2 col3\" >0.814821</td>\n",
       "                        <td id=\"T_f874b482_fc92_11eb_9b8f_8086f28e2ab5row2_col4\" class=\"data row2 col4\" >0.542575</td>\n",
       "                        <td id=\"T_f874b482_fc92_11eb_9b8f_8086f28e2ab5row2_col5\" class=\"data row2 col5\" >0.993350</td>\n",
       "            </tr>\n",
       "            <tr>\n",
       "                        <th id=\"T_f874b482_fc92_11eb_9b8f_8086f28e2ab5level0_row3\" class=\"row_heading level0 row3\" >Reduzida</th>\n",
       "                        <th id=\"T_f874b482_fc92_11eb_9b8f_8086f28e2ab5level1_row3\" class=\"row_heading level1 row3\" >knn</th>\n",
       "                        <td id=\"T_f874b482_fc92_11eb_9b8f_8086f28e2ab5row3_col0\" class=\"data row3 col0\" >0.870159</td>\n",
       "                        <td id=\"T_f874b482_fc92_11eb_9b8f_8086f28e2ab5row3_col1\" class=\"data row3 col1\" >0.923933</td>\n",
       "                        <td id=\"T_f874b482_fc92_11eb_9b8f_8086f28e2ab5row3_col2\" class=\"data row3 col2\" >0.540064</td>\n",
       "                        <td id=\"T_f874b482_fc92_11eb_9b8f_8086f28e2ab5row3_col3\" class=\"data row3 col3\" >0.870280</td>\n",
       "                        <td id=\"T_f874b482_fc92_11eb_9b8f_8086f28e2ab5row3_col4\" class=\"data row3 col4\" >0.697232</td>\n",
       "                        <td id=\"T_f874b482_fc92_11eb_9b8f_8086f28e2ab5row3_col5\" class=\"data row3 col5\" >0.989916</td>\n",
       "            </tr>\n",
       "            <tr>\n",
       "                        <th id=\"T_f874b482_fc92_11eb_9b8f_8086f28e2ab5level0_row4\" class=\"row_heading level0 row4\" >SS</th>\n",
       "                        <th id=\"T_f874b482_fc92_11eb_9b8f_8086f28e2ab5level1_row4\" class=\"row_heading level1 row4\" >knn</th>\n",
       "                        <td id=\"T_f874b482_fc92_11eb_9b8f_8086f28e2ab5row4_col0\" class=\"data row4 col0\" >0.817135</td>\n",
       "                        <td id=\"T_f874b482_fc92_11eb_9b8f_8086f28e2ab5row4_col1\" class=\"data row4 col1\" >0.896341</td>\n",
       "                        <td id=\"T_f874b482_fc92_11eb_9b8f_8086f28e2ab5row4_col2\" class=\"data row4 col2\" >0.255698</td>\n",
       "                        <td id=\"T_f874b482_fc92_11eb_9b8f_8086f28e2ab5row4_col3\" class=\"data row4 col3\" >0.820769</td>\n",
       "                        <td id=\"T_f874b482_fc92_11eb_9b8f_8086f28e2ab5row4_col4\" class=\"data row4 col4\" >0.560182</td>\n",
       "                        <td id=\"T_f874b482_fc92_11eb_9b8f_8086f28e2ab5row4_col5\" class=\"data row4 col5\" >0.991868</td>\n",
       "            </tr>\n",
       "    </tbody></table>"
      ],
      "text/plain": [
       "<pandas.io.formats.style.Styler at 0x209378b5fd0>"
      ]
     },
     "execution_count": 19,
     "metadata": {},
     "output_type": "execute_result"
    }
   ],
   "source": [
    "# Melhores métricas de forma independente\n",
    "melhores_modelos(tipo = 'knn')"
   ]
  },
  {
   "cell_type": "code",
   "execution_count": 20,
   "id": "752bd15d",
   "metadata": {
    "hidden": true
   },
   "outputs": [
    {
     "data": {
      "text/html": [
       "<style  type=\"text/css\" >\n",
       "#T_f92c9f28_fc92_11eb_ba7e_8086f28e2ab5row0_col2,#T_f92c9f28_fc92_11eb_ba7e_8086f28e2ab5row0_col3,#T_f92c9f28_fc92_11eb_ba7e_8086f28e2ab5row0_col4,#T_f92c9f28_fc92_11eb_ba7e_8086f28e2ab5row1_col0,#T_f92c9f28_fc92_11eb_ba7e_8086f28e2ab5row1_col1,#T_f92c9f28_fc92_11eb_ba7e_8086f28e2ab5row1_col5{\n",
       "            background-color:  yellow;\n",
       "        }</style><table id=\"T_f92c9f28_fc92_11eb_ba7e_8086f28e2ab5\" ><thead>    <tr>        <th class=\"blank\" ></th>        <th class=\"index_name level0\" >metrica</th>        <th class=\"col_heading level0 col0\" >Acurácia</th>        <th class=\"col_heading level0 col1\" >F1</th>        <th class=\"col_heading level0 col2\" >MCC</th>        <th class=\"col_heading level0 col3\" >Precisão</th>        <th class=\"col_heading level0 col4\" >ROC</th>        <th class=\"col_heading level0 col5\" >Recall</th>    </tr>    <tr>        <th class=\"index_name level0\" >dataset</th>        <th class=\"index_name level1\" >tipo</th>        <th class=\"blank\" ></th>        <th class=\"blank\" ></th>        <th class=\"blank\" ></th>        <th class=\"blank\" ></th>        <th class=\"blank\" ></th>        <th class=\"blank\" ></th>    </tr></thead><tbody>\n",
       "                <tr>\n",
       "                        <th id=\"T_f92c9f28_fc92_11eb_ba7e_8086f28e2ab5level0_row0\" class=\"row_heading level0 row0\" >Original</th>\n",
       "                        <th id=\"T_f92c9f28_fc92_11eb_ba7e_8086f28e2ab5level1_row0\" class=\"row_heading level1 row0\" >lof</th>\n",
       "                        <td id=\"T_f92c9f28_fc92_11eb_ba7e_8086f28e2ab5row0_col0\" class=\"data row0 col0\" >0.741158</td>\n",
       "                        <td id=\"T_f92c9f28_fc92_11eb_ba7e_8086f28e2ab5row0_col1\" class=\"data row0 col1\" >0.841613</td>\n",
       "                        <td id=\"T_f92c9f28_fc92_11eb_ba7e_8086f28e2ab5row0_col2\" class=\"data row0 col2\" >0.137656</td>\n",
       "                        <td id=\"T_f92c9f28_fc92_11eb_ba7e_8086f28e2ab5row0_col3\" class=\"data row0 col3\" >0.825583</td>\n",
       "                        <td id=\"T_f92c9f28_fc92_11eb_ba7e_8086f28e2ab5row0_col4\" class=\"data row0 col4\" >0.564502</td>\n",
       "                        <td id=\"T_f92c9f28_fc92_11eb_ba7e_8086f28e2ab5row0_col5\" class=\"data row0 col5\" >0.858723</td>\n",
       "            </tr>\n",
       "            <tr>\n",
       "                        <th id=\"T_f92c9f28_fc92_11eb_ba7e_8086f28e2ab5level0_row1\" class=\"row_heading level0 row1\" >PT</th>\n",
       "                        <th id=\"T_f92c9f28_fc92_11eb_ba7e_8086f28e2ab5level1_row1\" class=\"row_heading level1 row1\" >lof</th>\n",
       "                        <td id=\"T_f92c9f28_fc92_11eb_ba7e_8086f28e2ab5row1_col0\" class=\"data row1 col0\" >0.798061</td>\n",
       "                        <td id=\"T_f92c9f28_fc92_11eb_ba7e_8086f28e2ab5row1_col1\" class=\"data row1 col1\" >0.886709</td>\n",
       "                        <td id=\"T_f92c9f28_fc92_11eb_ba7e_8086f28e2ab5row1_col2\" class=\"data row1 col2\" >0.077073</td>\n",
       "                        <td id=\"T_f92c9f28_fc92_11eb_ba7e_8086f28e2ab5row1_col3\" class=\"data row1 col3\" >0.805284</td>\n",
       "                        <td id=\"T_f92c9f28_fc92_11eb_ba7e_8086f28e2ab5row1_col4\" class=\"data row1 col4\" >0.513631</td>\n",
       "                        <td id=\"T_f92c9f28_fc92_11eb_ba7e_8086f28e2ab5row1_col5\" class=\"data row1 col5\" >0.986808</td>\n",
       "            </tr>\n",
       "            <tr>\n",
       "                        <th id=\"T_f92c9f28_fc92_11eb_ba7e_8086f28e2ab5level0_row2\" class=\"row_heading level0 row2\" >RS</th>\n",
       "                        <th id=\"T_f92c9f28_fc92_11eb_ba7e_8086f28e2ab5level1_row2\" class=\"row_heading level1 row2\" >lof</th>\n",
       "                        <td id=\"T_f92c9f28_fc92_11eb_ba7e_8086f28e2ab5row2_col0\" class=\"data row2 col0\" >0.737800</td>\n",
       "                        <td id=\"T_f92c9f28_fc92_11eb_ba7e_8086f28e2ab5row2_col1\" class=\"data row2 col1\" >0.841872</td>\n",
       "                        <td id=\"T_f92c9f28_fc92_11eb_ba7e_8086f28e2ab5row2_col2\" class=\"data row2 col2\" >0.081669</td>\n",
       "                        <td id=\"T_f92c9f28_fc92_11eb_ba7e_8086f28e2ab5row2_col3\" class=\"data row2 col3\" >0.814146</td>\n",
       "                        <td id=\"T_f92c9f28_fc92_11eb_ba7e_8086f28e2ab5row2_col4\" class=\"data row2 col4\" >0.535762</td>\n",
       "                        <td id=\"T_f92c9f28_fc92_11eb_ba7e_8086f28e2ab5row2_col5\" class=\"data row2 col5\" >0.871553</td>\n",
       "            </tr>\n",
       "            <tr>\n",
       "                        <th id=\"T_f92c9f28_fc92_11eb_ba7e_8086f28e2ab5level0_row3\" class=\"row_heading level0 row3\" >Reduzida</th>\n",
       "                        <th id=\"T_f92c9f28_fc92_11eb_ba7e_8086f28e2ab5level1_row3\" class=\"row_heading level1 row3\" >lof</th>\n",
       "                        <td id=\"T_f92c9f28_fc92_11eb_ba7e_8086f28e2ab5row3_col0\" class=\"data row3 col0\" >0.738842</td>\n",
       "                        <td id=\"T_f92c9f28_fc92_11eb_ba7e_8086f28e2ab5row3_col1\" class=\"data row3 col1\" >0.842714</td>\n",
       "                        <td id=\"T_f92c9f28_fc92_11eb_ba7e_8086f28e2ab5row3_col2\" class=\"data row3 col2\" >0.081075</td>\n",
       "                        <td id=\"T_f92c9f28_fc92_11eb_ba7e_8086f28e2ab5row3_col3\" class=\"data row3 col3\" >0.813927</td>\n",
       "                        <td id=\"T_f92c9f28_fc92_11eb_ba7e_8086f28e2ab5row3_col4\" class=\"data row3 col4\" >0.535266</td>\n",
       "                        <td id=\"T_f92c9f28_fc92_11eb_ba7e_8086f28e2ab5row3_col5\" class=\"data row3 col5\" >0.873613</td>\n",
       "            </tr>\n",
       "            <tr>\n",
       "                        <th id=\"T_f92c9f28_fc92_11eb_ba7e_8086f28e2ab5level0_row4\" class=\"row_heading level0 row4\" >SS</th>\n",
       "                        <th id=\"T_f92c9f28_fc92_11eb_ba7e_8086f28e2ab5level1_row4\" class=\"row_heading level1 row4\" >lof</th>\n",
       "                        <td id=\"T_f92c9f28_fc92_11eb_ba7e_8086f28e2ab5row4_col0\" class=\"data row4 col0\" >0.762084</td>\n",
       "                        <td id=\"T_f92c9f28_fc92_11eb_ba7e_8086f28e2ab5row4_col1\" class=\"data row4 col1\" >0.860247</td>\n",
       "                        <td id=\"T_f92c9f28_fc92_11eb_ba7e_8086f28e2ab5row4_col2\" class=\"data row4 col2\" >0.086036</td>\n",
       "                        <td id=\"T_f92c9f28_fc92_11eb_ba7e_8086f28e2ab5row4_col3\" class=\"data row4 col3\" >0.812433</td>\n",
       "                        <td id=\"T_f92c9f28_fc92_11eb_ba7e_8086f28e2ab5row4_col4\" class=\"data row4 col4\" >0.532321</td>\n",
       "                        <td id=\"T_f92c9f28_fc92_11eb_ba7e_8086f28e2ab5row4_col5\" class=\"data row4 col5\" >0.914345</td>\n",
       "            </tr>\n",
       "    </tbody></table>"
      ],
      "text/plain": [
       "<pandas.io.formats.style.Styler at 0x209378776d8>"
      ]
     },
     "execution_count": 20,
     "metadata": {},
     "output_type": "execute_result"
    }
   ],
   "source": [
    "# Melhores métricas de forma independente\n",
    "melhores_modelos(tipo = 'lof')"
   ]
  },
  {
   "cell_type": "code",
   "execution_count": 21,
   "id": "2607ae38",
   "metadata": {
    "hidden": true
   },
   "outputs": [
    {
     "data": {
      "text/html": [
       "<style  type=\"text/css\" >\n",
       "#T_f9d5e5ee_fc92_11eb_96ff_8086f28e2ab5row0_col5,#T_f9d5e5ee_fc92_11eb_96ff_8086f28e2ab5row2_col5,#T_f9d5e5ee_fc92_11eb_96ff_8086f28e2ab5row3_col0,#T_f9d5e5ee_fc92_11eb_96ff_8086f28e2ab5row3_col1,#T_f9d5e5ee_fc92_11eb_96ff_8086f28e2ab5row3_col2,#T_f9d5e5ee_fc92_11eb_96ff_8086f28e2ab5row3_col3,#T_f9d5e5ee_fc92_11eb_96ff_8086f28e2ab5row3_col4,#T_f9d5e5ee_fc92_11eb_96ff_8086f28e2ab5row4_col5{\n",
       "            background-color:  yellow;\n",
       "        }</style><table id=\"T_f9d5e5ee_fc92_11eb_96ff_8086f28e2ab5\" ><thead>    <tr>        <th class=\"blank\" ></th>        <th class=\"index_name level0\" >metrica</th>        <th class=\"col_heading level0 col0\" >Acurácia</th>        <th class=\"col_heading level0 col1\" >F1</th>        <th class=\"col_heading level0 col2\" >MCC</th>        <th class=\"col_heading level0 col3\" >Precisão</th>        <th class=\"col_heading level0 col4\" >ROC</th>        <th class=\"col_heading level0 col5\" >Recall</th>    </tr>    <tr>        <th class=\"index_name level0\" >dataset</th>        <th class=\"index_name level1\" >tipo</th>        <th class=\"blank\" ></th>        <th class=\"blank\" ></th>        <th class=\"blank\" ></th>        <th class=\"blank\" ></th>        <th class=\"blank\" ></th>        <th class=\"blank\" ></th>    </tr></thead><tbody>\n",
       "                <tr>\n",
       "                        <th id=\"T_f9d5e5ee_fc92_11eb_96ff_8086f28e2ab5level0_row0\" class=\"row_heading level0 row0\" >Original</th>\n",
       "                        <th id=\"T_f9d5e5ee_fc92_11eb_96ff_8086f28e2ab5level1_row0\" class=\"row_heading level1 row0\" >isf</th>\n",
       "                        <td id=\"T_f9d5e5ee_fc92_11eb_96ff_8086f28e2ab5row0_col0\" class=\"data row0 col0\" >0.800926</td>\n",
       "                        <td id=\"T_f9d5e5ee_fc92_11eb_96ff_8086f28e2ab5row0_col1\" class=\"data row0 col1\" >0.889354</td>\n",
       "                        <td id=\"T_f9d5e5ee_fc92_11eb_96ff_8086f28e2ab5row0_col2\" class=\"data row0 col2\" >0.121179</td>\n",
       "                        <td id=\"T_f9d5e5ee_fc92_11eb_96ff_8086f28e2ab5row0_col3\" class=\"data row0 col3\" >0.825056</td>\n",
       "                        <td id=\"T_f9d5e5ee_fc92_11eb_96ff_8086f28e2ab5row0_col4\" class=\"data row0 col4\" >0.560730</td>\n",
       "                        <td id=\"T_f9d5e5ee_fc92_11eb_96ff_8086f28e2ab5row0_col5\" class=\"data row0 col5\" >0.999129</td>\n",
       "            </tr>\n",
       "            <tr>\n",
       "                        <th id=\"T_f9d5e5ee_fc92_11eb_96ff_8086f28e2ab5level0_row1\" class=\"row_heading level0 row1\" >PT</th>\n",
       "                        <th id=\"T_f9d5e5ee_fc92_11eb_96ff_8086f28e2ab5level1_row1\" class=\"row_heading level1 row1\" >isf</th>\n",
       "                        <td id=\"T_f9d5e5ee_fc92_11eb_96ff_8086f28e2ab5row1_col0\" class=\"data row1 col0\" >0.786599</td>\n",
       "                        <td id=\"T_f9d5e5ee_fc92_11eb_96ff_8086f28e2ab5row1_col1\" class=\"data row1 col1\" >0.878239</td>\n",
       "                        <td id=\"T_f9d5e5ee_fc92_11eb_96ff_8086f28e2ab5row1_col2\" class=\"data row1 col2\" >0.122393</td>\n",
       "                        <td id=\"T_f9d5e5ee_fc92_11eb_96ff_8086f28e2ab5row1_col3\" class=\"data row1 col3\" >0.825589</td>\n",
       "                        <td id=\"T_f9d5e5ee_fc92_11eb_96ff_8086f28e2ab5row1_col4\" class=\"data row1 col4\" >0.561633</td>\n",
       "                        <td id=\"T_f9d5e5ee_fc92_11eb_96ff_8086f28e2ab5row1_col5\" class=\"data row1 col5\" >0.961107</td>\n",
       "            </tr>\n",
       "            <tr>\n",
       "                        <th id=\"T_f9d5e5ee_fc92_11eb_96ff_8086f28e2ab5level0_row2\" class=\"row_heading level0 row2\" >RS</th>\n",
       "                        <th id=\"T_f9d5e5ee_fc92_11eb_96ff_8086f28e2ab5level1_row2\" class=\"row_heading level1 row2\" >isf</th>\n",
       "                        <td id=\"T_f9d5e5ee_fc92_11eb_96ff_8086f28e2ab5row2_col0\" class=\"data row2 col0\" >0.800926</td>\n",
       "                        <td id=\"T_f9d5e5ee_fc92_11eb_96ff_8086f28e2ab5row2_col1\" class=\"data row2 col1\" >0.889354</td>\n",
       "                        <td id=\"T_f9d5e5ee_fc92_11eb_96ff_8086f28e2ab5row2_col2\" class=\"data row2 col2\" >0.121905</td>\n",
       "                        <td id=\"T_f9d5e5ee_fc92_11eb_96ff_8086f28e2ab5row2_col3\" class=\"data row2 col3\" >0.825200</td>\n",
       "                        <td id=\"T_f9d5e5ee_fc92_11eb_96ff_8086f28e2ab5row2_col4\" class=\"data row2 col4\" >0.561095</td>\n",
       "                        <td id=\"T_f9d5e5ee_fc92_11eb_96ff_8086f28e2ab5row2_col5\" class=\"data row2 col5\" >0.999129</td>\n",
       "            </tr>\n",
       "            <tr>\n",
       "                        <th id=\"T_f9d5e5ee_fc92_11eb_96ff_8086f28e2ab5level0_row3\" class=\"row_heading level0 row3\" >Reduzida</th>\n",
       "                        <th id=\"T_f9d5e5ee_fc92_11eb_96ff_8086f28e2ab5level1_row3\" class=\"row_heading level1 row3\" >isf</th>\n",
       "                        <td id=\"T_f9d5e5ee_fc92_11eb_96ff_8086f28e2ab5row3_col0\" class=\"data row3 col0\" >0.801910</td>\n",
       "                        <td id=\"T_f9d5e5ee_fc92_11eb_96ff_8086f28e2ab5row3_col1\" class=\"data row3 col1\" >0.889693</td>\n",
       "                        <td id=\"T_f9d5e5ee_fc92_11eb_96ff_8086f28e2ab5row3_col2\" class=\"data row3 col2\" >0.235761</td>\n",
       "                        <td id=\"T_f9d5e5ee_fc92_11eb_96ff_8086f28e2ab5row3_col3\" class=\"data row3 col3\" >0.848030</td>\n",
       "                        <td id=\"T_f9d5e5ee_fc92_11eb_96ff_8086f28e2ab5row3_col4\" class=\"data row3 col4\" >0.618250</td>\n",
       "                        <td id=\"T_f9d5e5ee_fc92_11eb_96ff_8086f28e2ab5row3_col5\" class=\"data row3 col5\" >0.998266</td>\n",
       "            </tr>\n",
       "            <tr>\n",
       "                        <th id=\"T_f9d5e5ee_fc92_11eb_96ff_8086f28e2ab5level0_row4\" class=\"row_heading level0 row4\" >SS</th>\n",
       "                        <th id=\"T_f9d5e5ee_fc92_11eb_96ff_8086f28e2ab5level1_row4\" class=\"row_heading level1 row4\" >isf</th>\n",
       "                        <td id=\"T_f9d5e5ee_fc92_11eb_96ff_8086f28e2ab5row4_col0\" class=\"data row4 col0\" >0.800926</td>\n",
       "                        <td id=\"T_f9d5e5ee_fc92_11eb_96ff_8086f28e2ab5row4_col1\" class=\"data row4 col1\" >0.889354</td>\n",
       "                        <td id=\"T_f9d5e5ee_fc92_11eb_96ff_8086f28e2ab5row4_col2\" class=\"data row4 col2\" >0.120169</td>\n",
       "                        <td id=\"T_f9d5e5ee_fc92_11eb_96ff_8086f28e2ab5row4_col3\" class=\"data row4 col3\" >0.824839</td>\n",
       "                        <td id=\"T_f9d5e5ee_fc92_11eb_96ff_8086f28e2ab5row4_col4\" class=\"data row4 col4\" >0.560206</td>\n",
       "                        <td id=\"T_f9d5e5ee_fc92_11eb_96ff_8086f28e2ab5row4_col5\" class=\"data row4 col5\" >0.999129</td>\n",
       "            </tr>\n",
       "    </tbody></table>"
      ],
      "text/plain": [
       "<pandas.io.formats.style.Styler at 0x2093768c8d0>"
      ]
     },
     "execution_count": 21,
     "metadata": {},
     "output_type": "execute_result"
    }
   ],
   "source": [
    "# Melhores métricas de forma independente\n",
    "melhores_modelos(tipo = 'isf')"
   ]
  },
  {
   "cell_type": "markdown",
   "id": "d9dd036d",
   "metadata": {
    "heading_collapsed": true
   },
   "source": [
    "### Análise dos melhores modelos para cada métrica por algoritmo"
   ]
  },
  {
   "cell_type": "markdown",
   "id": "dd092e90",
   "metadata": {
    "heading_collapsed": true,
    "hidden": true
   },
   "source": [
    "#### XGB"
   ]
  },
  {
   "cell_type": "code",
   "execution_count": 22,
   "id": "41b861ee",
   "metadata": {
    "hidden": true
   },
   "outputs": [
    {
     "data": {
      "text/html": [
       "<style  type=\"text/css\" >\n",
       "#T_fa013562_fc92_11eb_8bf4_8086f28e2ab5row0_col0,#T_fa013562_fc92_11eb_8bf4_8086f28e2ab5row0_col1,#T_fa013562_fc92_11eb_8bf4_8086f28e2ab5row0_col2,#T_fa013562_fc92_11eb_8bf4_8086f28e2ab5row2_col0,#T_fa013562_fc92_11eb_8bf4_8086f28e2ab5row2_col1,#T_fa013562_fc92_11eb_8bf4_8086f28e2ab5row2_col2,#T_fa013562_fc92_11eb_8bf4_8086f28e2ab5row3_col3,#T_fa013562_fc92_11eb_8bf4_8086f28e2ab5row3_col4,#T_fa013562_fc92_11eb_8bf4_8086f28e2ab5row4_col3,#T_fa013562_fc92_11eb_8bf4_8086f28e2ab5row4_col4,#T_fa013562_fc92_11eb_8bf4_8086f28e2ab5row5_col5{\n",
       "            background-color:  yellow;\n",
       "        }</style><table id=\"T_fa013562_fc92_11eb_8bf4_8086f28e2ab5\" ><thead>    <tr>        <th class=\"blank\" ></th>        <th class=\"blank\" ></th>        <th class=\"index_name level0\" >metrica</th>        <th class=\"col_heading level0 col0\" >Acurácia</th>        <th class=\"col_heading level0 col1\" >F1</th>        <th class=\"col_heading level0 col2\" >MCC</th>        <th class=\"col_heading level0 col3\" >Precisão</th>        <th class=\"col_heading level0 col4\" >ROC</th>        <th class=\"col_heading level0 col5\" >Recall</th>    </tr>    <tr>        <th class=\"index_name level0\" >dataset</th>        <th class=\"index_name level1\" >tipo</th>        <th class=\"index_name level2\" >melhor</th>        <th class=\"blank\" ></th>        <th class=\"blank\" ></th>        <th class=\"blank\" ></th>        <th class=\"blank\" ></th>        <th class=\"blank\" ></th>        <th class=\"blank\" ></th>    </tr></thead><tbody>\n",
       "                <tr>\n",
       "                        <th id=\"T_fa013562_fc92_11eb_8bf4_8086f28e2ab5level0_row0\" class=\"row_heading level0 row0\" rowspan=6>Original</th>\n",
       "                        <th id=\"T_fa013562_fc92_11eb_8bf4_8086f28e2ab5level1_row0\" class=\"row_heading level1 row0\" rowspan=6>xgb</th>\n",
       "                        <th id=\"T_fa013562_fc92_11eb_8bf4_8086f28e2ab5level2_row0\" class=\"row_heading level2 row0\" >Acurácia</th>\n",
       "                        <td id=\"T_fa013562_fc92_11eb_8bf4_8086f28e2ab5row0_col0\" class=\"data row0 col0\" >0.902402</td>\n",
       "                        <td id=\"T_fa013562_fc92_11eb_8bf4_8086f28e2ab5row0_col1\" class=\"data row0 col1\" >0.940806</td>\n",
       "                        <td id=\"T_fa013562_fc92_11eb_8bf4_8086f28e2ab5row0_col2\" class=\"data row0 col2\" >0.673158</td>\n",
       "                        <td id=\"T_fa013562_fc92_11eb_8bf4_8086f28e2ab5row0_col3\" class=\"data row0 col3\" >0.914707</td>\n",
       "                        <td id=\"T_fa013562_fc92_11eb_8bf4_8086f28e2ab5row0_col4\" class=\"data row0 col4\" >0.802637</td>\n",
       "                        <td id=\"T_fa013562_fc92_11eb_8bf4_8086f28e2ab5row0_col5\" class=\"data row0 col5\" >0.968448</td>\n",
       "            </tr>\n",
       "            <tr>\n",
       "                                        <th id=\"T_fa013562_fc92_11eb_8bf4_8086f28e2ab5level2_row1\" class=\"row_heading level2 row1\" >F1</th>\n",
       "                        <td id=\"T_fa013562_fc92_11eb_8bf4_8086f28e2ab5row1_col0\" class=\"data row1 col0\" >0.900926</td>\n",
       "                        <td id=\"T_fa013562_fc92_11eb_8bf4_8086f28e2ab5row1_col1\" class=\"data row1 col1\" >0.940100</td>\n",
       "                        <td id=\"T_fa013562_fc92_11eb_8bf4_8086f28e2ab5row1_col2\" class=\"data row1 col2\" >0.666611</td>\n",
       "                        <td id=\"T_fa013562_fc92_11eb_8bf4_8086f28e2ab5row1_col3\" class=\"data row1 col3\" >0.911296</td>\n",
       "                        <td id=\"T_fa013562_fc92_11eb_8bf4_8086f28e2ab5row1_col4\" class=\"data row1 col4\" >0.795383</td>\n",
       "                        <td id=\"T_fa013562_fc92_11eb_8bf4_8086f28e2ab5row1_col5\" class=\"data row1 col5\" >0.970798</td>\n",
       "            </tr>\n",
       "            <tr>\n",
       "                                        <th id=\"T_fa013562_fc92_11eb_8bf4_8086f28e2ab5level2_row2\" class=\"row_heading level2 row2\" >MCC</th>\n",
       "                        <td id=\"T_fa013562_fc92_11eb_8bf4_8086f28e2ab5row2_col0\" class=\"data row2 col0\" >0.902402</td>\n",
       "                        <td id=\"T_fa013562_fc92_11eb_8bf4_8086f28e2ab5row2_col1\" class=\"data row2 col1\" >0.940806</td>\n",
       "                        <td id=\"T_fa013562_fc92_11eb_8bf4_8086f28e2ab5row2_col2\" class=\"data row2 col2\" >0.673158</td>\n",
       "                        <td id=\"T_fa013562_fc92_11eb_8bf4_8086f28e2ab5row2_col3\" class=\"data row2 col3\" >0.914707</td>\n",
       "                        <td id=\"T_fa013562_fc92_11eb_8bf4_8086f28e2ab5row2_col4\" class=\"data row2 col4\" >0.802637</td>\n",
       "                        <td id=\"T_fa013562_fc92_11eb_8bf4_8086f28e2ab5row2_col5\" class=\"data row2 col5\" >0.968448</td>\n",
       "            </tr>\n",
       "            <tr>\n",
       "                                        <th id=\"T_fa013562_fc92_11eb_8bf4_8086f28e2ab5level2_row3\" class=\"row_heading level2 row3\" >Precisão</th>\n",
       "                        <td id=\"T_fa013562_fc92_11eb_8bf4_8086f28e2ab5row3_col0\" class=\"data row3 col0\" >0.901071</td>\n",
       "                        <td id=\"T_fa013562_fc92_11eb_8bf4_8086f28e2ab5row3_col1\" class=\"data row3 col1\" >0.939901</td>\n",
       "                        <td id=\"T_fa013562_fc92_11eb_8bf4_8086f28e2ab5row3_col2\" class=\"data row3 col2\" >0.669355</td>\n",
       "                        <td id=\"T_fa013562_fc92_11eb_8bf4_8086f28e2ab5row3_col3\" class=\"data row3 col3\" >0.915228</td>\n",
       "                        <td id=\"T_fa013562_fc92_11eb_8bf4_8086f28e2ab5row3_col4\" class=\"data row3 col4\" >0.803062</td>\n",
       "                        <td id=\"T_fa013562_fc92_11eb_8bf4_8086f28e2ab5row3_col5\" class=\"data row3 col5\" >0.965955</td>\n",
       "            </tr>\n",
       "            <tr>\n",
       "                                        <th id=\"T_fa013562_fc92_11eb_8bf4_8086f28e2ab5level2_row4\" class=\"row_heading level2 row4\" >ROC</th>\n",
       "                        <td id=\"T_fa013562_fc92_11eb_8bf4_8086f28e2ab5row4_col0\" class=\"data row4 col0\" >0.901071</td>\n",
       "                        <td id=\"T_fa013562_fc92_11eb_8bf4_8086f28e2ab5row4_col1\" class=\"data row4 col1\" >0.939901</td>\n",
       "                        <td id=\"T_fa013562_fc92_11eb_8bf4_8086f28e2ab5row4_col2\" class=\"data row4 col2\" >0.669355</td>\n",
       "                        <td id=\"T_fa013562_fc92_11eb_8bf4_8086f28e2ab5row4_col3\" class=\"data row4 col3\" >0.915228</td>\n",
       "                        <td id=\"T_fa013562_fc92_11eb_8bf4_8086f28e2ab5row4_col4\" class=\"data row4 col4\" >0.803062</td>\n",
       "                        <td id=\"T_fa013562_fc92_11eb_8bf4_8086f28e2ab5row4_col5\" class=\"data row4 col5\" >0.965955</td>\n",
       "            </tr>\n",
       "            <tr>\n",
       "                                        <th id=\"T_fa013562_fc92_11eb_8bf4_8086f28e2ab5level2_row5\" class=\"row_heading level2 row5\" >Recall</th>\n",
       "                        <td id=\"T_fa013562_fc92_11eb_8bf4_8086f28e2ab5row5_col0\" class=\"data row5 col0\" >0.881852</td>\n",
       "                        <td id=\"T_fa013562_fc92_11eb_8bf4_8086f28e2ab5row5_col1\" class=\"data row5 col1\" >0.929938</td>\n",
       "                        <td id=\"T_fa013562_fc92_11eb_8bf4_8086f28e2ab5row5_col2\" class=\"data row5 col2\" >0.589635</td>\n",
       "                        <td id=\"T_fa013562_fc92_11eb_8bf4_8086f28e2ab5row5_col3\" class=\"data row5 col3\" >0.885562</td>\n",
       "                        <td id=\"T_fa013562_fc92_11eb_8bf4_8086f28e2ab5row5_col4\" class=\"data row5 col4\" >0.735050</td>\n",
       "                        <td id=\"T_fa013562_fc92_11eb_8bf4_8086f28e2ab5row5_col5\" class=\"data row5 col5\" >0.979038</td>\n",
       "            </tr>\n",
       "    </tbody></table>"
      ],
      "text/plain": [
       "<pandas.io.formats.style.Styler at 0x209378b5da0>"
      ]
     },
     "execution_count": 22,
     "metadata": {},
     "output_type": "execute_result"
    }
   ],
   "source": [
    "# Valor das métricas de um modelo selecionado pelo melhor valor de um métrica\n",
    "melhores_modelos('Original', tipo = 'xgb', modelo=True)"
   ]
  },
  {
   "cell_type": "code",
   "execution_count": 23,
   "id": "b334f976",
   "metadata": {
    "hidden": true
   },
   "outputs": [
    {
     "data": {
      "text/html": [
       "<style  type=\"text/css\" >\n",
       "#T_fa2b4d58_fc92_11eb_aa78_8086f28e2ab5row0_col0,#T_fa2b4d58_fc92_11eb_aa78_8086f28e2ab5row0_col1,#T_fa2b4d58_fc92_11eb_aa78_8086f28e2ab5row0_col2,#T_fa2b4d58_fc92_11eb_aa78_8086f28e2ab5row2_col0,#T_fa2b4d58_fc92_11eb_aa78_8086f28e2ab5row2_col1,#T_fa2b4d58_fc92_11eb_aa78_8086f28e2ab5row2_col2,#T_fa2b4d58_fc92_11eb_aa78_8086f28e2ab5row4_col3,#T_fa2b4d58_fc92_11eb_aa78_8086f28e2ab5row4_col4,#T_fa2b4d58_fc92_11eb_aa78_8086f28e2ab5row5_col5{\n",
       "            background-color:  yellow;\n",
       "        }</style><table id=\"T_fa2b4d58_fc92_11eb_aa78_8086f28e2ab5\" ><thead>    <tr>        <th class=\"blank\" ></th>        <th class=\"blank\" ></th>        <th class=\"index_name level0\" >metrica</th>        <th class=\"col_heading level0 col0\" >Acurácia</th>        <th class=\"col_heading level0 col1\" >F1</th>        <th class=\"col_heading level0 col2\" >MCC</th>        <th class=\"col_heading level0 col3\" >Precisão</th>        <th class=\"col_heading level0 col4\" >ROC</th>        <th class=\"col_heading level0 col5\" >Recall</th>    </tr>    <tr>        <th class=\"index_name level0\" >dataset</th>        <th class=\"index_name level1\" >tipo</th>        <th class=\"index_name level2\" >melhor</th>        <th class=\"blank\" ></th>        <th class=\"blank\" ></th>        <th class=\"blank\" ></th>        <th class=\"blank\" ></th>        <th class=\"blank\" ></th>        <th class=\"blank\" ></th>    </tr></thead><tbody>\n",
       "                <tr>\n",
       "                        <th id=\"T_fa2b4d58_fc92_11eb_aa78_8086f28e2ab5level0_row0\" class=\"row_heading level0 row0\" rowspan=6>SS</th>\n",
       "                        <th id=\"T_fa2b4d58_fc92_11eb_aa78_8086f28e2ab5level1_row0\" class=\"row_heading level1 row0\" rowspan=6>xgb</th>\n",
       "                        <th id=\"T_fa2b4d58_fc92_11eb_aa78_8086f28e2ab5level2_row0\" class=\"row_heading level2 row0\" >Acurácia</th>\n",
       "                        <td id=\"T_fa2b4d58_fc92_11eb_aa78_8086f28e2ab5row0_col0\" class=\"data row0 col0\" >0.902547</td>\n",
       "                        <td id=\"T_fa2b4d58_fc92_11eb_aa78_8086f28e2ab5row0_col1\" class=\"data row0 col1\" >0.940926</td>\n",
       "                        <td id=\"T_fa2b4d58_fc92_11eb_aa78_8086f28e2ab5row0_col2\" class=\"data row0 col2\" >0.673432</td>\n",
       "                        <td id=\"T_fa2b4d58_fc92_11eb_aa78_8086f28e2ab5row0_col3\" class=\"data row0 col3\" >0.914320</td>\n",
       "                        <td id=\"T_fa2b4d58_fc92_11eb_aa78_8086f28e2ab5row0_col4\" class=\"data row0 col4\" >0.801963</td>\n",
       "                        <td id=\"T_fa2b4d58_fc92_11eb_aa78_8086f28e2ab5row0_col5\" class=\"data row0 col5\" >0.969135</td>\n",
       "            </tr>\n",
       "            <tr>\n",
       "                                        <th id=\"T_fa2b4d58_fc92_11eb_aa78_8086f28e2ab5level2_row1\" class=\"row_heading level2 row1\" >F1</th>\n",
       "                        <td id=\"T_fa2b4d58_fc92_11eb_aa78_8086f28e2ab5row1_col0\" class=\"data row1 col0\" >0.901187</td>\n",
       "                        <td id=\"T_fa2b4d58_fc92_11eb_aa78_8086f28e2ab5row1_col1\" class=\"data row1 col1\" >0.940266</td>\n",
       "                        <td id=\"T_fa2b4d58_fc92_11eb_aa78_8086f28e2ab5row1_col2\" class=\"data row1 col2\" >0.667519</td>\n",
       "                        <td id=\"T_fa2b4d58_fc92_11eb_aa78_8086f28e2ab5row1_col3\" class=\"data row1 col3\" >0.911328</td>\n",
       "                        <td id=\"T_fa2b4d58_fc92_11eb_aa78_8086f28e2ab5row1_col4\" class=\"data row1 col4\" >0.795546</td>\n",
       "                        <td id=\"T_fa2b4d58_fc92_11eb_aa78_8086f28e2ab5row1_col5\" class=\"data row1 col5\" >0.971123</td>\n",
       "            </tr>\n",
       "            <tr>\n",
       "                                        <th id=\"T_fa2b4d58_fc92_11eb_aa78_8086f28e2ab5level2_row2\" class=\"row_heading level2 row2\" >MCC</th>\n",
       "                        <td id=\"T_fa2b4d58_fc92_11eb_aa78_8086f28e2ab5row2_col0\" class=\"data row2 col0\" >0.902547</td>\n",
       "                        <td id=\"T_fa2b4d58_fc92_11eb_aa78_8086f28e2ab5row2_col1\" class=\"data row2 col1\" >0.940926</td>\n",
       "                        <td id=\"T_fa2b4d58_fc92_11eb_aa78_8086f28e2ab5row2_col2\" class=\"data row2 col2\" >0.673432</td>\n",
       "                        <td id=\"T_fa2b4d58_fc92_11eb_aa78_8086f28e2ab5row2_col3\" class=\"data row2 col3\" >0.914320</td>\n",
       "                        <td id=\"T_fa2b4d58_fc92_11eb_aa78_8086f28e2ab5row2_col4\" class=\"data row2 col4\" >0.801963</td>\n",
       "                        <td id=\"T_fa2b4d58_fc92_11eb_aa78_8086f28e2ab5row2_col5\" class=\"data row2 col5\" >0.969135</td>\n",
       "            </tr>\n",
       "            <tr>\n",
       "                                        <th id=\"T_fa2b4d58_fc92_11eb_aa78_8086f28e2ab5level2_row3\" class=\"row_heading level2 row3\" >Precisão</th>\n",
       "                        <td id=\"T_fa2b4d58_fc92_11eb_aa78_8086f28e2ab5row3_col0\" class=\"data row3 col0\" >0.900000</td>\n",
       "                        <td id=\"T_fa2b4d58_fc92_11eb_aa78_8086f28e2ab5row3_col1\" class=\"data row3 col1\" >0.939198</td>\n",
       "                        <td id=\"T_fa2b4d58_fc92_11eb_aa78_8086f28e2ab5row3_col2\" class=\"data row3 col2\" >0.666104</td>\n",
       "                        <td id=\"T_fa2b4d58_fc92_11eb_aa78_8086f28e2ab5row3_col3\" class=\"data row3 col3\" >0.915290</td>\n",
       "                        <td id=\"T_fa2b4d58_fc92_11eb_aa78_8086f28e2ab5row3_col4\" class=\"data row3 col4\" >0.802721</td>\n",
       "                        <td id=\"T_fa2b4d58_fc92_11eb_aa78_8086f28e2ab5row3_col5\" class=\"data row3 col5\" >0.964401</td>\n",
       "            </tr>\n",
       "            <tr>\n",
       "                                        <th id=\"T_fa2b4d58_fc92_11eb_aa78_8086f28e2ab5level2_row4\" class=\"row_heading level2 row4\" >ROC</th>\n",
       "                        <td id=\"T_fa2b4d58_fc92_11eb_aa78_8086f28e2ab5row4_col0\" class=\"data row4 col0\" >0.901331</td>\n",
       "                        <td id=\"T_fa2b4d58_fc92_11eb_aa78_8086f28e2ab5row4_col1\" class=\"data row4 col1\" >0.940054</td>\n",
       "                        <td id=\"T_fa2b4d58_fc92_11eb_aa78_8086f28e2ab5row4_col2\" class=\"data row4 col2\" >0.670286</td>\n",
       "                        <td id=\"T_fa2b4d58_fc92_11eb_aa78_8086f28e2ab5row4_col3\" class=\"data row4 col3\" >0.915453</td>\n",
       "                        <td id=\"T_fa2b4d58_fc92_11eb_aa78_8086f28e2ab5row4_col4\" class=\"data row4 col4\" >0.803605</td>\n",
       "                        <td id=\"T_fa2b4d58_fc92_11eb_aa78_8086f28e2ab5row4_col5\" class=\"data row4 col5\" >0.966027</td>\n",
       "            </tr>\n",
       "            <tr>\n",
       "                                        <th id=\"T_fa2b4d58_fc92_11eb_aa78_8086f28e2ab5level2_row5\" class=\"row_heading level2 row5\" >Recall</th>\n",
       "                        <td id=\"T_fa2b4d58_fc92_11eb_aa78_8086f28e2ab5row5_col0\" class=\"data row5 col0\" >0.881881</td>\n",
       "                        <td id=\"T_fa2b4d58_fc92_11eb_aa78_8086f28e2ab5row5_col1\" class=\"data row5 col1\" >0.929956</td>\n",
       "                        <td id=\"T_fa2b4d58_fc92_11eb_aa78_8086f28e2ab5row5_col2\" class=\"data row5 col2\" >0.589755</td>\n",
       "                        <td id=\"T_fa2b4d58_fc92_11eb_aa78_8086f28e2ab5row5_col3\" class=\"data row5 col3\" >0.885565</td>\n",
       "                        <td id=\"T_fa2b4d58_fc92_11eb_aa78_8086f28e2ab5row5_col4\" class=\"data row5 col4\" >0.735068</td>\n",
       "                        <td id=\"T_fa2b4d58_fc92_11eb_aa78_8086f28e2ab5row5_col5\" class=\"data row5 col5\" >0.979074</td>\n",
       "            </tr>\n",
       "    </tbody></table>"
      ],
      "text/plain": [
       "<pandas.io.formats.style.Styler at 0x20937877828>"
      ]
     },
     "execution_count": 23,
     "metadata": {},
     "output_type": "execute_result"
    }
   ],
   "source": [
    "# Valor das métricas de um modelo selecionado pelo melhor valor de um métrica\n",
    "melhores_modelos('SS', tipo = 'xgb', modelo=True)"
   ]
  },
  {
   "cell_type": "code",
   "execution_count": 24,
   "id": "5ce4a8a0",
   "metadata": {
    "hidden": true
   },
   "outputs": [
    {
     "data": {
      "text/html": [
       "<style  type=\"text/css\" >\n",
       "#T_fa542b6c_fc92_11eb_9e3e_8086f28e2ab5row0_col0,#T_fa542b6c_fc92_11eb_9e3e_8086f28e2ab5row0_col1,#T_fa542b6c_fc92_11eb_9e3e_8086f28e2ab5row0_col2,#T_fa542b6c_fc92_11eb_9e3e_8086f28e2ab5row2_col0,#T_fa542b6c_fc92_11eb_9e3e_8086f28e2ab5row2_col1,#T_fa542b6c_fc92_11eb_9e3e_8086f28e2ab5row2_col2,#T_fa542b6c_fc92_11eb_9e3e_8086f28e2ab5row3_col3,#T_fa542b6c_fc92_11eb_9e3e_8086f28e2ab5row3_col4,#T_fa542b6c_fc92_11eb_9e3e_8086f28e2ab5row4_col3,#T_fa542b6c_fc92_11eb_9e3e_8086f28e2ab5row4_col4,#T_fa542b6c_fc92_11eb_9e3e_8086f28e2ab5row5_col5{\n",
       "            background-color:  yellow;\n",
       "        }</style><table id=\"T_fa542b6c_fc92_11eb_9e3e_8086f28e2ab5\" ><thead>    <tr>        <th class=\"blank\" ></th>        <th class=\"blank\" ></th>        <th class=\"index_name level0\" >metrica</th>        <th class=\"col_heading level0 col0\" >Acurácia</th>        <th class=\"col_heading level0 col1\" >F1</th>        <th class=\"col_heading level0 col2\" >MCC</th>        <th class=\"col_heading level0 col3\" >Precisão</th>        <th class=\"col_heading level0 col4\" >ROC</th>        <th class=\"col_heading level0 col5\" >Recall</th>    </tr>    <tr>        <th class=\"index_name level0\" >dataset</th>        <th class=\"index_name level1\" >tipo</th>        <th class=\"index_name level2\" >melhor</th>        <th class=\"blank\" ></th>        <th class=\"blank\" ></th>        <th class=\"blank\" ></th>        <th class=\"blank\" ></th>        <th class=\"blank\" ></th>        <th class=\"blank\" ></th>    </tr></thead><tbody>\n",
       "                <tr>\n",
       "                        <th id=\"T_fa542b6c_fc92_11eb_9e3e_8086f28e2ab5level0_row0\" class=\"row_heading level0 row0\" rowspan=6>RS</th>\n",
       "                        <th id=\"T_fa542b6c_fc92_11eb_9e3e_8086f28e2ab5level1_row0\" class=\"row_heading level1 row0\" rowspan=6>xgb</th>\n",
       "                        <th id=\"T_fa542b6c_fc92_11eb_9e3e_8086f28e2ab5level2_row0\" class=\"row_heading level2 row0\" >Acurácia</th>\n",
       "                        <td id=\"T_fa542b6c_fc92_11eb_9e3e_8086f28e2ab5row0_col0\" class=\"data row0 col0\" >0.902402</td>\n",
       "                        <td id=\"T_fa542b6c_fc92_11eb_9e3e_8086f28e2ab5row0_col1\" class=\"data row0 col1\" >0.940806</td>\n",
       "                        <td id=\"T_fa542b6c_fc92_11eb_9e3e_8086f28e2ab5row0_col2\" class=\"data row0 col2\" >0.673158</td>\n",
       "                        <td id=\"T_fa542b6c_fc92_11eb_9e3e_8086f28e2ab5row0_col3\" class=\"data row0 col3\" >0.914707</td>\n",
       "                        <td id=\"T_fa542b6c_fc92_11eb_9e3e_8086f28e2ab5row0_col4\" class=\"data row0 col4\" >0.802637</td>\n",
       "                        <td id=\"T_fa542b6c_fc92_11eb_9e3e_8086f28e2ab5row0_col5\" class=\"data row0 col5\" >0.968448</td>\n",
       "            </tr>\n",
       "            <tr>\n",
       "                                        <th id=\"T_fa542b6c_fc92_11eb_9e3e_8086f28e2ab5level2_row1\" class=\"row_heading level2 row1\" >F1</th>\n",
       "                        <td id=\"T_fa542b6c_fc92_11eb_9e3e_8086f28e2ab5row1_col0\" class=\"data row1 col0\" >0.900926</td>\n",
       "                        <td id=\"T_fa542b6c_fc92_11eb_9e3e_8086f28e2ab5row1_col1\" class=\"data row1 col1\" >0.940100</td>\n",
       "                        <td id=\"T_fa542b6c_fc92_11eb_9e3e_8086f28e2ab5row1_col2\" class=\"data row1 col2\" >0.666611</td>\n",
       "                        <td id=\"T_fa542b6c_fc92_11eb_9e3e_8086f28e2ab5row1_col3\" class=\"data row1 col3\" >0.911296</td>\n",
       "                        <td id=\"T_fa542b6c_fc92_11eb_9e3e_8086f28e2ab5row1_col4\" class=\"data row1 col4\" >0.795383</td>\n",
       "                        <td id=\"T_fa542b6c_fc92_11eb_9e3e_8086f28e2ab5row1_col5\" class=\"data row1 col5\" >0.970798</td>\n",
       "            </tr>\n",
       "            <tr>\n",
       "                                        <th id=\"T_fa542b6c_fc92_11eb_9e3e_8086f28e2ab5level2_row2\" class=\"row_heading level2 row2\" >MCC</th>\n",
       "                        <td id=\"T_fa542b6c_fc92_11eb_9e3e_8086f28e2ab5row2_col0\" class=\"data row2 col0\" >0.902402</td>\n",
       "                        <td id=\"T_fa542b6c_fc92_11eb_9e3e_8086f28e2ab5row2_col1\" class=\"data row2 col1\" >0.940806</td>\n",
       "                        <td id=\"T_fa542b6c_fc92_11eb_9e3e_8086f28e2ab5row2_col2\" class=\"data row2 col2\" >0.673158</td>\n",
       "                        <td id=\"T_fa542b6c_fc92_11eb_9e3e_8086f28e2ab5row2_col3\" class=\"data row2 col3\" >0.914707</td>\n",
       "                        <td id=\"T_fa542b6c_fc92_11eb_9e3e_8086f28e2ab5row2_col4\" class=\"data row2 col4\" >0.802637</td>\n",
       "                        <td id=\"T_fa542b6c_fc92_11eb_9e3e_8086f28e2ab5row2_col5\" class=\"data row2 col5\" >0.968448</td>\n",
       "            </tr>\n",
       "            <tr>\n",
       "                                        <th id=\"T_fa542b6c_fc92_11eb_9e3e_8086f28e2ab5level2_row3\" class=\"row_heading level2 row3\" >Precisão</th>\n",
       "                        <td id=\"T_fa542b6c_fc92_11eb_9e3e_8086f28e2ab5row3_col0\" class=\"data row3 col0\" >0.901129</td>\n",
       "                        <td id=\"T_fa542b6c_fc92_11eb_9e3e_8086f28e2ab5row3_col1\" class=\"data row3 col1\" >0.939938</td>\n",
       "                        <td id=\"T_fa542b6c_fc92_11eb_9e3e_8086f28e2ab5row3_col2\" class=\"data row3 col2\" >0.669535</td>\n",
       "                        <td id=\"T_fa542b6c_fc92_11eb_9e3e_8086f28e2ab5row3_col3\" class=\"data row3 col3\" >0.915234</td>\n",
       "                        <td id=\"T_fa542b6c_fc92_11eb_9e3e_8086f28e2ab5row3_col4\" class=\"data row3 col4\" >0.803098</td>\n",
       "                        <td id=\"T_fa542b6c_fc92_11eb_9e3e_8086f28e2ab5row3_col5\" class=\"data row3 col5\" >0.966027</td>\n",
       "            </tr>\n",
       "            <tr>\n",
       "                                        <th id=\"T_fa542b6c_fc92_11eb_9e3e_8086f28e2ab5level2_row4\" class=\"row_heading level2 row4\" >ROC</th>\n",
       "                        <td id=\"T_fa542b6c_fc92_11eb_9e3e_8086f28e2ab5row4_col0\" class=\"data row4 col0\" >0.901129</td>\n",
       "                        <td id=\"T_fa542b6c_fc92_11eb_9e3e_8086f28e2ab5row4_col1\" class=\"data row4 col1\" >0.939938</td>\n",
       "                        <td id=\"T_fa542b6c_fc92_11eb_9e3e_8086f28e2ab5row4_col2\" class=\"data row4 col2\" >0.669535</td>\n",
       "                        <td id=\"T_fa542b6c_fc92_11eb_9e3e_8086f28e2ab5row4_col3\" class=\"data row4 col3\" >0.915234</td>\n",
       "                        <td id=\"T_fa542b6c_fc92_11eb_9e3e_8086f28e2ab5row4_col4\" class=\"data row4 col4\" >0.803098</td>\n",
       "                        <td id=\"T_fa542b6c_fc92_11eb_9e3e_8086f28e2ab5row4_col5\" class=\"data row4 col5\" >0.966027</td>\n",
       "            </tr>\n",
       "            <tr>\n",
       "                                        <th id=\"T_fa542b6c_fc92_11eb_9e3e_8086f28e2ab5level2_row5\" class=\"row_heading level2 row5\" >Recall</th>\n",
       "                        <td id=\"T_fa542b6c_fc92_11eb_9e3e_8086f28e2ab5row5_col0\" class=\"data row5 col0\" >0.881852</td>\n",
       "                        <td id=\"T_fa542b6c_fc92_11eb_9e3e_8086f28e2ab5row5_col1\" class=\"data row5 col1\" >0.929938</td>\n",
       "                        <td id=\"T_fa542b6c_fc92_11eb_9e3e_8086f28e2ab5row5_col2\" class=\"data row5 col2\" >0.589635</td>\n",
       "                        <td id=\"T_fa542b6c_fc92_11eb_9e3e_8086f28e2ab5row5_col3\" class=\"data row5 col3\" >0.885562</td>\n",
       "                        <td id=\"T_fa542b6c_fc92_11eb_9e3e_8086f28e2ab5row5_col4\" class=\"data row5 col4\" >0.735050</td>\n",
       "                        <td id=\"T_fa542b6c_fc92_11eb_9e3e_8086f28e2ab5row5_col5\" class=\"data row5 col5\" >0.979038</td>\n",
       "            </tr>\n",
       "    </tbody></table>"
      ],
      "text/plain": [
       "<pandas.io.formats.style.Styler at 0x209375ec128>"
      ]
     },
     "execution_count": 24,
     "metadata": {},
     "output_type": "execute_result"
    }
   ],
   "source": [
    "# Valor das métricas de um modelo selecionado pelo melhor valor de um métrica\n",
    "melhores_modelos('RS', tipo = 'xgb', modelo=True)"
   ]
  },
  {
   "cell_type": "code",
   "execution_count": 25,
   "id": "09632fdd",
   "metadata": {
    "hidden": true
   },
   "outputs": [
    {
     "data": {
      "text/html": [
       "<style  type=\"text/css\" >\n",
       "#T_fa7b5d8c_fc92_11eb_9258_8086f28e2ab5row0_col0,#T_fa7b5d8c_fc92_11eb_9258_8086f28e2ab5row0_col1,#T_fa7b5d8c_fc92_11eb_9258_8086f28e2ab5row0_col2,#T_fa7b5d8c_fc92_11eb_9258_8086f28e2ab5row2_col0,#T_fa7b5d8c_fc92_11eb_9258_8086f28e2ab5row2_col1,#T_fa7b5d8c_fc92_11eb_9258_8086f28e2ab5row2_col2,#T_fa7b5d8c_fc92_11eb_9258_8086f28e2ab5row4_col3,#T_fa7b5d8c_fc92_11eb_9258_8086f28e2ab5row4_col4,#T_fa7b5d8c_fc92_11eb_9258_8086f28e2ab5row5_col5{\n",
       "            background-color:  yellow;\n",
       "        }</style><table id=\"T_fa7b5d8c_fc92_11eb_9258_8086f28e2ab5\" ><thead>    <tr>        <th class=\"blank\" ></th>        <th class=\"blank\" ></th>        <th class=\"index_name level0\" >metrica</th>        <th class=\"col_heading level0 col0\" >Acurácia</th>        <th class=\"col_heading level0 col1\" >F1</th>        <th class=\"col_heading level0 col2\" >MCC</th>        <th class=\"col_heading level0 col3\" >Precisão</th>        <th class=\"col_heading level0 col4\" >ROC</th>        <th class=\"col_heading level0 col5\" >Recall</th>    </tr>    <tr>        <th class=\"index_name level0\" >dataset</th>        <th class=\"index_name level1\" >tipo</th>        <th class=\"index_name level2\" >melhor</th>        <th class=\"blank\" ></th>        <th class=\"blank\" ></th>        <th class=\"blank\" ></th>        <th class=\"blank\" ></th>        <th class=\"blank\" ></th>        <th class=\"blank\" ></th>    </tr></thead><tbody>\n",
       "                <tr>\n",
       "                        <th id=\"T_fa7b5d8c_fc92_11eb_9258_8086f28e2ab5level0_row0\" class=\"row_heading level0 row0\" rowspan=6>PT</th>\n",
       "                        <th id=\"T_fa7b5d8c_fc92_11eb_9258_8086f28e2ab5level1_row0\" class=\"row_heading level1 row0\" rowspan=6>xgb</th>\n",
       "                        <th id=\"T_fa7b5d8c_fc92_11eb_9258_8086f28e2ab5level2_row0\" class=\"row_heading level2 row0\" >Acurácia</th>\n",
       "                        <td id=\"T_fa7b5d8c_fc92_11eb_9258_8086f28e2ab5row0_col0\" class=\"data row0 col0\" >0.902402</td>\n",
       "                        <td id=\"T_fa7b5d8c_fc92_11eb_9258_8086f28e2ab5row0_col1\" class=\"data row0 col1\" >0.940958</td>\n",
       "                        <td id=\"T_fa7b5d8c_fc92_11eb_9258_8086f28e2ab5row0_col2\" class=\"data row0 col2\" >0.672088</td>\n",
       "                        <td id=\"T_fa7b5d8c_fc92_11eb_9258_8086f28e2ab5row0_col3\" class=\"data row0 col3\" >0.912662</td>\n",
       "                        <td id=\"T_fa7b5d8c_fc92_11eb_9258_8086f28e2ab5row0_col4\" class=\"data row0 col4\" >0.798652</td>\n",
       "                        <td id=\"T_fa7b5d8c_fc92_11eb_9258_8086f28e2ab5row0_col5\" class=\"data row0 col5\" >0.971087</td>\n",
       "            </tr>\n",
       "            <tr>\n",
       "                                        <th id=\"T_fa7b5d8c_fc92_11eb_9258_8086f28e2ab5level2_row1\" class=\"row_heading level2 row1\" >F1</th>\n",
       "                        <td id=\"T_fa7b5d8c_fc92_11eb_9258_8086f28e2ab5row1_col0\" class=\"data row1 col0\" >0.901823</td>\n",
       "                        <td id=\"T_fa7b5d8c_fc92_11eb_9258_8086f28e2ab5row1_col1\" class=\"data row1 col1\" >0.940545</td>\n",
       "                        <td id=\"T_fa7b5d8c_fc92_11eb_9258_8086f28e2ab5row1_col2\" class=\"data row1 col2\" >0.670453</td>\n",
       "                        <td id=\"T_fa7b5d8c_fc92_11eb_9258_8086f28e2ab5row1_col3\" class=\"data row1 col3\" >0.913156</td>\n",
       "                        <td id=\"T_fa7b5d8c_fc92_11eb_9258_8086f28e2ab5row1_col4\" class=\"data row1 col4\" >0.799383</td>\n",
       "                        <td id=\"T_fa7b5d8c_fc92_11eb_9258_8086f28e2ab5row1_col5\" class=\"data row1 col5\" >0.969641</td>\n",
       "            </tr>\n",
       "            <tr>\n",
       "                                        <th id=\"T_fa7b5d8c_fc92_11eb_9258_8086f28e2ab5level2_row2\" class=\"row_heading level2 row2\" >MCC</th>\n",
       "                        <td id=\"T_fa7b5d8c_fc92_11eb_9258_8086f28e2ab5row2_col0\" class=\"data row2 col0\" >0.902402</td>\n",
       "                        <td id=\"T_fa7b5d8c_fc92_11eb_9258_8086f28e2ab5row2_col1\" class=\"data row2 col1\" >0.940958</td>\n",
       "                        <td id=\"T_fa7b5d8c_fc92_11eb_9258_8086f28e2ab5row2_col2\" class=\"data row2 col2\" >0.672088</td>\n",
       "                        <td id=\"T_fa7b5d8c_fc92_11eb_9258_8086f28e2ab5row2_col3\" class=\"data row2 col3\" >0.912662</td>\n",
       "                        <td id=\"T_fa7b5d8c_fc92_11eb_9258_8086f28e2ab5row2_col4\" class=\"data row2 col4\" >0.798652</td>\n",
       "                        <td id=\"T_fa7b5d8c_fc92_11eb_9258_8086f28e2ab5row2_col5\" class=\"data row2 col5\" >0.971087</td>\n",
       "            </tr>\n",
       "            <tr>\n",
       "                                        <th id=\"T_fa7b5d8c_fc92_11eb_9258_8086f28e2ab5level2_row3\" class=\"row_heading level2 row3\" >Precisão</th>\n",
       "                        <td id=\"T_fa7b5d8c_fc92_11eb_9258_8086f28e2ab5row3_col0\" class=\"data row3 col0\" >0.900289</td>\n",
       "                        <td id=\"T_fa7b5d8c_fc92_11eb_9258_8086f28e2ab5row3_col1\" class=\"data row3 col1\" >0.939474</td>\n",
       "                        <td id=\"T_fa7b5d8c_fc92_11eb_9258_8086f28e2ab5row3_col2\" class=\"data row3 col2\" >0.666239</td>\n",
       "                        <td id=\"T_fa7b5d8c_fc92_11eb_9258_8086f28e2ab5row3_col3\" class=\"data row3 col3\" >0.914130</td>\n",
       "                        <td id=\"T_fa7b5d8c_fc92_11eb_9258_8086f28e2ab5row3_col4\" class=\"data row3 col4\" >0.800608</td>\n",
       "                        <td id=\"T_fa7b5d8c_fc92_11eb_9258_8086f28e2ab5row3_col5\" class=\"data row3 col5\" >0.966280</td>\n",
       "            </tr>\n",
       "            <tr>\n",
       "                                        <th id=\"T_fa7b5d8c_fc92_11eb_9258_8086f28e2ab5level2_row4\" class=\"row_heading level2 row4\" >ROC</th>\n",
       "                        <td id=\"T_fa7b5d8c_fc92_11eb_9258_8086f28e2ab5row4_col0\" class=\"data row4 col0\" >0.899855</td>\n",
       "                        <td id=\"T_fa7b5d8c_fc92_11eb_9258_8086f28e2ab5row4_col1\" class=\"data row4 col1\" >0.939154</td>\n",
       "                        <td id=\"T_fa7b5d8c_fc92_11eb_9258_8086f28e2ab5row4_col2\" class=\"data row4 col2\" >0.665169</td>\n",
       "                        <td id=\"T_fa7b5d8c_fc92_11eb_9258_8086f28e2ab5row4_col3\" class=\"data row4 col3\" >0.914657</td>\n",
       "                        <td id=\"T_fa7b5d8c_fc92_11eb_9258_8086f28e2ab5row4_col4\" class=\"data row4 col4\" >0.801430</td>\n",
       "                        <td id=\"T_fa7b5d8c_fc92_11eb_9258_8086f28e2ab5row4_col5\" class=\"data row4 col5\" >0.965015</td>\n",
       "            </tr>\n",
       "            <tr>\n",
       "                                        <th id=\"T_fa7b5d8c_fc92_11eb_9258_8086f28e2ab5level2_row5\" class=\"row_heading level2 row5\" >Recall</th>\n",
       "                        <td id=\"T_fa7b5d8c_fc92_11eb_9258_8086f28e2ab5row5_col0\" class=\"data row5 col0\" >0.881418</td>\n",
       "                        <td id=\"T_fa7b5d8c_fc92_11eb_9258_8086f28e2ab5row5_col1\" class=\"data row5 col1\" >0.929774</td>\n",
       "                        <td id=\"T_fa7b5d8c_fc92_11eb_9258_8086f28e2ab5row5_col2\" class=\"data row5 col2\" >0.587534</td>\n",
       "                        <td id=\"T_fa7b5d8c_fc92_11eb_9258_8086f28e2ab5row5_col3\" class=\"data row5 col3\" >0.884337</td>\n",
       "                        <td id=\"T_fa7b5d8c_fc92_11eb_9258_8086f28e2ab5row5_col4\" class=\"data row5 col4\" >0.732268</td>\n",
       "                        <td id=\"T_fa7b5d8c_fc92_11eb_9258_8086f28e2ab5row5_col5\" class=\"data row5 col5\" >0.980158</td>\n",
       "            </tr>\n",
       "    </tbody></table>"
      ],
      "text/plain": [
       "<pandas.io.formats.style.Styler at 0x209375ec240>"
      ]
     },
     "execution_count": 25,
     "metadata": {},
     "output_type": "execute_result"
    }
   ],
   "source": [
    "# Valor das métricas de um modelo selecionado pelo melhor valor de um métrica\n",
    "melhores_modelos('PT', tipo = 'xgb', modelo=True)"
   ]
  },
  {
   "cell_type": "code",
   "execution_count": 26,
   "id": "ef199834",
   "metadata": {
    "hidden": true
   },
   "outputs": [
    {
     "data": {
      "text/html": [
       "<style  type=\"text/css\" >\n",
       "#T_faa35154_fc92_11eb_9d8e_8086f28e2ab5row1_col0,#T_faa35154_fc92_11eb_9d8e_8086f28e2ab5row1_col1,#T_faa35154_fc92_11eb_9d8e_8086f28e2ab5row1_col2,#T_faa35154_fc92_11eb_9d8e_8086f28e2ab5row2_col0,#T_faa35154_fc92_11eb_9d8e_8086f28e2ab5row2_col1,#T_faa35154_fc92_11eb_9d8e_8086f28e2ab5row2_col2,#T_faa35154_fc92_11eb_9d8e_8086f28e2ab5row4_col3,#T_faa35154_fc92_11eb_9d8e_8086f28e2ab5row4_col4,#T_faa35154_fc92_11eb_9d8e_8086f28e2ab5row5_col5{\n",
       "            background-color:  yellow;\n",
       "        }</style><table id=\"T_faa35154_fc92_11eb_9d8e_8086f28e2ab5\" ><thead>    <tr>        <th class=\"blank\" ></th>        <th class=\"blank\" ></th>        <th class=\"index_name level0\" >metrica</th>        <th class=\"col_heading level0 col0\" >Acurácia</th>        <th class=\"col_heading level0 col1\" >F1</th>        <th class=\"col_heading level0 col2\" >MCC</th>        <th class=\"col_heading level0 col3\" >Precisão</th>        <th class=\"col_heading level0 col4\" >ROC</th>        <th class=\"col_heading level0 col5\" >Recall</th>    </tr>    <tr>        <th class=\"index_name level0\" >dataset</th>        <th class=\"index_name level1\" >tipo</th>        <th class=\"index_name level2\" >melhor</th>        <th class=\"blank\" ></th>        <th class=\"blank\" ></th>        <th class=\"blank\" ></th>        <th class=\"blank\" ></th>        <th class=\"blank\" ></th>        <th class=\"blank\" ></th>    </tr></thead><tbody>\n",
       "                <tr>\n",
       "                        <th id=\"T_faa35154_fc92_11eb_9d8e_8086f28e2ab5level0_row0\" class=\"row_heading level0 row0\" rowspan=6>Reduzida</th>\n",
       "                        <th id=\"T_faa35154_fc92_11eb_9d8e_8086f28e2ab5level1_row0\" class=\"row_heading level1 row0\" rowspan=6>xgb</th>\n",
       "                        <th id=\"T_faa35154_fc92_11eb_9d8e_8086f28e2ab5level2_row0\" class=\"row_heading level2 row0\" >Acurácia</th>\n",
       "                        <td id=\"T_faa35154_fc92_11eb_9d8e_8086f28e2ab5row0_col0\" class=\"data row0 col0\" >0.897106</td>\n",
       "                        <td id=\"T_faa35154_fc92_11eb_9d8e_8086f28e2ab5row0_col1\" class=\"data row0 col1\" >0.937814</td>\n",
       "                        <td id=\"T_faa35154_fc92_11eb_9d8e_8086f28e2ab5row0_col2\" class=\"data row0 col2\" >0.652907</td>\n",
       "                        <td id=\"T_faa35154_fc92_11eb_9d8e_8086f28e2ab5row0_col3\" class=\"data row0 col3\" >0.908714</td>\n",
       "                        <td id=\"T_faa35154_fc92_11eb_9d8e_8086f28e2ab5row0_col4\" class=\"data row0 col4\" >0.788739</td>\n",
       "                        <td id=\"T_faa35154_fc92_11eb_9d8e_8086f28e2ab5row0_col5\" class=\"data row0 col5\" >0.968846</td>\n",
       "            </tr>\n",
       "            <tr>\n",
       "                                        <th id=\"T_faa35154_fc92_11eb_9d8e_8086f28e2ab5level2_row1\" class=\"row_heading level2 row1\" >F1</th>\n",
       "                        <td id=\"T_faa35154_fc92_11eb_9d8e_8086f28e2ab5row1_col0\" class=\"data row1 col0\" >0.897685</td>\n",
       "                        <td id=\"T_faa35154_fc92_11eb_9d8e_8086f28e2ab5row1_col1\" class=\"data row1 col1\" >0.938170</td>\n",
       "                        <td id=\"T_faa35154_fc92_11eb_9d8e_8086f28e2ab5row1_col2\" class=\"data row1 col2\" >0.654959</td>\n",
       "                        <td id=\"T_faa35154_fc92_11eb_9d8e_8086f28e2ab5row1_col3\" class=\"data row1 col3\" >0.908974</td>\n",
       "                        <td id=\"T_faa35154_fc92_11eb_9d8e_8086f28e2ab5row1_col4\" class=\"data row1 col4\" >0.789483</td>\n",
       "                        <td id=\"T_faa35154_fc92_11eb_9d8e_8086f28e2ab5row1_col5\" class=\"data row1 col5\" >0.969316</td>\n",
       "            </tr>\n",
       "            <tr>\n",
       "                                        <th id=\"T_faa35154_fc92_11eb_9d8e_8086f28e2ab5level2_row2\" class=\"row_heading level2 row2\" >MCC</th>\n",
       "                        <td id=\"T_faa35154_fc92_11eb_9d8e_8086f28e2ab5row2_col0\" class=\"data row2 col0\" >0.897685</td>\n",
       "                        <td id=\"T_faa35154_fc92_11eb_9d8e_8086f28e2ab5row2_col1\" class=\"data row2 col1\" >0.938170</td>\n",
       "                        <td id=\"T_faa35154_fc92_11eb_9d8e_8086f28e2ab5row2_col2\" class=\"data row2 col2\" >0.654959</td>\n",
       "                        <td id=\"T_faa35154_fc92_11eb_9d8e_8086f28e2ab5row2_col3\" class=\"data row2 col3\" >0.908974</td>\n",
       "                        <td id=\"T_faa35154_fc92_11eb_9d8e_8086f28e2ab5row2_col4\" class=\"data row2 col4\" >0.789483</td>\n",
       "                        <td id=\"T_faa35154_fc92_11eb_9d8e_8086f28e2ab5row2_col5\" class=\"data row2 col5\" >0.969316</td>\n",
       "            </tr>\n",
       "            <tr>\n",
       "                                        <th id=\"T_faa35154_fc92_11eb_9d8e_8086f28e2ab5level2_row3\" class=\"row_heading level2 row3\" >Precisão</th>\n",
       "                        <td id=\"T_faa35154_fc92_11eb_9d8e_8086f28e2ab5row3_col0\" class=\"data row3 col0\" >0.893632</td>\n",
       "                        <td id=\"T_faa35154_fc92_11eb_9d8e_8086f28e2ab5row3_col1\" class=\"data row3 col1\" >0.935323</td>\n",
       "                        <td id=\"T_faa35154_fc92_11eb_9d8e_8086f28e2ab5row3_col2\" class=\"data row3 col2\" >0.644194</td>\n",
       "                        <td id=\"T_faa35154_fc92_11eb_9d8e_8086f28e2ab5row3_col3\" class=\"data row3 col3\" >0.911509</td>\n",
       "                        <td id=\"T_faa35154_fc92_11eb_9d8e_8086f28e2ab5row3_col4\" class=\"data row3 col4\" >0.792740</td>\n",
       "                        <td id=\"T_faa35154_fc92_11eb_9d8e_8086f28e2ab5row3_col5\" class=\"data row3 col5\" >0.960425</td>\n",
       "            </tr>\n",
       "            <tr>\n",
       "                                        <th id=\"T_faa35154_fc92_11eb_9d8e_8086f28e2ab5level2_row4\" class=\"row_heading level2 row4\" >ROC</th>\n",
       "                        <td id=\"T_faa35154_fc92_11eb_9d8e_8086f28e2ab5row4_col0\" class=\"data row4 col0\" >0.893980</td>\n",
       "                        <td id=\"T_faa35154_fc92_11eb_9d8e_8086f28e2ab5row4_col1\" class=\"data row4 col1\" >0.935531</td>\n",
       "                        <td id=\"T_faa35154_fc92_11eb_9d8e_8086f28e2ab5row4_col2\" class=\"data row4 col2\" >0.645452</td>\n",
       "                        <td id=\"T_faa35154_fc92_11eb_9d8e_8086f28e2ab5row4_col3\" class=\"data row4 col3\" >0.911742</td>\n",
       "                        <td id=\"T_faa35154_fc92_11eb_9d8e_8086f28e2ab5row4_col4\" class=\"data row4 col4\" >0.793339</td>\n",
       "                        <td id=\"T_faa35154_fc92_11eb_9d8e_8086f28e2ab5row4_col5\" class=\"data row4 col5\" >0.960606</td>\n",
       "            </tr>\n",
       "            <tr>\n",
       "                                        <th id=\"T_faa35154_fc92_11eb_9d8e_8086f28e2ab5level2_row5\" class=\"row_heading level2 row5\" >Recall</th>\n",
       "                        <td id=\"T_faa35154_fc92_11eb_9d8e_8086f28e2ab5row5_col0\" class=\"data row5 col0\" >0.879595</td>\n",
       "                        <td id=\"T_faa35154_fc92_11eb_9d8e_8086f28e2ab5row5_col1\" class=\"data row5 col1\" >0.928672</td>\n",
       "                        <td id=\"T_faa35154_fc92_11eb_9d8e_8086f28e2ab5row5_col2\" class=\"data row5 col2\" >0.580249</td>\n",
       "                        <td id=\"T_faa35154_fc92_11eb_9d8e_8086f28e2ab5row5_col3\" class=\"data row5 col3\" >0.883583</td>\n",
       "                        <td id=\"T_faa35154_fc92_11eb_9d8e_8086f28e2ab5row5_col4\" class=\"data row5 col4\" >0.729983</td>\n",
       "                        <td id=\"T_faa35154_fc92_11eb_9d8e_8086f28e2ab5row5_col5\" class=\"data row5 col5\" >0.978640</td>\n",
       "            </tr>\n",
       "    </tbody></table>"
      ],
      "text/plain": [
       "<pandas.io.formats.style.Styler at 0x2093472b630>"
      ]
     },
     "execution_count": 26,
     "metadata": {},
     "output_type": "execute_result"
    }
   ],
   "source": [
    "# Valor das métricas de um modelo selecionado pelo melhor valor de um métrica\n",
    "melhores_modelos('Reduzida', tipo = 'xgb', modelo=True)"
   ]
  },
  {
   "cell_type": "markdown",
   "id": "c20a1d59",
   "metadata": {
    "heading_collapsed": true,
    "hidden": true
   },
   "source": [
    "#### RDF"
   ]
  },
  {
   "cell_type": "code",
   "execution_count": 27,
   "id": "9ea7d8cb",
   "metadata": {
    "hidden": true,
    "scrolled": false
   },
   "outputs": [
    {
     "data": {
      "text/html": [
       "<style  type=\"text/css\" >\n",
       "#T_fad222ae_fc92_11eb_b843_8086f28e2ab5row1_col0,#T_fad222ae_fc92_11eb_b843_8086f28e2ab5row1_col1,#T_fad222ae_fc92_11eb_b843_8086f28e2ab5row1_col2,#T_fad222ae_fc92_11eb_b843_8086f28e2ab5row3_col3,#T_fad222ae_fc92_11eb_b843_8086f28e2ab5row3_col4,#T_fad222ae_fc92_11eb_b843_8086f28e2ab5row4_col3,#T_fad222ae_fc92_11eb_b843_8086f28e2ab5row4_col4,#T_fad222ae_fc92_11eb_b843_8086f28e2ab5row5_col5{\n",
       "            background-color:  yellow;\n",
       "        }</style><table id=\"T_fad222ae_fc92_11eb_b843_8086f28e2ab5\" ><thead>    <tr>        <th class=\"blank\" ></th>        <th class=\"blank\" ></th>        <th class=\"index_name level0\" >metrica</th>        <th class=\"col_heading level0 col0\" >Acurácia</th>        <th class=\"col_heading level0 col1\" >F1</th>        <th class=\"col_heading level0 col2\" >MCC</th>        <th class=\"col_heading level0 col3\" >Precisão</th>        <th class=\"col_heading level0 col4\" >ROC</th>        <th class=\"col_heading level0 col5\" >Recall</th>    </tr>    <tr>        <th class=\"index_name level0\" >dataset</th>        <th class=\"index_name level1\" >tipo</th>        <th class=\"index_name level2\" >melhor</th>        <th class=\"blank\" ></th>        <th class=\"blank\" ></th>        <th class=\"blank\" ></th>        <th class=\"blank\" ></th>        <th class=\"blank\" ></th>        <th class=\"blank\" ></th>    </tr></thead><tbody>\n",
       "                <tr>\n",
       "                        <th id=\"T_fad222ae_fc92_11eb_b843_8086f28e2ab5level0_row0\" class=\"row_heading level0 row0\" rowspan=6>Original</th>\n",
       "                        <th id=\"T_fad222ae_fc92_11eb_b843_8086f28e2ab5level1_row0\" class=\"row_heading level1 row0\" rowspan=6>rdf</th>\n",
       "                        <th id=\"T_fad222ae_fc92_11eb_b843_8086f28e2ab5level2_row0\" class=\"row_heading level2 row0\" >Acurácia</th>\n",
       "                        <td id=\"T_fad222ae_fc92_11eb_b843_8086f28e2ab5row0_col0\" class=\"data row0 col0\" >0.897106</td>\n",
       "                        <td id=\"T_fad222ae_fc92_11eb_b843_8086f28e2ab5row0_col1\" class=\"data row0 col1\" >0.937440</td>\n",
       "                        <td id=\"T_fad222ae_fc92_11eb_b843_8086f28e2ab5row0_col2\" class=\"data row0 col2\" >0.656127</td>\n",
       "                        <td id=\"T_fad222ae_fc92_11eb_b843_8086f28e2ab5row0_col3\" class=\"data row0 col3\" >0.913551</td>\n",
       "                        <td id=\"T_fad222ae_fc92_11eb_b843_8086f28e2ab5row0_col4\" class=\"data row0 col4\" >0.798130</td>\n",
       "                        <td id=\"T_fad222ae_fc92_11eb_b843_8086f28e2ab5row0_col5\" class=\"data row0 col5\" >0.962630</td>\n",
       "            </tr>\n",
       "            <tr>\n",
       "                                        <th id=\"T_fad222ae_fc92_11eb_b843_8086f28e2ab5level2_row1\" class=\"row_heading level2 row1\" >F1</th>\n",
       "                        <td id=\"T_fad222ae_fc92_11eb_b843_8086f28e2ab5row1_col0\" class=\"data row1 col0\" >0.897800</td>\n",
       "                        <td id=\"T_fad222ae_fc92_11eb_b843_8086f28e2ab5row1_col1\" class=\"data row1 col1\" >0.938118</td>\n",
       "                        <td id=\"T_fad222ae_fc92_11eb_b843_8086f28e2ab5row1_col2\" class=\"data row1 col2\" >0.656248</td>\n",
       "                        <td id=\"T_fad222ae_fc92_11eb_b843_8086f28e2ab5row1_col3\" class=\"data row1 col3\" >0.910701</td>\n",
       "                        <td id=\"T_fad222ae_fc92_11eb_b843_8086f28e2ab5row1_col4\" class=\"data row1 col4\" >0.792887</td>\n",
       "                        <td id=\"T_fad222ae_fc92_11eb_b843_8086f28e2ab5row1_col5\" class=\"data row1 col5\" >0.967256</td>\n",
       "            </tr>\n",
       "            <tr>\n",
       "                                        <th id=\"T_fad222ae_fc92_11eb_b843_8086f28e2ab5level2_row2\" class=\"row_heading level2 row2\" >MCC</th>\n",
       "                        <td id=\"T_fad222ae_fc92_11eb_b843_8086f28e2ab5row2_col0\" class=\"data row2 col0\" >0.896614</td>\n",
       "                        <td id=\"T_fad222ae_fc92_11eb_b843_8086f28e2ab5row2_col1\" class=\"data row2 col1\" >0.936980</td>\n",
       "                        <td id=\"T_fad222ae_fc92_11eb_b843_8086f28e2ab5row2_col2\" class=\"data row2 col2\" >0.656039</td>\n",
       "                        <td id=\"T_fad222ae_fc92_11eb_b843_8086f28e2ab5row2_col3\" class=\"data row2 col3\" >0.915326</td>\n",
       "                        <td id=\"T_fad222ae_fc92_11eb_b843_8086f28e2ab5row2_col4\" class=\"data row2 col4\" >0.801317</td>\n",
       "                        <td id=\"T_fad222ae_fc92_11eb_b843_8086f28e2ab5row2_col5\" class=\"data row2 col5\" >0.959702</td>\n",
       "            </tr>\n",
       "            <tr>\n",
       "                                        <th id=\"T_fad222ae_fc92_11eb_b843_8086f28e2ab5level2_row3\" class=\"row_heading level2 row3\" >Precisão</th>\n",
       "                        <td id=\"T_fad222ae_fc92_11eb_b843_8086f28e2ab5row3_col0\" class=\"data row3 col0\" >0.852764</td>\n",
       "                        <td id=\"T_fad222ae_fc92_11eb_b843_8086f28e2ab5row3_col1\" class=\"data row3 col1\" >0.904209</td>\n",
       "                        <td id=\"T_fad222ae_fc92_11eb_b843_8086f28e2ab5row3_col2\" class=\"data row3 col2\" >0.598332</td>\n",
       "                        <td id=\"T_fad222ae_fc92_11eb_b843_8086f28e2ab5row3_col3\" class=\"data row3 col3\" >0.943768</td>\n",
       "                        <td id=\"T_fad222ae_fc92_11eb_b843_8086f28e2ab5row3_col4\" class=\"data row3 col4\" >0.829952</td>\n",
       "                        <td id=\"T_fad222ae_fc92_11eb_b843_8086f28e2ab5row3_col5\" class=\"data row3 col5\" >0.867867</td>\n",
       "            </tr>\n",
       "            <tr>\n",
       "                                        <th id=\"T_fad222ae_fc92_11eb_b843_8086f28e2ab5level2_row4\" class=\"row_heading level2 row4\" >ROC</th>\n",
       "                        <td id=\"T_fad222ae_fc92_11eb_b843_8086f28e2ab5row4_col0\" class=\"data row4 col0\" >0.852764</td>\n",
       "                        <td id=\"T_fad222ae_fc92_11eb_b843_8086f28e2ab5row4_col1\" class=\"data row4 col1\" >0.904209</td>\n",
       "                        <td id=\"T_fad222ae_fc92_11eb_b843_8086f28e2ab5row4_col2\" class=\"data row4 col2\" >0.598332</td>\n",
       "                        <td id=\"T_fad222ae_fc92_11eb_b843_8086f28e2ab5row4_col3\" class=\"data row4 col3\" >0.943768</td>\n",
       "                        <td id=\"T_fad222ae_fc92_11eb_b843_8086f28e2ab5row4_col4\" class=\"data row4 col4\" >0.829952</td>\n",
       "                        <td id=\"T_fad222ae_fc92_11eb_b843_8086f28e2ab5row4_col5\" class=\"data row4 col5\" >0.867867</td>\n",
       "            </tr>\n",
       "            <tr>\n",
       "                                        <th id=\"T_fad222ae_fc92_11eb_b843_8086f28e2ab5level2_row5\" class=\"row_heading level2 row5\" >Recall</th>\n",
       "                        <td id=\"T_fad222ae_fc92_11eb_b843_8086f28e2ab5row5_col0\" class=\"data row5 col0\" >0.884805</td>\n",
       "                        <td id=\"T_fad222ae_fc92_11eb_b843_8086f28e2ab5row5_col1\" class=\"data row5 col1\" >0.931579</td>\n",
       "                        <td id=\"T_fad222ae_fc92_11eb_b843_8086f28e2ab5row5_col2\" class=\"data row5 col2\" >0.601346</td>\n",
       "                        <td id=\"T_fad222ae_fc92_11eb_b843_8086f28e2ab5row5_col3\" class=\"data row5 col3\" >0.888369</td>\n",
       "                        <td id=\"T_fad222ae_fc92_11eb_b843_8086f28e2ab5row5_col4\" class=\"data row5 col4\" >0.742189</td>\n",
       "                        <td id=\"T_fad222ae_fc92_11eb_b843_8086f28e2ab5row5_col5\" class=\"data row5 col5\" >0.979219</td>\n",
       "            </tr>\n",
       "    </tbody></table>"
      ],
      "text/plain": [
       "<pandas.io.formats.style.Styler at 0x20937555c18>"
      ]
     },
     "execution_count": 27,
     "metadata": {},
     "output_type": "execute_result"
    }
   ],
   "source": [
    "# Valor das métricas de um modelo selecionado pelo melhor valor de um métrica\n",
    "melhores_modelos('Original', tipo = 'rdf', modelo=True)"
   ]
  },
  {
   "cell_type": "code",
   "execution_count": 28,
   "id": "1d0229e1",
   "metadata": {
    "hidden": true
   },
   "outputs": [
    {
     "data": {
      "text/html": [
       "<style  type=\"text/css\" >\n",
       "#T_fb0c1602_fc92_11eb_ac84_8086f28e2ab5row0_col0,#T_fb0c1602_fc92_11eb_ac84_8086f28e2ab5row0_col2,#T_fb0c1602_fc92_11eb_ac84_8086f28e2ab5row1_col0,#T_fb0c1602_fc92_11eb_ac84_8086f28e2ab5row1_col1,#T_fb0c1602_fc92_11eb_ac84_8086f28e2ab5row1_col5,#T_fb0c1602_fc92_11eb_ac84_8086f28e2ab5row2_col0,#T_fb0c1602_fc92_11eb_ac84_8086f28e2ab5row2_col2,#T_fb0c1602_fc92_11eb_ac84_8086f28e2ab5row3_col3,#T_fb0c1602_fc92_11eb_ac84_8086f28e2ab5row3_col4,#T_fb0c1602_fc92_11eb_ac84_8086f28e2ab5row4_col3,#T_fb0c1602_fc92_11eb_ac84_8086f28e2ab5row4_col4,#T_fb0c1602_fc92_11eb_ac84_8086f28e2ab5row5_col0,#T_fb0c1602_fc92_11eb_ac84_8086f28e2ab5row5_col1,#T_fb0c1602_fc92_11eb_ac84_8086f28e2ab5row5_col5{\n",
       "            background-color:  yellow;\n",
       "        }</style><table id=\"T_fb0c1602_fc92_11eb_ac84_8086f28e2ab5\" ><thead>    <tr>        <th class=\"blank\" ></th>        <th class=\"blank\" ></th>        <th class=\"index_name level0\" >metrica</th>        <th class=\"col_heading level0 col0\" >Acurácia</th>        <th class=\"col_heading level0 col1\" >F1</th>        <th class=\"col_heading level0 col2\" >MCC</th>        <th class=\"col_heading level0 col3\" >Precisão</th>        <th class=\"col_heading level0 col4\" >ROC</th>        <th class=\"col_heading level0 col5\" >Recall</th>    </tr>    <tr>        <th class=\"index_name level0\" >dataset</th>        <th class=\"index_name level1\" >tipo</th>        <th class=\"index_name level2\" >melhor</th>        <th class=\"blank\" ></th>        <th class=\"blank\" ></th>        <th class=\"blank\" ></th>        <th class=\"blank\" ></th>        <th class=\"blank\" ></th>        <th class=\"blank\" ></th>    </tr></thead><tbody>\n",
       "                <tr>\n",
       "                        <th id=\"T_fb0c1602_fc92_11eb_ac84_8086f28e2ab5level0_row0\" class=\"row_heading level0 row0\" rowspan=6>SS</th>\n",
       "                        <th id=\"T_fb0c1602_fc92_11eb_ac84_8086f28e2ab5level1_row0\" class=\"row_heading level1 row0\" rowspan=6>rdf</th>\n",
       "                        <th id=\"T_fb0c1602_fc92_11eb_ac84_8086f28e2ab5level2_row0\" class=\"row_heading level2 row0\" >Acurácia</th>\n",
       "                        <td id=\"T_fb0c1602_fc92_11eb_ac84_8086f28e2ab5row0_col0\" class=\"data row0 col0\" >0.897308</td>\n",
       "                        <td id=\"T_fb0c1602_fc92_11eb_ac84_8086f28e2ab5row0_col1\" class=\"data row0 col1\" >0.937554</td>\n",
       "                        <td id=\"T_fb0c1602_fc92_11eb_ac84_8086f28e2ab5row0_col2\" class=\"data row0 col2\" >0.656909</td>\n",
       "                        <td id=\"T_fb0c1602_fc92_11eb_ac84_8086f28e2ab5row0_col3\" class=\"data row0 col3\" >0.913802</td>\n",
       "                        <td id=\"T_fb0c1602_fc92_11eb_ac84_8086f28e2ab5row0_col4\" class=\"data row0 col4\" >0.798694</td>\n",
       "                        <td id=\"T_fb0c1602_fc92_11eb_ac84_8086f28e2ab5row0_col5\" class=\"data row0 col5\" >0.962594</td>\n",
       "            </tr>\n",
       "            <tr>\n",
       "                                        <th id=\"T_fb0c1602_fc92_11eb_ac84_8086f28e2ab5level2_row1\" class=\"row_heading level2 row1\" >F1</th>\n",
       "                        <td id=\"T_fb0c1602_fc92_11eb_ac84_8086f28e2ab5row1_col0\" class=\"data row1 col0\" >0.897308</td>\n",
       "                        <td id=\"T_fb0c1602_fc92_11eb_ac84_8086f28e2ab5row1_col1\" class=\"data row1 col1\" >0.938008</td>\n",
       "                        <td id=\"T_fb0c1602_fc92_11eb_ac84_8086f28e2ab5row1_col2\" class=\"data row1 col2\" >0.653093</td>\n",
       "                        <td id=\"T_fb0c1602_fc92_11eb_ac84_8086f28e2ab5row1_col3\" class=\"data row1 col3\" >0.908008</td>\n",
       "                        <td id=\"T_fb0c1602_fc92_11eb_ac84_8086f28e2ab5row1_col4\" class=\"data row1 col4\" >0.787393</td>\n",
       "                        <td id=\"T_fb0c1602_fc92_11eb_ac84_8086f28e2ab5row1_col5\" class=\"data row1 col5\" >0.970075</td>\n",
       "            </tr>\n",
       "            <tr>\n",
       "                                        <th id=\"T_fb0c1602_fc92_11eb_ac84_8086f28e2ab5level2_row2\" class=\"row_heading level2 row2\" >MCC</th>\n",
       "                        <td id=\"T_fb0c1602_fc92_11eb_ac84_8086f28e2ab5row2_col0\" class=\"data row2 col0\" >0.897308</td>\n",
       "                        <td id=\"T_fb0c1602_fc92_11eb_ac84_8086f28e2ab5row2_col1\" class=\"data row2 col1\" >0.937554</td>\n",
       "                        <td id=\"T_fb0c1602_fc92_11eb_ac84_8086f28e2ab5row2_col2\" class=\"data row2 col2\" >0.656909</td>\n",
       "                        <td id=\"T_fb0c1602_fc92_11eb_ac84_8086f28e2ab5row2_col3\" class=\"data row2 col3\" >0.913802</td>\n",
       "                        <td id=\"T_fb0c1602_fc92_11eb_ac84_8086f28e2ab5row2_col4\" class=\"data row2 col4\" >0.798694</td>\n",
       "                        <td id=\"T_fb0c1602_fc92_11eb_ac84_8086f28e2ab5row2_col5\" class=\"data row2 col5\" >0.962594</td>\n",
       "            </tr>\n",
       "            <tr>\n",
       "                                        <th id=\"T_fb0c1602_fc92_11eb_ac84_8086f28e2ab5level2_row3\" class=\"row_heading level2 row3\" >Precisão</th>\n",
       "                        <td id=\"T_fb0c1602_fc92_11eb_ac84_8086f28e2ab5row3_col0\" class=\"data row3 col0\" >0.896527</td>\n",
       "                        <td id=\"T_fb0c1602_fc92_11eb_ac84_8086f28e2ab5row3_col1\" class=\"data row3 col1\" >0.936908</td>\n",
       "                        <td id=\"T_fb0c1602_fc92_11eb_ac84_8086f28e2ab5row3_col2\" class=\"data row3 col2\" >0.655944</td>\n",
       "                        <td id=\"T_fb0c1602_fc92_11eb_ac84_8086f28e2ab5row3_col3\" class=\"data row3 col3\" >0.915520</td>\n",
       "                        <td id=\"T_fb0c1602_fc92_11eb_ac84_8086f28e2ab5row3_col4\" class=\"data row3 col4\" >0.801645</td>\n",
       "                        <td id=\"T_fb0c1602_fc92_11eb_ac84_8086f28e2ab5row3_col5\" class=\"data row3 col5\" >0.959341</td>\n",
       "            </tr>\n",
       "            <tr>\n",
       "                                        <th id=\"T_fb0c1602_fc92_11eb_ac84_8086f28e2ab5level2_row4\" class=\"row_heading level2 row4\" >ROC</th>\n",
       "                        <td id=\"T_fb0c1602_fc92_11eb_ac84_8086f28e2ab5row4_col0\" class=\"data row4 col0\" >0.896527</td>\n",
       "                        <td id=\"T_fb0c1602_fc92_11eb_ac84_8086f28e2ab5row4_col1\" class=\"data row4 col1\" >0.936908</td>\n",
       "                        <td id=\"T_fb0c1602_fc92_11eb_ac84_8086f28e2ab5row4_col2\" class=\"data row4 col2\" >0.655944</td>\n",
       "                        <td id=\"T_fb0c1602_fc92_11eb_ac84_8086f28e2ab5row4_col3\" class=\"data row4 col3\" >0.915520</td>\n",
       "                        <td id=\"T_fb0c1602_fc92_11eb_ac84_8086f28e2ab5row4_col4\" class=\"data row4 col4\" >0.801645</td>\n",
       "                        <td id=\"T_fb0c1602_fc92_11eb_ac84_8086f28e2ab5row4_col5\" class=\"data row4 col5\" >0.959341</td>\n",
       "            </tr>\n",
       "            <tr>\n",
       "                                        <th id=\"T_fb0c1602_fc92_11eb_ac84_8086f28e2ab5level2_row5\" class=\"row_heading level2 row5\" >Recall</th>\n",
       "                        <td id=\"T_fb0c1602_fc92_11eb_ac84_8086f28e2ab5row5_col0\" class=\"data row5 col0\" >0.897308</td>\n",
       "                        <td id=\"T_fb0c1602_fc92_11eb_ac84_8086f28e2ab5row5_col1\" class=\"data row5 col1\" >0.938008</td>\n",
       "                        <td id=\"T_fb0c1602_fc92_11eb_ac84_8086f28e2ab5row5_col2\" class=\"data row5 col2\" >0.653093</td>\n",
       "                        <td id=\"T_fb0c1602_fc92_11eb_ac84_8086f28e2ab5row5_col3\" class=\"data row5 col3\" >0.908008</td>\n",
       "                        <td id=\"T_fb0c1602_fc92_11eb_ac84_8086f28e2ab5row5_col4\" class=\"data row5 col4\" >0.787393</td>\n",
       "                        <td id=\"T_fb0c1602_fc92_11eb_ac84_8086f28e2ab5row5_col5\" class=\"data row5 col5\" >0.970075</td>\n",
       "            </tr>\n",
       "    </tbody></table>"
      ],
      "text/plain": [
       "<pandas.io.formats.style.Styler at 0x209378f2550>"
      ]
     },
     "execution_count": 28,
     "metadata": {},
     "output_type": "execute_result"
    }
   ],
   "source": [
    "# Valor das métricas de um modelo selecionado pelo melhor valor de um métrica\n",
    "melhores_modelos('SS', tipo = 'rdf', modelo=True)"
   ]
  },
  {
   "cell_type": "code",
   "execution_count": 29,
   "id": "5571490d",
   "metadata": {
    "hidden": true
   },
   "outputs": [
    {
     "data": {
      "text/html": [
       "<style  type=\"text/css\" >\n",
       "#T_fb3c208c_fc92_11eb_8852_8086f28e2ab5row1_col0,#T_fb3c208c_fc92_11eb_8852_8086f28e2ab5row1_col1,#T_fb3c208c_fc92_11eb_8852_8086f28e2ab5row1_col2,#T_fb3c208c_fc92_11eb_8852_8086f28e2ab5row2_col3,#T_fb3c208c_fc92_11eb_8852_8086f28e2ab5row2_col4,#T_fb3c208c_fc92_11eb_8852_8086f28e2ab5row3_col3,#T_fb3c208c_fc92_11eb_8852_8086f28e2ab5row3_col4,#T_fb3c208c_fc92_11eb_8852_8086f28e2ab5row4_col3,#T_fb3c208c_fc92_11eb_8852_8086f28e2ab5row4_col4,#T_fb3c208c_fc92_11eb_8852_8086f28e2ab5row5_col5{\n",
       "            background-color:  yellow;\n",
       "        }</style><table id=\"T_fb3c208c_fc92_11eb_8852_8086f28e2ab5\" ><thead>    <tr>        <th class=\"blank\" ></th>        <th class=\"blank\" ></th>        <th class=\"index_name level0\" >metrica</th>        <th class=\"col_heading level0 col0\" >Acurácia</th>        <th class=\"col_heading level0 col1\" >F1</th>        <th class=\"col_heading level0 col2\" >MCC</th>        <th class=\"col_heading level0 col3\" >Precisão</th>        <th class=\"col_heading level0 col4\" >ROC</th>        <th class=\"col_heading level0 col5\" >Recall</th>    </tr>    <tr>        <th class=\"index_name level0\" >dataset</th>        <th class=\"index_name level1\" >tipo</th>        <th class=\"index_name level2\" >melhor</th>        <th class=\"blank\" ></th>        <th class=\"blank\" ></th>        <th class=\"blank\" ></th>        <th class=\"blank\" ></th>        <th class=\"blank\" ></th>        <th class=\"blank\" ></th>    </tr></thead><tbody>\n",
       "                <tr>\n",
       "                        <th id=\"T_fb3c208c_fc92_11eb_8852_8086f28e2ab5level0_row0\" class=\"row_heading level0 row0\" rowspan=6>RS</th>\n",
       "                        <th id=\"T_fb3c208c_fc92_11eb_8852_8086f28e2ab5level1_row0\" class=\"row_heading level1 row0\" rowspan=6>rdf</th>\n",
       "                        <th id=\"T_fb3c208c_fc92_11eb_8852_8086f28e2ab5level2_row0\" class=\"row_heading level2 row0\" >Acurácia</th>\n",
       "                        <td id=\"T_fb3c208c_fc92_11eb_8852_8086f28e2ab5row0_col0\" class=\"data row0 col0\" >0.897019</td>\n",
       "                        <td id=\"T_fb3c208c_fc92_11eb_8852_8086f28e2ab5row0_col1\" class=\"data row0 col1\" >0.937390</td>\n",
       "                        <td id=\"T_fb3c208c_fc92_11eb_8852_8086f28e2ab5row0_col2\" class=\"data row0 col2\" >0.655790</td>\n",
       "                        <td id=\"T_fb3c208c_fc92_11eb_8852_8086f28e2ab5row0_col3\" class=\"data row0 col3\" >0.913489</td>\n",
       "                        <td id=\"T_fb3c208c_fc92_11eb_8852_8086f28e2ab5row0_col4\" class=\"data row0 col4\" >0.797967</td>\n",
       "                        <td id=\"T_fb3c208c_fc92_11eb_8852_8086f28e2ab5row0_col5\" class=\"data row0 col5\" >0.962594</td>\n",
       "            </tr>\n",
       "            <tr>\n",
       "                                        <th id=\"T_fb3c208c_fc92_11eb_8852_8086f28e2ab5level2_row1\" class=\"row_heading level2 row1\" >F1</th>\n",
       "                        <td id=\"T_fb3c208c_fc92_11eb_8852_8086f28e2ab5row1_col0\" class=\"data row1 col0\" >0.897771</td>\n",
       "                        <td id=\"T_fb3c208c_fc92_11eb_8852_8086f28e2ab5row1_col1\" class=\"data row1 col1\" >0.938097</td>\n",
       "                        <td id=\"T_fb3c208c_fc92_11eb_8852_8086f28e2ab5row1_col2\" class=\"data row1 col2\" >0.656178</td>\n",
       "                        <td id=\"T_fb3c208c_fc92_11eb_8852_8086f28e2ab5row1_col3\" class=\"data row1 col3\" >0.910725</td>\n",
       "                        <td id=\"T_fb3c208c_fc92_11eb_8852_8086f28e2ab5row1_col4\" class=\"data row1 col4\" >0.792923</td>\n",
       "                        <td id=\"T_fb3c208c_fc92_11eb_8852_8086f28e2ab5row1_col5\" class=\"data row1 col5\" >0.967184</td>\n",
       "            </tr>\n",
       "            <tr>\n",
       "                                        <th id=\"T_fb3c208c_fc92_11eb_8852_8086f28e2ab5level2_row2\" class=\"row_heading level2 row2\" >MCC</th>\n",
       "                        <td id=\"T_fb3c208c_fc92_11eb_8852_8086f28e2ab5row2_col0\" class=\"data row2 col0\" >0.896556</td>\n",
       "                        <td id=\"T_fb3c208c_fc92_11eb_8852_8086f28e2ab5row2_col1\" class=\"data row2 col1\" >0.936916</td>\n",
       "                        <td id=\"T_fb3c208c_fc92_11eb_8852_8086f28e2ab5row2_col2\" class=\"data row2 col2\" >0.656141</td>\n",
       "                        <td id=\"T_fb3c208c_fc92_11eb_8852_8086f28e2ab5row2_col3\" class=\"data row2 col3\" >0.915667</td>\n",
       "                        <td id=\"T_fb3c208c_fc92_11eb_8852_8086f28e2ab5row2_col4\" class=\"data row2 col4\" >0.801936</td>\n",
       "                        <td id=\"T_fb3c208c_fc92_11eb_8852_8086f28e2ab5row2_col5\" class=\"data row2 col5\" >0.959196</td>\n",
       "            </tr>\n",
       "            <tr>\n",
       "                                        <th id=\"T_fb3c208c_fc92_11eb_8852_8086f28e2ab5level2_row3\" class=\"row_heading level2 row3\" >Precisão</th>\n",
       "                        <td id=\"T_fb3c208c_fc92_11eb_8852_8086f28e2ab5row3_col0\" class=\"data row3 col0\" >0.896556</td>\n",
       "                        <td id=\"T_fb3c208c_fc92_11eb_8852_8086f28e2ab5row3_col1\" class=\"data row3 col1\" >0.936916</td>\n",
       "                        <td id=\"T_fb3c208c_fc92_11eb_8852_8086f28e2ab5row3_col2\" class=\"data row3 col2\" >0.656141</td>\n",
       "                        <td id=\"T_fb3c208c_fc92_11eb_8852_8086f28e2ab5row3_col3\" class=\"data row3 col3\" >0.915667</td>\n",
       "                        <td id=\"T_fb3c208c_fc92_11eb_8852_8086f28e2ab5row3_col4\" class=\"data row3 col4\" >0.801936</td>\n",
       "                        <td id=\"T_fb3c208c_fc92_11eb_8852_8086f28e2ab5row3_col5\" class=\"data row3 col5\" >0.959196</td>\n",
       "            </tr>\n",
       "            <tr>\n",
       "                                        <th id=\"T_fb3c208c_fc92_11eb_8852_8086f28e2ab5level2_row4\" class=\"row_heading level2 row4\" >ROC</th>\n",
       "                        <td id=\"T_fb3c208c_fc92_11eb_8852_8086f28e2ab5row4_col0\" class=\"data row4 col0\" >0.896556</td>\n",
       "                        <td id=\"T_fb3c208c_fc92_11eb_8852_8086f28e2ab5row4_col1\" class=\"data row4 col1\" >0.936916</td>\n",
       "                        <td id=\"T_fb3c208c_fc92_11eb_8852_8086f28e2ab5row4_col2\" class=\"data row4 col2\" >0.656141</td>\n",
       "                        <td id=\"T_fb3c208c_fc92_11eb_8852_8086f28e2ab5row4_col3\" class=\"data row4 col3\" >0.915667</td>\n",
       "                        <td id=\"T_fb3c208c_fc92_11eb_8852_8086f28e2ab5row4_col4\" class=\"data row4 col4\" >0.801936</td>\n",
       "                        <td id=\"T_fb3c208c_fc92_11eb_8852_8086f28e2ab5row4_col5\" class=\"data row4 col5\" >0.959196</td>\n",
       "            </tr>\n",
       "            <tr>\n",
       "                                        <th id=\"T_fb3c208c_fc92_11eb_8852_8086f28e2ab5level2_row5\" class=\"row_heading level2 row5\" >Recall</th>\n",
       "                        <td id=\"T_fb3c208c_fc92_11eb_8852_8086f28e2ab5row5_col0\" class=\"data row5 col0\" >0.897221</td>\n",
       "                        <td id=\"T_fb3c208c_fc92_11eb_8852_8086f28e2ab5row5_col1\" class=\"data row5 col1\" >0.937984</td>\n",
       "                        <td id=\"T_fb3c208c_fc92_11eb_8852_8086f28e2ab5row5_col2\" class=\"data row5 col2\" >0.652591</td>\n",
       "                        <td id=\"T_fb3c208c_fc92_11eb_8852_8086f28e2ab5row5_col3\" class=\"data row5 col3\" >0.907584</td>\n",
       "                        <td id=\"T_fb3c208c_fc92_11eb_8852_8086f28e2ab5row5_col4\" class=\"data row5 col4\" >0.786520</td>\n",
       "                        <td id=\"T_fb3c208c_fc92_11eb_8852_8086f28e2ab5row5_col5\" class=\"data row5 col5\" >0.970509</td>\n",
       "            </tr>\n",
       "    </tbody></table>"
      ],
      "text/plain": [
       "<pandas.io.formats.style.Styler at 0x20937868ac8>"
      ]
     },
     "execution_count": 29,
     "metadata": {},
     "output_type": "execute_result"
    }
   ],
   "source": [
    "# Valor das métricas de um modelo selecionado pelo melhor valor de um métrica\n",
    "melhores_modelos('RS', tipo = 'rdf', modelo=True)"
   ]
  },
  {
   "cell_type": "code",
   "execution_count": 30,
   "id": "ad4adfac",
   "metadata": {
    "hidden": true
   },
   "outputs": [
    {
     "data": {
      "text/html": [
       "<style  type=\"text/css\" >\n",
       "#T_fb68f598_fc92_11eb_89ec_8086f28e2ab5row0_col0,#T_fb68f598_fc92_11eb_89ec_8086f28e2ab5row0_col1,#T_fb68f598_fc92_11eb_89ec_8086f28e2ab5row0_col2,#T_fb68f598_fc92_11eb_89ec_8086f28e2ab5row1_col0,#T_fb68f598_fc92_11eb_89ec_8086f28e2ab5row1_col1,#T_fb68f598_fc92_11eb_89ec_8086f28e2ab5row1_col2,#T_fb68f598_fc92_11eb_89ec_8086f28e2ab5row2_col0,#T_fb68f598_fc92_11eb_89ec_8086f28e2ab5row2_col1,#T_fb68f598_fc92_11eb_89ec_8086f28e2ab5row2_col2,#T_fb68f598_fc92_11eb_89ec_8086f28e2ab5row3_col3,#T_fb68f598_fc92_11eb_89ec_8086f28e2ab5row3_col4,#T_fb68f598_fc92_11eb_89ec_8086f28e2ab5row4_col3,#T_fb68f598_fc92_11eb_89ec_8086f28e2ab5row4_col4,#T_fb68f598_fc92_11eb_89ec_8086f28e2ab5row5_col5{\n",
       "            background-color:  yellow;\n",
       "        }</style><table id=\"T_fb68f598_fc92_11eb_89ec_8086f28e2ab5\" ><thead>    <tr>        <th class=\"blank\" ></th>        <th class=\"blank\" ></th>        <th class=\"index_name level0\" >metrica</th>        <th class=\"col_heading level0 col0\" >Acurácia</th>        <th class=\"col_heading level0 col1\" >F1</th>        <th class=\"col_heading level0 col2\" >MCC</th>        <th class=\"col_heading level0 col3\" >Precisão</th>        <th class=\"col_heading level0 col4\" >ROC</th>        <th class=\"col_heading level0 col5\" >Recall</th>    </tr>    <tr>        <th class=\"index_name level0\" >dataset</th>        <th class=\"index_name level1\" >tipo</th>        <th class=\"index_name level2\" >melhor</th>        <th class=\"blank\" ></th>        <th class=\"blank\" ></th>        <th class=\"blank\" ></th>        <th class=\"blank\" ></th>        <th class=\"blank\" ></th>        <th class=\"blank\" ></th>    </tr></thead><tbody>\n",
       "                <tr>\n",
       "                        <th id=\"T_fb68f598_fc92_11eb_89ec_8086f28e2ab5level0_row0\" class=\"row_heading level0 row0\" rowspan=6>PT</th>\n",
       "                        <th id=\"T_fb68f598_fc92_11eb_89ec_8086f28e2ab5level1_row0\" class=\"row_heading level1 row0\" rowspan=6>rdf</th>\n",
       "                        <th id=\"T_fb68f598_fc92_11eb_89ec_8086f28e2ab5level2_row0\" class=\"row_heading level2 row0\" >Acurácia</th>\n",
       "                        <td id=\"T_fb68f598_fc92_11eb_89ec_8086f28e2ab5row0_col0\" class=\"data row0 col0\" >0.897713</td>\n",
       "                        <td id=\"T_fb68f598_fc92_11eb_89ec_8086f28e2ab5row0_col1\" class=\"data row0 col1\" >0.938089</td>\n",
       "                        <td id=\"T_fb68f598_fc92_11eb_89ec_8086f28e2ab5row0_col2\" class=\"data row0 col2\" >0.655761</td>\n",
       "                        <td id=\"T_fb68f598_fc92_11eb_89ec_8086f28e2ab5row0_col3\" class=\"data row0 col3\" >0.910326</td>\n",
       "                        <td id=\"T_fb68f598_fc92_11eb_89ec_8086f28e2ab5row0_col4\" class=\"data row0 col4\" >0.792123</td>\n",
       "                        <td id=\"T_fb68f598_fc92_11eb_89ec_8086f28e2ab5row0_col5\" class=\"data row0 col5\" >0.967617</td>\n",
       "            </tr>\n",
       "            <tr>\n",
       "                                        <th id=\"T_fb68f598_fc92_11eb_89ec_8086f28e2ab5level2_row1\" class=\"row_heading level2 row1\" >F1</th>\n",
       "                        <td id=\"T_fb68f598_fc92_11eb_89ec_8086f28e2ab5row1_col0\" class=\"data row1 col0\" >0.897713</td>\n",
       "                        <td id=\"T_fb68f598_fc92_11eb_89ec_8086f28e2ab5row1_col1\" class=\"data row1 col1\" >0.938089</td>\n",
       "                        <td id=\"T_fb68f598_fc92_11eb_89ec_8086f28e2ab5row1_col2\" class=\"data row1 col2\" >0.655761</td>\n",
       "                        <td id=\"T_fb68f598_fc92_11eb_89ec_8086f28e2ab5row1_col3\" class=\"data row1 col3\" >0.910326</td>\n",
       "                        <td id=\"T_fb68f598_fc92_11eb_89ec_8086f28e2ab5row1_col4\" class=\"data row1 col4\" >0.792123</td>\n",
       "                        <td id=\"T_fb68f598_fc92_11eb_89ec_8086f28e2ab5row1_col5\" class=\"data row1 col5\" >0.967617</td>\n",
       "            </tr>\n",
       "            <tr>\n",
       "                                        <th id=\"T_fb68f598_fc92_11eb_89ec_8086f28e2ab5level2_row2\" class=\"row_heading level2 row2\" >MCC</th>\n",
       "                        <td id=\"T_fb68f598_fc92_11eb_89ec_8086f28e2ab5row2_col0\" class=\"data row2 col0\" >0.897713</td>\n",
       "                        <td id=\"T_fb68f598_fc92_11eb_89ec_8086f28e2ab5row2_col1\" class=\"data row2 col1\" >0.938089</td>\n",
       "                        <td id=\"T_fb68f598_fc92_11eb_89ec_8086f28e2ab5row2_col2\" class=\"data row2 col2\" >0.655761</td>\n",
       "                        <td id=\"T_fb68f598_fc92_11eb_89ec_8086f28e2ab5row2_col3\" class=\"data row2 col3\" >0.910326</td>\n",
       "                        <td id=\"T_fb68f598_fc92_11eb_89ec_8086f28e2ab5row2_col4\" class=\"data row2 col4\" >0.792123</td>\n",
       "                        <td id=\"T_fb68f598_fc92_11eb_89ec_8086f28e2ab5row2_col5\" class=\"data row2 col5\" >0.967617</td>\n",
       "            </tr>\n",
       "            <tr>\n",
       "                                        <th id=\"T_fb68f598_fc92_11eb_89ec_8086f28e2ab5level2_row3\" class=\"row_heading level2 row3\" >Precisão</th>\n",
       "                        <td id=\"T_fb68f598_fc92_11eb_89ec_8086f28e2ab5row3_col0\" class=\"data row3 col0\" >0.896266</td>\n",
       "                        <td id=\"T_fb68f598_fc92_11eb_89ec_8086f28e2ab5row3_col1\" class=\"data row3 col1\" >0.936820</td>\n",
       "                        <td id=\"T_fb68f598_fc92_11eb_89ec_8086f28e2ab5row3_col2\" class=\"data row3 col2\" >0.654322</td>\n",
       "                        <td id=\"T_fb68f598_fc92_11eb_89ec_8086f28e2ab5row3_col3\" class=\"data row3 col3\" >0.914465</td>\n",
       "                        <td id=\"T_fb68f598_fc92_11eb_89ec_8086f28e2ab5row3_col4\" class=\"data row3 col4\" >0.799517</td>\n",
       "                        <td id=\"T_fb68f598_fc92_11eb_89ec_8086f28e2ab5row3_col5\" class=\"data row3 col5\" >0.960317</td>\n",
       "            </tr>\n",
       "            <tr>\n",
       "                                        <th id=\"T_fb68f598_fc92_11eb_89ec_8086f28e2ab5level2_row4\" class=\"row_heading level2 row4\" >ROC</th>\n",
       "                        <td id=\"T_fb68f598_fc92_11eb_89ec_8086f28e2ab5row4_col0\" class=\"data row4 col0\" >0.896266</td>\n",
       "                        <td id=\"T_fb68f598_fc92_11eb_89ec_8086f28e2ab5row4_col1\" class=\"data row4 col1\" >0.936820</td>\n",
       "                        <td id=\"T_fb68f598_fc92_11eb_89ec_8086f28e2ab5row4_col2\" class=\"data row4 col2\" >0.654322</td>\n",
       "                        <td id=\"T_fb68f598_fc92_11eb_89ec_8086f28e2ab5row4_col3\" class=\"data row4 col3\" >0.914465</td>\n",
       "                        <td id=\"T_fb68f598_fc92_11eb_89ec_8086f28e2ab5row4_col4\" class=\"data row4 col4\" >0.799517</td>\n",
       "                        <td id=\"T_fb68f598_fc92_11eb_89ec_8086f28e2ab5row4_col5\" class=\"data row4 col5\" >0.960317</td>\n",
       "            </tr>\n",
       "            <tr>\n",
       "                                        <th id=\"T_fb68f598_fc92_11eb_89ec_8086f28e2ab5level2_row5\" class=\"row_heading level2 row5\" >Recall</th>\n",
       "                        <td id=\"T_fb68f598_fc92_11eb_89ec_8086f28e2ab5row5_col0\" class=\"data row5 col0\" >0.896498</td>\n",
       "                        <td id=\"T_fb68f598_fc92_11eb_89ec_8086f28e2ab5row5_col1\" class=\"data row5 col1\" >0.937601</td>\n",
       "                        <td id=\"T_fb68f598_fc92_11eb_89ec_8086f28e2ab5row5_col2\" class=\"data row5 col2\" >0.649636</td>\n",
       "                        <td id=\"T_fb68f598_fc92_11eb_89ec_8086f28e2ab5row5_col3\" class=\"data row5 col3\" >0.906487</td>\n",
       "                        <td id=\"T_fb68f598_fc92_11eb_89ec_8086f28e2ab5row5_col4\" class=\"data row5 col4\" >0.784048</td>\n",
       "                        <td id=\"T_fb68f598_fc92_11eb_89ec_8086f28e2ab5row5_col5\" class=\"data row5 col5\" >0.970942</td>\n",
       "            </tr>\n",
       "    </tbody></table>"
      ],
      "text/plain": [
       "<pandas.io.formats.style.Styler at 0x20937868c88>"
      ]
     },
     "execution_count": 30,
     "metadata": {},
     "output_type": "execute_result"
    }
   ],
   "source": [
    "# Valor das métricas de um modelo selecionado pelo melhor valor de um métrica\n",
    "melhores_modelos('PT', tipo = 'rdf', modelo=True)"
   ]
  },
  {
   "cell_type": "code",
   "execution_count": 31,
   "id": "6e3bfbfc",
   "metadata": {
    "hidden": true
   },
   "outputs": [
    {
     "data": {
      "text/html": [
       "<style  type=\"text/css\" >\n",
       "#T_fb91fb86_fc92_11eb_b260_8086f28e2ab5row0_col0,#T_fb91fb86_fc92_11eb_b260_8086f28e2ab5row0_col1,#T_fb91fb86_fc92_11eb_b260_8086f28e2ab5row0_col5,#T_fb91fb86_fc92_11eb_b260_8086f28e2ab5row1_col2,#T_fb91fb86_fc92_11eb_b260_8086f28e2ab5row2_col2,#T_fb91fb86_fc92_11eb_b260_8086f28e2ab5row3_col3,#T_fb91fb86_fc92_11eb_b260_8086f28e2ab5row3_col4,#T_fb91fb86_fc92_11eb_b260_8086f28e2ab5row4_col3,#T_fb91fb86_fc92_11eb_b260_8086f28e2ab5row4_col4,#T_fb91fb86_fc92_11eb_b260_8086f28e2ab5row5_col0,#T_fb91fb86_fc92_11eb_b260_8086f28e2ab5row5_col1,#T_fb91fb86_fc92_11eb_b260_8086f28e2ab5row5_col5{\n",
       "            background-color:  yellow;\n",
       "        }</style><table id=\"T_fb91fb86_fc92_11eb_b260_8086f28e2ab5\" ><thead>    <tr>        <th class=\"blank\" ></th>        <th class=\"blank\" ></th>        <th class=\"index_name level0\" >metrica</th>        <th class=\"col_heading level0 col0\" >Acurácia</th>        <th class=\"col_heading level0 col1\" >F1</th>        <th class=\"col_heading level0 col2\" >MCC</th>        <th class=\"col_heading level0 col3\" >Precisão</th>        <th class=\"col_heading level0 col4\" >ROC</th>        <th class=\"col_heading level0 col5\" >Recall</th>    </tr>    <tr>        <th class=\"index_name level0\" >dataset</th>        <th class=\"index_name level1\" >tipo</th>        <th class=\"index_name level2\" >melhor</th>        <th class=\"blank\" ></th>        <th class=\"blank\" ></th>        <th class=\"blank\" ></th>        <th class=\"blank\" ></th>        <th class=\"blank\" ></th>        <th class=\"blank\" ></th>    </tr></thead><tbody>\n",
       "                <tr>\n",
       "                        <th id=\"T_fb91fb86_fc92_11eb_b260_8086f28e2ab5level0_row0\" class=\"row_heading level0 row0\" rowspan=6>Reduzida</th>\n",
       "                        <th id=\"T_fb91fb86_fc92_11eb_b260_8086f28e2ab5level1_row0\" class=\"row_heading level1 row0\" rowspan=6>rdf</th>\n",
       "                        <th id=\"T_fb91fb86_fc92_11eb_b260_8086f28e2ab5level2_row0\" class=\"row_heading level2 row0\" >Acurácia</th>\n",
       "                        <td id=\"T_fb91fb86_fc92_11eb_b260_8086f28e2ab5row0_col0\" class=\"data row0 col0\" >0.891172</td>\n",
       "                        <td id=\"T_fb91fb86_fc92_11eb_b260_8086f28e2ab5row0_col1\" class=\"data row0 col1\" >0.933992</td>\n",
       "                        <td id=\"T_fb91fb86_fc92_11eb_b260_8086f28e2ab5row0_col2\" class=\"data row0 col2\" >0.634074</td>\n",
       "                        <td id=\"T_fb91fb86_fc92_11eb_b260_8086f28e2ab5row0_col3\" class=\"data row0 col3\" >0.908085</td>\n",
       "                        <td id=\"T_fb91fb86_fc92_11eb_b260_8086f28e2ab5row0_col4\" class=\"data row0 col4\" >0.785036</td>\n",
       "                        <td id=\"T_fb91fb86_fc92_11eb_b260_8086f28e2ab5row0_col5\" class=\"data row0 col5\" >0.961437</td>\n",
       "            </tr>\n",
       "            <tr>\n",
       "                                        <th id=\"T_fb91fb86_fc92_11eb_b260_8086f28e2ab5level2_row1\" class=\"row_heading level2 row1\" >F1</th>\n",
       "                        <td id=\"T_fb91fb86_fc92_11eb_b260_8086f28e2ab5row1_col0\" class=\"data row1 col0\" >0.890854</td>\n",
       "                        <td id=\"T_fb91fb86_fc92_11eb_b260_8086f28e2ab5row1_col1\" class=\"data row1 col1\" >0.933403</td>\n",
       "                        <td id=\"T_fb91fb86_fc92_11eb_b260_8086f28e2ab5row1_col2\" class=\"data row1 col2\" >0.637126</td>\n",
       "                        <td id=\"T_fb91fb86_fc92_11eb_b260_8086f28e2ab5row1_col3\" class=\"data row1 col3\" >0.912639</td>\n",
       "                        <td id=\"T_fb91fb86_fc92_11eb_b260_8086f28e2ab5row1_col4\" class=\"data row1 col4\" >0.793736</td>\n",
       "                        <td id=\"T_fb91fb86_fc92_11eb_b260_8086f28e2ab5row1_col5\" class=\"data row1 col5\" >0.955148</td>\n",
       "            </tr>\n",
       "            <tr>\n",
       "                                        <th id=\"T_fb91fb86_fc92_11eb_b260_8086f28e2ab5level2_row2\" class=\"row_heading level2 row2\" >MCC</th>\n",
       "                        <td id=\"T_fb91fb86_fc92_11eb_b260_8086f28e2ab5row2_col0\" class=\"data row2 col0\" >0.890854</td>\n",
       "                        <td id=\"T_fb91fb86_fc92_11eb_b260_8086f28e2ab5row2_col1\" class=\"data row2 col1\" >0.933403</td>\n",
       "                        <td id=\"T_fb91fb86_fc92_11eb_b260_8086f28e2ab5row2_col2\" class=\"data row2 col2\" >0.637126</td>\n",
       "                        <td id=\"T_fb91fb86_fc92_11eb_b260_8086f28e2ab5row2_col3\" class=\"data row2 col3\" >0.912639</td>\n",
       "                        <td id=\"T_fb91fb86_fc92_11eb_b260_8086f28e2ab5row2_col4\" class=\"data row2 col4\" >0.793736</td>\n",
       "                        <td id=\"T_fb91fb86_fc92_11eb_b260_8086f28e2ab5row2_col5\" class=\"data row2 col5\" >0.955148</td>\n",
       "            </tr>\n",
       "            <tr>\n",
       "                                        <th id=\"T_fb91fb86_fc92_11eb_b260_8086f28e2ab5level2_row3\" class=\"row_heading level2 row3\" >Precisão</th>\n",
       "                        <td id=\"T_fb91fb86_fc92_11eb_b260_8086f28e2ab5row3_col0\" class=\"data row3 col0\" >0.887873</td>\n",
       "                        <td id=\"T_fb91fb86_fc92_11eb_b260_8086f28e2ab5row3_col1\" class=\"data row3 col1\" >0.931046</td>\n",
       "                        <td id=\"T_fb91fb86_fc92_11eb_b260_8086f28e2ab5row3_col2\" class=\"data row3 col2\" >0.633587</td>\n",
       "                        <td id=\"T_fb91fb86_fc92_11eb_b260_8086f28e2ab5row3_col3\" class=\"data row3 col3\" >0.917239</td>\n",
       "                        <td id=\"T_fb91fb86_fc92_11eb_b260_8086f28e2ab5row3_col4\" class=\"data row3 col4\" >0.801155</td>\n",
       "                        <td id=\"T_fb91fb86_fc92_11eb_b260_8086f28e2ab5row3_col5\" class=\"data row3 col5\" >0.945282</td>\n",
       "            </tr>\n",
       "            <tr>\n",
       "                                        <th id=\"T_fb91fb86_fc92_11eb_b260_8086f28e2ab5level2_row4\" class=\"row_heading level2 row4\" >ROC</th>\n",
       "                        <td id=\"T_fb91fb86_fc92_11eb_b260_8086f28e2ab5row4_col0\" class=\"data row4 col0\" >0.887873</td>\n",
       "                        <td id=\"T_fb91fb86_fc92_11eb_b260_8086f28e2ab5row4_col1\" class=\"data row4 col1\" >0.931046</td>\n",
       "                        <td id=\"T_fb91fb86_fc92_11eb_b260_8086f28e2ab5row4_col2\" class=\"data row4 col2\" >0.633587</td>\n",
       "                        <td id=\"T_fb91fb86_fc92_11eb_b260_8086f28e2ab5row4_col3\" class=\"data row4 col3\" >0.917239</td>\n",
       "                        <td id=\"T_fb91fb86_fc92_11eb_b260_8086f28e2ab5row4_col4\" class=\"data row4 col4\" >0.801155</td>\n",
       "                        <td id=\"T_fb91fb86_fc92_11eb_b260_8086f28e2ab5row4_col5\" class=\"data row4 col5\" >0.945282</td>\n",
       "            </tr>\n",
       "            <tr>\n",
       "                                        <th id=\"T_fb91fb86_fc92_11eb_b260_8086f28e2ab5level2_row5\" class=\"row_heading level2 row5\" >Recall</th>\n",
       "                        <td id=\"T_fb91fb86_fc92_11eb_b260_8086f28e2ab5row5_col0\" class=\"data row5 col0\" >0.891172</td>\n",
       "                        <td id=\"T_fb91fb86_fc92_11eb_b260_8086f28e2ab5row5_col1\" class=\"data row5 col1\" >0.933992</td>\n",
       "                        <td id=\"T_fb91fb86_fc92_11eb_b260_8086f28e2ab5row5_col2\" class=\"data row5 col2\" >0.634074</td>\n",
       "                        <td id=\"T_fb91fb86_fc92_11eb_b260_8086f28e2ab5row5_col3\" class=\"data row5 col3\" >0.908085</td>\n",
       "                        <td id=\"T_fb91fb86_fc92_11eb_b260_8086f28e2ab5row5_col4\" class=\"data row5 col4\" >0.785036</td>\n",
       "                        <td id=\"T_fb91fb86_fc92_11eb_b260_8086f28e2ab5row5_col5\" class=\"data row5 col5\" >0.961437</td>\n",
       "            </tr>\n",
       "    </tbody></table>"
      ],
      "text/plain": [
       "<pandas.io.formats.style.Styler at 0x209378fb780>"
      ]
     },
     "execution_count": 31,
     "metadata": {},
     "output_type": "execute_result"
    }
   ],
   "source": [
    "# Valor das métricas de um modelo selecionado pelo melhor valor de um métrica\n",
    "melhores_modelos('Reduzida', tipo = 'rdf', modelo=True)"
   ]
  },
  {
   "cell_type": "markdown",
   "id": "984a0f23",
   "metadata": {
    "heading_collapsed": true,
    "hidden": true
   },
   "source": [
    "#### KNN"
   ]
  },
  {
   "cell_type": "code",
   "execution_count": 32,
   "id": "57715634",
   "metadata": {
    "hidden": true
   },
   "outputs": [
    {
     "data": {
      "text/html": [
       "<style  type=\"text/css\" >\n",
       "#T_fbc7f7d0_fc92_11eb_a1be_8086f28e2ab5row0_col0,#T_fbc7f7d0_fc92_11eb_a1be_8086f28e2ab5row0_col1,#T_fbc7f7d0_fc92_11eb_a1be_8086f28e2ab5row0_col2,#T_fbc7f7d0_fc92_11eb_a1be_8086f28e2ab5row0_col3,#T_fbc7f7d0_fc92_11eb_a1be_8086f28e2ab5row0_col4,#T_fbc7f7d0_fc92_11eb_a1be_8086f28e2ab5row1_col0,#T_fbc7f7d0_fc92_11eb_a1be_8086f28e2ab5row1_col1,#T_fbc7f7d0_fc92_11eb_a1be_8086f28e2ab5row1_col2,#T_fbc7f7d0_fc92_11eb_a1be_8086f28e2ab5row1_col3,#T_fbc7f7d0_fc92_11eb_a1be_8086f28e2ab5row1_col4,#T_fbc7f7d0_fc92_11eb_a1be_8086f28e2ab5row2_col0,#T_fbc7f7d0_fc92_11eb_a1be_8086f28e2ab5row2_col1,#T_fbc7f7d0_fc92_11eb_a1be_8086f28e2ab5row2_col2,#T_fbc7f7d0_fc92_11eb_a1be_8086f28e2ab5row2_col3,#T_fbc7f7d0_fc92_11eb_a1be_8086f28e2ab5row2_col4,#T_fbc7f7d0_fc92_11eb_a1be_8086f28e2ab5row3_col0,#T_fbc7f7d0_fc92_11eb_a1be_8086f28e2ab5row3_col1,#T_fbc7f7d0_fc92_11eb_a1be_8086f28e2ab5row3_col2,#T_fbc7f7d0_fc92_11eb_a1be_8086f28e2ab5row3_col3,#T_fbc7f7d0_fc92_11eb_a1be_8086f28e2ab5row3_col4,#T_fbc7f7d0_fc92_11eb_a1be_8086f28e2ab5row4_col0,#T_fbc7f7d0_fc92_11eb_a1be_8086f28e2ab5row4_col1,#T_fbc7f7d0_fc92_11eb_a1be_8086f28e2ab5row4_col2,#T_fbc7f7d0_fc92_11eb_a1be_8086f28e2ab5row4_col3,#T_fbc7f7d0_fc92_11eb_a1be_8086f28e2ab5row4_col4,#T_fbc7f7d0_fc92_11eb_a1be_8086f28e2ab5row5_col5{\n",
       "            background-color:  yellow;\n",
       "        }</style><table id=\"T_fbc7f7d0_fc92_11eb_a1be_8086f28e2ab5\" ><thead>    <tr>        <th class=\"blank\" ></th>        <th class=\"blank\" ></th>        <th class=\"index_name level0\" >metrica</th>        <th class=\"col_heading level0 col0\" >Acurácia</th>        <th class=\"col_heading level0 col1\" >F1</th>        <th class=\"col_heading level0 col2\" >MCC</th>        <th class=\"col_heading level0 col3\" >Precisão</th>        <th class=\"col_heading level0 col4\" >ROC</th>        <th class=\"col_heading level0 col5\" >Recall</th>    </tr>    <tr>        <th class=\"index_name level0\" >dataset</th>        <th class=\"index_name level1\" >tipo</th>        <th class=\"index_name level2\" >melhor</th>        <th class=\"blank\" ></th>        <th class=\"blank\" ></th>        <th class=\"blank\" ></th>        <th class=\"blank\" ></th>        <th class=\"blank\" ></th>        <th class=\"blank\" ></th>    </tr></thead><tbody>\n",
       "                <tr>\n",
       "                        <th id=\"T_fbc7f7d0_fc92_11eb_a1be_8086f28e2ab5level0_row0\" class=\"row_heading level0 row0\" rowspan=6>Original</th>\n",
       "                        <th id=\"T_fbc7f7d0_fc92_11eb_a1be_8086f28e2ab5level1_row0\" class=\"row_heading level1 row0\" rowspan=6>knn</th>\n",
       "                        <th id=\"T_fbc7f7d0_fc92_11eb_a1be_8086f28e2ab5level2_row0\" class=\"row_heading level2 row0\" >Acurácia</th>\n",
       "                        <td id=\"T_fbc7f7d0_fc92_11eb_a1be_8086f28e2ab5row0_col0\" class=\"data row0 col0\" >0.813748</td>\n",
       "                        <td id=\"T_fbc7f7d0_fc92_11eb_a1be_8086f28e2ab5row0_col1\" class=\"data row0 col1\" >0.895324</td>\n",
       "                        <td id=\"T_fbc7f7d0_fc92_11eb_a1be_8086f28e2ab5row0_col2\" class=\"data row0 col2\" >0.223024</td>\n",
       "                        <td id=\"T_fbc7f7d0_fc92_11eb_a1be_8086f28e2ab5row0_col3\" class=\"data row0 col3\" >0.814059</td>\n",
       "                        <td id=\"T_fbc7f7d0_fc92_11eb_a1be_8086f28e2ab5row0_col4\" class=\"data row0 col4\" >0.540542</td>\n",
       "                        <td id=\"T_fbc7f7d0_fc92_11eb_a1be_8086f28e2ab5row0_col5\" class=\"data row0 col5\" >0.994615</td>\n",
       "            </tr>\n",
       "            <tr>\n",
       "                                        <th id=\"T_fbc7f7d0_fc92_11eb_a1be_8086f28e2ab5level2_row1\" class=\"row_heading level2 row1\" >F1</th>\n",
       "                        <td id=\"T_fbc7f7d0_fc92_11eb_a1be_8086f28e2ab5row1_col0\" class=\"data row1 col0\" >0.813748</td>\n",
       "                        <td id=\"T_fbc7f7d0_fc92_11eb_a1be_8086f28e2ab5row1_col1\" class=\"data row1 col1\" >0.895324</td>\n",
       "                        <td id=\"T_fbc7f7d0_fc92_11eb_a1be_8086f28e2ab5row1_col2\" class=\"data row1 col2\" >0.223024</td>\n",
       "                        <td id=\"T_fbc7f7d0_fc92_11eb_a1be_8086f28e2ab5row1_col3\" class=\"data row1 col3\" >0.814059</td>\n",
       "                        <td id=\"T_fbc7f7d0_fc92_11eb_a1be_8086f28e2ab5row1_col4\" class=\"data row1 col4\" >0.540542</td>\n",
       "                        <td id=\"T_fbc7f7d0_fc92_11eb_a1be_8086f28e2ab5row1_col5\" class=\"data row1 col5\" >0.994615</td>\n",
       "            </tr>\n",
       "            <tr>\n",
       "                                        <th id=\"T_fbc7f7d0_fc92_11eb_a1be_8086f28e2ab5level2_row2\" class=\"row_heading level2 row2\" >MCC</th>\n",
       "                        <td id=\"T_fbc7f7d0_fc92_11eb_a1be_8086f28e2ab5row2_col0\" class=\"data row2 col0\" >0.813748</td>\n",
       "                        <td id=\"T_fbc7f7d0_fc92_11eb_a1be_8086f28e2ab5row2_col1\" class=\"data row2 col1\" >0.895324</td>\n",
       "                        <td id=\"T_fbc7f7d0_fc92_11eb_a1be_8086f28e2ab5row2_col2\" class=\"data row2 col2\" >0.223024</td>\n",
       "                        <td id=\"T_fbc7f7d0_fc92_11eb_a1be_8086f28e2ab5row2_col3\" class=\"data row2 col3\" >0.814059</td>\n",
       "                        <td id=\"T_fbc7f7d0_fc92_11eb_a1be_8086f28e2ab5row2_col4\" class=\"data row2 col4\" >0.540542</td>\n",
       "                        <td id=\"T_fbc7f7d0_fc92_11eb_a1be_8086f28e2ab5row2_col5\" class=\"data row2 col5\" >0.994615</td>\n",
       "            </tr>\n",
       "            <tr>\n",
       "                                        <th id=\"T_fbc7f7d0_fc92_11eb_a1be_8086f28e2ab5level2_row3\" class=\"row_heading level2 row3\" >Precisão</th>\n",
       "                        <td id=\"T_fbc7f7d0_fc92_11eb_a1be_8086f28e2ab5row3_col0\" class=\"data row3 col0\" >0.813748</td>\n",
       "                        <td id=\"T_fbc7f7d0_fc92_11eb_a1be_8086f28e2ab5row3_col1\" class=\"data row3 col1\" >0.895324</td>\n",
       "                        <td id=\"T_fbc7f7d0_fc92_11eb_a1be_8086f28e2ab5row3_col2\" class=\"data row3 col2\" >0.223024</td>\n",
       "                        <td id=\"T_fbc7f7d0_fc92_11eb_a1be_8086f28e2ab5row3_col3\" class=\"data row3 col3\" >0.814059</td>\n",
       "                        <td id=\"T_fbc7f7d0_fc92_11eb_a1be_8086f28e2ab5row3_col4\" class=\"data row3 col4\" >0.540542</td>\n",
       "                        <td id=\"T_fbc7f7d0_fc92_11eb_a1be_8086f28e2ab5row3_col5\" class=\"data row3 col5\" >0.994615</td>\n",
       "            </tr>\n",
       "            <tr>\n",
       "                                        <th id=\"T_fbc7f7d0_fc92_11eb_a1be_8086f28e2ab5level2_row4\" class=\"row_heading level2 row4\" >ROC</th>\n",
       "                        <td id=\"T_fbc7f7d0_fc92_11eb_a1be_8086f28e2ab5row4_col0\" class=\"data row4 col0\" >0.813748</td>\n",
       "                        <td id=\"T_fbc7f7d0_fc92_11eb_a1be_8086f28e2ab5row4_col1\" class=\"data row4 col1\" >0.895324</td>\n",
       "                        <td id=\"T_fbc7f7d0_fc92_11eb_a1be_8086f28e2ab5row4_col2\" class=\"data row4 col2\" >0.223024</td>\n",
       "                        <td id=\"T_fbc7f7d0_fc92_11eb_a1be_8086f28e2ab5row4_col3\" class=\"data row4 col3\" >0.814059</td>\n",
       "                        <td id=\"T_fbc7f7d0_fc92_11eb_a1be_8086f28e2ab5row4_col4\" class=\"data row4 col4\" >0.540542</td>\n",
       "                        <td id=\"T_fbc7f7d0_fc92_11eb_a1be_8086f28e2ab5row4_col5\" class=\"data row4 col5\" >0.994615</td>\n",
       "            </tr>\n",
       "            <tr>\n",
       "                                        <th id=\"T_fbc7f7d0_fc92_11eb_a1be_8086f28e2ab5level2_row5\" class=\"row_heading level2 row5\" >Recall</th>\n",
       "                        <td id=\"T_fbc7f7d0_fc92_11eb_a1be_8086f28e2ab5row5_col0\" class=\"data row5 col0\" >0.805297</td>\n",
       "                        <td id=\"T_fbc7f7d0_fc92_11eb_a1be_8086f28e2ab5row5_col1\" class=\"data row5 col1\" >0.891530</td>\n",
       "                        <td id=\"T_fbc7f7d0_fc92_11eb_a1be_8086f28e2ab5row5_col2\" class=\"data row5 col2\" >0.130911</td>\n",
       "                        <td id=\"T_fbc7f7d0_fc92_11eb_a1be_8086f28e2ab5row5_col3\" class=\"data row5 col3\" >0.804850</td>\n",
       "                        <td id=\"T_fbc7f7d0_fc92_11eb_a1be_8086f28e2ab5row5_col4\" class=\"data row5 col4\" >0.512501</td>\n",
       "                        <td id=\"T_fbc7f7d0_fc92_11eb_a1be_8086f28e2ab5row5_col5\" class=\"data row5 col5\" >0.999133</td>\n",
       "            </tr>\n",
       "    </tbody></table>"
      ],
      "text/plain": [
       "<pandas.io.formats.style.Styler at 0x209378f2320>"
      ]
     },
     "execution_count": 32,
     "metadata": {},
     "output_type": "execute_result"
    }
   ],
   "source": [
    "# Valor das métricas de um modelo selecionado pelo melhor valor de um métrica\n",
    "melhores_modelos('Original', tipo = 'knn', modelo=True)"
   ]
  },
  {
   "cell_type": "code",
   "execution_count": 33,
   "id": "e497f160",
   "metadata": {
    "hidden": true
   },
   "outputs": [
    {
     "data": {
      "text/html": [
       "<style  type=\"text/css\" >\n",
       "#T_fbfce2c0_fc92_11eb_b0ad_8086f28e2ab5row0_col0,#T_fbfce2c0_fc92_11eb_b0ad_8086f28e2ab5row0_col1,#T_fbfce2c0_fc92_11eb_b0ad_8086f28e2ab5row0_col2,#T_fbfce2c0_fc92_11eb_b0ad_8086f28e2ab5row0_col3,#T_fbfce2c0_fc92_11eb_b0ad_8086f28e2ab5row0_col4,#T_fbfce2c0_fc92_11eb_b0ad_8086f28e2ab5row1_col0,#T_fbfce2c0_fc92_11eb_b0ad_8086f28e2ab5row1_col1,#T_fbfce2c0_fc92_11eb_b0ad_8086f28e2ab5row1_col2,#T_fbfce2c0_fc92_11eb_b0ad_8086f28e2ab5row1_col3,#T_fbfce2c0_fc92_11eb_b0ad_8086f28e2ab5row1_col4,#T_fbfce2c0_fc92_11eb_b0ad_8086f28e2ab5row2_col0,#T_fbfce2c0_fc92_11eb_b0ad_8086f28e2ab5row2_col1,#T_fbfce2c0_fc92_11eb_b0ad_8086f28e2ab5row2_col2,#T_fbfce2c0_fc92_11eb_b0ad_8086f28e2ab5row2_col3,#T_fbfce2c0_fc92_11eb_b0ad_8086f28e2ab5row2_col4,#T_fbfce2c0_fc92_11eb_b0ad_8086f28e2ab5row3_col0,#T_fbfce2c0_fc92_11eb_b0ad_8086f28e2ab5row3_col1,#T_fbfce2c0_fc92_11eb_b0ad_8086f28e2ab5row3_col2,#T_fbfce2c0_fc92_11eb_b0ad_8086f28e2ab5row3_col3,#T_fbfce2c0_fc92_11eb_b0ad_8086f28e2ab5row3_col4,#T_fbfce2c0_fc92_11eb_b0ad_8086f28e2ab5row4_col0,#T_fbfce2c0_fc92_11eb_b0ad_8086f28e2ab5row4_col1,#T_fbfce2c0_fc92_11eb_b0ad_8086f28e2ab5row4_col2,#T_fbfce2c0_fc92_11eb_b0ad_8086f28e2ab5row4_col3,#T_fbfce2c0_fc92_11eb_b0ad_8086f28e2ab5row4_col4,#T_fbfce2c0_fc92_11eb_b0ad_8086f28e2ab5row5_col5{\n",
       "            background-color:  yellow;\n",
       "        }</style><table id=\"T_fbfce2c0_fc92_11eb_b0ad_8086f28e2ab5\" ><thead>    <tr>        <th class=\"blank\" ></th>        <th class=\"blank\" ></th>        <th class=\"index_name level0\" >metrica</th>        <th class=\"col_heading level0 col0\" >Acurácia</th>        <th class=\"col_heading level0 col1\" >F1</th>        <th class=\"col_heading level0 col2\" >MCC</th>        <th class=\"col_heading level0 col3\" >Precisão</th>        <th class=\"col_heading level0 col4\" >ROC</th>        <th class=\"col_heading level0 col5\" >Recall</th>    </tr>    <tr>        <th class=\"index_name level0\" >dataset</th>        <th class=\"index_name level1\" >tipo</th>        <th class=\"index_name level2\" >melhor</th>        <th class=\"blank\" ></th>        <th class=\"blank\" ></th>        <th class=\"blank\" ></th>        <th class=\"blank\" ></th>        <th class=\"blank\" ></th>        <th class=\"blank\" ></th>    </tr></thead><tbody>\n",
       "                <tr>\n",
       "                        <th id=\"T_fbfce2c0_fc92_11eb_b0ad_8086f28e2ab5level0_row0\" class=\"row_heading level0 row0\" rowspan=6>SS</th>\n",
       "                        <th id=\"T_fbfce2c0_fc92_11eb_b0ad_8086f28e2ab5level1_row0\" class=\"row_heading level1 row0\" rowspan=6>knn</th>\n",
       "                        <th id=\"T_fbfce2c0_fc92_11eb_b0ad_8086f28e2ab5level2_row0\" class=\"row_heading level2 row0\" >Acurácia</th>\n",
       "                        <td id=\"T_fbfce2c0_fc92_11eb_b0ad_8086f28e2ab5row0_col0\" class=\"data row0 col0\" >0.817135</td>\n",
       "                        <td id=\"T_fbfce2c0_fc92_11eb_b0ad_8086f28e2ab5row0_col1\" class=\"data row0 col1\" >0.896341</td>\n",
       "                        <td id=\"T_fbfce2c0_fc92_11eb_b0ad_8086f28e2ab5row0_col2\" class=\"data row0 col2\" >0.255698</td>\n",
       "                        <td id=\"T_fbfce2c0_fc92_11eb_b0ad_8086f28e2ab5row0_col3\" class=\"data row0 col3\" >0.820769</td>\n",
       "                        <td id=\"T_fbfce2c0_fc92_11eb_b0ad_8086f28e2ab5row0_col4\" class=\"data row0 col4\" >0.560182</td>\n",
       "                        <td id=\"T_fbfce2c0_fc92_11eb_b0ad_8086f28e2ab5row0_col5\" class=\"data row0 col5\" >0.987242</td>\n",
       "            </tr>\n",
       "            <tr>\n",
       "                                        <th id=\"T_fbfce2c0_fc92_11eb_b0ad_8086f28e2ab5level2_row1\" class=\"row_heading level2 row1\" >F1</th>\n",
       "                        <td id=\"T_fbfce2c0_fc92_11eb_b0ad_8086f28e2ab5row1_col0\" class=\"data row1 col0\" >0.817135</td>\n",
       "                        <td id=\"T_fbfce2c0_fc92_11eb_b0ad_8086f28e2ab5row1_col1\" class=\"data row1 col1\" >0.896341</td>\n",
       "                        <td id=\"T_fbfce2c0_fc92_11eb_b0ad_8086f28e2ab5row1_col2\" class=\"data row1 col2\" >0.255698</td>\n",
       "                        <td id=\"T_fbfce2c0_fc92_11eb_b0ad_8086f28e2ab5row1_col3\" class=\"data row1 col3\" >0.820769</td>\n",
       "                        <td id=\"T_fbfce2c0_fc92_11eb_b0ad_8086f28e2ab5row1_col4\" class=\"data row1 col4\" >0.560182</td>\n",
       "                        <td id=\"T_fbfce2c0_fc92_11eb_b0ad_8086f28e2ab5row1_col5\" class=\"data row1 col5\" >0.987242</td>\n",
       "            </tr>\n",
       "            <tr>\n",
       "                                        <th id=\"T_fbfce2c0_fc92_11eb_b0ad_8086f28e2ab5level2_row2\" class=\"row_heading level2 row2\" >MCC</th>\n",
       "                        <td id=\"T_fbfce2c0_fc92_11eb_b0ad_8086f28e2ab5row2_col0\" class=\"data row2 col0\" >0.817135</td>\n",
       "                        <td id=\"T_fbfce2c0_fc92_11eb_b0ad_8086f28e2ab5row2_col1\" class=\"data row2 col1\" >0.896341</td>\n",
       "                        <td id=\"T_fbfce2c0_fc92_11eb_b0ad_8086f28e2ab5row2_col2\" class=\"data row2 col2\" >0.255698</td>\n",
       "                        <td id=\"T_fbfce2c0_fc92_11eb_b0ad_8086f28e2ab5row2_col3\" class=\"data row2 col3\" >0.820769</td>\n",
       "                        <td id=\"T_fbfce2c0_fc92_11eb_b0ad_8086f28e2ab5row2_col4\" class=\"data row2 col4\" >0.560182</td>\n",
       "                        <td id=\"T_fbfce2c0_fc92_11eb_b0ad_8086f28e2ab5row2_col5\" class=\"data row2 col5\" >0.987242</td>\n",
       "            </tr>\n",
       "            <tr>\n",
       "                                        <th id=\"T_fbfce2c0_fc92_11eb_b0ad_8086f28e2ab5level2_row3\" class=\"row_heading level2 row3\" >Precisão</th>\n",
       "                        <td id=\"T_fbfce2c0_fc92_11eb_b0ad_8086f28e2ab5row3_col0\" class=\"data row3 col0\" >0.817135</td>\n",
       "                        <td id=\"T_fbfce2c0_fc92_11eb_b0ad_8086f28e2ab5row3_col1\" class=\"data row3 col1\" >0.896341</td>\n",
       "                        <td id=\"T_fbfce2c0_fc92_11eb_b0ad_8086f28e2ab5row3_col2\" class=\"data row3 col2\" >0.255698</td>\n",
       "                        <td id=\"T_fbfce2c0_fc92_11eb_b0ad_8086f28e2ab5row3_col3\" class=\"data row3 col3\" >0.820769</td>\n",
       "                        <td id=\"T_fbfce2c0_fc92_11eb_b0ad_8086f28e2ab5row3_col4\" class=\"data row3 col4\" >0.560182</td>\n",
       "                        <td id=\"T_fbfce2c0_fc92_11eb_b0ad_8086f28e2ab5row3_col5\" class=\"data row3 col5\" >0.987242</td>\n",
       "            </tr>\n",
       "            <tr>\n",
       "                                        <th id=\"T_fbfce2c0_fc92_11eb_b0ad_8086f28e2ab5level2_row4\" class=\"row_heading level2 row4\" >ROC</th>\n",
       "                        <td id=\"T_fbfce2c0_fc92_11eb_b0ad_8086f28e2ab5row4_col0\" class=\"data row4 col0\" >0.817135</td>\n",
       "                        <td id=\"T_fbfce2c0_fc92_11eb_b0ad_8086f28e2ab5row4_col1\" class=\"data row4 col1\" >0.896341</td>\n",
       "                        <td id=\"T_fbfce2c0_fc92_11eb_b0ad_8086f28e2ab5row4_col2\" class=\"data row4 col2\" >0.255698</td>\n",
       "                        <td id=\"T_fbfce2c0_fc92_11eb_b0ad_8086f28e2ab5row4_col3\" class=\"data row4 col3\" >0.820769</td>\n",
       "                        <td id=\"T_fbfce2c0_fc92_11eb_b0ad_8086f28e2ab5row4_col4\" class=\"data row4 col4\" >0.560182</td>\n",
       "                        <td id=\"T_fbfce2c0_fc92_11eb_b0ad_8086f28e2ab5row4_col5\" class=\"data row4 col5\" >0.987242</td>\n",
       "            </tr>\n",
       "            <tr>\n",
       "                                        <th id=\"T_fbfce2c0_fc92_11eb_b0ad_8086f28e2ab5level2_row5\" class=\"row_heading level2 row5\" >Recall</th>\n",
       "                        <td id=\"T_fbfce2c0_fc92_11eb_b0ad_8086f28e2ab5row5_col0\" class=\"data row5 col0\" >0.812272</td>\n",
       "                        <td id=\"T_fbfce2c0_fc92_11eb_b0ad_8086f28e2ab5row5_col1\" class=\"data row5 col1\" >0.894320</td>\n",
       "                        <td id=\"T_fbfce2c0_fc92_11eb_b0ad_8086f28e2ab5row5_col2\" class=\"data row5 col2\" >0.211761</td>\n",
       "                        <td id=\"T_fbfce2c0_fc92_11eb_b0ad_8086f28e2ab5row5_col3\" class=\"data row5 col3\" >0.814242</td>\n",
       "                        <td id=\"T_fbfce2c0_fc92_11eb_b0ad_8086f28e2ab5row5_col4\" class=\"data row5 col4\" >0.540986</td>\n",
       "                        <td id=\"T_fbfce2c0_fc92_11eb_b0ad_8086f28e2ab5row5_col5\" class=\"data row5 col5\" >0.991868</td>\n",
       "            </tr>\n",
       "    </tbody></table>"
      ],
      "text/plain": [
       "<pandas.io.formats.style.Styler at 0x209378fb080>"
      ]
     },
     "execution_count": 33,
     "metadata": {},
     "output_type": "execute_result"
    }
   ],
   "source": [
    "# Valor das métricas de um modelo selecionado pelo melhor valor de um métrica\n",
    "melhores_modelos('SS', tipo = 'knn', modelo=True)"
   ]
  },
  {
   "cell_type": "code",
   "execution_count": 34,
   "id": "49b68306",
   "metadata": {
    "hidden": true
   },
   "outputs": [
    {
     "data": {
      "text/html": [
       "<style  type=\"text/css\" >\n",
       "#T_fc28ce58_fc92_11eb_aa64_8086f28e2ab5row0_col0,#T_fc28ce58_fc92_11eb_aa64_8086f28e2ab5row0_col1,#T_fc28ce58_fc92_11eb_aa64_8086f28e2ab5row0_col2,#T_fc28ce58_fc92_11eb_aa64_8086f28e2ab5row0_col3,#T_fc28ce58_fc92_11eb_aa64_8086f28e2ab5row0_col4,#T_fc28ce58_fc92_11eb_aa64_8086f28e2ab5row1_col0,#T_fc28ce58_fc92_11eb_aa64_8086f28e2ab5row1_col1,#T_fc28ce58_fc92_11eb_aa64_8086f28e2ab5row1_col2,#T_fc28ce58_fc92_11eb_aa64_8086f28e2ab5row1_col3,#T_fc28ce58_fc92_11eb_aa64_8086f28e2ab5row1_col4,#T_fc28ce58_fc92_11eb_aa64_8086f28e2ab5row2_col0,#T_fc28ce58_fc92_11eb_aa64_8086f28e2ab5row2_col1,#T_fc28ce58_fc92_11eb_aa64_8086f28e2ab5row2_col2,#T_fc28ce58_fc92_11eb_aa64_8086f28e2ab5row2_col3,#T_fc28ce58_fc92_11eb_aa64_8086f28e2ab5row2_col4,#T_fc28ce58_fc92_11eb_aa64_8086f28e2ab5row3_col0,#T_fc28ce58_fc92_11eb_aa64_8086f28e2ab5row3_col1,#T_fc28ce58_fc92_11eb_aa64_8086f28e2ab5row3_col2,#T_fc28ce58_fc92_11eb_aa64_8086f28e2ab5row3_col3,#T_fc28ce58_fc92_11eb_aa64_8086f28e2ab5row3_col4,#T_fc28ce58_fc92_11eb_aa64_8086f28e2ab5row4_col0,#T_fc28ce58_fc92_11eb_aa64_8086f28e2ab5row4_col1,#T_fc28ce58_fc92_11eb_aa64_8086f28e2ab5row4_col2,#T_fc28ce58_fc92_11eb_aa64_8086f28e2ab5row4_col3,#T_fc28ce58_fc92_11eb_aa64_8086f28e2ab5row4_col4,#T_fc28ce58_fc92_11eb_aa64_8086f28e2ab5row5_col5{\n",
       "            background-color:  yellow;\n",
       "        }</style><table id=\"T_fc28ce58_fc92_11eb_aa64_8086f28e2ab5\" ><thead>    <tr>        <th class=\"blank\" ></th>        <th class=\"blank\" ></th>        <th class=\"index_name level0\" >metrica</th>        <th class=\"col_heading level0 col0\" >Acurácia</th>        <th class=\"col_heading level0 col1\" >F1</th>        <th class=\"col_heading level0 col2\" >MCC</th>        <th class=\"col_heading level0 col3\" >Precisão</th>        <th class=\"col_heading level0 col4\" >ROC</th>        <th class=\"col_heading level0 col5\" >Recall</th>    </tr>    <tr>        <th class=\"index_name level0\" >dataset</th>        <th class=\"index_name level1\" >tipo</th>        <th class=\"index_name level2\" >melhor</th>        <th class=\"blank\" ></th>        <th class=\"blank\" ></th>        <th class=\"blank\" ></th>        <th class=\"blank\" ></th>        <th class=\"blank\" ></th>        <th class=\"blank\" ></th>    </tr></thead><tbody>\n",
       "                <tr>\n",
       "                        <th id=\"T_fc28ce58_fc92_11eb_aa64_8086f28e2ab5level0_row0\" class=\"row_heading level0 row0\" rowspan=6>RS</th>\n",
       "                        <th id=\"T_fc28ce58_fc92_11eb_aa64_8086f28e2ab5level1_row0\" class=\"row_heading level1 row0\" rowspan=6>knn</th>\n",
       "                        <th id=\"T_fc28ce58_fc92_11eb_aa64_8086f28e2ab5level2_row0\" class=\"row_heading level2 row0\" >Acurácia</th>\n",
       "                        <td id=\"T_fc28ce58_fc92_11eb_aa64_8086f28e2ab5row0_col0\" class=\"data row0 col0\" >0.810796</td>\n",
       "                        <td id=\"T_fc28ce58_fc92_11eb_aa64_8086f28e2ab5row0_col1\" class=\"data row0 col1\" >0.893240</td>\n",
       "                        <td id=\"T_fc28ce58_fc92_11eb_aa64_8086f28e2ab5row0_col2\" class=\"data row0 col2\" >0.204004</td>\n",
       "                        <td id=\"T_fc28ce58_fc92_11eb_aa64_8086f28e2ab5row0_col3\" class=\"data row0 col3\" >0.814821</td>\n",
       "                        <td id=\"T_fc28ce58_fc92_11eb_aa64_8086f28e2ab5row0_col4\" class=\"data row0 col4\" >0.542575</td>\n",
       "                        <td id=\"T_fc28ce58_fc92_11eb_aa64_8086f28e2ab5row0_col5\" class=\"data row0 col5\" >0.988362</td>\n",
       "            </tr>\n",
       "            <tr>\n",
       "                                        <th id=\"T_fc28ce58_fc92_11eb_aa64_8086f28e2ab5level2_row1\" class=\"row_heading level2 row1\" >F1</th>\n",
       "                        <td id=\"T_fc28ce58_fc92_11eb_aa64_8086f28e2ab5row1_col0\" class=\"data row1 col0\" >0.810796</td>\n",
       "                        <td id=\"T_fc28ce58_fc92_11eb_aa64_8086f28e2ab5row1_col1\" class=\"data row1 col1\" >0.893240</td>\n",
       "                        <td id=\"T_fc28ce58_fc92_11eb_aa64_8086f28e2ab5row1_col2\" class=\"data row1 col2\" >0.204004</td>\n",
       "                        <td id=\"T_fc28ce58_fc92_11eb_aa64_8086f28e2ab5row1_col3\" class=\"data row1 col3\" >0.814821</td>\n",
       "                        <td id=\"T_fc28ce58_fc92_11eb_aa64_8086f28e2ab5row1_col4\" class=\"data row1 col4\" >0.542575</td>\n",
       "                        <td id=\"T_fc28ce58_fc92_11eb_aa64_8086f28e2ab5row1_col5\" class=\"data row1 col5\" >0.988362</td>\n",
       "            </tr>\n",
       "            <tr>\n",
       "                                        <th id=\"T_fc28ce58_fc92_11eb_aa64_8086f28e2ab5level2_row2\" class=\"row_heading level2 row2\" >MCC</th>\n",
       "                        <td id=\"T_fc28ce58_fc92_11eb_aa64_8086f28e2ab5row2_col0\" class=\"data row2 col0\" >0.810796</td>\n",
       "                        <td id=\"T_fc28ce58_fc92_11eb_aa64_8086f28e2ab5row2_col1\" class=\"data row2 col1\" >0.893240</td>\n",
       "                        <td id=\"T_fc28ce58_fc92_11eb_aa64_8086f28e2ab5row2_col2\" class=\"data row2 col2\" >0.204004</td>\n",
       "                        <td id=\"T_fc28ce58_fc92_11eb_aa64_8086f28e2ab5row2_col3\" class=\"data row2 col3\" >0.814821</td>\n",
       "                        <td id=\"T_fc28ce58_fc92_11eb_aa64_8086f28e2ab5row2_col4\" class=\"data row2 col4\" >0.542575</td>\n",
       "                        <td id=\"T_fc28ce58_fc92_11eb_aa64_8086f28e2ab5row2_col5\" class=\"data row2 col5\" >0.988362</td>\n",
       "            </tr>\n",
       "            <tr>\n",
       "                                        <th id=\"T_fc28ce58_fc92_11eb_aa64_8086f28e2ab5level2_row3\" class=\"row_heading level2 row3\" >Precisão</th>\n",
       "                        <td id=\"T_fc28ce58_fc92_11eb_aa64_8086f28e2ab5row3_col0\" class=\"data row3 col0\" >0.810796</td>\n",
       "                        <td id=\"T_fc28ce58_fc92_11eb_aa64_8086f28e2ab5row3_col1\" class=\"data row3 col1\" >0.893240</td>\n",
       "                        <td id=\"T_fc28ce58_fc92_11eb_aa64_8086f28e2ab5row3_col2\" class=\"data row3 col2\" >0.204004</td>\n",
       "                        <td id=\"T_fc28ce58_fc92_11eb_aa64_8086f28e2ab5row3_col3\" class=\"data row3 col3\" >0.814821</td>\n",
       "                        <td id=\"T_fc28ce58_fc92_11eb_aa64_8086f28e2ab5row3_col4\" class=\"data row3 col4\" >0.542575</td>\n",
       "                        <td id=\"T_fc28ce58_fc92_11eb_aa64_8086f28e2ab5row3_col5\" class=\"data row3 col5\" >0.988362</td>\n",
       "            </tr>\n",
       "            <tr>\n",
       "                                        <th id=\"T_fc28ce58_fc92_11eb_aa64_8086f28e2ab5level2_row4\" class=\"row_heading level2 row4\" >ROC</th>\n",
       "                        <td id=\"T_fc28ce58_fc92_11eb_aa64_8086f28e2ab5row4_col0\" class=\"data row4 col0\" >0.810796</td>\n",
       "                        <td id=\"T_fc28ce58_fc92_11eb_aa64_8086f28e2ab5row4_col1\" class=\"data row4 col1\" >0.893240</td>\n",
       "                        <td id=\"T_fc28ce58_fc92_11eb_aa64_8086f28e2ab5row4_col2\" class=\"data row4 col2\" >0.204004</td>\n",
       "                        <td id=\"T_fc28ce58_fc92_11eb_aa64_8086f28e2ab5row4_col3\" class=\"data row4 col3\" >0.814821</td>\n",
       "                        <td id=\"T_fc28ce58_fc92_11eb_aa64_8086f28e2ab5row4_col4\" class=\"data row4 col4\" >0.542575</td>\n",
       "                        <td id=\"T_fc28ce58_fc92_11eb_aa64_8086f28e2ab5row4_col5\" class=\"data row4 col5\" >0.988362</td>\n",
       "            </tr>\n",
       "            <tr>\n",
       "                                        <th id=\"T_fc28ce58_fc92_11eb_aa64_8086f28e2ab5level2_row5\" class=\"row_heading level2 row5\" >Recall</th>\n",
       "                        <td id=\"T_fc28ce58_fc92_11eb_aa64_8086f28e2ab5row5_col0\" class=\"data row5 col0\" >0.806454</td>\n",
       "                        <td id=\"T_fc28ce58_fc92_11eb_aa64_8086f28e2ab5row5_col1\" class=\"data row5 col1\" >0.891545</td>\n",
       "                        <td id=\"T_fc28ce58_fc92_11eb_aa64_8086f28e2ab5row5_col2\" class=\"data row5 col2\" >0.152722</td>\n",
       "                        <td id=\"T_fc28ce58_fc92_11eb_aa64_8086f28e2ab5row5_col3\" class=\"data row5 col3\" >0.808668</td>\n",
       "                        <td id=\"T_fc28ce58_fc92_11eb_aa64_8086f28e2ab5row5_col4\" class=\"data row5 col4\" >0.524142</td>\n",
       "                        <td id=\"T_fc28ce58_fc92_11eb_aa64_8086f28e2ab5row5_col5\" class=\"data row5 col5\" >0.993350</td>\n",
       "            </tr>\n",
       "    </tbody></table>"
      ],
      "text/plain": [
       "<pandas.io.formats.style.Styler at 0x209378b55f8>"
      ]
     },
     "execution_count": 34,
     "metadata": {},
     "output_type": "execute_result"
    }
   ],
   "source": [
    "# Valor das métricas de um modelo selecionado pelo melhor valor de um métrica\n",
    "melhores_modelos('RS', tipo = 'knn', modelo=True)"
   ]
  },
  {
   "cell_type": "code",
   "execution_count": 35,
   "id": "88b30a06",
   "metadata": {
    "hidden": true
   },
   "outputs": [
    {
     "data": {
      "text/html": [
       "<style  type=\"text/css\" >\n",
       "#T_fc555634_fc92_11eb_9cb1_8086f28e2ab5row0_col0,#T_fc555634_fc92_11eb_9cb1_8086f28e2ab5row0_col1,#T_fc555634_fc92_11eb_9cb1_8086f28e2ab5row0_col2,#T_fc555634_fc92_11eb_9cb1_8086f28e2ab5row0_col3,#T_fc555634_fc92_11eb_9cb1_8086f28e2ab5row0_col4,#T_fc555634_fc92_11eb_9cb1_8086f28e2ab5row1_col0,#T_fc555634_fc92_11eb_9cb1_8086f28e2ab5row1_col1,#T_fc555634_fc92_11eb_9cb1_8086f28e2ab5row1_col2,#T_fc555634_fc92_11eb_9cb1_8086f28e2ab5row1_col3,#T_fc555634_fc92_11eb_9cb1_8086f28e2ab5row1_col4,#T_fc555634_fc92_11eb_9cb1_8086f28e2ab5row2_col0,#T_fc555634_fc92_11eb_9cb1_8086f28e2ab5row2_col1,#T_fc555634_fc92_11eb_9cb1_8086f28e2ab5row2_col2,#T_fc555634_fc92_11eb_9cb1_8086f28e2ab5row2_col3,#T_fc555634_fc92_11eb_9cb1_8086f28e2ab5row2_col4,#T_fc555634_fc92_11eb_9cb1_8086f28e2ab5row3_col0,#T_fc555634_fc92_11eb_9cb1_8086f28e2ab5row3_col1,#T_fc555634_fc92_11eb_9cb1_8086f28e2ab5row3_col2,#T_fc555634_fc92_11eb_9cb1_8086f28e2ab5row3_col3,#T_fc555634_fc92_11eb_9cb1_8086f28e2ab5row3_col4,#T_fc555634_fc92_11eb_9cb1_8086f28e2ab5row4_col0,#T_fc555634_fc92_11eb_9cb1_8086f28e2ab5row4_col1,#T_fc555634_fc92_11eb_9cb1_8086f28e2ab5row4_col2,#T_fc555634_fc92_11eb_9cb1_8086f28e2ab5row4_col3,#T_fc555634_fc92_11eb_9cb1_8086f28e2ab5row4_col4,#T_fc555634_fc92_11eb_9cb1_8086f28e2ab5row5_col5{\n",
       "            background-color:  yellow;\n",
       "        }</style><table id=\"T_fc555634_fc92_11eb_9cb1_8086f28e2ab5\" ><thead>    <tr>        <th class=\"blank\" ></th>        <th class=\"blank\" ></th>        <th class=\"index_name level0\" >metrica</th>        <th class=\"col_heading level0 col0\" >Acurácia</th>        <th class=\"col_heading level0 col1\" >F1</th>        <th class=\"col_heading level0 col2\" >MCC</th>        <th class=\"col_heading level0 col3\" >Precisão</th>        <th class=\"col_heading level0 col4\" >ROC</th>        <th class=\"col_heading level0 col5\" >Recall</th>    </tr>    <tr>        <th class=\"index_name level0\" >dataset</th>        <th class=\"index_name level1\" >tipo</th>        <th class=\"index_name level2\" >melhor</th>        <th class=\"blank\" ></th>        <th class=\"blank\" ></th>        <th class=\"blank\" ></th>        <th class=\"blank\" ></th>        <th class=\"blank\" ></th>        <th class=\"blank\" ></th>    </tr></thead><tbody>\n",
       "                <tr>\n",
       "                        <th id=\"T_fc555634_fc92_11eb_9cb1_8086f28e2ab5level0_row0\" class=\"row_heading level0 row0\" rowspan=6>PT</th>\n",
       "                        <th id=\"T_fc555634_fc92_11eb_9cb1_8086f28e2ab5level1_row0\" class=\"row_heading level1 row0\" rowspan=6>knn</th>\n",
       "                        <th id=\"T_fc555634_fc92_11eb_9cb1_8086f28e2ab5level2_row0\" class=\"row_heading level2 row0\" >Acurácia</th>\n",
       "                        <td id=\"T_fc555634_fc92_11eb_9cb1_8086f28e2ab5row0_col0\" class=\"data row0 col0\" >0.809899</td>\n",
       "                        <td id=\"T_fc555634_fc92_11eb_9cb1_8086f28e2ab5row0_col1\" class=\"data row0 col1\" >0.892606</td>\n",
       "                        <td id=\"T_fc555634_fc92_11eb_9cb1_8086f28e2ab5row0_col2\" class=\"data row0 col2\" >0.199935</td>\n",
       "                        <td id=\"T_fc555634_fc92_11eb_9cb1_8086f28e2ab5row0_col3\" class=\"data row0 col3\" >0.815044</td>\n",
       "                        <td id=\"T_fc555634_fc92_11eb_9cb1_8086f28e2ab5row0_col4\" class=\"data row0 col4\" >0.543162</td>\n",
       "                        <td id=\"T_fc555634_fc92_11eb_9cb1_8086f28e2ab5row0_col5\" class=\"data row0 col5\" >0.986483</td>\n",
       "            </tr>\n",
       "            <tr>\n",
       "                                        <th id=\"T_fc555634_fc92_11eb_9cb1_8086f28e2ab5level2_row1\" class=\"row_heading level2 row1\" >F1</th>\n",
       "                        <td id=\"T_fc555634_fc92_11eb_9cb1_8086f28e2ab5row1_col0\" class=\"data row1 col0\" >0.809899</td>\n",
       "                        <td id=\"T_fc555634_fc92_11eb_9cb1_8086f28e2ab5row1_col1\" class=\"data row1 col1\" >0.892606</td>\n",
       "                        <td id=\"T_fc555634_fc92_11eb_9cb1_8086f28e2ab5row1_col2\" class=\"data row1 col2\" >0.199935</td>\n",
       "                        <td id=\"T_fc555634_fc92_11eb_9cb1_8086f28e2ab5row1_col3\" class=\"data row1 col3\" >0.815044</td>\n",
       "                        <td id=\"T_fc555634_fc92_11eb_9cb1_8086f28e2ab5row1_col4\" class=\"data row1 col4\" >0.543162</td>\n",
       "                        <td id=\"T_fc555634_fc92_11eb_9cb1_8086f28e2ab5row1_col5\" class=\"data row1 col5\" >0.986483</td>\n",
       "            </tr>\n",
       "            <tr>\n",
       "                                        <th id=\"T_fc555634_fc92_11eb_9cb1_8086f28e2ab5level2_row2\" class=\"row_heading level2 row2\" >MCC</th>\n",
       "                        <td id=\"T_fc555634_fc92_11eb_9cb1_8086f28e2ab5row2_col0\" class=\"data row2 col0\" >0.809899</td>\n",
       "                        <td id=\"T_fc555634_fc92_11eb_9cb1_8086f28e2ab5row2_col1\" class=\"data row2 col1\" >0.892606</td>\n",
       "                        <td id=\"T_fc555634_fc92_11eb_9cb1_8086f28e2ab5row2_col2\" class=\"data row2 col2\" >0.199935</td>\n",
       "                        <td id=\"T_fc555634_fc92_11eb_9cb1_8086f28e2ab5row2_col3\" class=\"data row2 col3\" >0.815044</td>\n",
       "                        <td id=\"T_fc555634_fc92_11eb_9cb1_8086f28e2ab5row2_col4\" class=\"data row2 col4\" >0.543162</td>\n",
       "                        <td id=\"T_fc555634_fc92_11eb_9cb1_8086f28e2ab5row2_col5\" class=\"data row2 col5\" >0.986483</td>\n",
       "            </tr>\n",
       "            <tr>\n",
       "                                        <th id=\"T_fc555634_fc92_11eb_9cb1_8086f28e2ab5level2_row3\" class=\"row_heading level2 row3\" >Precisão</th>\n",
       "                        <td id=\"T_fc555634_fc92_11eb_9cb1_8086f28e2ab5row3_col0\" class=\"data row3 col0\" >0.809899</td>\n",
       "                        <td id=\"T_fc555634_fc92_11eb_9cb1_8086f28e2ab5row3_col1\" class=\"data row3 col1\" >0.892606</td>\n",
       "                        <td id=\"T_fc555634_fc92_11eb_9cb1_8086f28e2ab5row3_col2\" class=\"data row3 col2\" >0.199935</td>\n",
       "                        <td id=\"T_fc555634_fc92_11eb_9cb1_8086f28e2ab5row3_col3\" class=\"data row3 col3\" >0.815044</td>\n",
       "                        <td id=\"T_fc555634_fc92_11eb_9cb1_8086f28e2ab5row3_col4\" class=\"data row3 col4\" >0.543162</td>\n",
       "                        <td id=\"T_fc555634_fc92_11eb_9cb1_8086f28e2ab5row3_col5\" class=\"data row3 col5\" >0.986483</td>\n",
       "            </tr>\n",
       "            <tr>\n",
       "                                        <th id=\"T_fc555634_fc92_11eb_9cb1_8086f28e2ab5level2_row4\" class=\"row_heading level2 row4\" >ROC</th>\n",
       "                        <td id=\"T_fc555634_fc92_11eb_9cb1_8086f28e2ab5row4_col0\" class=\"data row4 col0\" >0.809899</td>\n",
       "                        <td id=\"T_fc555634_fc92_11eb_9cb1_8086f28e2ab5row4_col1\" class=\"data row4 col1\" >0.892606</td>\n",
       "                        <td id=\"T_fc555634_fc92_11eb_9cb1_8086f28e2ab5row4_col2\" class=\"data row4 col2\" >0.199935</td>\n",
       "                        <td id=\"T_fc555634_fc92_11eb_9cb1_8086f28e2ab5row4_col3\" class=\"data row4 col3\" >0.815044</td>\n",
       "                        <td id=\"T_fc555634_fc92_11eb_9cb1_8086f28e2ab5row4_col4\" class=\"data row4 col4\" >0.543162</td>\n",
       "                        <td id=\"T_fc555634_fc92_11eb_9cb1_8086f28e2ab5row4_col5\" class=\"data row4 col5\" >0.986483</td>\n",
       "            </tr>\n",
       "            <tr>\n",
       "                                        <th id=\"T_fc555634_fc92_11eb_9cb1_8086f28e2ab5level2_row5\" class=\"row_heading level2 row5\" >Recall</th>\n",
       "                        <td id=\"T_fc555634_fc92_11eb_9cb1_8086f28e2ab5row5_col0\" class=\"data row5 col0\" >0.806454</td>\n",
       "                        <td id=\"T_fc555634_fc92_11eb_9cb1_8086f28e2ab5row5_col1\" class=\"data row5 col1\" >0.891745</td>\n",
       "                        <td id=\"T_fc555634_fc92_11eb_9cb1_8086f28e2ab5row5_col2\" class=\"data row5 col2\" >0.148535</td>\n",
       "                        <td id=\"T_fc555634_fc92_11eb_9cb1_8086f28e2ab5row5_col3\" class=\"data row5 col3\" >0.807636</td>\n",
       "                        <td id=\"T_fc555634_fc92_11eb_9cb1_8086f28e2ab5row5_col4\" class=\"data row5 col4\" >0.521030</td>\n",
       "                        <td id=\"T_fc555634_fc92_11eb_9cb1_8086f28e2ab5row5_col5\" class=\"data row5 col5\" >0.995410</td>\n",
       "            </tr>\n",
       "    </tbody></table>"
      ],
      "text/plain": [
       "<pandas.io.formats.style.Styler at 0x20937947ba8>"
      ]
     },
     "execution_count": 35,
     "metadata": {},
     "output_type": "execute_result"
    }
   ],
   "source": [
    "# Valor das métricas de um modelo selecionado pelo melhor valor de um métrica\n",
    "melhores_modelos('PT', tipo = 'knn', modelo=True)"
   ]
  },
  {
   "cell_type": "code",
   "execution_count": 36,
   "id": "de5a77b5",
   "metadata": {
    "hidden": true
   },
   "outputs": [
    {
     "data": {
      "text/html": [
       "<style  type=\"text/css\" >\n",
       "#T_fc7f951c_fc92_11eb_a8b5_8086f28e2ab5row0_col0,#T_fc7f951c_fc92_11eb_a8b5_8086f28e2ab5row0_col1,#T_fc7f951c_fc92_11eb_a8b5_8086f28e2ab5row0_col2,#T_fc7f951c_fc92_11eb_a8b5_8086f28e2ab5row0_col3,#T_fc7f951c_fc92_11eb_a8b5_8086f28e2ab5row0_col4,#T_fc7f951c_fc92_11eb_a8b5_8086f28e2ab5row1_col0,#T_fc7f951c_fc92_11eb_a8b5_8086f28e2ab5row1_col1,#T_fc7f951c_fc92_11eb_a8b5_8086f28e2ab5row1_col2,#T_fc7f951c_fc92_11eb_a8b5_8086f28e2ab5row1_col3,#T_fc7f951c_fc92_11eb_a8b5_8086f28e2ab5row1_col4,#T_fc7f951c_fc92_11eb_a8b5_8086f28e2ab5row2_col0,#T_fc7f951c_fc92_11eb_a8b5_8086f28e2ab5row2_col1,#T_fc7f951c_fc92_11eb_a8b5_8086f28e2ab5row2_col2,#T_fc7f951c_fc92_11eb_a8b5_8086f28e2ab5row2_col3,#T_fc7f951c_fc92_11eb_a8b5_8086f28e2ab5row2_col4,#T_fc7f951c_fc92_11eb_a8b5_8086f28e2ab5row3_col0,#T_fc7f951c_fc92_11eb_a8b5_8086f28e2ab5row3_col1,#T_fc7f951c_fc92_11eb_a8b5_8086f28e2ab5row3_col2,#T_fc7f951c_fc92_11eb_a8b5_8086f28e2ab5row3_col3,#T_fc7f951c_fc92_11eb_a8b5_8086f28e2ab5row3_col4,#T_fc7f951c_fc92_11eb_a8b5_8086f28e2ab5row4_col0,#T_fc7f951c_fc92_11eb_a8b5_8086f28e2ab5row4_col1,#T_fc7f951c_fc92_11eb_a8b5_8086f28e2ab5row4_col2,#T_fc7f951c_fc92_11eb_a8b5_8086f28e2ab5row4_col3,#T_fc7f951c_fc92_11eb_a8b5_8086f28e2ab5row4_col4,#T_fc7f951c_fc92_11eb_a8b5_8086f28e2ab5row5_col5{\n",
       "            background-color:  yellow;\n",
       "        }</style><table id=\"T_fc7f951c_fc92_11eb_a8b5_8086f28e2ab5\" ><thead>    <tr>        <th class=\"blank\" ></th>        <th class=\"blank\" ></th>        <th class=\"index_name level0\" >metrica</th>        <th class=\"col_heading level0 col0\" >Acurácia</th>        <th class=\"col_heading level0 col1\" >F1</th>        <th class=\"col_heading level0 col2\" >MCC</th>        <th class=\"col_heading level0 col3\" >Precisão</th>        <th class=\"col_heading level0 col4\" >ROC</th>        <th class=\"col_heading level0 col5\" >Recall</th>    </tr>    <tr>        <th class=\"index_name level0\" >dataset</th>        <th class=\"index_name level1\" >tipo</th>        <th class=\"index_name level2\" >melhor</th>        <th class=\"blank\" ></th>        <th class=\"blank\" ></th>        <th class=\"blank\" ></th>        <th class=\"blank\" ></th>        <th class=\"blank\" ></th>        <th class=\"blank\" ></th>    </tr></thead><tbody>\n",
       "                <tr>\n",
       "                        <th id=\"T_fc7f951c_fc92_11eb_a8b5_8086f28e2ab5level0_row0\" class=\"row_heading level0 row0\" rowspan=6>Reduzida</th>\n",
       "                        <th id=\"T_fc7f951c_fc92_11eb_a8b5_8086f28e2ab5level1_row0\" class=\"row_heading level1 row0\" rowspan=6>knn</th>\n",
       "                        <th id=\"T_fc7f951c_fc92_11eb_a8b5_8086f28e2ab5level2_row0\" class=\"row_heading level2 row0\" >Acurácia</th>\n",
       "                        <td id=\"T_fc7f951c_fc92_11eb_a8b5_8086f28e2ab5row0_col0\" class=\"data row0 col0\" >0.870159</td>\n",
       "                        <td id=\"T_fc7f951c_fc92_11eb_a8b5_8086f28e2ab5row0_col1\" class=\"data row0 col1\" >0.923933</td>\n",
       "                        <td id=\"T_fc7f951c_fc92_11eb_a8b5_8086f28e2ab5row0_col2\" class=\"data row0 col2\" >0.540064</td>\n",
       "                        <td id=\"T_fc7f951c_fc92_11eb_a8b5_8086f28e2ab5row0_col3\" class=\"data row0 col3\" >0.870280</td>\n",
       "                        <td id=\"T_fc7f951c_fc92_11eb_a8b5_8086f28e2ab5row0_col4\" class=\"data row0 col4\" >0.697232</td>\n",
       "                        <td id=\"T_fc7f951c_fc92_11eb_a8b5_8086f28e2ab5row0_col5\" class=\"data row0 col5\" >0.984640</td>\n",
       "            </tr>\n",
       "            <tr>\n",
       "                                        <th id=\"T_fc7f951c_fc92_11eb_a8b5_8086f28e2ab5level2_row1\" class=\"row_heading level2 row1\" >F1</th>\n",
       "                        <td id=\"T_fc7f951c_fc92_11eb_a8b5_8086f28e2ab5row1_col0\" class=\"data row1 col0\" >0.870159</td>\n",
       "                        <td id=\"T_fc7f951c_fc92_11eb_a8b5_8086f28e2ab5row1_col1\" class=\"data row1 col1\" >0.923933</td>\n",
       "                        <td id=\"T_fc7f951c_fc92_11eb_a8b5_8086f28e2ab5row1_col2\" class=\"data row1 col2\" >0.540064</td>\n",
       "                        <td id=\"T_fc7f951c_fc92_11eb_a8b5_8086f28e2ab5row1_col3\" class=\"data row1 col3\" >0.870280</td>\n",
       "                        <td id=\"T_fc7f951c_fc92_11eb_a8b5_8086f28e2ab5row1_col4\" class=\"data row1 col4\" >0.697232</td>\n",
       "                        <td id=\"T_fc7f951c_fc92_11eb_a8b5_8086f28e2ab5row1_col5\" class=\"data row1 col5\" >0.984640</td>\n",
       "            </tr>\n",
       "            <tr>\n",
       "                                        <th id=\"T_fc7f951c_fc92_11eb_a8b5_8086f28e2ab5level2_row2\" class=\"row_heading level2 row2\" >MCC</th>\n",
       "                        <td id=\"T_fc7f951c_fc92_11eb_a8b5_8086f28e2ab5row2_col0\" class=\"data row2 col0\" >0.870159</td>\n",
       "                        <td id=\"T_fc7f951c_fc92_11eb_a8b5_8086f28e2ab5row2_col1\" class=\"data row2 col1\" >0.923933</td>\n",
       "                        <td id=\"T_fc7f951c_fc92_11eb_a8b5_8086f28e2ab5row2_col2\" class=\"data row2 col2\" >0.540064</td>\n",
       "                        <td id=\"T_fc7f951c_fc92_11eb_a8b5_8086f28e2ab5row2_col3\" class=\"data row2 col3\" >0.870280</td>\n",
       "                        <td id=\"T_fc7f951c_fc92_11eb_a8b5_8086f28e2ab5row2_col4\" class=\"data row2 col4\" >0.697232</td>\n",
       "                        <td id=\"T_fc7f951c_fc92_11eb_a8b5_8086f28e2ab5row2_col5\" class=\"data row2 col5\" >0.984640</td>\n",
       "            </tr>\n",
       "            <tr>\n",
       "                                        <th id=\"T_fc7f951c_fc92_11eb_a8b5_8086f28e2ab5level2_row3\" class=\"row_heading level2 row3\" >Precisão</th>\n",
       "                        <td id=\"T_fc7f951c_fc92_11eb_a8b5_8086f28e2ab5row3_col0\" class=\"data row3 col0\" >0.870159</td>\n",
       "                        <td id=\"T_fc7f951c_fc92_11eb_a8b5_8086f28e2ab5row3_col1\" class=\"data row3 col1\" >0.923933</td>\n",
       "                        <td id=\"T_fc7f951c_fc92_11eb_a8b5_8086f28e2ab5row3_col2\" class=\"data row3 col2\" >0.540064</td>\n",
       "                        <td id=\"T_fc7f951c_fc92_11eb_a8b5_8086f28e2ab5row3_col3\" class=\"data row3 col3\" >0.870280</td>\n",
       "                        <td id=\"T_fc7f951c_fc92_11eb_a8b5_8086f28e2ab5row3_col4\" class=\"data row3 col4\" >0.697232</td>\n",
       "                        <td id=\"T_fc7f951c_fc92_11eb_a8b5_8086f28e2ab5row3_col5\" class=\"data row3 col5\" >0.984640</td>\n",
       "            </tr>\n",
       "            <tr>\n",
       "                                        <th id=\"T_fc7f951c_fc92_11eb_a8b5_8086f28e2ab5level2_row4\" class=\"row_heading level2 row4\" >ROC</th>\n",
       "                        <td id=\"T_fc7f951c_fc92_11eb_a8b5_8086f28e2ab5row4_col0\" class=\"data row4 col0\" >0.870159</td>\n",
       "                        <td id=\"T_fc7f951c_fc92_11eb_a8b5_8086f28e2ab5row4_col1\" class=\"data row4 col1\" >0.923933</td>\n",
       "                        <td id=\"T_fc7f951c_fc92_11eb_a8b5_8086f28e2ab5row4_col2\" class=\"data row4 col2\" >0.540064</td>\n",
       "                        <td id=\"T_fc7f951c_fc92_11eb_a8b5_8086f28e2ab5row4_col3\" class=\"data row4 col3\" >0.870280</td>\n",
       "                        <td id=\"T_fc7f951c_fc92_11eb_a8b5_8086f28e2ab5row4_col4\" class=\"data row4 col4\" >0.697232</td>\n",
       "                        <td id=\"T_fc7f951c_fc92_11eb_a8b5_8086f28e2ab5row4_col5\" class=\"data row4 col5\" >0.984640</td>\n",
       "            </tr>\n",
       "            <tr>\n",
       "                                        <th id=\"T_fc7f951c_fc92_11eb_a8b5_8086f28e2ab5level2_row5\" class=\"row_heading level2 row5\" >Recall</th>\n",
       "                        <td id=\"T_fc7f951c_fc92_11eb_a8b5_8086f28e2ab5row5_col0\" class=\"data row5 col0\" >0.860029</td>\n",
       "                        <td id=\"T_fc7f951c_fc92_11eb_a8b5_8086f28e2ab5row5_col1\" class=\"data row5 col1\" >0.918883</td>\n",
       "                        <td id=\"T_fc7f951c_fc92_11eb_a8b5_8086f28e2ab5row5_col2\" class=\"data row5 col2\" >0.495750</td>\n",
       "                        <td id=\"T_fc7f951c_fc92_11eb_a8b5_8086f28e2ab5row5_col3\" class=\"data row5 col3\" >0.857365</td>\n",
       "                        <td id=\"T_fc7f951c_fc92_11eb_a8b5_8086f28e2ab5row5_col4\" class=\"data row5 col4\" >0.663828</td>\n",
       "                        <td id=\"T_fc7f951c_fc92_11eb_a8b5_8086f28e2ab5row5_col5\" class=\"data row5 col5\" >0.989916</td>\n",
       "            </tr>\n",
       "    </tbody></table>"
      ],
      "text/plain": [
       "<pandas.io.formats.style.Styler at 0x20934717c50>"
      ]
     },
     "execution_count": 36,
     "metadata": {},
     "output_type": "execute_result"
    }
   ],
   "source": [
    "# Valor das métricas de um modelo selecionado pelo melhor valor de um métrica\n",
    "melhores_modelos('Reduzida', tipo = 'knn', modelo=True)"
   ]
  },
  {
   "cell_type": "markdown",
   "id": "eef0c63a",
   "metadata": {
    "heading_collapsed": true,
    "hidden": true
   },
   "source": [
    "#### LOF"
   ]
  },
  {
   "cell_type": "code",
   "execution_count": 37,
   "id": "19f381b6",
   "metadata": {
    "hidden": true
   },
   "outputs": [
    {
     "data": {
      "text/html": [
       "<style  type=\"text/css\" >\n",
       "#T_fca73ac8_fc92_11eb_a440_8086f28e2ab5row0_col0,#T_fca73ac8_fc92_11eb_a440_8086f28e2ab5row0_col1,#T_fca73ac8_fc92_11eb_a440_8086f28e2ab5row0_col5,#T_fca73ac8_fc92_11eb_a440_8086f28e2ab5row1_col0,#T_fca73ac8_fc92_11eb_a440_8086f28e2ab5row1_col1,#T_fca73ac8_fc92_11eb_a440_8086f28e2ab5row1_col5,#T_fca73ac8_fc92_11eb_a440_8086f28e2ab5row2_col2,#T_fca73ac8_fc92_11eb_a440_8086f28e2ab5row2_col3,#T_fca73ac8_fc92_11eb_a440_8086f28e2ab5row2_col4,#T_fca73ac8_fc92_11eb_a440_8086f28e2ab5row3_col2,#T_fca73ac8_fc92_11eb_a440_8086f28e2ab5row3_col3,#T_fca73ac8_fc92_11eb_a440_8086f28e2ab5row3_col4,#T_fca73ac8_fc92_11eb_a440_8086f28e2ab5row4_col2,#T_fca73ac8_fc92_11eb_a440_8086f28e2ab5row4_col3,#T_fca73ac8_fc92_11eb_a440_8086f28e2ab5row4_col4,#T_fca73ac8_fc92_11eb_a440_8086f28e2ab5row5_col0,#T_fca73ac8_fc92_11eb_a440_8086f28e2ab5row5_col1,#T_fca73ac8_fc92_11eb_a440_8086f28e2ab5row5_col5{\n",
       "            background-color:  yellow;\n",
       "        }</style><table id=\"T_fca73ac8_fc92_11eb_a440_8086f28e2ab5\" ><thead>    <tr>        <th class=\"blank\" ></th>        <th class=\"blank\" ></th>        <th class=\"index_name level0\" >metrica</th>        <th class=\"col_heading level0 col0\" >Acurácia</th>        <th class=\"col_heading level0 col1\" >F1</th>        <th class=\"col_heading level0 col2\" >MCC</th>        <th class=\"col_heading level0 col3\" >Precisão</th>        <th class=\"col_heading level0 col4\" >ROC</th>        <th class=\"col_heading level0 col5\" >Recall</th>    </tr>    <tr>        <th class=\"index_name level0\" >dataset</th>        <th class=\"index_name level1\" >tipo</th>        <th class=\"index_name level2\" >melhor</th>        <th class=\"blank\" ></th>        <th class=\"blank\" ></th>        <th class=\"blank\" ></th>        <th class=\"blank\" ></th>        <th class=\"blank\" ></th>        <th class=\"blank\" ></th>    </tr></thead><tbody>\n",
       "                <tr>\n",
       "                        <th id=\"T_fca73ac8_fc92_11eb_a440_8086f28e2ab5level0_row0\" class=\"row_heading level0 row0\" rowspan=6>Original</th>\n",
       "                        <th id=\"T_fca73ac8_fc92_11eb_a440_8086f28e2ab5level1_row0\" class=\"row_heading level1 row0\" rowspan=6>lof</th>\n",
       "                        <th id=\"T_fca73ac8_fc92_11eb_a440_8086f28e2ab5level2_row0\" class=\"row_heading level2 row0\" >Acurácia</th>\n",
       "                        <td id=\"T_fca73ac8_fc92_11eb_a440_8086f28e2ab5row0_col0\" class=\"data row0 col0\" >0.741158</td>\n",
       "                        <td id=\"T_fca73ac8_fc92_11eb_a440_8086f28e2ab5row0_col1\" class=\"data row0 col1\" >0.841613</td>\n",
       "                        <td id=\"T_fca73ac8_fc92_11eb_a440_8086f28e2ab5row0_col2\" class=\"data row0 col2\" >0.136271</td>\n",
       "                        <td id=\"T_fca73ac8_fc92_11eb_a440_8086f28e2ab5row0_col3\" class=\"data row0 col3\" >0.825172</td>\n",
       "                        <td id=\"T_fca73ac8_fc92_11eb_a440_8086f28e2ab5row0_col4\" class=\"data row0 col4\" >0.563572</td>\n",
       "                        <td id=\"T_fca73ac8_fc92_11eb_a440_8086f28e2ab5row0_col5\" class=\"data row0 col5\" >0.858723</td>\n",
       "            </tr>\n",
       "            <tr>\n",
       "                                        <th id=\"T_fca73ac8_fc92_11eb_a440_8086f28e2ab5level2_row1\" class=\"row_heading level2 row1\" >F1</th>\n",
       "                        <td id=\"T_fca73ac8_fc92_11eb_a440_8086f28e2ab5row1_col0\" class=\"data row1 col0\" >0.741158</td>\n",
       "                        <td id=\"T_fca73ac8_fc92_11eb_a440_8086f28e2ab5row1_col1\" class=\"data row1 col1\" >0.841613</td>\n",
       "                        <td id=\"T_fca73ac8_fc92_11eb_a440_8086f28e2ab5row1_col2\" class=\"data row1 col2\" >0.136271</td>\n",
       "                        <td id=\"T_fca73ac8_fc92_11eb_a440_8086f28e2ab5row1_col3\" class=\"data row1 col3\" >0.825172</td>\n",
       "                        <td id=\"T_fca73ac8_fc92_11eb_a440_8086f28e2ab5row1_col4\" class=\"data row1 col4\" >0.563572</td>\n",
       "                        <td id=\"T_fca73ac8_fc92_11eb_a440_8086f28e2ab5row1_col5\" class=\"data row1 col5\" >0.858723</td>\n",
       "            </tr>\n",
       "            <tr>\n",
       "                                        <th id=\"T_fca73ac8_fc92_11eb_a440_8086f28e2ab5level2_row2\" class=\"row_heading level2 row2\" >MCC</th>\n",
       "                        <td id=\"T_fca73ac8_fc92_11eb_a440_8086f28e2ab5row2_col0\" class=\"data row2 col0\" >0.740637</td>\n",
       "                        <td id=\"T_fca73ac8_fc92_11eb_a440_8086f28e2ab5row2_col1\" class=\"data row2 col1\" >0.841114</td>\n",
       "                        <td id=\"T_fca73ac8_fc92_11eb_a440_8086f28e2ab5row2_col2\" class=\"data row2 col2\" >0.137656</td>\n",
       "                        <td id=\"T_fca73ac8_fc92_11eb_a440_8086f28e2ab5row2_col3\" class=\"data row2 col3\" >0.825583</td>\n",
       "                        <td id=\"T_fca73ac8_fc92_11eb_a440_8086f28e2ab5row2_col4\" class=\"data row2 col4\" >0.564502</td>\n",
       "                        <td id=\"T_fca73ac8_fc92_11eb_a440_8086f28e2ab5row2_col5\" class=\"data row2 col5\" >0.857241</td>\n",
       "            </tr>\n",
       "            <tr>\n",
       "                                        <th id=\"T_fca73ac8_fc92_11eb_a440_8086f28e2ab5level2_row3\" class=\"row_heading level2 row3\" >Precisão</th>\n",
       "                        <td id=\"T_fca73ac8_fc92_11eb_a440_8086f28e2ab5row3_col0\" class=\"data row3 col0\" >0.740637</td>\n",
       "                        <td id=\"T_fca73ac8_fc92_11eb_a440_8086f28e2ab5row3_col1\" class=\"data row3 col1\" >0.841114</td>\n",
       "                        <td id=\"T_fca73ac8_fc92_11eb_a440_8086f28e2ab5row3_col2\" class=\"data row3 col2\" >0.137656</td>\n",
       "                        <td id=\"T_fca73ac8_fc92_11eb_a440_8086f28e2ab5row3_col3\" class=\"data row3 col3\" >0.825583</td>\n",
       "                        <td id=\"T_fca73ac8_fc92_11eb_a440_8086f28e2ab5row3_col4\" class=\"data row3 col4\" >0.564502</td>\n",
       "                        <td id=\"T_fca73ac8_fc92_11eb_a440_8086f28e2ab5row3_col5\" class=\"data row3 col5\" >0.857241</td>\n",
       "            </tr>\n",
       "            <tr>\n",
       "                                        <th id=\"T_fca73ac8_fc92_11eb_a440_8086f28e2ab5level2_row4\" class=\"row_heading level2 row4\" >ROC</th>\n",
       "                        <td id=\"T_fca73ac8_fc92_11eb_a440_8086f28e2ab5row4_col0\" class=\"data row4 col0\" >0.740637</td>\n",
       "                        <td id=\"T_fca73ac8_fc92_11eb_a440_8086f28e2ab5row4_col1\" class=\"data row4 col1\" >0.841114</td>\n",
       "                        <td id=\"T_fca73ac8_fc92_11eb_a440_8086f28e2ab5row4_col2\" class=\"data row4 col2\" >0.137656</td>\n",
       "                        <td id=\"T_fca73ac8_fc92_11eb_a440_8086f28e2ab5row4_col3\" class=\"data row4 col3\" >0.825583</td>\n",
       "                        <td id=\"T_fca73ac8_fc92_11eb_a440_8086f28e2ab5row4_col4\" class=\"data row4 col4\" >0.564502</td>\n",
       "                        <td id=\"T_fca73ac8_fc92_11eb_a440_8086f28e2ab5row4_col5\" class=\"data row4 col5\" >0.857241</td>\n",
       "            </tr>\n",
       "            <tr>\n",
       "                                        <th id=\"T_fca73ac8_fc92_11eb_a440_8086f28e2ab5level2_row5\" class=\"row_heading level2 row5\" >Recall</th>\n",
       "                        <td id=\"T_fca73ac8_fc92_11eb_a440_8086f28e2ab5row5_col0\" class=\"data row5 col0\" >0.741158</td>\n",
       "                        <td id=\"T_fca73ac8_fc92_11eb_a440_8086f28e2ab5row5_col1\" class=\"data row5 col1\" >0.841613</td>\n",
       "                        <td id=\"T_fca73ac8_fc92_11eb_a440_8086f28e2ab5row5_col2\" class=\"data row5 col2\" >0.136271</td>\n",
       "                        <td id=\"T_fca73ac8_fc92_11eb_a440_8086f28e2ab5row5_col3\" class=\"data row5 col3\" >0.825172</td>\n",
       "                        <td id=\"T_fca73ac8_fc92_11eb_a440_8086f28e2ab5row5_col4\" class=\"data row5 col4\" >0.563572</td>\n",
       "                        <td id=\"T_fca73ac8_fc92_11eb_a440_8086f28e2ab5row5_col5\" class=\"data row5 col5\" >0.858723</td>\n",
       "            </tr>\n",
       "    </tbody></table>"
      ],
      "text/plain": [
       "<pandas.io.formats.style.Styler at 0x209378bec18>"
      ]
     },
     "execution_count": 37,
     "metadata": {},
     "output_type": "execute_result"
    }
   ],
   "source": [
    "# Valor das métricas de um modelo selecionado pelo melhor valor de um métrica\n",
    "melhores_modelos('Original', tipo = 'lof', modelo=True)"
   ]
  },
  {
   "cell_type": "code",
   "execution_count": 38,
   "id": "07b46c57",
   "metadata": {
    "hidden": true
   },
   "outputs": [
    {
     "data": {
      "text/html": [
       "<style  type=\"text/css\" >\n",
       "#T_fcdac674_fc92_11eb_9443_8086f28e2ab5row0_col0,#T_fcdac674_fc92_11eb_9443_8086f28e2ab5row0_col1,#T_fcdac674_fc92_11eb_9443_8086f28e2ab5row0_col2,#T_fcdac674_fc92_11eb_9443_8086f28e2ab5row0_col5,#T_fcdac674_fc92_11eb_9443_8086f28e2ab5row1_col0,#T_fcdac674_fc92_11eb_9443_8086f28e2ab5row1_col1,#T_fcdac674_fc92_11eb_9443_8086f28e2ab5row1_col2,#T_fcdac674_fc92_11eb_9443_8086f28e2ab5row1_col5,#T_fcdac674_fc92_11eb_9443_8086f28e2ab5row2_col0,#T_fcdac674_fc92_11eb_9443_8086f28e2ab5row2_col1,#T_fcdac674_fc92_11eb_9443_8086f28e2ab5row2_col2,#T_fcdac674_fc92_11eb_9443_8086f28e2ab5row2_col5,#T_fcdac674_fc92_11eb_9443_8086f28e2ab5row3_col3,#T_fcdac674_fc92_11eb_9443_8086f28e2ab5row3_col4,#T_fcdac674_fc92_11eb_9443_8086f28e2ab5row4_col3,#T_fcdac674_fc92_11eb_9443_8086f28e2ab5row4_col4,#T_fcdac674_fc92_11eb_9443_8086f28e2ab5row5_col0,#T_fcdac674_fc92_11eb_9443_8086f28e2ab5row5_col1,#T_fcdac674_fc92_11eb_9443_8086f28e2ab5row5_col2,#T_fcdac674_fc92_11eb_9443_8086f28e2ab5row5_col5{\n",
       "            background-color:  yellow;\n",
       "        }</style><table id=\"T_fcdac674_fc92_11eb_9443_8086f28e2ab5\" ><thead>    <tr>        <th class=\"blank\" ></th>        <th class=\"blank\" ></th>        <th class=\"index_name level0\" >metrica</th>        <th class=\"col_heading level0 col0\" >Acurácia</th>        <th class=\"col_heading level0 col1\" >F1</th>        <th class=\"col_heading level0 col2\" >MCC</th>        <th class=\"col_heading level0 col3\" >Precisão</th>        <th class=\"col_heading level0 col4\" >ROC</th>        <th class=\"col_heading level0 col5\" >Recall</th>    </tr>    <tr>        <th class=\"index_name level0\" >dataset</th>        <th class=\"index_name level1\" >tipo</th>        <th class=\"index_name level2\" >melhor</th>        <th class=\"blank\" ></th>        <th class=\"blank\" ></th>        <th class=\"blank\" ></th>        <th class=\"blank\" ></th>        <th class=\"blank\" ></th>        <th class=\"blank\" ></th>    </tr></thead><tbody>\n",
       "                <tr>\n",
       "                        <th id=\"T_fcdac674_fc92_11eb_9443_8086f28e2ab5level0_row0\" class=\"row_heading level0 row0\" rowspan=6>SS</th>\n",
       "                        <th id=\"T_fcdac674_fc92_11eb_9443_8086f28e2ab5level1_row0\" class=\"row_heading level1 row0\" rowspan=6>lof</th>\n",
       "                        <th id=\"T_fcdac674_fc92_11eb_9443_8086f28e2ab5level2_row0\" class=\"row_heading level2 row0\" >Acurácia</th>\n",
       "                        <td id=\"T_fcdac674_fc92_11eb_9443_8086f28e2ab5row0_col0\" class=\"data row0 col0\" >0.762084</td>\n",
       "                        <td id=\"T_fcdac674_fc92_11eb_9443_8086f28e2ab5row0_col1\" class=\"data row0 col1\" >0.860247</td>\n",
       "                        <td id=\"T_fcdac674_fc92_11eb_9443_8086f28e2ab5row0_col2\" class=\"data row0 col2\" >0.086036</td>\n",
       "                        <td id=\"T_fcdac674_fc92_11eb_9443_8086f28e2ab5row0_col3\" class=\"data row0 col3\" >0.812193</td>\n",
       "                        <td id=\"T_fcdac674_fc92_11eb_9443_8086f28e2ab5row0_col4\" class=\"data row0 col4\" >0.532089</td>\n",
       "                        <td id=\"T_fcdac674_fc92_11eb_9443_8086f28e2ab5row0_col5\" class=\"data row0 col5\" >0.914345</td>\n",
       "            </tr>\n",
       "            <tr>\n",
       "                                        <th id=\"T_fcdac674_fc92_11eb_9443_8086f28e2ab5level2_row1\" class=\"row_heading level2 row1\" >F1</th>\n",
       "                        <td id=\"T_fcdac674_fc92_11eb_9443_8086f28e2ab5row1_col0\" class=\"data row1 col0\" >0.762084</td>\n",
       "                        <td id=\"T_fcdac674_fc92_11eb_9443_8086f28e2ab5row1_col1\" class=\"data row1 col1\" >0.860247</td>\n",
       "                        <td id=\"T_fcdac674_fc92_11eb_9443_8086f28e2ab5row1_col2\" class=\"data row1 col2\" >0.086036</td>\n",
       "                        <td id=\"T_fcdac674_fc92_11eb_9443_8086f28e2ab5row1_col3\" class=\"data row1 col3\" >0.812193</td>\n",
       "                        <td id=\"T_fcdac674_fc92_11eb_9443_8086f28e2ab5row1_col4\" class=\"data row1 col4\" >0.532089</td>\n",
       "                        <td id=\"T_fcdac674_fc92_11eb_9443_8086f28e2ab5row1_col5\" class=\"data row1 col5\" >0.914345</td>\n",
       "            </tr>\n",
       "            <tr>\n",
       "                                        <th id=\"T_fcdac674_fc92_11eb_9443_8086f28e2ab5level2_row2\" class=\"row_heading level2 row2\" >MCC</th>\n",
       "                        <td id=\"T_fcdac674_fc92_11eb_9443_8086f28e2ab5row2_col0\" class=\"data row2 col0\" >0.762084</td>\n",
       "                        <td id=\"T_fcdac674_fc92_11eb_9443_8086f28e2ab5row2_col1\" class=\"data row2 col1\" >0.860247</td>\n",
       "                        <td id=\"T_fcdac674_fc92_11eb_9443_8086f28e2ab5row2_col2\" class=\"data row2 col2\" >0.086036</td>\n",
       "                        <td id=\"T_fcdac674_fc92_11eb_9443_8086f28e2ab5row2_col3\" class=\"data row2 col3\" >0.812193</td>\n",
       "                        <td id=\"T_fcdac674_fc92_11eb_9443_8086f28e2ab5row2_col4\" class=\"data row2 col4\" >0.532089</td>\n",
       "                        <td id=\"T_fcdac674_fc92_11eb_9443_8086f28e2ab5row2_col5\" class=\"data row2 col5\" >0.914345</td>\n",
       "            </tr>\n",
       "            <tr>\n",
       "                                        <th id=\"T_fcdac674_fc92_11eb_9443_8086f28e2ab5level2_row3\" class=\"row_heading level2 row3\" >Precisão</th>\n",
       "                        <td id=\"T_fcdac674_fc92_11eb_9443_8086f28e2ab5row3_col0\" class=\"data row3 col0\" >0.754848</td>\n",
       "                        <td id=\"T_fcdac674_fc92_11eb_9443_8086f28e2ab5row3_col1\" class=\"data row3 col1\" >0.854951</td>\n",
       "                        <td id=\"T_fcdac674_fc92_11eb_9443_8086f28e2ab5row3_col2\" class=\"data row3 col2\" >0.082276</td>\n",
       "                        <td id=\"T_fcdac674_fc92_11eb_9443_8086f28e2ab5row3_col3\" class=\"data row3 col3\" >0.812433</td>\n",
       "                        <td id=\"T_fcdac674_fc92_11eb_9443_8086f28e2ab5row3_col4\" class=\"data row3 col4\" >0.532321</td>\n",
       "                        <td id=\"T_fcdac674_fc92_11eb_9443_8086f28e2ab5row3_col5\" class=\"data row3 col5\" >0.902165</td>\n",
       "            </tr>\n",
       "            <tr>\n",
       "                                        <th id=\"T_fcdac674_fc92_11eb_9443_8086f28e2ab5level2_row4\" class=\"row_heading level2 row4\" >ROC</th>\n",
       "                        <td id=\"T_fcdac674_fc92_11eb_9443_8086f28e2ab5row4_col0\" class=\"data row4 col0\" >0.754848</td>\n",
       "                        <td id=\"T_fcdac674_fc92_11eb_9443_8086f28e2ab5row4_col1\" class=\"data row4 col1\" >0.854951</td>\n",
       "                        <td id=\"T_fcdac674_fc92_11eb_9443_8086f28e2ab5row4_col2\" class=\"data row4 col2\" >0.082276</td>\n",
       "                        <td id=\"T_fcdac674_fc92_11eb_9443_8086f28e2ab5row4_col3\" class=\"data row4 col3\" >0.812433</td>\n",
       "                        <td id=\"T_fcdac674_fc92_11eb_9443_8086f28e2ab5row4_col4\" class=\"data row4 col4\" >0.532321</td>\n",
       "                        <td id=\"T_fcdac674_fc92_11eb_9443_8086f28e2ab5row4_col5\" class=\"data row4 col5\" >0.902165</td>\n",
       "            </tr>\n",
       "            <tr>\n",
       "                                        <th id=\"T_fcdac674_fc92_11eb_9443_8086f28e2ab5level2_row5\" class=\"row_heading level2 row5\" >Recall</th>\n",
       "                        <td id=\"T_fcdac674_fc92_11eb_9443_8086f28e2ab5row5_col0\" class=\"data row5 col0\" >0.762084</td>\n",
       "                        <td id=\"T_fcdac674_fc92_11eb_9443_8086f28e2ab5row5_col1\" class=\"data row5 col1\" >0.860247</td>\n",
       "                        <td id=\"T_fcdac674_fc92_11eb_9443_8086f28e2ab5row5_col2\" class=\"data row5 col2\" >0.086036</td>\n",
       "                        <td id=\"T_fcdac674_fc92_11eb_9443_8086f28e2ab5row5_col3\" class=\"data row5 col3\" >0.812193</td>\n",
       "                        <td id=\"T_fcdac674_fc92_11eb_9443_8086f28e2ab5row5_col4\" class=\"data row5 col4\" >0.532089</td>\n",
       "                        <td id=\"T_fcdac674_fc92_11eb_9443_8086f28e2ab5row5_col5\" class=\"data row5 col5\" >0.914345</td>\n",
       "            </tr>\n",
       "    </tbody></table>"
      ],
      "text/plain": [
       "<pandas.io.formats.style.Styler at 0x20937968c50>"
      ]
     },
     "execution_count": 38,
     "metadata": {},
     "output_type": "execute_result"
    }
   ],
   "source": [
    "# Valor das métricas de um modelo selecionado pelo melhor valor de um métrica\n",
    "melhores_modelos('SS', tipo = 'lof', modelo=True)"
   ]
  },
  {
   "cell_type": "code",
   "execution_count": 39,
   "id": "991c5e2a",
   "metadata": {
    "hidden": true
   },
   "outputs": [
    {
     "data": {
      "text/html": [
       "<style  type=\"text/css\" >\n",
       "#T_fd3b27f0_fc92_11eb_982c_8086f28e2ab5row0_col0,#T_fd3b27f0_fc92_11eb_982c_8086f28e2ab5row0_col1,#T_fd3b27f0_fc92_11eb_982c_8086f28e2ab5row0_col2,#T_fd3b27f0_fc92_11eb_982c_8086f28e2ab5row0_col3,#T_fd3b27f0_fc92_11eb_982c_8086f28e2ab5row0_col4,#T_fd3b27f0_fc92_11eb_982c_8086f28e2ab5row0_col5,#T_fd3b27f0_fc92_11eb_982c_8086f28e2ab5row1_col0,#T_fd3b27f0_fc92_11eb_982c_8086f28e2ab5row1_col1,#T_fd3b27f0_fc92_11eb_982c_8086f28e2ab5row1_col2,#T_fd3b27f0_fc92_11eb_982c_8086f28e2ab5row1_col3,#T_fd3b27f0_fc92_11eb_982c_8086f28e2ab5row1_col4,#T_fd3b27f0_fc92_11eb_982c_8086f28e2ab5row1_col5,#T_fd3b27f0_fc92_11eb_982c_8086f28e2ab5row2_col0,#T_fd3b27f0_fc92_11eb_982c_8086f28e2ab5row2_col1,#T_fd3b27f0_fc92_11eb_982c_8086f28e2ab5row2_col2,#T_fd3b27f0_fc92_11eb_982c_8086f28e2ab5row2_col3,#T_fd3b27f0_fc92_11eb_982c_8086f28e2ab5row2_col4,#T_fd3b27f0_fc92_11eb_982c_8086f28e2ab5row2_col5,#T_fd3b27f0_fc92_11eb_982c_8086f28e2ab5row3_col0,#T_fd3b27f0_fc92_11eb_982c_8086f28e2ab5row3_col1,#T_fd3b27f0_fc92_11eb_982c_8086f28e2ab5row3_col2,#T_fd3b27f0_fc92_11eb_982c_8086f28e2ab5row3_col3,#T_fd3b27f0_fc92_11eb_982c_8086f28e2ab5row3_col4,#T_fd3b27f0_fc92_11eb_982c_8086f28e2ab5row3_col5,#T_fd3b27f0_fc92_11eb_982c_8086f28e2ab5row4_col0,#T_fd3b27f0_fc92_11eb_982c_8086f28e2ab5row4_col1,#T_fd3b27f0_fc92_11eb_982c_8086f28e2ab5row4_col2,#T_fd3b27f0_fc92_11eb_982c_8086f28e2ab5row4_col3,#T_fd3b27f0_fc92_11eb_982c_8086f28e2ab5row4_col4,#T_fd3b27f0_fc92_11eb_982c_8086f28e2ab5row4_col5,#T_fd3b27f0_fc92_11eb_982c_8086f28e2ab5row5_col0,#T_fd3b27f0_fc92_11eb_982c_8086f28e2ab5row5_col1,#T_fd3b27f0_fc92_11eb_982c_8086f28e2ab5row5_col2,#T_fd3b27f0_fc92_11eb_982c_8086f28e2ab5row5_col3,#T_fd3b27f0_fc92_11eb_982c_8086f28e2ab5row5_col4,#T_fd3b27f0_fc92_11eb_982c_8086f28e2ab5row5_col5{\n",
       "            background-color:  yellow;\n",
       "        }</style><table id=\"T_fd3b27f0_fc92_11eb_982c_8086f28e2ab5\" ><thead>    <tr>        <th class=\"blank\" ></th>        <th class=\"blank\" ></th>        <th class=\"index_name level0\" >metrica</th>        <th class=\"col_heading level0 col0\" >Acurácia</th>        <th class=\"col_heading level0 col1\" >F1</th>        <th class=\"col_heading level0 col2\" >MCC</th>        <th class=\"col_heading level0 col3\" >Precisão</th>        <th class=\"col_heading level0 col4\" >ROC</th>        <th class=\"col_heading level0 col5\" >Recall</th>    </tr>    <tr>        <th class=\"index_name level0\" >dataset</th>        <th class=\"index_name level1\" >tipo</th>        <th class=\"index_name level2\" >melhor</th>        <th class=\"blank\" ></th>        <th class=\"blank\" ></th>        <th class=\"blank\" ></th>        <th class=\"blank\" ></th>        <th class=\"blank\" ></th>        <th class=\"blank\" ></th>    </tr></thead><tbody>\n",
       "                <tr>\n",
       "                        <th id=\"T_fd3b27f0_fc92_11eb_982c_8086f28e2ab5level0_row0\" class=\"row_heading level0 row0\" rowspan=6>RS</th>\n",
       "                        <th id=\"T_fd3b27f0_fc92_11eb_982c_8086f28e2ab5level1_row0\" class=\"row_heading level1 row0\" rowspan=6>lof</th>\n",
       "                        <th id=\"T_fd3b27f0_fc92_11eb_982c_8086f28e2ab5level2_row0\" class=\"row_heading level2 row0\" >Acurácia</th>\n",
       "                        <td id=\"T_fd3b27f0_fc92_11eb_982c_8086f28e2ab5row0_col0\" class=\"data row0 col0\" >0.737800</td>\n",
       "                        <td id=\"T_fd3b27f0_fc92_11eb_982c_8086f28e2ab5row0_col1\" class=\"data row0 col1\" >0.841872</td>\n",
       "                        <td id=\"T_fd3b27f0_fc92_11eb_982c_8086f28e2ab5row0_col2\" class=\"data row0 col2\" >0.081669</td>\n",
       "                        <td id=\"T_fd3b27f0_fc92_11eb_982c_8086f28e2ab5row0_col3\" class=\"data row0 col3\" >0.814146</td>\n",
       "                        <td id=\"T_fd3b27f0_fc92_11eb_982c_8086f28e2ab5row0_col4\" class=\"data row0 col4\" >0.535762</td>\n",
       "                        <td id=\"T_fd3b27f0_fc92_11eb_982c_8086f28e2ab5row0_col5\" class=\"data row0 col5\" >0.871553</td>\n",
       "            </tr>\n",
       "            <tr>\n",
       "                                        <th id=\"T_fd3b27f0_fc92_11eb_982c_8086f28e2ab5level2_row1\" class=\"row_heading level2 row1\" >F1</th>\n",
       "                        <td id=\"T_fd3b27f0_fc92_11eb_982c_8086f28e2ab5row1_col0\" class=\"data row1 col0\" >0.737800</td>\n",
       "                        <td id=\"T_fd3b27f0_fc92_11eb_982c_8086f28e2ab5row1_col1\" class=\"data row1 col1\" >0.841872</td>\n",
       "                        <td id=\"T_fd3b27f0_fc92_11eb_982c_8086f28e2ab5row1_col2\" class=\"data row1 col2\" >0.081669</td>\n",
       "                        <td id=\"T_fd3b27f0_fc92_11eb_982c_8086f28e2ab5row1_col3\" class=\"data row1 col3\" >0.814146</td>\n",
       "                        <td id=\"T_fd3b27f0_fc92_11eb_982c_8086f28e2ab5row1_col4\" class=\"data row1 col4\" >0.535762</td>\n",
       "                        <td id=\"T_fd3b27f0_fc92_11eb_982c_8086f28e2ab5row1_col5\" class=\"data row1 col5\" >0.871553</td>\n",
       "            </tr>\n",
       "            <tr>\n",
       "                                        <th id=\"T_fd3b27f0_fc92_11eb_982c_8086f28e2ab5level2_row2\" class=\"row_heading level2 row2\" >MCC</th>\n",
       "                        <td id=\"T_fd3b27f0_fc92_11eb_982c_8086f28e2ab5row2_col0\" class=\"data row2 col0\" >0.737800</td>\n",
       "                        <td id=\"T_fd3b27f0_fc92_11eb_982c_8086f28e2ab5row2_col1\" class=\"data row2 col1\" >0.841872</td>\n",
       "                        <td id=\"T_fd3b27f0_fc92_11eb_982c_8086f28e2ab5row2_col2\" class=\"data row2 col2\" >0.081669</td>\n",
       "                        <td id=\"T_fd3b27f0_fc92_11eb_982c_8086f28e2ab5row2_col3\" class=\"data row2 col3\" >0.814146</td>\n",
       "                        <td id=\"T_fd3b27f0_fc92_11eb_982c_8086f28e2ab5row2_col4\" class=\"data row2 col4\" >0.535762</td>\n",
       "                        <td id=\"T_fd3b27f0_fc92_11eb_982c_8086f28e2ab5row2_col5\" class=\"data row2 col5\" >0.871553</td>\n",
       "            </tr>\n",
       "            <tr>\n",
       "                                        <th id=\"T_fd3b27f0_fc92_11eb_982c_8086f28e2ab5level2_row3\" class=\"row_heading level2 row3\" >Precisão</th>\n",
       "                        <td id=\"T_fd3b27f0_fc92_11eb_982c_8086f28e2ab5row3_col0\" class=\"data row3 col0\" >0.737800</td>\n",
       "                        <td id=\"T_fd3b27f0_fc92_11eb_982c_8086f28e2ab5row3_col1\" class=\"data row3 col1\" >0.841872</td>\n",
       "                        <td id=\"T_fd3b27f0_fc92_11eb_982c_8086f28e2ab5row3_col2\" class=\"data row3 col2\" >0.081669</td>\n",
       "                        <td id=\"T_fd3b27f0_fc92_11eb_982c_8086f28e2ab5row3_col3\" class=\"data row3 col3\" >0.814146</td>\n",
       "                        <td id=\"T_fd3b27f0_fc92_11eb_982c_8086f28e2ab5row3_col4\" class=\"data row3 col4\" >0.535762</td>\n",
       "                        <td id=\"T_fd3b27f0_fc92_11eb_982c_8086f28e2ab5row3_col5\" class=\"data row3 col5\" >0.871553</td>\n",
       "            </tr>\n",
       "            <tr>\n",
       "                                        <th id=\"T_fd3b27f0_fc92_11eb_982c_8086f28e2ab5level2_row4\" class=\"row_heading level2 row4\" >ROC</th>\n",
       "                        <td id=\"T_fd3b27f0_fc92_11eb_982c_8086f28e2ab5row4_col0\" class=\"data row4 col0\" >0.737800</td>\n",
       "                        <td id=\"T_fd3b27f0_fc92_11eb_982c_8086f28e2ab5row4_col1\" class=\"data row4 col1\" >0.841872</td>\n",
       "                        <td id=\"T_fd3b27f0_fc92_11eb_982c_8086f28e2ab5row4_col2\" class=\"data row4 col2\" >0.081669</td>\n",
       "                        <td id=\"T_fd3b27f0_fc92_11eb_982c_8086f28e2ab5row4_col3\" class=\"data row4 col3\" >0.814146</td>\n",
       "                        <td id=\"T_fd3b27f0_fc92_11eb_982c_8086f28e2ab5row4_col4\" class=\"data row4 col4\" >0.535762</td>\n",
       "                        <td id=\"T_fd3b27f0_fc92_11eb_982c_8086f28e2ab5row4_col5\" class=\"data row4 col5\" >0.871553</td>\n",
       "            </tr>\n",
       "            <tr>\n",
       "                                        <th id=\"T_fd3b27f0_fc92_11eb_982c_8086f28e2ab5level2_row5\" class=\"row_heading level2 row5\" >Recall</th>\n",
       "                        <td id=\"T_fd3b27f0_fc92_11eb_982c_8086f28e2ab5row5_col0\" class=\"data row5 col0\" >0.737800</td>\n",
       "                        <td id=\"T_fd3b27f0_fc92_11eb_982c_8086f28e2ab5row5_col1\" class=\"data row5 col1\" >0.841872</td>\n",
       "                        <td id=\"T_fd3b27f0_fc92_11eb_982c_8086f28e2ab5row5_col2\" class=\"data row5 col2\" >0.081669</td>\n",
       "                        <td id=\"T_fd3b27f0_fc92_11eb_982c_8086f28e2ab5row5_col3\" class=\"data row5 col3\" >0.814146</td>\n",
       "                        <td id=\"T_fd3b27f0_fc92_11eb_982c_8086f28e2ab5row5_col4\" class=\"data row5 col4\" >0.535762</td>\n",
       "                        <td id=\"T_fd3b27f0_fc92_11eb_982c_8086f28e2ab5row5_col5\" class=\"data row5 col5\" >0.871553</td>\n",
       "            </tr>\n",
       "    </tbody></table>"
      ],
      "text/plain": [
       "<pandas.io.formats.style.Styler at 0x209378fb2e8>"
      ]
     },
     "execution_count": 39,
     "metadata": {},
     "output_type": "execute_result"
    }
   ],
   "source": [
    "# Valor das métricas de um modelo selecionado pelo melhor valor de um métrica\n",
    "melhores_modelos('RS', tipo = 'lof', modelo=True)"
   ]
  },
  {
   "cell_type": "code",
   "execution_count": 40,
   "id": "2a423bba",
   "metadata": {
    "hidden": true
   },
   "outputs": [
    {
     "data": {
      "text/html": [
       "<style  type=\"text/css\" >\n",
       "#T_fd8238c0_fc92_11eb_a10e_8086f28e2ab5row0_col0,#T_fd8238c0_fc92_11eb_a10e_8086f28e2ab5row0_col1,#T_fd8238c0_fc92_11eb_a10e_8086f28e2ab5row0_col2,#T_fd8238c0_fc92_11eb_a10e_8086f28e2ab5row0_col5,#T_fd8238c0_fc92_11eb_a10e_8086f28e2ab5row1_col0,#T_fd8238c0_fc92_11eb_a10e_8086f28e2ab5row1_col1,#T_fd8238c0_fc92_11eb_a10e_8086f28e2ab5row1_col2,#T_fd8238c0_fc92_11eb_a10e_8086f28e2ab5row1_col5,#T_fd8238c0_fc92_11eb_a10e_8086f28e2ab5row2_col0,#T_fd8238c0_fc92_11eb_a10e_8086f28e2ab5row2_col1,#T_fd8238c0_fc92_11eb_a10e_8086f28e2ab5row2_col2,#T_fd8238c0_fc92_11eb_a10e_8086f28e2ab5row2_col5,#T_fd8238c0_fc92_11eb_a10e_8086f28e2ab5row3_col3,#T_fd8238c0_fc92_11eb_a10e_8086f28e2ab5row3_col4,#T_fd8238c0_fc92_11eb_a10e_8086f28e2ab5row4_col3,#T_fd8238c0_fc92_11eb_a10e_8086f28e2ab5row4_col4,#T_fd8238c0_fc92_11eb_a10e_8086f28e2ab5row5_col0,#T_fd8238c0_fc92_11eb_a10e_8086f28e2ab5row5_col1,#T_fd8238c0_fc92_11eb_a10e_8086f28e2ab5row5_col2,#T_fd8238c0_fc92_11eb_a10e_8086f28e2ab5row5_col5{\n",
       "            background-color:  yellow;\n",
       "        }</style><table id=\"T_fd8238c0_fc92_11eb_a10e_8086f28e2ab5\" ><thead>    <tr>        <th class=\"blank\" ></th>        <th class=\"blank\" ></th>        <th class=\"index_name level0\" >metrica</th>        <th class=\"col_heading level0 col0\" >Acurácia</th>        <th class=\"col_heading level0 col1\" >F1</th>        <th class=\"col_heading level0 col2\" >MCC</th>        <th class=\"col_heading level0 col3\" >Precisão</th>        <th class=\"col_heading level0 col4\" >ROC</th>        <th class=\"col_heading level0 col5\" >Recall</th>    </tr>    <tr>        <th class=\"index_name level0\" >dataset</th>        <th class=\"index_name level1\" >tipo</th>        <th class=\"index_name level2\" >melhor</th>        <th class=\"blank\" ></th>        <th class=\"blank\" ></th>        <th class=\"blank\" ></th>        <th class=\"blank\" ></th>        <th class=\"blank\" ></th>        <th class=\"blank\" ></th>    </tr></thead><tbody>\n",
       "                <tr>\n",
       "                        <th id=\"T_fd8238c0_fc92_11eb_a10e_8086f28e2ab5level0_row0\" class=\"row_heading level0 row0\" rowspan=6>PT</th>\n",
       "                        <th id=\"T_fd8238c0_fc92_11eb_a10e_8086f28e2ab5level1_row0\" class=\"row_heading level1 row0\" rowspan=6>lof</th>\n",
       "                        <th id=\"T_fd8238c0_fc92_11eb_a10e_8086f28e2ab5level2_row0\" class=\"row_heading level2 row0\" >Acurácia</th>\n",
       "                        <td id=\"T_fd8238c0_fc92_11eb_a10e_8086f28e2ab5row0_col0\" class=\"data row0 col0\" >0.798061</td>\n",
       "                        <td id=\"T_fd8238c0_fc92_11eb_a10e_8086f28e2ab5row0_col1\" class=\"data row0 col1\" >0.886709</td>\n",
       "                        <td id=\"T_fd8238c0_fc92_11eb_a10e_8086f28e2ab5row0_col2\" class=\"data row0 col2\" >0.077073</td>\n",
       "                        <td id=\"T_fd8238c0_fc92_11eb_a10e_8086f28e2ab5row0_col3\" class=\"data row0 col3\" >0.805048</td>\n",
       "                        <td id=\"T_fd8238c0_fc92_11eb_a10e_8086f28e2ab5row0_col4\" class=\"data row0 col4\" >0.512951</td>\n",
       "                        <td id=\"T_fd8238c0_fc92_11eb_a10e_8086f28e2ab5row0_col5\" class=\"data row0 col5\" >0.986808</td>\n",
       "            </tr>\n",
       "            <tr>\n",
       "                                        <th id=\"T_fd8238c0_fc92_11eb_a10e_8086f28e2ab5level2_row1\" class=\"row_heading level2 row1\" >F1</th>\n",
       "                        <td id=\"T_fd8238c0_fc92_11eb_a10e_8086f28e2ab5row1_col0\" class=\"data row1 col0\" >0.798061</td>\n",
       "                        <td id=\"T_fd8238c0_fc92_11eb_a10e_8086f28e2ab5row1_col1\" class=\"data row1 col1\" >0.886709</td>\n",
       "                        <td id=\"T_fd8238c0_fc92_11eb_a10e_8086f28e2ab5row1_col2\" class=\"data row1 col2\" >0.077073</td>\n",
       "                        <td id=\"T_fd8238c0_fc92_11eb_a10e_8086f28e2ab5row1_col3\" class=\"data row1 col3\" >0.805048</td>\n",
       "                        <td id=\"T_fd8238c0_fc92_11eb_a10e_8086f28e2ab5row1_col4\" class=\"data row1 col4\" >0.512951</td>\n",
       "                        <td id=\"T_fd8238c0_fc92_11eb_a10e_8086f28e2ab5row1_col5\" class=\"data row1 col5\" >0.986808</td>\n",
       "            </tr>\n",
       "            <tr>\n",
       "                                        <th id=\"T_fd8238c0_fc92_11eb_a10e_8086f28e2ab5level2_row2\" class=\"row_heading level2 row2\" >MCC</th>\n",
       "                        <td id=\"T_fd8238c0_fc92_11eb_a10e_8086f28e2ab5row2_col0\" class=\"data row2 col0\" >0.798061</td>\n",
       "                        <td id=\"T_fd8238c0_fc92_11eb_a10e_8086f28e2ab5row2_col1\" class=\"data row2 col1\" >0.886709</td>\n",
       "                        <td id=\"T_fd8238c0_fc92_11eb_a10e_8086f28e2ab5row2_col2\" class=\"data row2 col2\" >0.077073</td>\n",
       "                        <td id=\"T_fd8238c0_fc92_11eb_a10e_8086f28e2ab5row2_col3\" class=\"data row2 col3\" >0.805048</td>\n",
       "                        <td id=\"T_fd8238c0_fc92_11eb_a10e_8086f28e2ab5row2_col4\" class=\"data row2 col4\" >0.512951</td>\n",
       "                        <td id=\"T_fd8238c0_fc92_11eb_a10e_8086f28e2ab5row2_col5\" class=\"data row2 col5\" >0.986808</td>\n",
       "            </tr>\n",
       "            <tr>\n",
       "                                        <th id=\"T_fd8238c0_fc92_11eb_a10e_8086f28e2ab5level2_row3\" class=\"row_heading level2 row3\" >Precisão</th>\n",
       "                        <td id=\"T_fd8238c0_fc92_11eb_a10e_8086f28e2ab5row3_col0\" class=\"data row3 col0\" >0.796527</td>\n",
       "                        <td id=\"T_fd8238c0_fc92_11eb_a10e_8086f28e2ab5row3_col1\" class=\"data row3 col1\" >0.885639</td>\n",
       "                        <td id=\"T_fd8238c0_fc92_11eb_a10e_8086f28e2ab5row3_col2\" class=\"data row3 col2\" >0.074858</td>\n",
       "                        <td id=\"T_fd8238c0_fc92_11eb_a10e_8086f28e2ab5row3_col3\" class=\"data row3 col3\" >0.805284</td>\n",
       "                        <td id=\"T_fd8238c0_fc92_11eb_a10e_8086f28e2ab5row3_col4\" class=\"data row3 col4\" >0.513631</td>\n",
       "                        <td id=\"T_fd8238c0_fc92_11eb_a10e_8086f28e2ab5row3_col5\" class=\"data row3 col5\" >0.983809</td>\n",
       "            </tr>\n",
       "            <tr>\n",
       "                                        <th id=\"T_fd8238c0_fc92_11eb_a10e_8086f28e2ab5level2_row4\" class=\"row_heading level2 row4\" >ROC</th>\n",
       "                        <td id=\"T_fd8238c0_fc92_11eb_a10e_8086f28e2ab5row4_col0\" class=\"data row4 col0\" >0.796527</td>\n",
       "                        <td id=\"T_fd8238c0_fc92_11eb_a10e_8086f28e2ab5row4_col1\" class=\"data row4 col1\" >0.885639</td>\n",
       "                        <td id=\"T_fd8238c0_fc92_11eb_a10e_8086f28e2ab5row4_col2\" class=\"data row4 col2\" >0.074858</td>\n",
       "                        <td id=\"T_fd8238c0_fc92_11eb_a10e_8086f28e2ab5row4_col3\" class=\"data row4 col3\" >0.805284</td>\n",
       "                        <td id=\"T_fd8238c0_fc92_11eb_a10e_8086f28e2ab5row4_col4\" class=\"data row4 col4\" >0.513631</td>\n",
       "                        <td id=\"T_fd8238c0_fc92_11eb_a10e_8086f28e2ab5row4_col5\" class=\"data row4 col5\" >0.983809</td>\n",
       "            </tr>\n",
       "            <tr>\n",
       "                                        <th id=\"T_fd8238c0_fc92_11eb_a10e_8086f28e2ab5level2_row5\" class=\"row_heading level2 row5\" >Recall</th>\n",
       "                        <td id=\"T_fd8238c0_fc92_11eb_a10e_8086f28e2ab5row5_col0\" class=\"data row5 col0\" >0.798061</td>\n",
       "                        <td id=\"T_fd8238c0_fc92_11eb_a10e_8086f28e2ab5row5_col1\" class=\"data row5 col1\" >0.886709</td>\n",
       "                        <td id=\"T_fd8238c0_fc92_11eb_a10e_8086f28e2ab5row5_col2\" class=\"data row5 col2\" >0.077073</td>\n",
       "                        <td id=\"T_fd8238c0_fc92_11eb_a10e_8086f28e2ab5row5_col3\" class=\"data row5 col3\" >0.805048</td>\n",
       "                        <td id=\"T_fd8238c0_fc92_11eb_a10e_8086f28e2ab5row5_col4\" class=\"data row5 col4\" >0.512951</td>\n",
       "                        <td id=\"T_fd8238c0_fc92_11eb_a10e_8086f28e2ab5row5_col5\" class=\"data row5 col5\" >0.986808</td>\n",
       "            </tr>\n",
       "    </tbody></table>"
      ],
      "text/plain": [
       "<pandas.io.formats.style.Styler at 0x209378be898>"
      ]
     },
     "execution_count": 40,
     "metadata": {},
     "output_type": "execute_result"
    }
   ],
   "source": [
    "# Valor das métricas de um modelo selecionado pelo melhor valor de um métrica\n",
    "melhores_modelos('PT', tipo = 'lof', modelo=True)"
   ]
  },
  {
   "cell_type": "code",
   "execution_count": 41,
   "id": "65d608f7",
   "metadata": {
    "hidden": true
   },
   "outputs": [
    {
     "data": {
      "text/html": [
       "<style  type=\"text/css\" >\n",
       "#T_fdab3f68_fc92_11eb_8516_8086f28e2ab5row0_col0,#T_fdab3f68_fc92_11eb_8516_8086f28e2ab5row0_col1,#T_fdab3f68_fc92_11eb_8516_8086f28e2ab5row0_col2,#T_fdab3f68_fc92_11eb_8516_8086f28e2ab5row0_col3,#T_fdab3f68_fc92_11eb_8516_8086f28e2ab5row0_col4,#T_fdab3f68_fc92_11eb_8516_8086f28e2ab5row0_col5,#T_fdab3f68_fc92_11eb_8516_8086f28e2ab5row1_col0,#T_fdab3f68_fc92_11eb_8516_8086f28e2ab5row1_col1,#T_fdab3f68_fc92_11eb_8516_8086f28e2ab5row1_col2,#T_fdab3f68_fc92_11eb_8516_8086f28e2ab5row1_col3,#T_fdab3f68_fc92_11eb_8516_8086f28e2ab5row1_col4,#T_fdab3f68_fc92_11eb_8516_8086f28e2ab5row1_col5,#T_fdab3f68_fc92_11eb_8516_8086f28e2ab5row2_col0,#T_fdab3f68_fc92_11eb_8516_8086f28e2ab5row2_col1,#T_fdab3f68_fc92_11eb_8516_8086f28e2ab5row2_col2,#T_fdab3f68_fc92_11eb_8516_8086f28e2ab5row2_col3,#T_fdab3f68_fc92_11eb_8516_8086f28e2ab5row2_col4,#T_fdab3f68_fc92_11eb_8516_8086f28e2ab5row2_col5,#T_fdab3f68_fc92_11eb_8516_8086f28e2ab5row3_col0,#T_fdab3f68_fc92_11eb_8516_8086f28e2ab5row3_col1,#T_fdab3f68_fc92_11eb_8516_8086f28e2ab5row3_col2,#T_fdab3f68_fc92_11eb_8516_8086f28e2ab5row3_col3,#T_fdab3f68_fc92_11eb_8516_8086f28e2ab5row3_col4,#T_fdab3f68_fc92_11eb_8516_8086f28e2ab5row3_col5,#T_fdab3f68_fc92_11eb_8516_8086f28e2ab5row4_col0,#T_fdab3f68_fc92_11eb_8516_8086f28e2ab5row4_col1,#T_fdab3f68_fc92_11eb_8516_8086f28e2ab5row4_col2,#T_fdab3f68_fc92_11eb_8516_8086f28e2ab5row4_col3,#T_fdab3f68_fc92_11eb_8516_8086f28e2ab5row4_col4,#T_fdab3f68_fc92_11eb_8516_8086f28e2ab5row4_col5,#T_fdab3f68_fc92_11eb_8516_8086f28e2ab5row5_col0,#T_fdab3f68_fc92_11eb_8516_8086f28e2ab5row5_col1,#T_fdab3f68_fc92_11eb_8516_8086f28e2ab5row5_col2,#T_fdab3f68_fc92_11eb_8516_8086f28e2ab5row5_col3,#T_fdab3f68_fc92_11eb_8516_8086f28e2ab5row5_col4,#T_fdab3f68_fc92_11eb_8516_8086f28e2ab5row5_col5{\n",
       "            background-color:  yellow;\n",
       "        }</style><table id=\"T_fdab3f68_fc92_11eb_8516_8086f28e2ab5\" ><thead>    <tr>        <th class=\"blank\" ></th>        <th class=\"blank\" ></th>        <th class=\"index_name level0\" >metrica</th>        <th class=\"col_heading level0 col0\" >Acurácia</th>        <th class=\"col_heading level0 col1\" >F1</th>        <th class=\"col_heading level0 col2\" >MCC</th>        <th class=\"col_heading level0 col3\" >Precisão</th>        <th class=\"col_heading level0 col4\" >ROC</th>        <th class=\"col_heading level0 col5\" >Recall</th>    </tr>    <tr>        <th class=\"index_name level0\" >dataset</th>        <th class=\"index_name level1\" >tipo</th>        <th class=\"index_name level2\" >melhor</th>        <th class=\"blank\" ></th>        <th class=\"blank\" ></th>        <th class=\"blank\" ></th>        <th class=\"blank\" ></th>        <th class=\"blank\" ></th>        <th class=\"blank\" ></th>    </tr></thead><tbody>\n",
       "                <tr>\n",
       "                        <th id=\"T_fdab3f68_fc92_11eb_8516_8086f28e2ab5level0_row0\" class=\"row_heading level0 row0\" rowspan=6>Reduzida</th>\n",
       "                        <th id=\"T_fdab3f68_fc92_11eb_8516_8086f28e2ab5level1_row0\" class=\"row_heading level1 row0\" rowspan=6>lof</th>\n",
       "                        <th id=\"T_fdab3f68_fc92_11eb_8516_8086f28e2ab5level2_row0\" class=\"row_heading level2 row0\" >Acurácia</th>\n",
       "                        <td id=\"T_fdab3f68_fc92_11eb_8516_8086f28e2ab5row0_col0\" class=\"data row0 col0\" >0.738842</td>\n",
       "                        <td id=\"T_fdab3f68_fc92_11eb_8516_8086f28e2ab5row0_col1\" class=\"data row0 col1\" >0.842714</td>\n",
       "                        <td id=\"T_fdab3f68_fc92_11eb_8516_8086f28e2ab5row0_col2\" class=\"data row0 col2\" >0.081075</td>\n",
       "                        <td id=\"T_fdab3f68_fc92_11eb_8516_8086f28e2ab5row0_col3\" class=\"data row0 col3\" >0.813927</td>\n",
       "                        <td id=\"T_fdab3f68_fc92_11eb_8516_8086f28e2ab5row0_col4\" class=\"data row0 col4\" >0.535266</td>\n",
       "                        <td id=\"T_fdab3f68_fc92_11eb_8516_8086f28e2ab5row0_col5\" class=\"data row0 col5\" >0.873613</td>\n",
       "            </tr>\n",
       "            <tr>\n",
       "                                        <th id=\"T_fdab3f68_fc92_11eb_8516_8086f28e2ab5level2_row1\" class=\"row_heading level2 row1\" >F1</th>\n",
       "                        <td id=\"T_fdab3f68_fc92_11eb_8516_8086f28e2ab5row1_col0\" class=\"data row1 col0\" >0.738842</td>\n",
       "                        <td id=\"T_fdab3f68_fc92_11eb_8516_8086f28e2ab5row1_col1\" class=\"data row1 col1\" >0.842714</td>\n",
       "                        <td id=\"T_fdab3f68_fc92_11eb_8516_8086f28e2ab5row1_col2\" class=\"data row1 col2\" >0.081075</td>\n",
       "                        <td id=\"T_fdab3f68_fc92_11eb_8516_8086f28e2ab5row1_col3\" class=\"data row1 col3\" >0.813927</td>\n",
       "                        <td id=\"T_fdab3f68_fc92_11eb_8516_8086f28e2ab5row1_col4\" class=\"data row1 col4\" >0.535266</td>\n",
       "                        <td id=\"T_fdab3f68_fc92_11eb_8516_8086f28e2ab5row1_col5\" class=\"data row1 col5\" >0.873613</td>\n",
       "            </tr>\n",
       "            <tr>\n",
       "                                        <th id=\"T_fdab3f68_fc92_11eb_8516_8086f28e2ab5level2_row2\" class=\"row_heading level2 row2\" >MCC</th>\n",
       "                        <td id=\"T_fdab3f68_fc92_11eb_8516_8086f28e2ab5row2_col0\" class=\"data row2 col0\" >0.738842</td>\n",
       "                        <td id=\"T_fdab3f68_fc92_11eb_8516_8086f28e2ab5row2_col1\" class=\"data row2 col1\" >0.842714</td>\n",
       "                        <td id=\"T_fdab3f68_fc92_11eb_8516_8086f28e2ab5row2_col2\" class=\"data row2 col2\" >0.081075</td>\n",
       "                        <td id=\"T_fdab3f68_fc92_11eb_8516_8086f28e2ab5row2_col3\" class=\"data row2 col3\" >0.813927</td>\n",
       "                        <td id=\"T_fdab3f68_fc92_11eb_8516_8086f28e2ab5row2_col4\" class=\"data row2 col4\" >0.535266</td>\n",
       "                        <td id=\"T_fdab3f68_fc92_11eb_8516_8086f28e2ab5row2_col5\" class=\"data row2 col5\" >0.873613</td>\n",
       "            </tr>\n",
       "            <tr>\n",
       "                                        <th id=\"T_fdab3f68_fc92_11eb_8516_8086f28e2ab5level2_row3\" class=\"row_heading level2 row3\" >Precisão</th>\n",
       "                        <td id=\"T_fdab3f68_fc92_11eb_8516_8086f28e2ab5row3_col0\" class=\"data row3 col0\" >0.738842</td>\n",
       "                        <td id=\"T_fdab3f68_fc92_11eb_8516_8086f28e2ab5row3_col1\" class=\"data row3 col1\" >0.842714</td>\n",
       "                        <td id=\"T_fdab3f68_fc92_11eb_8516_8086f28e2ab5row3_col2\" class=\"data row3 col2\" >0.081075</td>\n",
       "                        <td id=\"T_fdab3f68_fc92_11eb_8516_8086f28e2ab5row3_col3\" class=\"data row3 col3\" >0.813927</td>\n",
       "                        <td id=\"T_fdab3f68_fc92_11eb_8516_8086f28e2ab5row3_col4\" class=\"data row3 col4\" >0.535266</td>\n",
       "                        <td id=\"T_fdab3f68_fc92_11eb_8516_8086f28e2ab5row3_col5\" class=\"data row3 col5\" >0.873613</td>\n",
       "            </tr>\n",
       "            <tr>\n",
       "                                        <th id=\"T_fdab3f68_fc92_11eb_8516_8086f28e2ab5level2_row4\" class=\"row_heading level2 row4\" >ROC</th>\n",
       "                        <td id=\"T_fdab3f68_fc92_11eb_8516_8086f28e2ab5row4_col0\" class=\"data row4 col0\" >0.738842</td>\n",
       "                        <td id=\"T_fdab3f68_fc92_11eb_8516_8086f28e2ab5row4_col1\" class=\"data row4 col1\" >0.842714</td>\n",
       "                        <td id=\"T_fdab3f68_fc92_11eb_8516_8086f28e2ab5row4_col2\" class=\"data row4 col2\" >0.081075</td>\n",
       "                        <td id=\"T_fdab3f68_fc92_11eb_8516_8086f28e2ab5row4_col3\" class=\"data row4 col3\" >0.813927</td>\n",
       "                        <td id=\"T_fdab3f68_fc92_11eb_8516_8086f28e2ab5row4_col4\" class=\"data row4 col4\" >0.535266</td>\n",
       "                        <td id=\"T_fdab3f68_fc92_11eb_8516_8086f28e2ab5row4_col5\" class=\"data row4 col5\" >0.873613</td>\n",
       "            </tr>\n",
       "            <tr>\n",
       "                                        <th id=\"T_fdab3f68_fc92_11eb_8516_8086f28e2ab5level2_row5\" class=\"row_heading level2 row5\" >Recall</th>\n",
       "                        <td id=\"T_fdab3f68_fc92_11eb_8516_8086f28e2ab5row5_col0\" class=\"data row5 col0\" >0.738842</td>\n",
       "                        <td id=\"T_fdab3f68_fc92_11eb_8516_8086f28e2ab5row5_col1\" class=\"data row5 col1\" >0.842714</td>\n",
       "                        <td id=\"T_fdab3f68_fc92_11eb_8516_8086f28e2ab5row5_col2\" class=\"data row5 col2\" >0.081075</td>\n",
       "                        <td id=\"T_fdab3f68_fc92_11eb_8516_8086f28e2ab5row5_col3\" class=\"data row5 col3\" >0.813927</td>\n",
       "                        <td id=\"T_fdab3f68_fc92_11eb_8516_8086f28e2ab5row5_col4\" class=\"data row5 col4\" >0.535266</td>\n",
       "                        <td id=\"T_fdab3f68_fc92_11eb_8516_8086f28e2ab5row5_col5\" class=\"data row5 col5\" >0.873613</td>\n",
       "            </tr>\n",
       "    </tbody></table>"
      ],
      "text/plain": [
       "<pandas.io.formats.style.Styler at 0x2093788add8>"
      ]
     },
     "execution_count": 41,
     "metadata": {},
     "output_type": "execute_result"
    }
   ],
   "source": [
    "# Valor das métricas de um modelo selecionado pelo melhor valor de um métrica\n",
    "melhores_modelos('Reduzida', tipo = 'lof', modelo=True)"
   ]
  },
  {
   "cell_type": "markdown",
   "id": "e2296541",
   "metadata": {
    "heading_collapsed": true,
    "hidden": true
   },
   "source": [
    "#### ISF"
   ]
  },
  {
   "cell_type": "code",
   "execution_count": 42,
   "id": "29e64d28",
   "metadata": {
    "hidden": true
   },
   "outputs": [
    {
     "data": {
      "text/html": [
       "<style  type=\"text/css\" >\n",
       "#T_fdd46b94_fc92_11eb_a2a8_8086f28e2ab5row0_col0,#T_fdd46b94_fc92_11eb_a2a8_8086f28e2ab5row0_col1,#T_fdd46b94_fc92_11eb_a2a8_8086f28e2ab5row0_col5,#T_fdd46b94_fc92_11eb_a2a8_8086f28e2ab5row1_col0,#T_fdd46b94_fc92_11eb_a2a8_8086f28e2ab5row1_col1,#T_fdd46b94_fc92_11eb_a2a8_8086f28e2ab5row1_col5,#T_fdd46b94_fc92_11eb_a2a8_8086f28e2ab5row2_col2,#T_fdd46b94_fc92_11eb_a2a8_8086f28e2ab5row2_col3,#T_fdd46b94_fc92_11eb_a2a8_8086f28e2ab5row2_col4,#T_fdd46b94_fc92_11eb_a2a8_8086f28e2ab5row3_col2,#T_fdd46b94_fc92_11eb_a2a8_8086f28e2ab5row3_col3,#T_fdd46b94_fc92_11eb_a2a8_8086f28e2ab5row3_col4,#T_fdd46b94_fc92_11eb_a2a8_8086f28e2ab5row4_col2,#T_fdd46b94_fc92_11eb_a2a8_8086f28e2ab5row4_col3,#T_fdd46b94_fc92_11eb_a2a8_8086f28e2ab5row4_col4,#T_fdd46b94_fc92_11eb_a2a8_8086f28e2ab5row5_col0,#T_fdd46b94_fc92_11eb_a2a8_8086f28e2ab5row5_col1,#T_fdd46b94_fc92_11eb_a2a8_8086f28e2ab5row5_col5{\n",
       "            background-color:  yellow;\n",
       "        }</style><table id=\"T_fdd46b94_fc92_11eb_a2a8_8086f28e2ab5\" ><thead>    <tr>        <th class=\"blank\" ></th>        <th class=\"blank\" ></th>        <th class=\"index_name level0\" >metrica</th>        <th class=\"col_heading level0 col0\" >Acurácia</th>        <th class=\"col_heading level0 col1\" >F1</th>        <th class=\"col_heading level0 col2\" >MCC</th>        <th class=\"col_heading level0 col3\" >Precisão</th>        <th class=\"col_heading level0 col4\" >ROC</th>        <th class=\"col_heading level0 col5\" >Recall</th>    </tr>    <tr>        <th class=\"index_name level0\" >dataset</th>        <th class=\"index_name level1\" >tipo</th>        <th class=\"index_name level2\" >melhor</th>        <th class=\"blank\" ></th>        <th class=\"blank\" ></th>        <th class=\"blank\" ></th>        <th class=\"blank\" ></th>        <th class=\"blank\" ></th>        <th class=\"blank\" ></th>    </tr></thead><tbody>\n",
       "                <tr>\n",
       "                        <th id=\"T_fdd46b94_fc92_11eb_a2a8_8086f28e2ab5level0_row0\" class=\"row_heading level0 row0\" rowspan=6>Original</th>\n",
       "                        <th id=\"T_fdd46b94_fc92_11eb_a2a8_8086f28e2ab5level1_row0\" class=\"row_heading level1 row0\" rowspan=6>isf</th>\n",
       "                        <th id=\"T_fdd46b94_fc92_11eb_a2a8_8086f28e2ab5level2_row0\" class=\"row_heading level2 row0\" >Acurácia</th>\n",
       "                        <td id=\"T_fdd46b94_fc92_11eb_a2a8_8086f28e2ab5row0_col0\" class=\"data row0 col0\" >0.800926</td>\n",
       "                        <td id=\"T_fdd46b94_fc92_11eb_a2a8_8086f28e2ab5row0_col1\" class=\"data row0 col1\" >0.889354</td>\n",
       "                        <td id=\"T_fdd46b94_fc92_11eb_a2a8_8086f28e2ab5row0_col2\" class=\"data row0 col2\" >0.033377</td>\n",
       "                        <td id=\"T_fdd46b94_fc92_11eb_a2a8_8086f28e2ab5row0_col3\" class=\"data row0 col3\" >0.801325</td>\n",
       "                        <td id=\"T_fdd46b94_fc92_11eb_a2a8_8086f28e2ab5row0_col4\" class=\"data row0 col4\" >0.501529</td>\n",
       "                        <td id=\"T_fdd46b94_fc92_11eb_a2a8_8086f28e2ab5row0_col5\" class=\"data row0 col5\" >0.999129</td>\n",
       "            </tr>\n",
       "            <tr>\n",
       "                                        <th id=\"T_fdd46b94_fc92_11eb_a2a8_8086f28e2ab5level2_row1\" class=\"row_heading level2 row1\" >F1</th>\n",
       "                        <td id=\"T_fdd46b94_fc92_11eb_a2a8_8086f28e2ab5row1_col0\" class=\"data row1 col0\" >0.800926</td>\n",
       "                        <td id=\"T_fdd46b94_fc92_11eb_a2a8_8086f28e2ab5row1_col1\" class=\"data row1 col1\" >0.889354</td>\n",
       "                        <td id=\"T_fdd46b94_fc92_11eb_a2a8_8086f28e2ab5row1_col2\" class=\"data row1 col2\" >0.033377</td>\n",
       "                        <td id=\"T_fdd46b94_fc92_11eb_a2a8_8086f28e2ab5row1_col3\" class=\"data row1 col3\" >0.801325</td>\n",
       "                        <td id=\"T_fdd46b94_fc92_11eb_a2a8_8086f28e2ab5row1_col4\" class=\"data row1 col4\" >0.501529</td>\n",
       "                        <td id=\"T_fdd46b94_fc92_11eb_a2a8_8086f28e2ab5row1_col5\" class=\"data row1 col5\" >0.999129</td>\n",
       "            </tr>\n",
       "            <tr>\n",
       "                                        <th id=\"T_fdd46b94_fc92_11eb_a2a8_8086f28e2ab5level2_row2\" class=\"row_heading level2 row2\" >MCC</th>\n",
       "                        <td id=\"T_fdd46b94_fc92_11eb_a2a8_8086f28e2ab5row2_col0\" class=\"data row2 col0\" >0.718987</td>\n",
       "                        <td id=\"T_fdd46b94_fc92_11eb_a2a8_8086f28e2ab5row2_col1\" class=\"data row2 col1\" >0.824382</td>\n",
       "                        <td id=\"T_fdd46b94_fc92_11eb_a2a8_8086f28e2ab5row2_col2\" class=\"data row2 col2\" >0.121179</td>\n",
       "                        <td id=\"T_fdd46b94_fc92_11eb_a2a8_8086f28e2ab5row2_col3\" class=\"data row2 col3\" >0.825056</td>\n",
       "                        <td id=\"T_fdd46b94_fc92_11eb_a2a8_8086f28e2ab5row2_col4\" class=\"data row2 col4\" >0.560730</td>\n",
       "                        <td id=\"T_fdd46b94_fc92_11eb_a2a8_8086f28e2ab5row2_col5\" class=\"data row2 col5\" >0.823717</td>\n",
       "            </tr>\n",
       "            <tr>\n",
       "                                        <th id=\"T_fdd46b94_fc92_11eb_a2a8_8086f28e2ab5level2_row3\" class=\"row_heading level2 row3\" >Precisão</th>\n",
       "                        <td id=\"T_fdd46b94_fc92_11eb_a2a8_8086f28e2ab5row3_col0\" class=\"data row3 col0\" >0.718987</td>\n",
       "                        <td id=\"T_fdd46b94_fc92_11eb_a2a8_8086f28e2ab5row3_col1\" class=\"data row3 col1\" >0.824382</td>\n",
       "                        <td id=\"T_fdd46b94_fc92_11eb_a2a8_8086f28e2ab5row3_col2\" class=\"data row3 col2\" >0.121179</td>\n",
       "                        <td id=\"T_fdd46b94_fc92_11eb_a2a8_8086f28e2ab5row3_col3\" class=\"data row3 col3\" >0.825056</td>\n",
       "                        <td id=\"T_fdd46b94_fc92_11eb_a2a8_8086f28e2ab5row3_col4\" class=\"data row3 col4\" >0.560730</td>\n",
       "                        <td id=\"T_fdd46b94_fc92_11eb_a2a8_8086f28e2ab5row3_col5\" class=\"data row3 col5\" >0.823717</td>\n",
       "            </tr>\n",
       "            <tr>\n",
       "                                        <th id=\"T_fdd46b94_fc92_11eb_a2a8_8086f28e2ab5level2_row4\" class=\"row_heading level2 row4\" >ROC</th>\n",
       "                        <td id=\"T_fdd46b94_fc92_11eb_a2a8_8086f28e2ab5row4_col0\" class=\"data row4 col0\" >0.718987</td>\n",
       "                        <td id=\"T_fdd46b94_fc92_11eb_a2a8_8086f28e2ab5row4_col1\" class=\"data row4 col1\" >0.824382</td>\n",
       "                        <td id=\"T_fdd46b94_fc92_11eb_a2a8_8086f28e2ab5row4_col2\" class=\"data row4 col2\" >0.121179</td>\n",
       "                        <td id=\"T_fdd46b94_fc92_11eb_a2a8_8086f28e2ab5row4_col3\" class=\"data row4 col3\" >0.825056</td>\n",
       "                        <td id=\"T_fdd46b94_fc92_11eb_a2a8_8086f28e2ab5row4_col4\" class=\"data row4 col4\" >0.560730</td>\n",
       "                        <td id=\"T_fdd46b94_fc92_11eb_a2a8_8086f28e2ab5row4_col5\" class=\"data row4 col5\" >0.823717</td>\n",
       "            </tr>\n",
       "            <tr>\n",
       "                                        <th id=\"T_fdd46b94_fc92_11eb_a2a8_8086f28e2ab5level2_row5\" class=\"row_heading level2 row5\" >Recall</th>\n",
       "                        <td id=\"T_fdd46b94_fc92_11eb_a2a8_8086f28e2ab5row5_col0\" class=\"data row5 col0\" >0.800926</td>\n",
       "                        <td id=\"T_fdd46b94_fc92_11eb_a2a8_8086f28e2ab5row5_col1\" class=\"data row5 col1\" >0.889354</td>\n",
       "                        <td id=\"T_fdd46b94_fc92_11eb_a2a8_8086f28e2ab5row5_col2\" class=\"data row5 col2\" >0.033377</td>\n",
       "                        <td id=\"T_fdd46b94_fc92_11eb_a2a8_8086f28e2ab5row5_col3\" class=\"data row5 col3\" >0.801325</td>\n",
       "                        <td id=\"T_fdd46b94_fc92_11eb_a2a8_8086f28e2ab5row5_col4\" class=\"data row5 col4\" >0.501529</td>\n",
       "                        <td id=\"T_fdd46b94_fc92_11eb_a2a8_8086f28e2ab5row5_col5\" class=\"data row5 col5\" >0.999129</td>\n",
       "            </tr>\n",
       "    </tbody></table>"
      ],
      "text/plain": [
       "<pandas.io.formats.style.Styler at 0x20937885f98>"
      ]
     },
     "execution_count": 42,
     "metadata": {},
     "output_type": "execute_result"
    }
   ],
   "source": [
    "# Valor das métricas de um modelo selecionado pelo melhor valor de um métrica\n",
    "melhores_modelos('Original', tipo = 'isf', modelo=True)"
   ]
  },
  {
   "cell_type": "code",
   "execution_count": 43,
   "id": "8bf0beb3",
   "metadata": {
    "hidden": true
   },
   "outputs": [
    {
     "data": {
      "text/html": [
       "<style  type=\"text/css\" >\n",
       "#T_fe1b072e_fc92_11eb_82cc_8086f28e2ab5row0_col0,#T_fe1b072e_fc92_11eb_82cc_8086f28e2ab5row0_col1,#T_fe1b072e_fc92_11eb_82cc_8086f28e2ab5row0_col5,#T_fe1b072e_fc92_11eb_82cc_8086f28e2ab5row1_col0,#T_fe1b072e_fc92_11eb_82cc_8086f28e2ab5row1_col1,#T_fe1b072e_fc92_11eb_82cc_8086f28e2ab5row1_col5,#T_fe1b072e_fc92_11eb_82cc_8086f28e2ab5row2_col2,#T_fe1b072e_fc92_11eb_82cc_8086f28e2ab5row2_col3,#T_fe1b072e_fc92_11eb_82cc_8086f28e2ab5row2_col4,#T_fe1b072e_fc92_11eb_82cc_8086f28e2ab5row3_col2,#T_fe1b072e_fc92_11eb_82cc_8086f28e2ab5row3_col3,#T_fe1b072e_fc92_11eb_82cc_8086f28e2ab5row3_col4,#T_fe1b072e_fc92_11eb_82cc_8086f28e2ab5row4_col2,#T_fe1b072e_fc92_11eb_82cc_8086f28e2ab5row4_col3,#T_fe1b072e_fc92_11eb_82cc_8086f28e2ab5row4_col4,#T_fe1b072e_fc92_11eb_82cc_8086f28e2ab5row5_col0,#T_fe1b072e_fc92_11eb_82cc_8086f28e2ab5row5_col1,#T_fe1b072e_fc92_11eb_82cc_8086f28e2ab5row5_col5{\n",
       "            background-color:  yellow;\n",
       "        }</style><table id=\"T_fe1b072e_fc92_11eb_82cc_8086f28e2ab5\" ><thead>    <tr>        <th class=\"blank\" ></th>        <th class=\"blank\" ></th>        <th class=\"index_name level0\" >metrica</th>        <th class=\"col_heading level0 col0\" >Acurácia</th>        <th class=\"col_heading level0 col1\" >F1</th>        <th class=\"col_heading level0 col2\" >MCC</th>        <th class=\"col_heading level0 col3\" >Precisão</th>        <th class=\"col_heading level0 col4\" >ROC</th>        <th class=\"col_heading level0 col5\" >Recall</th>    </tr>    <tr>        <th class=\"index_name level0\" >dataset</th>        <th class=\"index_name level1\" >tipo</th>        <th class=\"index_name level2\" >melhor</th>        <th class=\"blank\" ></th>        <th class=\"blank\" ></th>        <th class=\"blank\" ></th>        <th class=\"blank\" ></th>        <th class=\"blank\" ></th>        <th class=\"blank\" ></th>    </tr></thead><tbody>\n",
       "                <tr>\n",
       "                        <th id=\"T_fe1b072e_fc92_11eb_82cc_8086f28e2ab5level0_row0\" class=\"row_heading level0 row0\" rowspan=6>SS</th>\n",
       "                        <th id=\"T_fe1b072e_fc92_11eb_82cc_8086f28e2ab5level1_row0\" class=\"row_heading level1 row0\" rowspan=6>isf</th>\n",
       "                        <th id=\"T_fe1b072e_fc92_11eb_82cc_8086f28e2ab5level2_row0\" class=\"row_heading level2 row0\" >Acurácia</th>\n",
       "                        <td id=\"T_fe1b072e_fc92_11eb_82cc_8086f28e2ab5row0_col0\" class=\"data row0 col0\" >0.800926</td>\n",
       "                        <td id=\"T_fe1b072e_fc92_11eb_82cc_8086f28e2ab5row0_col1\" class=\"data row0 col1\" >0.889354</td>\n",
       "                        <td id=\"T_fe1b072e_fc92_11eb_82cc_8086f28e2ab5row0_col2\" class=\"data row0 col2\" >0.033377</td>\n",
       "                        <td id=\"T_fe1b072e_fc92_11eb_82cc_8086f28e2ab5row0_col3\" class=\"data row0 col3\" >0.801325</td>\n",
       "                        <td id=\"T_fe1b072e_fc92_11eb_82cc_8086f28e2ab5row0_col4\" class=\"data row0 col4\" >0.501529</td>\n",
       "                        <td id=\"T_fe1b072e_fc92_11eb_82cc_8086f28e2ab5row0_col5\" class=\"data row0 col5\" >0.999129</td>\n",
       "            </tr>\n",
       "            <tr>\n",
       "                                        <th id=\"T_fe1b072e_fc92_11eb_82cc_8086f28e2ab5level2_row1\" class=\"row_heading level2 row1\" >F1</th>\n",
       "                        <td id=\"T_fe1b072e_fc92_11eb_82cc_8086f28e2ab5row1_col0\" class=\"data row1 col0\" >0.800926</td>\n",
       "                        <td id=\"T_fe1b072e_fc92_11eb_82cc_8086f28e2ab5row1_col1\" class=\"data row1 col1\" >0.889354</td>\n",
       "                        <td id=\"T_fe1b072e_fc92_11eb_82cc_8086f28e2ab5row1_col2\" class=\"data row1 col2\" >0.033377</td>\n",
       "                        <td id=\"T_fe1b072e_fc92_11eb_82cc_8086f28e2ab5row1_col3\" class=\"data row1 col3\" >0.801325</td>\n",
       "                        <td id=\"T_fe1b072e_fc92_11eb_82cc_8086f28e2ab5row1_col4\" class=\"data row1 col4\" >0.501529</td>\n",
       "                        <td id=\"T_fe1b072e_fc92_11eb_82cc_8086f28e2ab5row1_col5\" class=\"data row1 col5\" >0.999129</td>\n",
       "            </tr>\n",
       "            <tr>\n",
       "                                        <th id=\"T_fe1b072e_fc92_11eb_82cc_8086f28e2ab5level2_row2\" class=\"row_heading level2 row2\" >MCC</th>\n",
       "                        <td id=\"T_fe1b072e_fc92_11eb_82cc_8086f28e2ab5row2_col0\" class=\"data row2 col0\" >0.718755</td>\n",
       "                        <td id=\"T_fe1b072e_fc92_11eb_82cc_8086f28e2ab5row2_col1\" class=\"data row2 col1\" >0.824255</td>\n",
       "                        <td id=\"T_fe1b072e_fc92_11eb_82cc_8086f28e2ab5row2_col2\" class=\"data row2 col2\" >0.120169</td>\n",
       "                        <td id=\"T_fe1b072e_fc92_11eb_82cc_8086f28e2ab5row2_col3\" class=\"data row2 col3\" >0.824839</td>\n",
       "                        <td id=\"T_fe1b072e_fc92_11eb_82cc_8086f28e2ab5row2_col4\" class=\"data row2 col4\" >0.560206</td>\n",
       "                        <td id=\"T_fe1b072e_fc92_11eb_82cc_8086f28e2ab5row2_col5\" class=\"data row2 col5\" >0.823679</td>\n",
       "            </tr>\n",
       "            <tr>\n",
       "                                        <th id=\"T_fe1b072e_fc92_11eb_82cc_8086f28e2ab5level2_row3\" class=\"row_heading level2 row3\" >Precisão</th>\n",
       "                        <td id=\"T_fe1b072e_fc92_11eb_82cc_8086f28e2ab5row3_col0\" class=\"data row3 col0\" >0.718755</td>\n",
       "                        <td id=\"T_fe1b072e_fc92_11eb_82cc_8086f28e2ab5row3_col1\" class=\"data row3 col1\" >0.824255</td>\n",
       "                        <td id=\"T_fe1b072e_fc92_11eb_82cc_8086f28e2ab5row3_col2\" class=\"data row3 col2\" >0.120169</td>\n",
       "                        <td id=\"T_fe1b072e_fc92_11eb_82cc_8086f28e2ab5row3_col3\" class=\"data row3 col3\" >0.824839</td>\n",
       "                        <td id=\"T_fe1b072e_fc92_11eb_82cc_8086f28e2ab5row3_col4\" class=\"data row3 col4\" >0.560206</td>\n",
       "                        <td id=\"T_fe1b072e_fc92_11eb_82cc_8086f28e2ab5row3_col5\" class=\"data row3 col5\" >0.823679</td>\n",
       "            </tr>\n",
       "            <tr>\n",
       "                                        <th id=\"T_fe1b072e_fc92_11eb_82cc_8086f28e2ab5level2_row4\" class=\"row_heading level2 row4\" >ROC</th>\n",
       "                        <td id=\"T_fe1b072e_fc92_11eb_82cc_8086f28e2ab5row4_col0\" class=\"data row4 col0\" >0.718755</td>\n",
       "                        <td id=\"T_fe1b072e_fc92_11eb_82cc_8086f28e2ab5row4_col1\" class=\"data row4 col1\" >0.824255</td>\n",
       "                        <td id=\"T_fe1b072e_fc92_11eb_82cc_8086f28e2ab5row4_col2\" class=\"data row4 col2\" >0.120169</td>\n",
       "                        <td id=\"T_fe1b072e_fc92_11eb_82cc_8086f28e2ab5row4_col3\" class=\"data row4 col3\" >0.824839</td>\n",
       "                        <td id=\"T_fe1b072e_fc92_11eb_82cc_8086f28e2ab5row4_col4\" class=\"data row4 col4\" >0.560206</td>\n",
       "                        <td id=\"T_fe1b072e_fc92_11eb_82cc_8086f28e2ab5row4_col5\" class=\"data row4 col5\" >0.823679</td>\n",
       "            </tr>\n",
       "            <tr>\n",
       "                                        <th id=\"T_fe1b072e_fc92_11eb_82cc_8086f28e2ab5level2_row5\" class=\"row_heading level2 row5\" >Recall</th>\n",
       "                        <td id=\"T_fe1b072e_fc92_11eb_82cc_8086f28e2ab5row5_col0\" class=\"data row5 col0\" >0.800926</td>\n",
       "                        <td id=\"T_fe1b072e_fc92_11eb_82cc_8086f28e2ab5row5_col1\" class=\"data row5 col1\" >0.889354</td>\n",
       "                        <td id=\"T_fe1b072e_fc92_11eb_82cc_8086f28e2ab5row5_col2\" class=\"data row5 col2\" >0.033377</td>\n",
       "                        <td id=\"T_fe1b072e_fc92_11eb_82cc_8086f28e2ab5row5_col3\" class=\"data row5 col3\" >0.801325</td>\n",
       "                        <td id=\"T_fe1b072e_fc92_11eb_82cc_8086f28e2ab5row5_col4\" class=\"data row5 col4\" >0.501529</td>\n",
       "                        <td id=\"T_fe1b072e_fc92_11eb_82cc_8086f28e2ab5row5_col5\" class=\"data row5 col5\" >0.999129</td>\n",
       "            </tr>\n",
       "    </tbody></table>"
      ],
      "text/plain": [
       "<pandas.io.formats.style.Styler at 0x2093797c630>"
      ]
     },
     "execution_count": 43,
     "metadata": {},
     "output_type": "execute_result"
    }
   ],
   "source": [
    "# Valor das métricas de um modelo selecionado pelo melhor valor de um métrica\n",
    "melhores_modelos('SS', tipo = 'isf', modelo=True)"
   ]
  },
  {
   "cell_type": "code",
   "execution_count": 44,
   "id": "ae8849f1",
   "metadata": {
    "hidden": true
   },
   "outputs": [
    {
     "data": {
      "text/html": [
       "<style  type=\"text/css\" >\n",
       "#T_fe774aa2_fc92_11eb_8fea_8086f28e2ab5row0_col0,#T_fe774aa2_fc92_11eb_8fea_8086f28e2ab5row0_col1,#T_fe774aa2_fc92_11eb_8fea_8086f28e2ab5row0_col5,#T_fe774aa2_fc92_11eb_8fea_8086f28e2ab5row1_col0,#T_fe774aa2_fc92_11eb_8fea_8086f28e2ab5row1_col1,#T_fe774aa2_fc92_11eb_8fea_8086f28e2ab5row1_col5,#T_fe774aa2_fc92_11eb_8fea_8086f28e2ab5row2_col2,#T_fe774aa2_fc92_11eb_8fea_8086f28e2ab5row2_col3,#T_fe774aa2_fc92_11eb_8fea_8086f28e2ab5row2_col4,#T_fe774aa2_fc92_11eb_8fea_8086f28e2ab5row3_col2,#T_fe774aa2_fc92_11eb_8fea_8086f28e2ab5row3_col3,#T_fe774aa2_fc92_11eb_8fea_8086f28e2ab5row3_col4,#T_fe774aa2_fc92_11eb_8fea_8086f28e2ab5row4_col2,#T_fe774aa2_fc92_11eb_8fea_8086f28e2ab5row4_col3,#T_fe774aa2_fc92_11eb_8fea_8086f28e2ab5row4_col4,#T_fe774aa2_fc92_11eb_8fea_8086f28e2ab5row5_col0,#T_fe774aa2_fc92_11eb_8fea_8086f28e2ab5row5_col1,#T_fe774aa2_fc92_11eb_8fea_8086f28e2ab5row5_col5{\n",
       "            background-color:  yellow;\n",
       "        }</style><table id=\"T_fe774aa2_fc92_11eb_8fea_8086f28e2ab5\" ><thead>    <tr>        <th class=\"blank\" ></th>        <th class=\"blank\" ></th>        <th class=\"index_name level0\" >metrica</th>        <th class=\"col_heading level0 col0\" >Acurácia</th>        <th class=\"col_heading level0 col1\" >F1</th>        <th class=\"col_heading level0 col2\" >MCC</th>        <th class=\"col_heading level0 col3\" >Precisão</th>        <th class=\"col_heading level0 col4\" >ROC</th>        <th class=\"col_heading level0 col5\" >Recall</th>    </tr>    <tr>        <th class=\"index_name level0\" >dataset</th>        <th class=\"index_name level1\" >tipo</th>        <th class=\"index_name level2\" >melhor</th>        <th class=\"blank\" ></th>        <th class=\"blank\" ></th>        <th class=\"blank\" ></th>        <th class=\"blank\" ></th>        <th class=\"blank\" ></th>        <th class=\"blank\" ></th>    </tr></thead><tbody>\n",
       "                <tr>\n",
       "                        <th id=\"T_fe774aa2_fc92_11eb_8fea_8086f28e2ab5level0_row0\" class=\"row_heading level0 row0\" rowspan=6>RS</th>\n",
       "                        <th id=\"T_fe774aa2_fc92_11eb_8fea_8086f28e2ab5level1_row0\" class=\"row_heading level1 row0\" rowspan=6>isf</th>\n",
       "                        <th id=\"T_fe774aa2_fc92_11eb_8fea_8086f28e2ab5level2_row0\" class=\"row_heading level2 row0\" >Acurácia</th>\n",
       "                        <td id=\"T_fe774aa2_fc92_11eb_8fea_8086f28e2ab5row0_col0\" class=\"data row0 col0\" >0.800926</td>\n",
       "                        <td id=\"T_fe774aa2_fc92_11eb_8fea_8086f28e2ab5row0_col1\" class=\"data row0 col1\" >0.889354</td>\n",
       "                        <td id=\"T_fe774aa2_fc92_11eb_8fea_8086f28e2ab5row0_col2\" class=\"data row0 col2\" >0.033377</td>\n",
       "                        <td id=\"T_fe774aa2_fc92_11eb_8fea_8086f28e2ab5row0_col3\" class=\"data row0 col3\" >0.801325</td>\n",
       "                        <td id=\"T_fe774aa2_fc92_11eb_8fea_8086f28e2ab5row0_col4\" class=\"data row0 col4\" >0.501529</td>\n",
       "                        <td id=\"T_fe774aa2_fc92_11eb_8fea_8086f28e2ab5row0_col5\" class=\"data row0 col5\" >0.999129</td>\n",
       "            </tr>\n",
       "            <tr>\n",
       "                                        <th id=\"T_fe774aa2_fc92_11eb_8fea_8086f28e2ab5level2_row1\" class=\"row_heading level2 row1\" >F1</th>\n",
       "                        <td id=\"T_fe774aa2_fc92_11eb_8fea_8086f28e2ab5row1_col0\" class=\"data row1 col0\" >0.800926</td>\n",
       "                        <td id=\"T_fe774aa2_fc92_11eb_8fea_8086f28e2ab5row1_col1\" class=\"data row1 col1\" >0.889354</td>\n",
       "                        <td id=\"T_fe774aa2_fc92_11eb_8fea_8086f28e2ab5row1_col2\" class=\"data row1 col2\" >0.033377</td>\n",
       "                        <td id=\"T_fe774aa2_fc92_11eb_8fea_8086f28e2ab5row1_col3\" class=\"data row1 col3\" >0.801325</td>\n",
       "                        <td id=\"T_fe774aa2_fc92_11eb_8fea_8086f28e2ab5row1_col4\" class=\"data row1 col4\" >0.501529</td>\n",
       "                        <td id=\"T_fe774aa2_fc92_11eb_8fea_8086f28e2ab5row1_col5\" class=\"data row1 col5\" >0.999129</td>\n",
       "            </tr>\n",
       "            <tr>\n",
       "                                        <th id=\"T_fe774aa2_fc92_11eb_8fea_8086f28e2ab5level2_row2\" class=\"row_heading level2 row2\" >MCC</th>\n",
       "                        <td id=\"T_fe774aa2_fc92_11eb_8fea_8086f28e2ab5row2_col0\" class=\"data row2 col0\" >0.719219</td>\n",
       "                        <td id=\"T_fe774aa2_fc92_11eb_8fea_8086f28e2ab5row2_col1\" class=\"data row2 col1\" >0.824526</td>\n",
       "                        <td id=\"T_fe774aa2_fc92_11eb_8fea_8086f28e2ab5row2_col2\" class=\"data row2 col2\" >0.121905</td>\n",
       "                        <td id=\"T_fe774aa2_fc92_11eb_8fea_8086f28e2ab5row2_col3\" class=\"data row2 col3\" >0.825200</td>\n",
       "                        <td id=\"T_fe774aa2_fc92_11eb_8fea_8086f28e2ab5row2_col4\" class=\"data row2 col4\" >0.561095</td>\n",
       "                        <td id=\"T_fe774aa2_fc92_11eb_8fea_8086f28e2ab5row2_col5\" class=\"data row2 col5\" >0.823861</td>\n",
       "            </tr>\n",
       "            <tr>\n",
       "                                        <th id=\"T_fe774aa2_fc92_11eb_8fea_8086f28e2ab5level2_row3\" class=\"row_heading level2 row3\" >Precisão</th>\n",
       "                        <td id=\"T_fe774aa2_fc92_11eb_8fea_8086f28e2ab5row3_col0\" class=\"data row3 col0\" >0.719219</td>\n",
       "                        <td id=\"T_fe774aa2_fc92_11eb_8fea_8086f28e2ab5row3_col1\" class=\"data row3 col1\" >0.824526</td>\n",
       "                        <td id=\"T_fe774aa2_fc92_11eb_8fea_8086f28e2ab5row3_col2\" class=\"data row3 col2\" >0.121905</td>\n",
       "                        <td id=\"T_fe774aa2_fc92_11eb_8fea_8086f28e2ab5row3_col3\" class=\"data row3 col3\" >0.825200</td>\n",
       "                        <td id=\"T_fe774aa2_fc92_11eb_8fea_8086f28e2ab5row3_col4\" class=\"data row3 col4\" >0.561095</td>\n",
       "                        <td id=\"T_fe774aa2_fc92_11eb_8fea_8086f28e2ab5row3_col5\" class=\"data row3 col5\" >0.823861</td>\n",
       "            </tr>\n",
       "            <tr>\n",
       "                                        <th id=\"T_fe774aa2_fc92_11eb_8fea_8086f28e2ab5level2_row4\" class=\"row_heading level2 row4\" >ROC</th>\n",
       "                        <td id=\"T_fe774aa2_fc92_11eb_8fea_8086f28e2ab5row4_col0\" class=\"data row4 col0\" >0.719219</td>\n",
       "                        <td id=\"T_fe774aa2_fc92_11eb_8fea_8086f28e2ab5row4_col1\" class=\"data row4 col1\" >0.824526</td>\n",
       "                        <td id=\"T_fe774aa2_fc92_11eb_8fea_8086f28e2ab5row4_col2\" class=\"data row4 col2\" >0.121905</td>\n",
       "                        <td id=\"T_fe774aa2_fc92_11eb_8fea_8086f28e2ab5row4_col3\" class=\"data row4 col3\" >0.825200</td>\n",
       "                        <td id=\"T_fe774aa2_fc92_11eb_8fea_8086f28e2ab5row4_col4\" class=\"data row4 col4\" >0.561095</td>\n",
       "                        <td id=\"T_fe774aa2_fc92_11eb_8fea_8086f28e2ab5row4_col5\" class=\"data row4 col5\" >0.823861</td>\n",
       "            </tr>\n",
       "            <tr>\n",
       "                                        <th id=\"T_fe774aa2_fc92_11eb_8fea_8086f28e2ab5level2_row5\" class=\"row_heading level2 row5\" >Recall</th>\n",
       "                        <td id=\"T_fe774aa2_fc92_11eb_8fea_8086f28e2ab5row5_col0\" class=\"data row5 col0\" >0.800926</td>\n",
       "                        <td id=\"T_fe774aa2_fc92_11eb_8fea_8086f28e2ab5row5_col1\" class=\"data row5 col1\" >0.889354</td>\n",
       "                        <td id=\"T_fe774aa2_fc92_11eb_8fea_8086f28e2ab5row5_col2\" class=\"data row5 col2\" >0.033377</td>\n",
       "                        <td id=\"T_fe774aa2_fc92_11eb_8fea_8086f28e2ab5row5_col3\" class=\"data row5 col3\" >0.801325</td>\n",
       "                        <td id=\"T_fe774aa2_fc92_11eb_8fea_8086f28e2ab5row5_col4\" class=\"data row5 col4\" >0.501529</td>\n",
       "                        <td id=\"T_fe774aa2_fc92_11eb_8fea_8086f28e2ab5row5_col5\" class=\"data row5 col5\" >0.999129</td>\n",
       "            </tr>\n",
       "    </tbody></table>"
      ],
      "text/plain": [
       "<pandas.io.formats.style.Styler at 0x209378fbf28>"
      ]
     },
     "execution_count": 44,
     "metadata": {},
     "output_type": "execute_result"
    }
   ],
   "source": [
    "# Valor das métricas de um modelo selecionado pelo melhor valor de um métrica\n",
    "melhores_modelos('RS', tipo = 'isf', modelo=True)"
   ]
  },
  {
   "cell_type": "code",
   "execution_count": 45,
   "id": "fba14409",
   "metadata": {
    "hidden": true
   },
   "outputs": [
    {
     "data": {
      "text/html": [
       "<style  type=\"text/css\" >\n",
       "#T_fea642fa_fc92_11eb_b767_8086f28e2ab5row0_col0,#T_fea642fa_fc92_11eb_b767_8086f28e2ab5row0_col1,#T_fea642fa_fc92_11eb_b767_8086f28e2ab5row0_col5,#T_fea642fa_fc92_11eb_b767_8086f28e2ab5row1_col0,#T_fea642fa_fc92_11eb_b767_8086f28e2ab5row1_col1,#T_fea642fa_fc92_11eb_b767_8086f28e2ab5row1_col5,#T_fea642fa_fc92_11eb_b767_8086f28e2ab5row2_col2,#T_fea642fa_fc92_11eb_b767_8086f28e2ab5row2_col3,#T_fea642fa_fc92_11eb_b767_8086f28e2ab5row2_col4,#T_fea642fa_fc92_11eb_b767_8086f28e2ab5row5_col0,#T_fea642fa_fc92_11eb_b767_8086f28e2ab5row5_col1,#T_fea642fa_fc92_11eb_b767_8086f28e2ab5row5_col5{\n",
       "            background-color:  yellow;\n",
       "        }</style><table id=\"T_fea642fa_fc92_11eb_b767_8086f28e2ab5\" ><thead>    <tr>        <th class=\"blank\" ></th>        <th class=\"blank\" ></th>        <th class=\"index_name level0\" >metrica</th>        <th class=\"col_heading level0 col0\" >Acurácia</th>        <th class=\"col_heading level0 col1\" >F1</th>        <th class=\"col_heading level0 col2\" >MCC</th>        <th class=\"col_heading level0 col3\" >Precisão</th>        <th class=\"col_heading level0 col4\" >ROC</th>        <th class=\"col_heading level0 col5\" >Recall</th>    </tr>    <tr>        <th class=\"index_name level0\" >dataset</th>        <th class=\"index_name level1\" >tipo</th>        <th class=\"index_name level2\" >melhor</th>        <th class=\"blank\" ></th>        <th class=\"blank\" ></th>        <th class=\"blank\" ></th>        <th class=\"blank\" ></th>        <th class=\"blank\" ></th>        <th class=\"blank\" ></th>    </tr></thead><tbody>\n",
       "                <tr>\n",
       "                        <th id=\"T_fea642fa_fc92_11eb_b767_8086f28e2ab5level0_row0\" class=\"row_heading level0 row0\" rowspan=6>PT</th>\n",
       "                        <th id=\"T_fea642fa_fc92_11eb_b767_8086f28e2ab5level1_row0\" class=\"row_heading level1 row0\" rowspan=6>isf</th>\n",
       "                        <th id=\"T_fea642fa_fc92_11eb_b767_8086f28e2ab5level2_row0\" class=\"row_heading level2 row0\" >Acurácia</th>\n",
       "                        <td id=\"T_fea642fa_fc92_11eb_b767_8086f28e2ab5row0_col0\" class=\"data row0 col0\" >0.786599</td>\n",
       "                        <td id=\"T_fea642fa_fc92_11eb_b767_8086f28e2ab5row0_col1\" class=\"data row0 col1\" >0.878239</td>\n",
       "                        <td id=\"T_fea642fa_fc92_11eb_b767_8086f28e2ab5row0_col2\" class=\"data row0 col2\" >0.086041</td>\n",
       "                        <td id=\"T_fea642fa_fc92_11eb_b767_8086f28e2ab5row0_col3\" class=\"data row0 col3\" >0.808540</td>\n",
       "                        <td id=\"T_fea642fa_fc92_11eb_b767_8086f28e2ab5row0_col4\" class=\"data row0 col4\" >0.523003</td>\n",
       "                        <td id=\"T_fea642fa_fc92_11eb_b767_8086f28e2ab5row0_col5\" class=\"data row0 col5\" >0.961107</td>\n",
       "            </tr>\n",
       "            <tr>\n",
       "                                        <th id=\"T_fea642fa_fc92_11eb_b767_8086f28e2ab5level2_row1\" class=\"row_heading level2 row1\" >F1</th>\n",
       "                        <td id=\"T_fea642fa_fc92_11eb_b767_8086f28e2ab5row1_col0\" class=\"data row1 col0\" >0.786599</td>\n",
       "                        <td id=\"T_fea642fa_fc92_11eb_b767_8086f28e2ab5row1_col1\" class=\"data row1 col1\" >0.878239</td>\n",
       "                        <td id=\"T_fea642fa_fc92_11eb_b767_8086f28e2ab5row1_col2\" class=\"data row1 col2\" >0.086041</td>\n",
       "                        <td id=\"T_fea642fa_fc92_11eb_b767_8086f28e2ab5row1_col3\" class=\"data row1 col3\" >0.808540</td>\n",
       "                        <td id=\"T_fea642fa_fc92_11eb_b767_8086f28e2ab5row1_col4\" class=\"data row1 col4\" >0.523003</td>\n",
       "                        <td id=\"T_fea642fa_fc92_11eb_b767_8086f28e2ab5row1_col5\" class=\"data row1 col5\" >0.961107</td>\n",
       "            </tr>\n",
       "            <tr>\n",
       "                                        <th id=\"T_fea642fa_fc92_11eb_b767_8086f28e2ab5level2_row2\" class=\"row_heading level2 row2\" >MCC</th>\n",
       "                        <td id=\"T_fea642fa_fc92_11eb_b767_8086f28e2ab5row2_col0\" class=\"data row2 col0\" >0.716527</td>\n",
       "                        <td id=\"T_fea642fa_fc92_11eb_b767_8086f28e2ab5row2_col1\" class=\"data row2 col1\" >0.822254</td>\n",
       "                        <td id=\"T_fea642fa_fc92_11eb_b767_8086f28e2ab5row2_col2\" class=\"data row2 col2\" >0.122393</td>\n",
       "                        <td id=\"T_fea642fa_fc92_11eb_b767_8086f28e2ab5row2_col3\" class=\"data row2 col3\" >0.825725</td>\n",
       "                        <td id=\"T_fea642fa_fc92_11eb_b767_8086f28e2ab5row2_col4\" class=\"data row2 col4\" >0.561989</td>\n",
       "                        <td id=\"T_fea642fa_fc92_11eb_b767_8086f28e2ab5row2_col5\" class=\"data row2 col5\" >0.818848</td>\n",
       "            </tr>\n",
       "            <tr>\n",
       "                                        <th id=\"T_fea642fa_fc92_11eb_b767_8086f28e2ab5level2_row3\" class=\"row_heading level2 row3\" >Precisão</th>\n",
       "                        <td id=\"T_fea642fa_fc92_11eb_b767_8086f28e2ab5row3_col0\" class=\"data row3 col0\" >0.716006</td>\n",
       "                        <td id=\"T_fea642fa_fc92_11eb_b767_8086f28e2ab5row3_col1\" class=\"data row3 col1\" >0.821878</td>\n",
       "                        <td id=\"T_fea642fa_fc92_11eb_b767_8086f28e2ab5row3_col2\" class=\"data row3 col2\" >0.121560</td>\n",
       "                        <td id=\"T_fea642fa_fc92_11eb_b767_8086f28e2ab5row3_col3\" class=\"data row3 col3\" >0.825589</td>\n",
       "                        <td id=\"T_fea642fa_fc92_11eb_b767_8086f28e2ab5row3_col4\" class=\"data row3 col4\" >0.561633</td>\n",
       "                        <td id=\"T_fea642fa_fc92_11eb_b767_8086f28e2ab5row3_col5\" class=\"data row3 col5\" >0.818234</td>\n",
       "            </tr>\n",
       "            <tr>\n",
       "                                        <th id=\"T_fea642fa_fc92_11eb_b767_8086f28e2ab5level2_row4\" class=\"row_heading level2 row4\" >ROC</th>\n",
       "                        <td id=\"T_fea642fa_fc92_11eb_b767_8086f28e2ab5row4_col0\" class=\"data row4 col0\" >0.716006</td>\n",
       "                        <td id=\"T_fea642fa_fc92_11eb_b767_8086f28e2ab5row4_col1\" class=\"data row4 col1\" >0.821878</td>\n",
       "                        <td id=\"T_fea642fa_fc92_11eb_b767_8086f28e2ab5row4_col2\" class=\"data row4 col2\" >0.121560</td>\n",
       "                        <td id=\"T_fea642fa_fc92_11eb_b767_8086f28e2ab5row4_col3\" class=\"data row4 col3\" >0.825589</td>\n",
       "                        <td id=\"T_fea642fa_fc92_11eb_b767_8086f28e2ab5row4_col4\" class=\"data row4 col4\" >0.561633</td>\n",
       "                        <td id=\"T_fea642fa_fc92_11eb_b767_8086f28e2ab5row4_col5\" class=\"data row4 col5\" >0.818234</td>\n",
       "            </tr>\n",
       "            <tr>\n",
       "                                        <th id=\"T_fea642fa_fc92_11eb_b767_8086f28e2ab5level2_row5\" class=\"row_heading level2 row5\" >Recall</th>\n",
       "                        <td id=\"T_fea642fa_fc92_11eb_b767_8086f28e2ab5row5_col0\" class=\"data row5 col0\" >0.786599</td>\n",
       "                        <td id=\"T_fea642fa_fc92_11eb_b767_8086f28e2ab5row5_col1\" class=\"data row5 col1\" >0.878239</td>\n",
       "                        <td id=\"T_fea642fa_fc92_11eb_b767_8086f28e2ab5row5_col2\" class=\"data row5 col2\" >0.086041</td>\n",
       "                        <td id=\"T_fea642fa_fc92_11eb_b767_8086f28e2ab5row5_col3\" class=\"data row5 col3\" >0.808540</td>\n",
       "                        <td id=\"T_fea642fa_fc92_11eb_b767_8086f28e2ab5row5_col4\" class=\"data row5 col4\" >0.523003</td>\n",
       "                        <td id=\"T_fea642fa_fc92_11eb_b767_8086f28e2ab5row5_col5\" class=\"data row5 col5\" >0.961107</td>\n",
       "            </tr>\n",
       "    </tbody></table>"
      ],
      "text/plain": [
       "<pandas.io.formats.style.Styler at 0x20937968a20>"
      ]
     },
     "execution_count": 45,
     "metadata": {},
     "output_type": "execute_result"
    }
   ],
   "source": [
    "# Valor das métricas de um modelo selecionado pelo melhor valor de um métrica\n",
    "melhores_modelos('PT', tipo = 'isf', modelo=True)"
   ]
  },
  {
   "cell_type": "code",
   "execution_count": 46,
   "id": "f2c36461",
   "metadata": {
    "hidden": true
   },
   "outputs": [
    {
     "data": {
      "text/html": [
       "<style  type=\"text/css\" >\n",
       "#T_fedba31e_fc92_11eb_81cc_8086f28e2ab5row0_col0,#T_fedba31e_fc92_11eb_81cc_8086f28e2ab5row0_col1,#T_fedba31e_fc92_11eb_81cc_8086f28e2ab5row1_col0,#T_fedba31e_fc92_11eb_81cc_8086f28e2ab5row1_col1,#T_fedba31e_fc92_11eb_81cc_8086f28e2ab5row2_col2,#T_fedba31e_fc92_11eb_81cc_8086f28e2ab5row2_col3,#T_fedba31e_fc92_11eb_81cc_8086f28e2ab5row2_col4,#T_fedba31e_fc92_11eb_81cc_8086f28e2ab5row3_col2,#T_fedba31e_fc92_11eb_81cc_8086f28e2ab5row3_col3,#T_fedba31e_fc92_11eb_81cc_8086f28e2ab5row3_col4,#T_fedba31e_fc92_11eb_81cc_8086f28e2ab5row4_col2,#T_fedba31e_fc92_11eb_81cc_8086f28e2ab5row4_col3,#T_fedba31e_fc92_11eb_81cc_8086f28e2ab5row4_col4,#T_fedba31e_fc92_11eb_81cc_8086f28e2ab5row5_col5{\n",
       "            background-color:  yellow;\n",
       "        }</style><table id=\"T_fedba31e_fc92_11eb_81cc_8086f28e2ab5\" ><thead>    <tr>        <th class=\"blank\" ></th>        <th class=\"blank\" ></th>        <th class=\"index_name level0\" >metrica</th>        <th class=\"col_heading level0 col0\" >Acurácia</th>        <th class=\"col_heading level0 col1\" >F1</th>        <th class=\"col_heading level0 col2\" >MCC</th>        <th class=\"col_heading level0 col3\" >Precisão</th>        <th class=\"col_heading level0 col4\" >ROC</th>        <th class=\"col_heading level0 col5\" >Recall</th>    </tr>    <tr>        <th class=\"index_name level0\" >dataset</th>        <th class=\"index_name level1\" >tipo</th>        <th class=\"index_name level2\" >melhor</th>        <th class=\"blank\" ></th>        <th class=\"blank\" ></th>        <th class=\"blank\" ></th>        <th class=\"blank\" ></th>        <th class=\"blank\" ></th>        <th class=\"blank\" ></th>    </tr></thead><tbody>\n",
       "                <tr>\n",
       "                        <th id=\"T_fedba31e_fc92_11eb_81cc_8086f28e2ab5level0_row0\" class=\"row_heading level0 row0\" rowspan=6>Reduzida</th>\n",
       "                        <th id=\"T_fedba31e_fc92_11eb_81cc_8086f28e2ab5level1_row0\" class=\"row_heading level1 row0\" rowspan=6>isf</th>\n",
       "                        <th id=\"T_fedba31e_fc92_11eb_81cc_8086f28e2ab5level2_row0\" class=\"row_heading level2 row0\" >Acurácia</th>\n",
       "                        <td id=\"T_fedba31e_fc92_11eb_81cc_8086f28e2ab5row0_col0\" class=\"data row0 col0\" >0.801910</td>\n",
       "                        <td id=\"T_fedba31e_fc92_11eb_81cc_8086f28e2ab5row0_col1\" class=\"data row0 col1\" >0.889693</td>\n",
       "                        <td id=\"T_fedba31e_fc92_11eb_81cc_8086f28e2ab5row0_col2\" class=\"data row0 col2\" >0.072055</td>\n",
       "                        <td id=\"T_fedba31e_fc92_11eb_81cc_8086f28e2ab5row0_col3\" class=\"data row0 col3\" >0.802858</td>\n",
       "                        <td id=\"T_fedba31e_fc92_11eb_81cc_8086f28e2ab5row0_col4\" class=\"data row0 col4\" >0.506319</td>\n",
       "                        <td id=\"T_fedba31e_fc92_11eb_81cc_8086f28e2ab5row0_col5\" class=\"data row0 col5\" >0.997615</td>\n",
       "            </tr>\n",
       "            <tr>\n",
       "                                        <th id=\"T_fedba31e_fc92_11eb_81cc_8086f28e2ab5level2_row1\" class=\"row_heading level2 row1\" >F1</th>\n",
       "                        <td id=\"T_fedba31e_fc92_11eb_81cc_8086f28e2ab5row1_col0\" class=\"data row1 col0\" >0.801910</td>\n",
       "                        <td id=\"T_fedba31e_fc92_11eb_81cc_8086f28e2ab5row1_col1\" class=\"data row1 col1\" >0.889693</td>\n",
       "                        <td id=\"T_fedba31e_fc92_11eb_81cc_8086f28e2ab5row1_col2\" class=\"data row1 col2\" >0.072055</td>\n",
       "                        <td id=\"T_fedba31e_fc92_11eb_81cc_8086f28e2ab5row1_col3\" class=\"data row1 col3\" >0.802858</td>\n",
       "                        <td id=\"T_fedba31e_fc92_11eb_81cc_8086f28e2ab5row1_col4\" class=\"data row1 col4\" >0.506319</td>\n",
       "                        <td id=\"T_fedba31e_fc92_11eb_81cc_8086f28e2ab5row1_col5\" class=\"data row1 col5\" >0.997615</td>\n",
       "            </tr>\n",
       "            <tr>\n",
       "                                        <th id=\"T_fedba31e_fc92_11eb_81cc_8086f28e2ab5level2_row2\" class=\"row_heading level2 row2\" >MCC</th>\n",
       "                        <td id=\"T_fedba31e_fc92_11eb_81cc_8086f28e2ab5row2_col0\" class=\"data row2 col0\" >0.755369</td>\n",
       "                        <td id=\"T_fedba31e_fc92_11eb_81cc_8086f28e2ab5row2_col1\" class=\"data row2 col1\" >0.847097</td>\n",
       "                        <td id=\"T_fedba31e_fc92_11eb_81cc_8086f28e2ab5row2_col2\" class=\"data row2 col2\" >0.235761</td>\n",
       "                        <td id=\"T_fedba31e_fc92_11eb_81cc_8086f28e2ab5row2_col3\" class=\"data row2 col3\" >0.848030</td>\n",
       "                        <td id=\"T_fedba31e_fc92_11eb_81cc_8086f28e2ab5row2_col4\" class=\"data row2 col4\" >0.618250</td>\n",
       "                        <td id=\"T_fedba31e_fc92_11eb_81cc_8086f28e2ab5row2_col5\" class=\"data row2 col5\" >0.846205</td>\n",
       "            </tr>\n",
       "            <tr>\n",
       "                                        <th id=\"T_fedba31e_fc92_11eb_81cc_8086f28e2ab5level2_row3\" class=\"row_heading level2 row3\" >Precisão</th>\n",
       "                        <td id=\"T_fedba31e_fc92_11eb_81cc_8086f28e2ab5row3_col0\" class=\"data row3 col0\" >0.755369</td>\n",
       "                        <td id=\"T_fedba31e_fc92_11eb_81cc_8086f28e2ab5row3_col1\" class=\"data row3 col1\" >0.847097</td>\n",
       "                        <td id=\"T_fedba31e_fc92_11eb_81cc_8086f28e2ab5row3_col2\" class=\"data row3 col2\" >0.235761</td>\n",
       "                        <td id=\"T_fedba31e_fc92_11eb_81cc_8086f28e2ab5row3_col3\" class=\"data row3 col3\" >0.848030</td>\n",
       "                        <td id=\"T_fedba31e_fc92_11eb_81cc_8086f28e2ab5row3_col4\" class=\"data row3 col4\" >0.618250</td>\n",
       "                        <td id=\"T_fedba31e_fc92_11eb_81cc_8086f28e2ab5row3_col5\" class=\"data row3 col5\" >0.846205</td>\n",
       "            </tr>\n",
       "            <tr>\n",
       "                                        <th id=\"T_fedba31e_fc92_11eb_81cc_8086f28e2ab5level2_row4\" class=\"row_heading level2 row4\" >ROC</th>\n",
       "                        <td id=\"T_fedba31e_fc92_11eb_81cc_8086f28e2ab5row4_col0\" class=\"data row4 col0\" >0.755369</td>\n",
       "                        <td id=\"T_fedba31e_fc92_11eb_81cc_8086f28e2ab5row4_col1\" class=\"data row4 col1\" >0.847097</td>\n",
       "                        <td id=\"T_fedba31e_fc92_11eb_81cc_8086f28e2ab5row4_col2\" class=\"data row4 col2\" >0.235761</td>\n",
       "                        <td id=\"T_fedba31e_fc92_11eb_81cc_8086f28e2ab5row4_col3\" class=\"data row4 col3\" >0.848030</td>\n",
       "                        <td id=\"T_fedba31e_fc92_11eb_81cc_8086f28e2ab5row4_col4\" class=\"data row4 col4\" >0.618250</td>\n",
       "                        <td id=\"T_fedba31e_fc92_11eb_81cc_8086f28e2ab5row4_col5\" class=\"data row4 col5\" >0.846205</td>\n",
       "            </tr>\n",
       "            <tr>\n",
       "                                        <th id=\"T_fedba31e_fc92_11eb_81cc_8086f28e2ab5level2_row5\" class=\"row_heading level2 row5\" >Recall</th>\n",
       "                        <td id=\"T_fedba31e_fc92_11eb_81cc_8086f28e2ab5row5_col0\" class=\"data row5 col0\" >0.801418</td>\n",
       "                        <td id=\"T_fedba31e_fc92_11eb_81cc_8086f28e2ab5row5_col1\" class=\"data row5 col1\" >0.889514</td>\n",
       "                        <td id=\"T_fedba31e_fc92_11eb_81cc_8086f28e2ab5row5_col2\" class=\"data row5 col2\" >0.055504</td>\n",
       "                        <td id=\"T_fedba31e_fc92_11eb_81cc_8086f28e2ab5row5_col3\" class=\"data row5 col3\" >0.802145</td>\n",
       "                        <td id=\"T_fedba31e_fc92_11eb_81cc_8086f28e2ab5row5_col4\" class=\"data row5 col4\" >0.504097</td>\n",
       "                        <td id=\"T_fedba31e_fc92_11eb_81cc_8086f28e2ab5row5_col5\" class=\"data row5 col5\" >0.998266</td>\n",
       "            </tr>\n",
       "    </tbody></table>"
      ],
      "text/plain": [
       "<pandas.io.formats.style.Styler at 0x209379680b8>"
      ]
     },
     "execution_count": 46,
     "metadata": {},
     "output_type": "execute_result"
    }
   ],
   "source": [
    "# Valor das métricas de um modelo selecionado pelo melhor valor de um métrica\n",
    "melhores_modelos('Reduzida', tipo = 'isf', modelo=True)"
   ]
  },
  {
   "cell_type": "markdown",
   "id": "f42ee510",
   "metadata": {
    "heading_collapsed": true
   },
   "source": [
    "## Gráficos"
   ]
  },
  {
   "cell_type": "code",
   "execution_count": 47,
   "id": "0b61db15",
   "metadata": {
    "hidden": true
   },
   "outputs": [
    {
     "data": {
      "image/png": "[encoded data removed]",
      "text/plain": [
       "<Figure size 1080x720 with 6 Axes>"
      ]
     },
     "metadata": {
      "needs_background": "light"
     },
     "output_type": "display_data"
    }
   ],
   "source": [
    "grafico_metricas('Original', 'xgb', True)"
   ]
  },
  {
   "cell_type": "code",
   "execution_count": 48,
   "id": "3a3df843",
   "metadata": {
    "hidden": true
   },
   "outputs": [
    {
     "data": {
      "image/png": "[encoded data removed]",
      "text/plain": [
       "<Figure size 1080x720 with 6 Axes>"
      ]
     },
     "metadata": {
      "needs_background": "light"
     },
     "output_type": "display_data"
    }
   ],
   "source": [
    "grafico_metricas('Original', 'rdf', True)"
   ]
  },
  {
   "cell_type": "markdown",
   "id": "ccec7575",
   "metadata": {
    "hidden": true
   },
   "source": [
    "### Gráficos de Barras"
   ]
  },
  {
   "cell_type": "code",
   "execution_count": 49,
   "id": "82de3ac7",
   "metadata": {
    "hidden": true
   },
   "outputs": [
    {
     "data": {
      "image/png": "[encoded data removed]",
      "text/plain": [
       "<Figure size 1080x288 with 1 Axes>"
      ]
     },
     "metadata": {
      "needs_background": "light"
     },
     "output_type": "display_data"
    }
   ],
   "source": [
    "grafico_modelos('Original')"
   ]
  },
  {
   "cell_type": "code",
   "execution_count": 50,
   "id": "96b83903",
   "metadata": {
    "hidden": true,
    "scrolled": true
   },
   "outputs": [
    {
     "data": {
      "image/png": "[encoded data removed]",
      "text/plain": [
       "<Figure size 1080x288 with 1 Axes>"
      ]
     },
     "metadata": {
      "needs_background": "light"
     },
     "output_type": "display_data"
    }
   ],
   "source": [
    "grafico_modelos(tipo='knn')"
   ]
  },
  {
   "cell_type": "markdown",
   "id": "7e9bbdb1",
   "metadata": {
    "heading_collapsed": true
   },
   "source": [
    "## Modelos Selecionados"
   ]
  },
  {
   "cell_type": "markdown",
   "id": "08efb6a3",
   "metadata": {
    "hidden": true
   },
   "source": [
    "#### Função: parametros_modelos (dataset, tipo, metrica)\n"
   ]
  },
  {
   "cell_type": "code",
   "execution_count": 51,
   "id": "5ca2a905",
   "metadata": {
    "hidden": true,
    "scrolled": false
   },
   "outputs": [
    {
     "name": "stdout",
     "output_type": "stream",
     "text": [
      "MELHORES MODELOS POR MÉTRICA (INDEPENDENTE)\n",
      "Dataset: Original  - Algoritmo: xgb  - Métrica: Acurácia  :  0.9024023154848044\n",
      "{'n_estimators': 99, 'min_child_weight': 3, 'max_depth': 6, 'learning_rate': 0.3, 'gamma': 1}\n",
      "Dataset: Original  - Algoritmo: xgb  - Métrica: Precisão  :  0.915228241079674\n",
      "{'n_estimators': 45, 'min_child_weight': 1, 'max_depth': 20, 'learning_rate': 0.3, 'gamma': 5}\n",
      "Dataset: Original  - Algoritmo: xgb  - Métrica: Recall  :  0.9790378927604004\n",
      "{'n_estimators': 45, 'min_child_weight': 3, 'max_depth': 6, 'learning_rate': 0.01, 'gamma': 5}\n",
      "Dataset: Original  - Algoritmo: xgb  - Métrica: F1  :  0.9401001375665066\n",
      "{'n_estimators': 45, 'min_child_weight': 3, 'max_depth': 6, 'learning_rate': 0.3, 'gamma': 2}\n",
      "Dataset: Original  - Algoritmo: xgb  - Métrica: MCC  :  0.6731580272151327\n",
      "{'n_estimators': 99, 'min_child_weight': 3, 'max_depth': 6, 'learning_rate': 0.3, 'gamma': 1}\n",
      "Dataset: Original  - Algoritmo: xgb  - Métrica: ROC  :  0.8030619285230053\n",
      "{'n_estimators': 45, 'min_child_weight': 1, 'max_depth': 20, 'learning_rate': 0.3, 'gamma': 5}\n"
     ]
    }
   ],
   "source": [
    "# Melhores modelos para cada métrica de forma independente\n",
    "parametros_modelos('Original', 'xgb')"
   ]
  },
  {
   "cell_type": "code",
   "execution_count": 52,
   "id": "ef4d7a55",
   "metadata": {
    "hidden": true
   },
   "outputs": [
    {
     "name": "stdout",
     "output_type": "stream",
     "text": [
      "MELHORES MODELOS POR MÉTRICA (INDEPENDENTE)\n",
      "Dataset: SS  - Algoritmo: xgb  - Métrica: Acurácia  :  0.902547033285094\n",
      "{'n_estimators': 99, 'min_child_weight': 3, 'max_depth': 20, 'learning_rate': 0.1, 'gamma': 5}\n",
      "Dataset: SS  - Algoritmo: xgb  - Métrica: Precisão  :  0.9152897314283018\n",
      "{'n_estimators': 45, 'min_child_weight': 1, 'max_depth': 20, 'learning_rate': 0.3, 'gamma': 5}\n",
      "Dataset: SS  - Algoritmo: xgb  - Métrica: Recall  :  0.9790740329844698\n",
      "{'n_estimators': 45, 'min_child_weight': 3, 'max_depth': 6, 'learning_rate': 0.01, 'gamma': 5}\n",
      "Dataset: SS  - Algoritmo: xgb  - Métrica: F1  :  0.94026649780113\n",
      "{'n_estimators': 99, 'min_child_weight': 3, 'max_depth': 10, 'learning_rate': 0.1, 'gamma': 5}\n",
      "Dataset: SS  - Algoritmo: xgb  - Métrica: MCC  :  0.6734315615427884\n",
      "{'n_estimators': 99, 'min_child_weight': 3, 'max_depth': 20, 'learning_rate': 0.1, 'gamma': 5}\n",
      "Dataset: SS  - Algoritmo: xgb  - Métrica: ROC  :  0.8036054599224979\n",
      "{'n_estimators': 99, 'min_child_weight': 3, 'max_depth': 10, 'learning_rate': 0.3, 'gamma': 2}\n"
     ]
    }
   ],
   "source": [
    "# Melhores modelos para cada métrica de forma independente\n",
    "parametros_modelos('SS', 'xgb')"
   ]
  },
  {
   "cell_type": "code",
   "execution_count": 53,
   "id": "d583a62a",
   "metadata": {
    "hidden": true,
    "scrolled": false
   },
   "outputs": [
    {
     "name": "stdout",
     "output_type": "stream",
     "text": [
      "MELHORES MODELOS POR MÉTRICA (INDEPENDENTE)\n",
      "Dataset: Original  - Algoritmo: rdf  - Métrica: Acurácia  :  0.8971056439942113\n",
      "{'n_estimators': 400, 'min_samples_split': 5, 'min_impurity_decrease': 0.0001, 'max_features': None, 'max_depth': 20, 'criterion': 'entropy'}\n",
      "Dataset: Original  - Algoritmo: rdf  - Métrica: Precisão  :  0.9437684962543524\n",
      "{'n_estimators': 400, 'min_samples_split': 7, 'min_impurity_decrease': 0.001, 'max_features': None, 'max_depth': 20, 'criterion': 'entropy'}\n",
      "Dataset: Original  - Algoritmo: rdf  - Métrica: Recall  :  0.9792186330713032\n",
      "{'n_estimators': 400, 'min_samples_split': 2, 'min_impurity_decrease': 1e-05, 'max_features': 'auto', 'max_depth': 40, 'criterion': 'entropy'}\n",
      "Dataset: Original  - Algoritmo: rdf  - Métrica: F1  :  0.9381177650449932\n",
      "{'n_estimators': 300, 'min_samples_split': 7, 'min_impurity_decrease': 1e-05, 'max_features': None, 'max_depth': 40, 'criterion': 'entropy'}\n",
      "Dataset: Original  - Algoritmo: rdf  - Métrica: MCC  :  0.6560394567361671\n",
      "{'n_estimators': 300, 'min_samples_split': 7, 'min_impurity_decrease': 1e-05, 'max_features': None, 'max_depth': 20, 'criterion': 'entropy'}\n",
      "Dataset: Original  - Algoritmo: rdf  - Métrica: ROC  :  0.8299518170790463\n",
      "{'n_estimators': 400, 'min_samples_split': 7, 'min_impurity_decrease': 0.001, 'max_features': None, 'max_depth': 20, 'criterion': 'entropy'}\n"
     ]
    }
   ],
   "source": [
    "# Melhores modelos para cada métrica de forma independente\n",
    "parametros_modelos('Original', 'rdf')"
   ]
  },
  {
   "cell_type": "code",
   "execution_count": 54,
   "id": "903c0581",
   "metadata": {
    "hidden": true
   },
   "outputs": [
    {
     "name": "stdout",
     "output_type": "stream",
     "text": [
      "MELHORES MODELOS POR MÉTRICA (INDEPENDENTE)\n",
      "Dataset: SS  - Algoritmo: rdf  - Métrica: Acurácia  :  0.8973082489146165\n",
      "{'n_estimators': 300, 'min_samples_split': 5, 'min_impurity_decrease': 0.0001, 'max_features': None, 'max_depth': 20, 'criterion': 'entropy'}\n",
      "Dataset: SS  - Algoritmo: rdf  - Métrica: Precisão  :  0.9155200395377784\n",
      "{'n_estimators': 300, 'min_samples_split': 7, 'min_impurity_decrease': 0.0001, 'max_features': None, 'max_depth': 20, 'criterion': 'entropy'}\n",
      "Dataset: SS  - Algoritmo: rdf  - Métrica: Recall  :  0.9700748689843394\n",
      "{'n_estimators': 300, 'min_samples_split': 5, 'min_impurity_decrease': 0.0001, 'max_features': None, 'max_depth': 30, 'criterion': 'entropy'}\n",
      "Dataset: SS  - Algoritmo: rdf  - Métrica: F1  :  0.9380075568063578\n",
      "{'n_estimators': 300, 'min_samples_split': 5, 'min_impurity_decrease': 0.0001, 'max_features': None, 'max_depth': 30, 'criterion': 'entropy'}\n",
      "Dataset: SS  - Algoritmo: rdf  - Métrica: MCC  :  0.6569089778192895\n",
      "{'n_estimators': 300, 'min_samples_split': 5, 'min_impurity_decrease': 0.0001, 'max_features': None, 'max_depth': 20, 'criterion': 'entropy'}\n",
      "Dataset: SS  - Algoritmo: rdf  - Métrica: ROC  :  0.8016451149556175\n",
      "{'n_estimators': 300, 'min_samples_split': 7, 'min_impurity_decrease': 0.0001, 'max_features': None, 'max_depth': 20, 'criterion': 'entropy'}\n"
     ]
    }
   ],
   "source": [
    "parametros_modelos('SS', 'rdf')"
   ]
  },
  {
   "cell_type": "code",
   "execution_count": 55,
   "id": "65b9b235",
   "metadata": {
    "hidden": true
   },
   "outputs": [
    {
     "name": "stdout",
     "output_type": "stream",
     "text": [
      "MELHORES MODELOS POR MÉTRICA (INDEPENDENTE)\n",
      "Dataset: Reduzida  - Algoritmo: knn  - Métrica: Acurácia  :  0.8701591895803183\n",
      "{'n_neighbors': 35}\n",
      "Dataset: Reduzida  - Algoritmo: knn  - Métrica: Precisão  :  0.8702802012043179\n",
      "{'n_neighbors': 35}\n",
      "Dataset: Reduzida  - Algoritmo: knn  - Métrica: Recall  :  0.9899164921108432\n",
      "{'n_neighbors': 99}\n",
      "Dataset: Reduzida  - Algoritmo: knn  - Métrica: F1  :  0.9239328368427988\n",
      "{'n_neighbors': 35}\n",
      "Dataset: Reduzida  - Algoritmo: knn  - Métrica: MCC  :  0.5400637913261523\n",
      "{'n_neighbors': 35}\n",
      "Dataset: Reduzida  - Algoritmo: knn  - Métrica: ROC  :  0.6972315470917463\n",
      "{'n_neighbors': 35}\n"
     ]
    }
   ],
   "source": [
    "parametros_modelos('Reduzida', 'knn')"
   ]
  },
  {
   "cell_type": "code",
   "execution_count": 56,
   "id": "7c60e88b",
   "metadata": {
    "hidden": true,
    "scrolled": true
   },
   "outputs": [
    {
     "name": "stdout",
     "output_type": "stream",
     "text": [
      "MELHORES MODELOS POR MÉTRICA (INDEPENDENTE)\n",
      "Dataset: Original  - Algoritmo: lof  - Métrica: Acurácia  :  0.7411577424023155\n",
      "{'n_neighbors':15, 'contamination':'auto'}\n",
      "Dataset: Original  - Algoritmo: lof  - Métrica: Precisão  :  0.8255830142707969\n",
      "{'n_neighbors':30, 'contamination':'auto'}\n",
      "Dataset: Original  - Algoritmo: lof  - Métrica: Recall  :  0.8587227583215873\n",
      "{'n_neighbors':15, 'contamination':'auto'}\n",
      "Dataset: Original  - Algoritmo: lof  - Métrica: F1  :  0.8416130917592052\n",
      "{'n_neighbors':15, 'contamination':'auto'}\n",
      "Dataset: Original  - Algoritmo: lof  - Métrica: MCC  :  0.13765615787038893\n",
      "{'n_neighbors':30, 'contamination':'auto'}\n",
      "Dataset: Original  - Algoritmo: lof  - Métrica: ROC  :  0.5645018903764096\n",
      "{'n_neighbors':30, 'contamination':'auto'}\n"
     ]
    }
   ],
   "source": [
    "parametros_modelos('Original', 'lof')"
   ]
  },
  {
   "cell_type": "code",
   "execution_count": 57,
   "id": "e7b36b03",
   "metadata": {
    "hidden": true,
    "scrolled": false
   },
   "outputs": [
    {
     "name": "stdout",
     "output_type": "stream",
     "text": [
      "MELHORES MODELOS POR MÉTRICA (INDEPENDENTE)\n",
      "Dataset: Original  - Algoritmo: isf  - Métrica: Acurácia  :  0.8009261939218524\n",
      "{'n_estimators': 100, 'max_samples': 1.0, 'max_features': 1.0, 'contamination': 'auto'}\n",
      "Dataset: Original  - Algoritmo: isf  - Métrica: Precisão  :  0.8250557560332125\n",
      "{'n_estimators': 300, 'max_samples': 0.7, 'max_features': 1.0, 'contamination': 0.2}\n",
      "Dataset: Original  - Algoritmo: isf  - Métrica: Recall  :  0.9991289677128355\n",
      "{'n_estimators': 100, 'max_samples': 1.0, 'max_features': 1.0, 'contamination': 'auto'}\n",
      "Dataset: Original  - Algoritmo: isf  - Métrica: F1  :  0.8893540395463978\n",
      "{'n_estimators': 100, 'max_samples': 1.0, 'max_features': 1.0, 'contamination': 'auto'}\n",
      "Dataset: Original  - Algoritmo: isf  - Métrica: MCC  :  0.12117881204923014\n",
      "{'n_estimators': 300, 'max_samples': 0.7, 'max_features': 1.0, 'contamination': 0.2}\n",
      "Dataset: Original  - Algoritmo: isf  - Métrica: ROC  :  0.5607302390537265\n",
      "{'n_estimators': 300, 'max_samples': 0.7, 'max_features': 1.0, 'contamination': 0.2}\n"
     ]
    }
   ],
   "source": [
    "parametros_modelos('Original', 'isf')"
   ]
  }
 ],
 "metadata": {
  "kernelspec": {
   "display_name": "Python 3",
   "language": "python",
   "name": "python3"
  },
  "language_info": {
   "codemirror_mode": {
    "name": "ipython",
    "version": 3
   },
   "file_extension": ".py",
   "mimetype": "text/x-python",
   "name": "python",
   "nbconvert_exporter": "python",
   "pygments_lexer": "ipython3",
   "version": "3.6.13"
  }
 },
 "nbformat": 4,
 "nbformat_minor": 5
}
